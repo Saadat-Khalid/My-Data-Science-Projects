{
 "cells": [
  {
   "cell_type": "markdown",
   "metadata": {},
   "source": [
    "<h1 align=\"center\"><font color=\"#050B2B\"><strong>Sarcasm Detection with Machine Learning</strong></font></h1>\n"
   ]
  },
  {
   "cell_type": "markdown",
   "metadata": {},
   "source": [
    "Sarcasm, a humorous form of communication, often relies on opposite meanings with a distinct tone. Detecting it depends on language skills and understanding others' minds.\n",
    "Can machines learn sarcasm detection? Yes! In this project we'll explores Sarcasm Detection with Machine Learning using Python.\n",
    "Sarcasm is prevalent in language, from conversations to news and social media. The task involves binary classification and natural language processing. A model can be trained to identify sarcastic sentences using a dataset from Kaggle."
   ]
  },
  {
   "cell_type": "markdown",
   "metadata": {},
   "source": [
    "_________________________________________________________________________________________________________________________________________________________________"
   ]
  },
  {
   "cell_type": "markdown",
   "metadata": {},
   "source": [
    "<div align=\"center\">\n",
    "    <a href=\"https://github.com/Saadat-Khalid\">\n",
    "        <img src=\"https://cdn.jsdelivr.net/npm/simple-icons@3.0.1/icons/github.svg\" alt=\"GitHub Profile\" width=\"50\">\n",
    "    </a>\n",
    "    &nbsp;&nbsp;\n",
    "    <a href=\"https://www.linkedin.com/in/saadatawan/\">\n",
    "        <img src=\"https://cdn.jsdelivr.net/npm/simple-icons@3.0.1/icons/linkedin.svg\" alt=\"LinkedIn Profile\" width=\"50\">\n",
    "    </a>\n",
    "    &nbsp;&nbsp;\n",
    "    <a href=\"https://www.facebook.com/Saadat.Khalid.Awan/\">\n",
    "        <img src=\"https://cdn.jsdelivr.net/npm/simple-icons@3.0.1/icons/facebook.svg\" alt=\"Facebook Profile\" width=\"50\">\n",
    "    </a>\n",
    "    &nbsp;&nbsp;\n",
    "    <a href=\"https://twitter.com/saadat_96\">\n",
    "        <img src=\"https://cdn.jsdelivr.net/npm/simple-icons@v3/icons/twitter.svg\" alt=\"Twitter Profile\" width=\"50\">\n",
    "    </a>\n",
    "</div>"
   ]
  },
  {
   "cell_type": "markdown",
   "metadata": {},
   "source": [
    "_________________________________________________________________________"
   ]
  },
  {
   "cell_type": "markdown",
   "metadata": {},
   "source": [
    "## Step - 1: Importing Libraries"
   ]
  },
  {
   "cell_type": "code",
   "execution_count": 2,
   "metadata": {},
   "outputs": [],
   "source": [
    "import pandas as pd\n",
    "import numpy as np\n",
    "from sklearn.feature_extraction.text import CountVectorizer # CountVectorizer is a preprocessing technique used to convert text data into numerical form.\n",
    "from sklearn.model_selection import train_test_split\n",
    "from sklearn.naive_bayes import BernoulliNB # Bernoulli Naive Bayes is frequently used for text classification tasks, such as spam detection, sentiment analysis, sarcasm detection, and topic categorization."
   ]
  },
  {
   "cell_type": "markdown",
   "metadata": {},
   "source": [
    "## Step - 2: As we are going to train our model to detect sarcasm we need the Data First. So, here we are loading the dataset. \n",
    "\n",
    "[dataset](https://raw.githubusercontent.com/amankharwal/Website-data/master/Sarcasm.json)"
   ]
  },
  {
   "cell_type": "code",
   "execution_count": 3,
   "metadata": {},
   "outputs": [
    {
     "name": "stdout",
     "output_type": "stream",
     "text": [
      "                                        article_link  \\\n",
      "0  https://www.huffingtonpost.com/entry/versace-b...   \n",
      "1  https://www.huffingtonpost.com/entry/roseanne-...   \n",
      "2  https://local.theonion.com/mom-starting-to-fea...   \n",
      "3  https://politics.theonion.com/boehner-just-wan...   \n",
      "4  https://www.huffingtonpost.com/entry/jk-rowlin...   \n",
      "\n",
      "                                            headline  is_sarcastic  \n",
      "0  former versace store clerk sues over secret 'b...             0  \n",
      "1  the 'roseanne' revival catches up to our thorn...             0  \n",
      "2  mom starting to fear son's web series closest ...             1  \n",
      "3  boehner just wants wife to listen, not come up...             1  \n",
      "4  j.k. rowling wishes snape happy birthday in th...             0  \n"
     ]
    }
   ],
   "source": [
    "data = pd.read_json(\"Sarcasm.json\", lines=True)\n",
    "print(data.head())"
   ]
  },
  {
   "cell_type": "markdown",
   "metadata": {},
   "source": [
    "## Step - 3: Mapping the Values"
   ]
  },
  {
   "cell_type": "markdown",
   "metadata": {},
   "source": [
    "The “is_sarcastic” column in this dataset contains the labels that we have to predict for the task of sarcasm detection.\n",
    "It contains binary values as 1 and 0, where 1 means sarcastic and 0 means not sarcastic. So for simplicity, I will transform the values of this column as “sarcastic” and “not sarcastic” instead of 1 and 0."
   ]
  },
  {
   "cell_type": "code",
   "execution_count": 4,
   "metadata": {},
   "outputs": [
    {
     "name": "stdout",
     "output_type": "stream",
     "text": [
      "                                        article_link  \\\n",
      "0  https://www.huffingtonpost.com/entry/versace-b...   \n",
      "1  https://www.huffingtonpost.com/entry/roseanne-...   \n",
      "2  https://local.theonion.com/mom-starting-to-fea...   \n",
      "3  https://politics.theonion.com/boehner-just-wan...   \n",
      "4  https://www.huffingtonpost.com/entry/jk-rowlin...   \n",
      "\n",
      "                                            headline is_sarcastic  \n",
      "0  former versace store clerk sues over secret 'b...  Not Sarcasm  \n",
      "1  the 'roseanne' revival catches up to our thorn...  Not Sarcasm  \n",
      "2  mom starting to fear son's web series closest ...      Sarcasm  \n",
      "3  boehner just wants wife to listen, not come up...      Sarcasm  \n",
      "4  j.k. rowling wishes snape happy birthday in th...  Not Sarcasm  \n"
     ]
    }
   ],
   "source": [
    "data[\"is_sarcastic\"] = data[\"is_sarcastic\"].map({0: \"Not Sarcasm\", 1: \"Sarcasm\"})\n",
    "print(data.head())"
   ]
  },
  {
   "cell_type": "markdown",
   "metadata": {},
   "source": [
    "## Step - 4: Seperating & Spliting the DATA\n",
    "* Before diving into creating model First we're going to Seperate \"Features\" and \"Labels\".\n",
    "* After, seperation we'll split the data for \"Traning (80%) & Testing (20%)\""
   ]
  },
  {
   "cell_type": "code",
   "execution_count": 5,
   "metadata": {},
   "outputs": [],
   "source": [
    "data = data[[\"headline\", \"is_sarcastic\"]]\n",
    "x = np.array(data[\"headline\"]) # Feature\n",
    "y = np.array(data[\"is_sarcastic\"]) # Label\n",
    "\n",
    "cv = CountVectorizer() # CountVectorizer is a preprocessing technique used to convert text data into numerical form.\n",
    "X = cv.fit_transform(x) # Fit the Data\n",
    "X_train, X_test, y_train, y_test = train_test_split(X, y, test_size=0.20, random_state=42) # Spliting the data"
   ]
  },
  {
   "cell_type": "markdown",
   "metadata": {},
   "source": [
    "## Step - 5: Building Maching Learning Model \n",
    "* Bernoulli Naive Bayes"
   ]
  },
  {
   "cell_type": "markdown",
   "metadata": {},
   "source": [
    "Bernoulli Naive Bayes: is a variant of the Naive Bayes algorithm used in machine learning for text classification and binary decision problems. It's specifically designed for features that are binary (yes/no, true/false) or categorical (present/absent). This algorithm assumes that the presence or absence of a particular feature is independent of the presence or absence of other features, which is the core principle of Naive Bayes."
   ]
  },
  {
   "cell_type": "markdown",
   "metadata": {},
   "source": [
    "## Step - 6: Training The Model"
   ]
  },
  {
   "cell_type": "code",
   "execution_count": 6,
   "metadata": {},
   "outputs": [
    {
     "name": "stdout",
     "output_type": "stream",
     "text": [
      "0.8448146761512542\n"
     ]
    }
   ],
   "source": [
    "model = BernoulliNB()\n",
    "model.fit(X_train, y_train)\n",
    "print(model.score(X_test, y_test)) # Model Score"
   ]
  },
  {
   "cell_type": "markdown",
   "metadata": {},
   "source": [
    "Model Score is: 0.8448146761512542 which is 84%"
   ]
  },
  {
   "cell_type": "markdown",
   "metadata": {},
   "source": [
    "## Step - 7: Testing Model"
   ]
  },
  {
   "cell_type": "code",
   "execution_count": 7,
   "metadata": {},
   "outputs": [
    {
     "name": "stdout",
     "output_type": "stream",
     "text": [
      "['Sarcasm']\n"
     ]
    }
   ],
   "source": [
    "# user = input(\"Enter a Text: \")\n",
    "user = \"I'm not lazy, I'm just on energy saving mode\"\n",
    "data = cv.transform([user]).toarray()\n",
    "output = model.predict(data)\n",
    "print(output)"
   ]
  },
  {
   "cell_type": "markdown",
   "metadata": {},
   "source": [
    "For input = \"I'm not lazy, I'm just on energy saving mode\" -> Sarcasm.\n",
    "\n",
    "Our Model is working great..."
   ]
  },
  {
   "cell_type": "markdown",
   "metadata": {},
   "source": [
    "<h2 align=\"center\"><font color=\"#050B2Bs\">The End</font></h2>"
   ]
  }
 ],
 "metadata": {
  "kernelspec": {
   "display_name": "Python 3",
   "language": "python",
   "name": "python3"
  },
  "language_info": {
   "codemirror_mode": {
    "name": "ipython",
    "version": 3
   },
   "file_extension": ".py",
   "mimetype": "text/x-python",
   "name": "python",
   "nbconvert_exporter": "python",
   "pygments_lexer": "ipython3",
   "version": "3.9.12"
  },
  "orig_nbformat": 4
 },
 "nbformat": 4,
 "nbformat_minor": 2
}
