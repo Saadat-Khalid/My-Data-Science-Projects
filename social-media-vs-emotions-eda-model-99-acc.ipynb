{
 "cells": [
  {
   "cell_type": "markdown",
   "id": "a554daed",
   "metadata": {
    "papermill": {
     "duration": 0.025052,
     "end_time": "2024-05-23T11:22:43.004348",
     "exception": false,
     "start_time": "2024-05-23T11:22:42.979296",
     "status": "completed"
    },
    "tags": []
   },
   "source": [
    "<h1><b><p style=\"background-image: url(https://i.postimg.cc/0Qwf8YX6/2927262.jpg);font-family:camtasia;font-size:110%;color:white;text-align:center;border-radius:15px 50px; padding:7px; border:solid 2px #09375b; box-shadow: 10px 10px 10px #042b4c\">Project Title: Social Media Usage and Emotional Well-Being</p></b></h1>\n",
    "\n",
    "# About Dataset\n",
    "This unique dataset was meticulously researched and prepared by AI Inventor Emirhan BULUT. It captures valuable information on social media usage and the dominant emotional state of users based on their activities. The dataset is ideal for exploring the relationship between social media usage patterns and emotional well-being.\n",
    "Features:\n",
    "\n",
    "Files:\n",
    "\n",
    "    train.csv: Data for training models.\n",
    "    test.csv: Data for testing models.\n",
    "    val.csv: Data for validation purposes.\n",
    "\n",
    "__Dataset Overview:__\n",
    "\n",
    "  🌐 Source: __Dataset is taken from [Kaggle](https://www.kaggle.com/datasets/emirhanai/social-media-usage-and-emotional-well-being/data)__\n",
    "\n",
    "* __Columns:__\n",
    "  * User_ID: Unique identifier for the user.\n",
    "  * Age: Age of the user.\n",
    "  * Gender: Gender of the user (Female, Male, Non-binary).\n",
    "  * Platform: Social media platform used (e.g., Instagram, Twitter, Facebook, LinkedIn, Snapchat, Whatsapp, Telegram).\n",
    "  * Daily_Usage_Time (minutes): Daily time spent on the platform in minutes.\n",
    "  * Posts_Per_Day: Number of posts made per day.\n",
    "  * Likes_Received_Per_Day: Number of likes received per day.\n",
    "  * Comments_Received_Per_Day: Number of comments received per day.\n",
    "  * Messages_Sent_Per_Day: Number of messages sent per day.\n",
    "  * Dominant_Emotion: User's dominant emotional state during the day (e.g., Happiness, Sadness, Anger, Anxiety, Boredom, Neutral).\n",
    "\n",
    "__Attribution:__\n",
    "\n",
    "You can use this dataset ethically and responsibly in accordance with the MIT license for educational and research purposes. If you use this dataset in your work, a citation or reference to this dataset would be appreciated."
   ]
  },
  {
   "cell_type": "markdown",
   "id": "cdc81808",
   "metadata": {
    "papermill": {
     "duration": 0.024984,
     "end_time": "2024-05-23T11:22:43.057017",
     "exception": false,
     "start_time": "2024-05-23T11:22:43.032033",
     "status": "completed"
    },
    "tags": []
   },
   "source": [
    "# Introduction:\n",
    "Social media is a central point of our life. It has changed the way we live, work, and interact with others. As a result, it has become an essential part of our daily lives. The dataset here aims to provide valuable insights into social media usage and the dominant emotional state of users.\n",
    "\n",
    "The goal of this project is to analyze the relation between social media trends and emotional well-being, and train the nodels."
   ]
  },
  {
   "cell_type": "markdown",
   "id": "c25e55aa",
   "metadata": {
    "papermill": {
     "duration": 0.024475,
     "end_time": "2024-05-23T11:22:43.106388",
     "exception": false,
     "start_time": "2024-05-23T11:22:43.081913",
     "status": "completed"
    },
    "tags": []
   },
   "source": [
    "### About Author:\n",
    "__Author: *Saadat Khalid Awan*__\n",
    "\n",
    "| **Contact Information** | |\n",
    "|-------------------------|---------------------------------------------------|\n",
    "| **Email:** | *me.saadi96@gmail.com* |\n",
    "| **Website:** | *[https://thesaadat.blogspot.com](https://thesaadat.blogspot.com)* |\n",
    "\n",
    "__🌐 Let's Connect:__\n",
    "\n",
    "| Platform   | Badge                                                                                                  | URL                                                      |\n",
    "|------------|--------------------------------------------------------------------------------------------------------|----------------------------------------------------------|\n",
    "| Facebook   | ![Facebook](https://img.shields.io/badge/Facebook-%231877F2.svg?logo=Facebook&logoColor=white)        | [Saadat.Khalid.Awan](https://facebook.com/Saadat.Khalid.Awan) |\n",
    "| Instagram  | ![Instagram](https://img.shields.io/badge/Instagram-%23E4405F.svg?logo=Instagram&logoColor=white)     | [saadii_awan66](https://instagram.com/saadii_awan66)           |\n",
    "| LinkedIn   | ![LinkedIn](https://img.shields.io/badge/LinkedIn-%230077B5.svg?logo=linkedin&logoColor=white)        | [saadatawan](https://linkedin.com/in/saadatawan)              |\n",
    "| Medium     | ![Medium](https://img.shields.io/badge/Medium-12100E?logo=medium&logoColor=white)                     | [@me.saadat](https://medium.com/@@me.saadat)                  |\n",
    "| Pinterest  | ![Pinterest](https://img.shields.io/badge/Pinterest-%23E60023.svg?logo=Pinterest&logoColor=white)     | [its_saadatkhalid](https://pinterest.com/its_saadatkhalid)    |\n",
    "| Quora      | ![Quora](https://img.shields.io/badge/Quora-%23B92B27.svg?logo=Quora&logoColor=white)                 | [Saadat-Khalid-Awan](https://quora.com/profile/Saadat-Khalid-Awan) |\n",
    "| TikTok     | ![TikTok](https://img.shields.io/badge/TikTok-%23000000.svg?logo=TikTok&logoColor=white)              | [saadat.awan](https://tiktok.com/@saadat.awan)                 |\n",
    "| Twitter    | ![Twitter](https://img.shields.io/badge/Twitter-%231DA1F2.svg?logo=Twitter&logoColor=white)           | [saadat_96](https://twitter.com/saadat_96)                    |\n",
    "| YouTube    | ![YouTube](https://img.shields.io/badge/YouTube-%23FF0000.svg?logo=YouTube&logoColor=white)           | [saadatkhalidawan](https://youtube.com/@saadatkhalidawan)     |\n",
    "| Github     | ![Github](https://img.shields.io/badge/Github-%23FF0000.svg?logo=Github&logoColor=Black)              | [Saadat-Khalid](https://github.com/Saadat-Khalid/)           |"
   ]
  },
  {
   "cell_type": "markdown",
   "id": "7296fe9d",
   "metadata": {
    "papermill": {
     "duration": 0.02416,
     "end_time": "2024-05-23T11:22:43.155171",
     "exception": false,
     "start_time": "2024-05-23T11:22:43.131011",
     "status": "completed"
    },
    "tags": []
   },
   "source": [
    "# Importing Libraries"
   ]
  },
  {
   "cell_type": "code",
   "execution_count": 1,
   "id": "6cf3c7de",
   "metadata": {
    "execution": {
     "iopub.execute_input": "2024-05-23T11:22:43.206844Z",
     "iopub.status.busy": "2024-05-23T11:22:43.206140Z",
     "iopub.status.idle": "2024-05-23T11:22:46.078068Z",
     "shell.execute_reply": "2024-05-23T11:22:46.077097Z"
    },
    "papermill": {
     "duration": 2.900645,
     "end_time": "2024-05-23T11:22:46.080834",
     "exception": false,
     "start_time": "2024-05-23T11:22:43.180189",
     "status": "completed"
    },
    "tags": []
   },
   "outputs": [],
   "source": [
    "import pandas as pd\n",
    "import numpy as np\n",
    "import matplotlib.pyplot as plt\n",
    "import seaborn as sns\n",
    "import plotly.express as px"
   ]
  },
  {
   "cell_type": "code",
   "execution_count": 2,
   "id": "e2b03c58",
   "metadata": {
    "execution": {
     "iopub.execute_input": "2024-05-23T11:22:46.133151Z",
     "iopub.status.busy": "2024-05-23T11:22:46.131889Z",
     "iopub.status.idle": "2024-05-23T11:22:46.137132Z",
     "shell.execute_reply": "2024-05-23T11:22:46.136306Z"
    },
    "papermill": {
     "duration": 0.032994,
     "end_time": "2024-05-23T11:22:46.139123",
     "exception": false,
     "start_time": "2024-05-23T11:22:46.106129",
     "status": "completed"
    },
    "tags": []
   },
   "outputs": [],
   "source": [
    "# Ignore Warnings\n",
    "import warnings\n",
    "warnings.filterwarnings(\"ignore\")"
   ]
  },
  {
   "cell_type": "markdown",
   "id": "415a9a26",
   "metadata": {
    "papermill": {
     "duration": 0.024205,
     "end_time": "2024-05-23T11:22:46.188082",
     "exception": false,
     "start_time": "2024-05-23T11:22:46.163877",
     "status": "completed"
    },
    "tags": []
   },
   "source": [
    "# Data Loading"
   ]
  },
  {
   "cell_type": "markdown",
   "id": "7fbf674e",
   "metadata": {
    "papermill": {
     "duration": 0.02425,
     "end_time": "2024-05-23T11:22:46.237035",
     "exception": false,
     "start_time": "2024-05-23T11:22:46.212785",
     "status": "completed"
    },
    "tags": []
   },
   "source": [
    "* We've 3 files:\n",
    "  * test.csv\n",
    "  * train.csv\n",
    "  * val.csv"
   ]
  },
  {
   "cell_type": "code",
   "execution_count": 3,
   "id": "2e40a54b",
   "metadata": {
    "execution": {
     "iopub.execute_input": "2024-05-23T11:22:46.288647Z",
     "iopub.status.busy": "2024-05-23T11:22:46.287933Z",
     "iopub.status.idle": "2024-05-23T11:22:46.333991Z",
     "shell.execute_reply": "2024-05-23T11:22:46.333103Z"
    },
    "papermill": {
     "duration": 0.074563,
     "end_time": "2024-05-23T11:22:46.336456",
     "exception": false,
     "start_time": "2024-05-23T11:22:46.261893",
     "status": "completed"
    },
    "tags": []
   },
   "outputs": [],
   "source": [
    "train_df = pd.read_csv(\"/kaggle/input/social-media-usage-and-emotional-well-being/train.csv\", on_bad_lines='skip')\n",
    "test_df = pd.read_csv(\"/kaggle/input/social-media-usage-and-emotional-well-being/test.csv\", on_bad_lines='skip')\n",
    "val_df = pd.read_csv(\"/kaggle/input/social-media-usage-and-emotional-well-being/val.csv\", on_bad_lines='skip')"
   ]
  },
  {
   "cell_type": "markdown",
   "id": "999416d5",
   "metadata": {
    "papermill": {
     "duration": 0.024248,
     "end_time": "2024-05-23T11:22:46.385403",
     "exception": false,
     "start_time": "2024-05-23T11:22:46.361155",
     "status": "completed"
    },
    "tags": []
   },
   "source": [
    "* Before diving into the data, let's take a look at the data. Afterwards we'll explore the traning dataset."
   ]
  },
  {
   "cell_type": "code",
   "execution_count": 4,
   "id": "74b3d1dc",
   "metadata": {
    "execution": {
     "iopub.execute_input": "2024-05-23T11:22:46.498655Z",
     "iopub.status.busy": "2024-05-23T11:22:46.497924Z",
     "iopub.status.idle": "2024-05-23T11:22:46.554519Z",
     "shell.execute_reply": "2024-05-23T11:22:46.553407Z"
    },
    "papermill": {
     "duration": 0.146873,
     "end_time": "2024-05-23T11:22:46.557309",
     "exception": false,
     "start_time": "2024-05-23T11:22:46.410436",
     "status": "completed"
    },
    "tags": []
   },
   "outputs": [
    {
     "name": "stdout",
     "output_type": "stream",
     "text": [
      "Training Data:\n"
     ]
    },
    {
     "data": {
      "text/html": [
       "<div>\n",
       "<style scoped>\n",
       "    .dataframe tbody tr th:only-of-type {\n",
       "        vertical-align: middle;\n",
       "    }\n",
       "\n",
       "    .dataframe tbody tr th {\n",
       "        vertical-align: top;\n",
       "    }\n",
       "\n",
       "    .dataframe thead th {\n",
       "        text-align: right;\n",
       "    }\n",
       "</style>\n",
       "<table border=\"1\" class=\"dataframe\">\n",
       "  <thead>\n",
       "    <tr style=\"text-align: right;\">\n",
       "      <th></th>\n",
       "      <th>User_ID</th>\n",
       "      <th>Age</th>\n",
       "      <th>Gender</th>\n",
       "      <th>Platform</th>\n",
       "      <th>Daily_Usage_Time (minutes)</th>\n",
       "      <th>Posts_Per_Day</th>\n",
       "      <th>Likes_Received_Per_Day</th>\n",
       "      <th>Comments_Received_Per_Day</th>\n",
       "      <th>Messages_Sent_Per_Day</th>\n",
       "      <th>Dominant_Emotion</th>\n",
       "    </tr>\n",
       "  </thead>\n",
       "  <tbody>\n",
       "    <tr>\n",
       "      <th>0</th>\n",
       "      <td>1</td>\n",
       "      <td>25</td>\n",
       "      <td>Female</td>\n",
       "      <td>Instagram</td>\n",
       "      <td>120.0</td>\n",
       "      <td>3.0</td>\n",
       "      <td>45.0</td>\n",
       "      <td>10.0</td>\n",
       "      <td>12.0</td>\n",
       "      <td>Happiness</td>\n",
       "    </tr>\n",
       "    <tr>\n",
       "      <th>1</th>\n",
       "      <td>2</td>\n",
       "      <td>30</td>\n",
       "      <td>Male</td>\n",
       "      <td>Twitter</td>\n",
       "      <td>90.0</td>\n",
       "      <td>5.0</td>\n",
       "      <td>20.0</td>\n",
       "      <td>25.0</td>\n",
       "      <td>30.0</td>\n",
       "      <td>Anger</td>\n",
       "    </tr>\n",
       "    <tr>\n",
       "      <th>2</th>\n",
       "      <td>3</td>\n",
       "      <td>22</td>\n",
       "      <td>Non-binary</td>\n",
       "      <td>Facebook</td>\n",
       "      <td>60.0</td>\n",
       "      <td>2.0</td>\n",
       "      <td>15.0</td>\n",
       "      <td>5.0</td>\n",
       "      <td>20.0</td>\n",
       "      <td>Neutral</td>\n",
       "    </tr>\n",
       "    <tr>\n",
       "      <th>3</th>\n",
       "      <td>4</td>\n",
       "      <td>28</td>\n",
       "      <td>Female</td>\n",
       "      <td>Instagram</td>\n",
       "      <td>200.0</td>\n",
       "      <td>8.0</td>\n",
       "      <td>100.0</td>\n",
       "      <td>30.0</td>\n",
       "      <td>50.0</td>\n",
       "      <td>Anxiety</td>\n",
       "    </tr>\n",
       "    <tr>\n",
       "      <th>4</th>\n",
       "      <td>5</td>\n",
       "      <td>33</td>\n",
       "      <td>Male</td>\n",
       "      <td>LinkedIn</td>\n",
       "      <td>45.0</td>\n",
       "      <td>1.0</td>\n",
       "      <td>5.0</td>\n",
       "      <td>2.0</td>\n",
       "      <td>10.0</td>\n",
       "      <td>Boredom</td>\n",
       "    </tr>\n",
       "  </tbody>\n",
       "</table>\n",
       "</div>"
      ],
      "text/plain": [
       "  User_ID Age      Gender   Platform  Daily_Usage_Time (minutes)  \\\n",
       "0       1  25      Female  Instagram                       120.0   \n",
       "1       2  30        Male    Twitter                        90.0   \n",
       "2       3  22  Non-binary   Facebook                        60.0   \n",
       "3       4  28      Female  Instagram                       200.0   \n",
       "4       5  33        Male   LinkedIn                        45.0   \n",
       "\n",
       "   Posts_Per_Day  Likes_Received_Per_Day  Comments_Received_Per_Day  \\\n",
       "0            3.0                    45.0                       10.0   \n",
       "1            5.0                    20.0                       25.0   \n",
       "2            2.0                    15.0                        5.0   \n",
       "3            8.0                   100.0                       30.0   \n",
       "4            1.0                     5.0                        2.0   \n",
       "\n",
       "   Messages_Sent_Per_Day Dominant_Emotion  \n",
       "0                   12.0        Happiness  \n",
       "1                   30.0            Anger  \n",
       "2                   20.0          Neutral  \n",
       "3                   50.0          Anxiety  \n",
       "4                   10.0          Boredom  "
      ]
     },
     "metadata": {},
     "output_type": "display_data"
    },
    {
     "name": "stdout",
     "output_type": "stream",
     "text": [
      "----------------------------------------------------------------------\n",
      "Testing Data:\n"
     ]
    },
    {
     "data": {
      "text/html": [
       "<div>\n",
       "<style scoped>\n",
       "    .dataframe tbody tr th:only-of-type {\n",
       "        vertical-align: middle;\n",
       "    }\n",
       "\n",
       "    .dataframe tbody tr th {\n",
       "        vertical-align: top;\n",
       "    }\n",
       "\n",
       "    .dataframe thead th {\n",
       "        text-align: right;\n",
       "    }\n",
       "</style>\n",
       "<table border=\"1\" class=\"dataframe\">\n",
       "  <thead>\n",
       "    <tr style=\"text-align: right;\">\n",
       "      <th></th>\n",
       "      <th>User_ID</th>\n",
       "      <th>Age</th>\n",
       "      <th>Gender</th>\n",
       "      <th>Platform</th>\n",
       "      <th>Daily_Usage_Time (minutes)</th>\n",
       "      <th>Posts_Per_Day</th>\n",
       "      <th>Likes_Received_Per_Day</th>\n",
       "      <th>Comments_Received_Per_Day</th>\n",
       "      <th>Messages_Sent_Per_Day</th>\n",
       "      <th>Dominant_Emotion</th>\n",
       "    </tr>\n",
       "  </thead>\n",
       "  <tbody>\n",
       "    <tr>\n",
       "      <th>0</th>\n",
       "      <td>500</td>\n",
       "      <td>27</td>\n",
       "      <td>Female</td>\n",
       "      <td>Snapchat</td>\n",
       "      <td>120</td>\n",
       "      <td>4</td>\n",
       "      <td>40</td>\n",
       "      <td>18</td>\n",
       "      <td>22</td>\n",
       "      <td>Neutral</td>\n",
       "    </tr>\n",
       "    <tr>\n",
       "      <th>1</th>\n",
       "      <td>488</td>\n",
       "      <td>21</td>\n",
       "      <td>Non-binary</td>\n",
       "      <td>Snapchat</td>\n",
       "      <td>60</td>\n",
       "      <td>1</td>\n",
       "      <td>18</td>\n",
       "      <td>7</td>\n",
       "      <td>12</td>\n",
       "      <td>Neutral</td>\n",
       "    </tr>\n",
       "    <tr>\n",
       "      <th>2</th>\n",
       "      <td>776</td>\n",
       "      <td>28</td>\n",
       "      <td>Non-binary</td>\n",
       "      <td>Snapchat</td>\n",
       "      <td>115</td>\n",
       "      <td>3</td>\n",
       "      <td>38</td>\n",
       "      <td>18</td>\n",
       "      <td>27</td>\n",
       "      <td>Anxiety</td>\n",
       "    </tr>\n",
       "    <tr>\n",
       "      <th>3</th>\n",
       "      <td>869</td>\n",
       "      <td>27</td>\n",
       "      <td>Male</td>\n",
       "      <td>Telegram</td>\n",
       "      <td>105</td>\n",
       "      <td>3</td>\n",
       "      <td>48</td>\n",
       "      <td>20</td>\n",
       "      <td>28</td>\n",
       "      <td>Anxiety</td>\n",
       "    </tr>\n",
       "    <tr>\n",
       "      <th>4</th>\n",
       "      <td>573</td>\n",
       "      <td>21</td>\n",
       "      <td>Non-binary</td>\n",
       "      <td>Facebook</td>\n",
       "      <td>55</td>\n",
       "      <td>3</td>\n",
       "      <td>17</td>\n",
       "      <td>7</td>\n",
       "      <td>12</td>\n",
       "      <td>Neutral</td>\n",
       "    </tr>\n",
       "  </tbody>\n",
       "</table>\n",
       "</div>"
      ],
      "text/plain": [
       "   User_ID Age      Gender  Platform  Daily_Usage_Time (minutes)  \\\n",
       "0      500  27      Female  Snapchat                         120   \n",
       "1      488  21  Non-binary  Snapchat                          60   \n",
       "2      776  28  Non-binary  Snapchat                         115   \n",
       "3      869  27        Male  Telegram                         105   \n",
       "4      573  21  Non-binary  Facebook                          55   \n",
       "\n",
       "   Posts_Per_Day  Likes_Received_Per_Day  Comments_Received_Per_Day  \\\n",
       "0              4                      40                         18   \n",
       "1              1                      18                          7   \n",
       "2              3                      38                         18   \n",
       "3              3                      48                         20   \n",
       "4              3                      17                          7   \n",
       "\n",
       "   Messages_Sent_Per_Day Dominant_Emotion  \n",
       "0                     22          Neutral  \n",
       "1                     12          Neutral  \n",
       "2                     27          Anxiety  \n",
       "3                     28          Anxiety  \n",
       "4                     12          Neutral  "
      ]
     },
     "metadata": {},
     "output_type": "display_data"
    },
    {
     "name": "stdout",
     "output_type": "stream",
     "text": [
      "----------------------------------------------------------------------\n",
      "Validation Data:\n"
     ]
    },
    {
     "data": {
      "text/html": [
       "<div>\n",
       "<style scoped>\n",
       "    .dataframe tbody tr th:only-of-type {\n",
       "        vertical-align: middle;\n",
       "    }\n",
       "\n",
       "    .dataframe tbody tr th {\n",
       "        vertical-align: top;\n",
       "    }\n",
       "\n",
       "    .dataframe thead th {\n",
       "        text-align: right;\n",
       "    }\n",
       "</style>\n",
       "<table border=\"1\" class=\"dataframe\">\n",
       "  <thead>\n",
       "    <tr style=\"text-align: right;\">\n",
       "      <th></th>\n",
       "      <th>User_ID</th>\n",
       "      <th>Age</th>\n",
       "      <th>Gender</th>\n",
       "      <th>Platform</th>\n",
       "      <th>Daily_Usage_Time (minutes)</th>\n",
       "      <th>Posts_Per_Day</th>\n",
       "      <th>Likes_Received_Per_Day</th>\n",
       "      <th>Comments_Received_Per_Day</th>\n",
       "      <th>Messages_Sent_Per_Day</th>\n",
       "      <th>Dominant_Emotion</th>\n",
       "    </tr>\n",
       "  </thead>\n",
       "  <tbody>\n",
       "    <tr>\n",
       "      <th>0</th>\n",
       "      <td>10</td>\n",
       "      <td>31</td>\n",
       "      <td>Male</td>\n",
       "      <td>Instagram</td>\n",
       "      <td>170</td>\n",
       "      <td>5</td>\n",
       "      <td>80</td>\n",
       "      <td>20</td>\n",
       "      <td>35</td>\n",
       "      <td>Happiness</td>\n",
       "    </tr>\n",
       "    <tr>\n",
       "      <th>1</th>\n",
       "      <td>877</td>\n",
       "      <td>32</td>\n",
       "      <td>Female</td>\n",
       "      <td>Instagram</td>\n",
       "      <td>155</td>\n",
       "      <td>6</td>\n",
       "      <td>75</td>\n",
       "      <td>25</td>\n",
       "      <td>38</td>\n",
       "      <td>Happiness</td>\n",
       "    </tr>\n",
       "    <tr>\n",
       "      <th>2</th>\n",
       "      <td>230</td>\n",
       "      <td>26</td>\n",
       "      <td>Non-binary</td>\n",
       "      <td>Facebook</td>\n",
       "      <td>45</td>\n",
       "      <td>1</td>\n",
       "      <td>8</td>\n",
       "      <td>4</td>\n",
       "      <td>12</td>\n",
       "      <td>Sadness</td>\n",
       "    </tr>\n",
       "    <tr>\n",
       "      <th>3</th>\n",
       "      <td>876</td>\n",
       "      <td>28</td>\n",
       "      <td>Non-binary</td>\n",
       "      <td>Snapchat</td>\n",
       "      <td>115</td>\n",
       "      <td>3</td>\n",
       "      <td>38</td>\n",
       "      <td>18</td>\n",
       "      <td>27</td>\n",
       "      <td>Anxiety</td>\n",
       "    </tr>\n",
       "    <tr>\n",
       "      <th>4</th>\n",
       "      <td>376</td>\n",
       "      <td>28</td>\n",
       "      <td>Non-binary</td>\n",
       "      <td>Snapchat</td>\n",
       "      <td>115</td>\n",
       "      <td>3</td>\n",
       "      <td>38</td>\n",
       "      <td>18</td>\n",
       "      <td>27</td>\n",
       "      <td>Anxiety</td>\n",
       "    </tr>\n",
       "  </tbody>\n",
       "</table>\n",
       "</div>"
      ],
      "text/plain": [
       "   User_ID Age      Gender   Platform  Daily_Usage_Time (minutes)  \\\n",
       "0       10  31        Male  Instagram                         170   \n",
       "1      877  32      Female  Instagram                         155   \n",
       "2      230  26  Non-binary   Facebook                          45   \n",
       "3      876  28  Non-binary   Snapchat                         115   \n",
       "4      376  28  Non-binary   Snapchat                         115   \n",
       "\n",
       "   Posts_Per_Day  Likes_Received_Per_Day  Comments_Received_Per_Day  \\\n",
       "0              5                      80                         20   \n",
       "1              6                      75                         25   \n",
       "2              1                       8                          4   \n",
       "3              3                      38                         18   \n",
       "4              3                      38                         18   \n",
       "\n",
       "  Messages_Sent_Per_Day Dominant_Emotion  \n",
       "0                    35        Happiness  \n",
       "1                    38        Happiness  \n",
       "2                    12          Sadness  \n",
       "3                    27          Anxiety  \n",
       "4                    27          Anxiety  "
      ]
     },
     "metadata": {},
     "output_type": "display_data"
    }
   ],
   "source": [
    "# viwing the traing data, test data and validation data\n",
    "print(\"Training Data:\")\n",
    "display(train_df.head())\n",
    "print(\"----------------------------------------------------------------------\")\n",
    "print(\"Testing Data:\")\n",
    "display(test_df.head())\n",
    "print(\"----------------------------------------------------------------------\")\n",
    "print(\"Validation Data:\")\n",
    "display(val_df.head())"
   ]
  },
  {
   "cell_type": "code",
   "execution_count": 5,
   "id": "72c48e44",
   "metadata": {
    "execution": {
     "iopub.execute_input": "2024-05-23T11:22:46.612032Z",
     "iopub.status.busy": "2024-05-23T11:22:46.611242Z",
     "iopub.status.idle": "2024-05-23T11:22:46.640297Z",
     "shell.execute_reply": "2024-05-23T11:22:46.639200Z"
    },
    "papermill": {
     "duration": 0.05973,
     "end_time": "2024-05-23T11:22:46.643220",
     "exception": false,
     "start_time": "2024-05-23T11:22:46.583490",
     "status": "completed"
    },
    "tags": []
   },
   "outputs": [
    {
     "name": "stdout",
     "output_type": "stream",
     "text": [
      "Traing Data Info:\n",
      "<class 'pandas.core.frame.DataFrame'>\n",
      "RangeIndex: 1001 entries, 0 to 1000\n",
      "Data columns (total 10 columns):\n",
      " #   Column                      Non-Null Count  Dtype  \n",
      "---  ------                      --------------  -----  \n",
      " 0   User_ID                     1001 non-null   object \n",
      " 1   Age                         1001 non-null   object \n",
      " 2   Gender                      1000 non-null   object \n",
      " 3   Platform                    1000 non-null   object \n",
      " 4   Daily_Usage_Time (minutes)  1000 non-null   float64\n",
      " 5   Posts_Per_Day               1000 non-null   float64\n",
      " 6   Likes_Received_Per_Day      1000 non-null   float64\n",
      " 7   Comments_Received_Per_Day   1000 non-null   float64\n",
      " 8   Messages_Sent_Per_Day       1000 non-null   float64\n",
      " 9   Dominant_Emotion            1000 non-null   object \n",
      "dtypes: float64(5), object(5)\n",
      "memory usage: 78.3+ KB\n"
     ]
    }
   ],
   "source": [
    "# training data info\n",
    "print(\"Traing Data Info:\")\n",
    "train_df.info()"
   ]
  },
  {
   "cell_type": "code",
   "execution_count": 6,
   "id": "9db789f0",
   "metadata": {
    "execution": {
     "iopub.execute_input": "2024-05-23T11:22:46.698527Z",
     "iopub.status.busy": "2024-05-23T11:22:46.698084Z",
     "iopub.status.idle": "2024-05-23T11:22:46.709426Z",
     "shell.execute_reply": "2024-05-23T11:22:46.708528Z"
    },
    "papermill": {
     "duration": 0.042609,
     "end_time": "2024-05-23T11:22:46.712367",
     "exception": false,
     "start_time": "2024-05-23T11:22:46.669758",
     "status": "completed"
    },
    "tags": []
   },
   "outputs": [
    {
     "name": "stdout",
     "output_type": "stream",
     "text": [
      "Testing Data Info:\n",
      "<class 'pandas.core.frame.DataFrame'>\n",
      "RangeIndex: 103 entries, 0 to 102\n",
      "Data columns (total 10 columns):\n",
      " #   Column                      Non-Null Count  Dtype \n",
      "---  ------                      --------------  ----- \n",
      " 0   User_ID                     103 non-null    int64 \n",
      " 1   Age                         103 non-null    object\n",
      " 2   Gender                      103 non-null    object\n",
      " 3   Platform                    103 non-null    object\n",
      " 4   Daily_Usage_Time (minutes)  103 non-null    int64 \n",
      " 5   Posts_Per_Day               103 non-null    int64 \n",
      " 6   Likes_Received_Per_Day      103 non-null    int64 \n",
      " 7   Comments_Received_Per_Day   103 non-null    int64 \n",
      " 8   Messages_Sent_Per_Day       103 non-null    int64 \n",
      " 9   Dominant_Emotion            103 non-null    object\n",
      "dtypes: int64(6), object(4)\n",
      "memory usage: 8.2+ KB\n"
     ]
    }
   ],
   "source": [
    "# testing data info\n",
    "print(\"Testing Data Info:\")\n",
    "test_df.info()"
   ]
  },
  {
   "cell_type": "code",
   "execution_count": 7,
   "id": "81313a2b",
   "metadata": {
    "execution": {
     "iopub.execute_input": "2024-05-23T11:22:46.768030Z",
     "iopub.status.busy": "2024-05-23T11:22:46.767609Z",
     "iopub.status.idle": "2024-05-23T11:22:46.779855Z",
     "shell.execute_reply": "2024-05-23T11:22:46.778519Z"
    },
    "papermill": {
     "duration": 0.04345,
     "end_time": "2024-05-23T11:22:46.782626",
     "exception": false,
     "start_time": "2024-05-23T11:22:46.739176",
     "status": "completed"
    },
    "tags": []
   },
   "outputs": [
    {
     "name": "stdout",
     "output_type": "stream",
     "text": [
      "Validation Data Info:\n",
      "<class 'pandas.core.frame.DataFrame'>\n",
      "RangeIndex: 145 entries, 0 to 144\n",
      "Data columns (total 10 columns):\n",
      " #   Column                      Non-Null Count  Dtype \n",
      "---  ------                      --------------  ----- \n",
      " 0   User_ID                     145 non-null    int64 \n",
      " 1   Age                         145 non-null    object\n",
      " 2   Gender                      145 non-null    object\n",
      " 3   Platform                    145 non-null    object\n",
      " 4   Daily_Usage_Time (minutes)  145 non-null    int64 \n",
      " 5   Posts_Per_Day               145 non-null    int64 \n",
      " 6   Likes_Received_Per_Day      145 non-null    int64 \n",
      " 7   Comments_Received_Per_Day   145 non-null    int64 \n",
      " 8   Messages_Sent_Per_Day       145 non-null    object\n",
      " 9   Dominant_Emotion            144 non-null    object\n",
      "dtypes: int64(5), object(5)\n",
      "memory usage: 11.5+ KB\n"
     ]
    }
   ],
   "source": [
    "# validation data info\n",
    "print(\"Validation Data Info:\")\n",
    "val_df.info()"
   ]
  },
  {
   "cell_type": "markdown",
   "id": "9658cc76",
   "metadata": {
    "papermill": {
     "duration": 0.026628,
     "end_time": "2024-05-23T11:22:46.837075",
     "exception": false,
     "start_time": "2024-05-23T11:22:46.810447",
     "status": "completed"
    },
    "tags": []
   },
   "source": [
    "* Shape of the training, testing, and validation data."
   ]
  },
  {
   "cell_type": "code",
   "execution_count": 8,
   "id": "2374abdc",
   "metadata": {
    "execution": {
     "iopub.execute_input": "2024-05-23T11:22:46.893302Z",
     "iopub.status.busy": "2024-05-23T11:22:46.892873Z",
     "iopub.status.idle": "2024-05-23T11:22:46.898765Z",
     "shell.execute_reply": "2024-05-23T11:22:46.897727Z"
    },
    "papermill": {
     "duration": 0.037151,
     "end_time": "2024-05-23T11:22:46.901675",
     "exception": false,
     "start_time": "2024-05-23T11:22:46.864524",
     "status": "completed"
    },
    "tags": []
   },
   "outputs": [
    {
     "name": "stdout",
     "output_type": "stream",
     "text": [
      "There are 1001 rows and 10 columns in the training data.\n",
      "There are 103 rows and 10 columns in the testing data.\n",
      "There are 145 rows and 10 columns in the validation data.\n"
     ]
    }
   ],
   "source": [
    "print(f\"There are {train_df.shape[0]} rows and {train_df.shape[1]} columns in the training data.\")\n",
    "print(f\"There are {test_df.shape[0]} rows and {test_df.shape[1]} columns in the testing data.\")\n",
    "print(f\"There are {val_df.shape[0]} rows and {val_df.shape[1]} columns in the validation data.\")"
   ]
  },
  {
   "cell_type": "code",
   "execution_count": 9,
   "id": "68e65113",
   "metadata": {
    "execution": {
     "iopub.execute_input": "2024-05-23T11:22:46.958303Z",
     "iopub.status.busy": "2024-05-23T11:22:46.957870Z",
     "iopub.status.idle": "2024-05-23T11:22:46.978129Z",
     "shell.execute_reply": "2024-05-23T11:22:46.976940Z"
    },
    "papermill": {
     "duration": 0.051434,
     "end_time": "2024-05-23T11:22:46.980838",
     "exception": false,
     "start_time": "2024-05-23T11:22:46.929404",
     "status": "completed"
    },
    "tags": []
   },
   "outputs": [
    {
     "name": "stdout",
     "output_type": "stream",
     "text": [
      "Training Data:\n"
     ]
    },
    {
     "data": {
      "text/plain": [
       "User_ID                       0\n",
       "Age                           0\n",
       "Gender                        1\n",
       "Platform                      1\n",
       "Daily_Usage_Time (minutes)    1\n",
       "Posts_Per_Day                 1\n",
       "Likes_Received_Per_Day        1\n",
       "Comments_Received_Per_Day     1\n",
       "Messages_Sent_Per_Day         1\n",
       "Dominant_Emotion              1\n",
       "dtype: int64"
      ]
     },
     "metadata": {},
     "output_type": "display_data"
    },
    {
     "name": "stdout",
     "output_type": "stream",
     "text": [
      "----------------------------------------------------------------------\n",
      "Testing Data:\n"
     ]
    },
    {
     "data": {
      "text/plain": [
       "User_ID                       0\n",
       "Age                           0\n",
       "Gender                        0\n",
       "Platform                      0\n",
       "Daily_Usage_Time (minutes)    0\n",
       "Posts_Per_Day                 0\n",
       "Likes_Received_Per_Day        0\n",
       "Comments_Received_Per_Day     0\n",
       "Messages_Sent_Per_Day         0\n",
       "Dominant_Emotion              0\n",
       "dtype: int64"
      ]
     },
     "metadata": {},
     "output_type": "display_data"
    },
    {
     "name": "stdout",
     "output_type": "stream",
     "text": [
      "----------------------------------------------------------------------\n",
      "Validation Data:\n"
     ]
    },
    {
     "data": {
      "text/plain": [
       "User_ID                       0\n",
       "Age                           0\n",
       "Gender                        0\n",
       "Platform                      0\n",
       "Daily_Usage_Time (minutes)    0\n",
       "Posts_Per_Day                 0\n",
       "Likes_Received_Per_Day        0\n",
       "Comments_Received_Per_Day     0\n",
       "Messages_Sent_Per_Day         0\n",
       "Dominant_Emotion              1\n",
       "dtype: int64"
      ]
     },
     "metadata": {},
     "output_type": "display_data"
    }
   ],
   "source": [
    "# checking for null values\n",
    "print(\"Training Data:\")\n",
    "display(train_df.isnull().sum())\n",
    "print(\"----------------------------------------------------------------------\")\n",
    "print(\"Testing Data:\")\n",
    "display(test_df.isnull().sum())\n",
    "print(\"----------------------------------------------------------------------\")\n",
    "print(\"Validation Data:\")\n",
    "display(val_df.isnull().sum())"
   ]
  },
  {
   "cell_type": "markdown",
   "id": "d7c43684",
   "metadata": {
    "papermill": {
     "duration": 0.029344,
     "end_time": "2024-05-23T11:22:47.038248",
     "exception": false,
     "start_time": "2024-05-23T11:22:47.008904",
     "status": "completed"
    },
    "tags": []
   },
   "source": [
    "* I can do 2 things to deal with null values:\n",
    "  * Simple drop them as it is only 1 null value and might not affect our analysis.\n",
    "  * Fill them with the mean, median, or mode depending on the value of the column."
   ]
  },
  {
   "cell_type": "markdown",
   "id": "09f11865",
   "metadata": {
    "papermill": {
     "duration": 0.028442,
     "end_time": "2024-05-23T11:22:47.095002",
     "exception": false,
     "start_time": "2024-05-23T11:22:47.066560",
     "status": "completed"
    },
    "tags": []
   },
   "source": [
    "# Exploratory Data Analysis (EDA)"
   ]
  },
  {
   "cell_type": "markdown",
   "id": "c67307ea",
   "metadata": {
    "papermill": {
     "duration": 0.02743,
     "end_time": "2024-05-23T11:22:47.150225",
     "exception": false,
     "start_time": "2024-05-23T11:22:47.122795",
     "status": "completed"
    },
    "tags": []
   },
   "source": [
    "* Let's start EDA with the training data."
   ]
  },
  {
   "cell_type": "code",
   "execution_count": 10,
   "id": "f7eac399",
   "metadata": {
    "execution": {
     "iopub.execute_input": "2024-05-23T11:22:47.207867Z",
     "iopub.status.busy": "2024-05-23T11:22:47.207486Z",
     "iopub.status.idle": "2024-05-23T11:22:47.225443Z",
     "shell.execute_reply": "2024-05-23T11:22:47.224608Z"
    },
    "papermill": {
     "duration": 0.049568,
     "end_time": "2024-05-23T11:22:47.227728",
     "exception": false,
     "start_time": "2024-05-23T11:22:47.178160",
     "status": "completed"
    },
    "tags": []
   },
   "outputs": [
    {
     "data": {
      "text/html": [
       "<div>\n",
       "<style scoped>\n",
       "    .dataframe tbody tr th:only-of-type {\n",
       "        vertical-align: middle;\n",
       "    }\n",
       "\n",
       "    .dataframe tbody tr th {\n",
       "        vertical-align: top;\n",
       "    }\n",
       "\n",
       "    .dataframe thead th {\n",
       "        text-align: right;\n",
       "    }\n",
       "</style>\n",
       "<table border=\"1\" class=\"dataframe\">\n",
       "  <thead>\n",
       "    <tr style=\"text-align: right;\">\n",
       "      <th></th>\n",
       "      <th>User_ID</th>\n",
       "      <th>Age</th>\n",
       "      <th>Gender</th>\n",
       "      <th>Platform</th>\n",
       "      <th>Daily_Usage_Time (minutes)</th>\n",
       "      <th>Posts_Per_Day</th>\n",
       "      <th>Likes_Received_Per_Day</th>\n",
       "      <th>Comments_Received_Per_Day</th>\n",
       "      <th>Messages_Sent_Per_Day</th>\n",
       "      <th>Dominant_Emotion</th>\n",
       "    </tr>\n",
       "  </thead>\n",
       "  <tbody>\n",
       "    <tr>\n",
       "      <th>0</th>\n",
       "      <td>1</td>\n",
       "      <td>25</td>\n",
       "      <td>Female</td>\n",
       "      <td>Instagram</td>\n",
       "      <td>120.0</td>\n",
       "      <td>3.0</td>\n",
       "      <td>45.0</td>\n",
       "      <td>10.0</td>\n",
       "      <td>12.0</td>\n",
       "      <td>Happiness</td>\n",
       "    </tr>\n",
       "    <tr>\n",
       "      <th>1</th>\n",
       "      <td>2</td>\n",
       "      <td>30</td>\n",
       "      <td>Male</td>\n",
       "      <td>Twitter</td>\n",
       "      <td>90.0</td>\n",
       "      <td>5.0</td>\n",
       "      <td>20.0</td>\n",
       "      <td>25.0</td>\n",
       "      <td>30.0</td>\n",
       "      <td>Anger</td>\n",
       "    </tr>\n",
       "    <tr>\n",
       "      <th>2</th>\n",
       "      <td>3</td>\n",
       "      <td>22</td>\n",
       "      <td>Non-binary</td>\n",
       "      <td>Facebook</td>\n",
       "      <td>60.0</td>\n",
       "      <td>2.0</td>\n",
       "      <td>15.0</td>\n",
       "      <td>5.0</td>\n",
       "      <td>20.0</td>\n",
       "      <td>Neutral</td>\n",
       "    </tr>\n",
       "    <tr>\n",
       "      <th>3</th>\n",
       "      <td>4</td>\n",
       "      <td>28</td>\n",
       "      <td>Female</td>\n",
       "      <td>Instagram</td>\n",
       "      <td>200.0</td>\n",
       "      <td>8.0</td>\n",
       "      <td>100.0</td>\n",
       "      <td>30.0</td>\n",
       "      <td>50.0</td>\n",
       "      <td>Anxiety</td>\n",
       "    </tr>\n",
       "    <tr>\n",
       "      <th>4</th>\n",
       "      <td>5</td>\n",
       "      <td>33</td>\n",
       "      <td>Male</td>\n",
       "      <td>LinkedIn</td>\n",
       "      <td>45.0</td>\n",
       "      <td>1.0</td>\n",
       "      <td>5.0</td>\n",
       "      <td>2.0</td>\n",
       "      <td>10.0</td>\n",
       "      <td>Boredom</td>\n",
       "    </tr>\n",
       "  </tbody>\n",
       "</table>\n",
       "</div>"
      ],
      "text/plain": [
       "  User_ID Age      Gender   Platform  Daily_Usage_Time (minutes)  \\\n",
       "0       1  25      Female  Instagram                       120.0   \n",
       "1       2  30        Male    Twitter                        90.0   \n",
       "2       3  22  Non-binary   Facebook                        60.0   \n",
       "3       4  28      Female  Instagram                       200.0   \n",
       "4       5  33        Male   LinkedIn                        45.0   \n",
       "\n",
       "   Posts_Per_Day  Likes_Received_Per_Day  Comments_Received_Per_Day  \\\n",
       "0            3.0                    45.0                       10.0   \n",
       "1            5.0                    20.0                       25.0   \n",
       "2            2.0                    15.0                        5.0   \n",
       "3            8.0                   100.0                       30.0   \n",
       "4            1.0                     5.0                        2.0   \n",
       "\n",
       "   Messages_Sent_Per_Day Dominant_Emotion  \n",
       "0                   12.0        Happiness  \n",
       "1                   30.0            Anger  \n",
       "2                   20.0          Neutral  \n",
       "3                   50.0          Anxiety  \n",
       "4                   10.0          Boredom  "
      ]
     },
     "execution_count": 10,
     "metadata": {},
     "output_type": "execute_result"
    }
   ],
   "source": [
    "train_df.head()"
   ]
  },
  {
   "cell_type": "markdown",
   "id": "8525d390",
   "metadata": {
    "papermill": {
     "duration": 0.027735,
     "end_time": "2024-05-23T11:22:47.283654",
     "exception": false,
     "start_time": "2024-05-23T11:22:47.255919",
     "status": "completed"
    },
    "tags": []
   },
   "source": [
    "* Coloum in our data:"
   ]
  },
  {
   "cell_type": "code",
   "execution_count": 11,
   "id": "c68f215e",
   "metadata": {
    "execution": {
     "iopub.execute_input": "2024-05-23T11:22:47.342220Z",
     "iopub.status.busy": "2024-05-23T11:22:47.341204Z",
     "iopub.status.idle": "2024-05-23T11:22:47.348463Z",
     "shell.execute_reply": "2024-05-23T11:22:47.347612Z"
    },
    "papermill": {
     "duration": 0.038551,
     "end_time": "2024-05-23T11:22:47.350537",
     "exception": false,
     "start_time": "2024-05-23T11:22:47.311986",
     "status": "completed"
    },
    "tags": []
   },
   "outputs": [
    {
     "data": {
      "text/plain": [
       "Index(['User_ID', 'Age', 'Gender', 'Platform', 'Daily_Usage_Time (minutes)',\n",
       "       'Posts_Per_Day', 'Likes_Received_Per_Day', 'Comments_Received_Per_Day',\n",
       "       'Messages_Sent_Per_Day', 'Dominant_Emotion'],\n",
       "      dtype='object')"
      ]
     },
     "execution_count": 11,
     "metadata": {},
     "output_type": "execute_result"
    }
   ],
   "source": [
    "# list of coloums in the training data\n",
    "train_df.columns "
   ]
  },
  {
   "cell_type": "markdown",
   "id": "1ea4274b",
   "metadata": {
    "papermill": {
     "duration": 0.02814,
     "end_time": "2024-05-23T11:22:47.407047",
     "exception": false,
     "start_time": "2024-05-23T11:22:47.378907",
     "status": "completed"
    },
    "tags": []
   },
   "source": [
    "### Describe the training data"
   ]
  },
  {
   "cell_type": "code",
   "execution_count": 12,
   "id": "1a9255e0",
   "metadata": {
    "execution": {
     "iopub.execute_input": "2024-05-23T11:22:47.465915Z",
     "iopub.status.busy": "2024-05-23T11:22:47.465151Z",
     "iopub.status.idle": "2024-05-23T11:22:47.491020Z",
     "shell.execute_reply": "2024-05-23T11:22:47.489914Z"
    },
    "papermill": {
     "duration": 0.057879,
     "end_time": "2024-05-23T11:22:47.493214",
     "exception": false,
     "start_time": "2024-05-23T11:22:47.435335",
     "status": "completed"
    },
    "tags": []
   },
   "outputs": [
    {
     "data": {
      "text/html": [
       "<div>\n",
       "<style scoped>\n",
       "    .dataframe tbody tr th:only-of-type {\n",
       "        vertical-align: middle;\n",
       "    }\n",
       "\n",
       "    .dataframe tbody tr th {\n",
       "        vertical-align: top;\n",
       "    }\n",
       "\n",
       "    .dataframe thead th {\n",
       "        text-align: right;\n",
       "    }\n",
       "</style>\n",
       "<table border=\"1\" class=\"dataframe\">\n",
       "  <thead>\n",
       "    <tr style=\"text-align: right;\">\n",
       "      <th></th>\n",
       "      <th>Daily_Usage_Time (minutes)</th>\n",
       "      <th>Posts_Per_Day</th>\n",
       "      <th>Likes_Received_Per_Day</th>\n",
       "      <th>Comments_Received_Per_Day</th>\n",
       "      <th>Messages_Sent_Per_Day</th>\n",
       "    </tr>\n",
       "  </thead>\n",
       "  <tbody>\n",
       "    <tr>\n",
       "      <th>count</th>\n",
       "      <td>1000.000000</td>\n",
       "      <td>1000.000000</td>\n",
       "      <td>1000.000000</td>\n",
       "      <td>1000.000000</td>\n",
       "      <td>1000.000000</td>\n",
       "    </tr>\n",
       "    <tr>\n",
       "      <th>mean</th>\n",
       "      <td>95.950000</td>\n",
       "      <td>3.321000</td>\n",
       "      <td>39.898000</td>\n",
       "      <td>15.611000</td>\n",
       "      <td>22.560000</td>\n",
       "    </tr>\n",
       "    <tr>\n",
       "      <th>std</th>\n",
       "      <td>38.850442</td>\n",
       "      <td>1.914582</td>\n",
       "      <td>26.393867</td>\n",
       "      <td>8.819493</td>\n",
       "      <td>8.516274</td>\n",
       "    </tr>\n",
       "    <tr>\n",
       "      <th>min</th>\n",
       "      <td>40.000000</td>\n",
       "      <td>1.000000</td>\n",
       "      <td>5.000000</td>\n",
       "      <td>2.000000</td>\n",
       "      <td>8.000000</td>\n",
       "    </tr>\n",
       "    <tr>\n",
       "      <th>25%</th>\n",
       "      <td>65.000000</td>\n",
       "      <td>2.000000</td>\n",
       "      <td>20.000000</td>\n",
       "      <td>8.000000</td>\n",
       "      <td>17.750000</td>\n",
       "    </tr>\n",
       "    <tr>\n",
       "      <th>50%</th>\n",
       "      <td>85.000000</td>\n",
       "      <td>3.000000</td>\n",
       "      <td>33.000000</td>\n",
       "      <td>14.000000</td>\n",
       "      <td>22.000000</td>\n",
       "    </tr>\n",
       "    <tr>\n",
       "      <th>75%</th>\n",
       "      <td>120.000000</td>\n",
       "      <td>4.000000</td>\n",
       "      <td>55.000000</td>\n",
       "      <td>22.000000</td>\n",
       "      <td>28.000000</td>\n",
       "    </tr>\n",
       "    <tr>\n",
       "      <th>max</th>\n",
       "      <td>200.000000</td>\n",
       "      <td>8.000000</td>\n",
       "      <td>110.000000</td>\n",
       "      <td>40.000000</td>\n",
       "      <td>50.000000</td>\n",
       "    </tr>\n",
       "  </tbody>\n",
       "</table>\n",
       "</div>"
      ],
      "text/plain": [
       "       Daily_Usage_Time (minutes)  Posts_Per_Day  Likes_Received_Per_Day  \\\n",
       "count                 1000.000000    1000.000000             1000.000000   \n",
       "mean                    95.950000       3.321000               39.898000   \n",
       "std                     38.850442       1.914582               26.393867   \n",
       "min                     40.000000       1.000000                5.000000   \n",
       "25%                     65.000000       2.000000               20.000000   \n",
       "50%                     85.000000       3.000000               33.000000   \n",
       "75%                    120.000000       4.000000               55.000000   \n",
       "max                    200.000000       8.000000              110.000000   \n",
       "\n",
       "       Comments_Received_Per_Day  Messages_Sent_Per_Day  \n",
       "count                1000.000000            1000.000000  \n",
       "mean                   15.611000              22.560000  \n",
       "std                     8.819493               8.516274  \n",
       "min                     2.000000               8.000000  \n",
       "25%                     8.000000              17.750000  \n",
       "50%                    14.000000              22.000000  \n",
       "75%                    22.000000              28.000000  \n",
       "max                    40.000000              50.000000  "
      ]
     },
     "execution_count": 12,
     "metadata": {},
     "output_type": "execute_result"
    }
   ],
   "source": [
    "train_df.describe()"
   ]
  },
  {
   "cell_type": "markdown",
   "id": "59460a8e",
   "metadata": {
    "papermill": {
     "duration": 0.028531,
     "end_time": "2024-05-23T11:22:47.551255",
     "exception": false,
     "start_time": "2024-05-23T11:22:47.522724",
     "status": "completed"
    },
    "tags": []
   },
   "source": [
    "### Age Distribution"
   ]
  },
  {
   "cell_type": "code",
   "execution_count": 13,
   "id": "88329dc4",
   "metadata": {
    "execution": {
     "iopub.execute_input": "2024-05-23T11:22:47.610135Z",
     "iopub.status.busy": "2024-05-23T11:22:47.609683Z",
     "iopub.status.idle": "2024-05-23T11:22:47.617348Z",
     "shell.execute_reply": "2024-05-23T11:22:47.616287Z"
    },
    "papermill": {
     "duration": 0.039602,
     "end_time": "2024-05-23T11:22:47.619441",
     "exception": false,
     "start_time": "2024-05-23T11:22:47.579839",
     "status": "completed"
    },
    "tags": []
   },
   "outputs": [
    {
     "data": {
      "text/plain": [
       "0"
      ]
     },
     "execution_count": 13,
     "metadata": {},
     "output_type": "execute_result"
    }
   ],
   "source": [
    "train_df['Age'].isnull().sum()"
   ]
  },
  {
   "cell_type": "code",
   "execution_count": 14,
   "id": "cc645506",
   "metadata": {
    "execution": {
     "iopub.execute_input": "2024-05-23T11:22:47.678915Z",
     "iopub.status.busy": "2024-05-23T11:22:47.678473Z",
     "iopub.status.idle": "2024-05-23T11:22:47.686389Z",
     "shell.execute_reply": "2024-05-23T11:22:47.685309Z"
    },
    "papermill": {
     "duration": 0.040257,
     "end_time": "2024-05-23T11:22:47.688606",
     "exception": false,
     "start_time": "2024-05-23T11:22:47.648349",
     "status": "completed"
    },
    "tags": []
   },
   "outputs": [
    {
     "data": {
      "text/plain": [
       "array(['25', '30', '22', '28', '33', '21', '27', '24', '29', '31', '23',\n",
       "       '26', '34', '35', '32', 'Male', 'Female', 'Non-binary',\n",
       "       ' işte mevcut veri kümesini 1000 satıra tamamlıyorum:'],\n",
       "      dtype=object)"
      ]
     },
     "execution_count": 14,
     "metadata": {},
     "output_type": "execute_result"
    }
   ],
   "source": [
    "train_df['Age'].unique()"
   ]
  },
  {
   "cell_type": "markdown",
   "id": "b89b87a2",
   "metadata": {
    "papermill": {
     "duration": 0.028834,
     "end_time": "2024-05-23T11:22:47.746568",
     "exception": false,
     "start_time": "2024-05-23T11:22:47.717734",
     "status": "completed"
    },
    "tags": []
   },
   "source": [
    "* In the age coloum we have 4 irrigular values.\n",
    "  * Male, Female, Non-binary, and other.\n",
    "* ___Let's drop/fill these values first___"
   ]
  },
  {
   "cell_type": "code",
   "execution_count": 15,
   "id": "b793a808",
   "metadata": {
    "execution": {
     "iopub.execute_input": "2024-05-23T11:22:47.806720Z",
     "iopub.status.busy": "2024-05-23T11:22:47.806305Z",
     "iopub.status.idle": "2024-05-23T11:22:47.815254Z",
     "shell.execute_reply": "2024-05-23T11:22:47.814115Z"
    },
    "papermill": {
     "duration": 0.042036,
     "end_time": "2024-05-23T11:22:47.817668",
     "exception": false,
     "start_time": "2024-05-23T11:22:47.775632",
     "status": "completed"
    },
    "tags": []
   },
   "outputs": [],
   "source": [
    "# removing the Male, Female, Non-binary, and işte mevcut veri kümesini 1000 satıra tamamlıyorum:\n",
    "\n",
    "# Replace non-numeric values with NaN\n",
    "train_df['Age'] = pd.to_numeric(train_df['Age'], errors='coerce')\n",
    "\n",
    "# Handle NaN values\n",
    "train_df['Age'].fillna(train_df['Age'].median(), inplace=True)\n"
   ]
  },
  {
   "cell_type": "code",
   "execution_count": 16,
   "id": "785c1bdb",
   "metadata": {
    "execution": {
     "iopub.execute_input": "2024-05-23T11:22:47.877847Z",
     "iopub.status.busy": "2024-05-23T11:22:47.877454Z",
     "iopub.status.idle": "2024-05-23T11:22:47.887216Z",
     "shell.execute_reply": "2024-05-23T11:22:47.885860Z"
    },
    "papermill": {
     "duration": 0.04273,
     "end_time": "2024-05-23T11:22:47.889584",
     "exception": false,
     "start_time": "2024-05-23T11:22:47.846854",
     "status": "completed"
    },
    "tags": []
   },
   "outputs": [
    {
     "data": {
      "text/plain": [
       "array([25., 30., 22., 28., 33., 21., 27., 24., 29., 31., 23., 26., 34.,\n",
       "       35., 32.])"
      ]
     },
     "execution_count": 16,
     "metadata": {},
     "output_type": "execute_result"
    }
   ],
   "source": [
    "train_df['Age'].unique()"
   ]
  },
  {
   "cell_type": "code",
   "execution_count": 17,
   "id": "8623ce2c",
   "metadata": {
    "execution": {
     "iopub.execute_input": "2024-05-23T11:22:47.950508Z",
     "iopub.status.busy": "2024-05-23T11:22:47.950076Z",
     "iopub.status.idle": "2024-05-23T11:22:49.842286Z",
     "shell.execute_reply": "2024-05-23T11:22:49.841165Z"
    },
    "papermill": {
     "duration": 1.925682,
     "end_time": "2024-05-23T11:22:49.844771",
     "exception": false,
     "start_time": "2024-05-23T11:22:47.919089",
     "status": "completed"
    },
    "tags": []
   },
   "outputs": [
    {
     "data": {
      "text/html": [
       "        <script type=\"text/javascript\">\n",
       "        window.PlotlyConfig = {MathJaxConfig: 'local'};\n",
       "        if (window.MathJax && window.MathJax.Hub && window.MathJax.Hub.Config) {window.MathJax.Hub.Config({SVG: {font: \"STIX-Web\"}});}\n",
       "        if (typeof require !== 'undefined') {\n",
       "        require.undef(\"plotly\");\n",
       "        requirejs.config({\n",
       "            paths: {\n",
       "                'plotly': ['https://cdn.plot.ly/plotly-2.27.0.min']\n",
       "            }\n",
       "        });\n",
       "        require(['plotly'], function(Plotly) {\n",
       "            window._Plotly = Plotly;\n",
       "        });\n",
       "        }\n",
       "        </script>\n",
       "        "
      ]
     },
     "metadata": {},
     "output_type": "display_data"
    },
    {
     "data": {
      "text/html": [
       "<div>                            <div id=\"1c502a00-a8cc-400e-a4e6-7e026111ddaf\" class=\"plotly-graph-div\" style=\"height:525px; width:100%;\"></div>            <script type=\"text/javascript\">                require([\"plotly\"], function(Plotly) {                    window.PLOTLYENV=window.PLOTLYENV || {};                                    if (document.getElementById(\"1c502a00-a8cc-400e-a4e6-7e026111ddaf\")) {                    Plotly.newPlot(                        \"1c502a00-a8cc-400e-a4e6-7e026111ddaf\",                        [{\"alignmentgroup\":\"True\",\"bingroup\":\"x\",\"hovertemplate\":\"Age=%{x}\\u003cbr\\u003ecount=%{y}\\u003cextra\\u003e\\u003c\\u002fextra\\u003e\",\"legendgroup\":\"\",\"marker\":{\"color\":\"#636efa\",\"pattern\":{\"shape\":\"\"}},\"name\":\"\",\"offsetgroup\":\"\",\"orientation\":\"v\",\"showlegend\":false,\"x\":[25.0,30.0,22.0,28.0,33.0,21.0,27.0,24.0,29.0,31.0,23.0,26.0,34.0,22.0,28.0,21.0,35.0,27.0,23.0,32.0,26.0,24.0,29.0,33.0,22.0,31.0,27.0,25.0,30.0,26.0,34.0,28.0,23.0,21.0,29.0,24.0,33.0,27.0,22.0,28.0,31.0,25.0,29.0,23.0,35.0,30.0,21.0,26.0,32.0,28.0,27.0,24.0,29.0,33.0,31.0,22.0,25.0,29.0,28.0,27.0,30.0,23.0,34.0,26.0,25.0,29.0,28.0,31.0,27.0,22.0,24.0,35.0,21.0,29.0,25.0,28.0,32.0,26.0,33.0,27.0,31.0,24.0,34.0,22.0,29.0,28.0,31.0,21.0,25.0,30.0,27.0,32.0,24.0,29.0,26.0,33.0,22.0,35.0,28.0,27.0,25.0,30.0,22.0,28.0,33.0,21.0,27.0,24.0,29.0,31.0,23.0,26.0,34.0,22.0,28.0,21.0,35.0,27.0,23.0,32.0,26.0,24.0,29.0,33.0,22.0,31.0,27.0,25.0,30.0,26.0,34.0,28.0,23.0,21.0,29.0,24.0,33.0,27.0,22.0,28.0,31.0,25.0,29.0,23.0,35.0,30.0,21.0,26.0,32.0,28.0,27.0,24.0,29.0,33.0,31.0,22.0,25.0,29.0,28.0,27.0,30.0,23.0,34.0,26.0,25.0,29.0,28.0,31.0,27.0,22.0,24.0,35.0,21.0,29.0,25.0,28.0,32.0,26.0,33.0,27.0,31.0,24.0,34.0,22.0,29.0,28.0,31.0,21.0,25.0,30.0,27.0,32.0,24.0,29.0,26.0,33.0,22.0,35.0,28.0,27.0,25.0,30.0,22.0,28.0,33.0,21.0,27.0,24.0,29.0,31.0,23.0,26.0,34.0,22.0,28.0,21.0,35.0,27.0,23.0,32.0,26.0,24.0,29.0,33.0,22.0,31.0,27.0,25.0,30.0,26.0,34.0,28.0,23.0,21.0,29.0,24.0,33.0,27.0,22.0,28.0,31.0,25.0,29.0,23.0,35.0,30.0,21.0,26.0,32.0,28.0,27.0,27.0,27.0,27.0,27.0,27.0,27.0,27.0,27.0,27.0,27.0,27.0,27.0,27.0,27.0,27.0,27.0,27.0,27.0,27.0,27.0,27.0,27.0,27.0,27.0,27.0,27.0,27.0,27.0,27.0,27.0,27.0,27.0,27.0,27.0,27.0,27.0,27.0,25.0,30.0,27.0,32.0,24.0,29.0,26.0,33.0,22.0,35.0,28.0,27.0,25.0,30.0,22.0,28.0,33.0,21.0,27.0,24.0,29.0,31.0,23.0,26.0,34.0,22.0,28.0,21.0,35.0,27.0,23.0,32.0,26.0,24.0,29.0,33.0,22.0,31.0,27.0,25.0,30.0,26.0,34.0,28.0,23.0,21.0,29.0,24.0,33.0,27.0,22.0,28.0,31.0,25.0,29.0,23.0,35.0,30.0,21.0,26.0,32.0,28.0,27.0,24.0,29.0,33.0,31.0,22.0,25.0,29.0,28.0,27.0,30.0,23.0,34.0,26.0,25.0,29.0,28.0,31.0,27.0,22.0,24.0,35.0,21.0,29.0,25.0,28.0,32.0,26.0,33.0,27.0,31.0,24.0,34.0,22.0,29.0,28.0,31.0,21.0,25.0,30.0,27.0,32.0,24.0,29.0,26.0,33.0,22.0,35.0,28.0,27.0,25.0,30.0,22.0,28.0,33.0,21.0,27.0,24.0,29.0,31.0,23.0,26.0,34.0,22.0,28.0,21.0,35.0,27.0,23.0,32.0,26.0,24.0,29.0,33.0,22.0,31.0,27.0,25.0,30.0,26.0,34.0,28.0,23.0,21.0,29.0,24.0,33.0,27.0,22.0,28.0,31.0,25.0,29.0,23.0,35.0,30.0,21.0,26.0,32.0,28.0,27.0,24.0,29.0,33.0,31.0,22.0,25.0,29.0,28.0,27.0,30.0,23.0,34.0,26.0,25.0,29.0,28.0,31.0,27.0,22.0,24.0,35.0,21.0,29.0,25.0,28.0,32.0,26.0,33.0,27.0,31.0,24.0,34.0,22.0,29.0,28.0,31.0,21.0,25.0,30.0,27.0,32.0,24.0,29.0,26.0,33.0,22.0,35.0,28.0,27.0,25.0,30.0,22.0,28.0,33.0,21.0,27.0,24.0,29.0,31.0,23.0,26.0,34.0,22.0,28.0,21.0,35.0,27.0,23.0,32.0,26.0,24.0,29.0,33.0,22.0,31.0,27.0,25.0,30.0,26.0,34.0,28.0,23.0,21.0,29.0,24.0,33.0,27.0,22.0,28.0,31.0,25.0,29.0,23.0,35.0,30.0,21.0,26.0,32.0,28.0,27.0,24.0,29.0,33.0,31.0,22.0,25.0,29.0,28.0,27.0,30.0,23.0,34.0,26.0,25.0,29.0,28.0,31.0,27.0,22.0,24.0,35.0,21.0,29.0,25.0,28.0,32.0,26.0,33.0,27.0,31.0,24.0,34.0,22.0,29.0,28.0,31.0,21.0,25.0,30.0,27.0,32.0,24.0,29.0,26.0,33.0,22.0,35.0,28.0,27.0,25.0,30.0,22.0,28.0,33.0,21.0,27.0,24.0,29.0,31.0,23.0,26.0,34.0,22.0,28.0,21.0,35.0,27.0,23.0,32.0,26.0,24.0,29.0,33.0,22.0,31.0,27.0,25.0,30.0,26.0,34.0,28.0,23.0,21.0,29.0,24.0,33.0,27.0,22.0,28.0,31.0,27.0,25.0,29.0,23.0,35.0,30.0,21.0,26.0,32.0,28.0,27.0,24.0,29.0,33.0,31.0,22.0,25.0,29.0,28.0,27.0,30.0,23.0,34.0,26.0,25.0,29.0,28.0,31.0,27.0,22.0,24.0,35.0,21.0,29.0,25.0,28.0,32.0,26.0,33.0,27.0,31.0,24.0,34.0,22.0,29.0,28.0,31.0,21.0,25.0,30.0,27.0,32.0,24.0,29.0,26.0,33.0,22.0,35.0,28.0,27.0,25.0,30.0,22.0,28.0,33.0,21.0,27.0,24.0,29.0,31.0,23.0,26.0,34.0,22.0,28.0,21.0,35.0,27.0,23.0,32.0,26.0,24.0,29.0,33.0,22.0,31.0,27.0,25.0,30.0,26.0,34.0,28.0,23.0,21.0,29.0,24.0,33.0,27.0,22.0,28.0,31.0,25.0,29.0,23.0,35.0,30.0,21.0,26.0,32.0,28.0,27.0,27.0,27.0,27.0,27.0,27.0,27.0,27.0,27.0,27.0,27.0,27.0,27.0,27.0,27.0,27.0,27.0,27.0,27.0,27.0,27.0,27.0,27.0,27.0,27.0,27.0,27.0,27.0,27.0,27.0,27.0,27.0,27.0,27.0,27.0,27.0,27.0,27.0,25.0,30.0,27.0,32.0,24.0,29.0,26.0,33.0,22.0,35.0,28.0,27.0,25.0,30.0,22.0,28.0,33.0,21.0,27.0,24.0,29.0,31.0,23.0,26.0,34.0,22.0,28.0,21.0,35.0,27.0,23.0,32.0,26.0,24.0,29.0,33.0,22.0,31.0,27.0,25.0,30.0,26.0,34.0,28.0,23.0,21.0,29.0,24.0,33.0,27.0,22.0,28.0,31.0,25.0,29.0,23.0,35.0,30.0,21.0,26.0,32.0,28.0,27.0,24.0,29.0,33.0,31.0,22.0,25.0,29.0,28.0,27.0,30.0,23.0,34.0,26.0,25.0,29.0,28.0,31.0,27.0,22.0,24.0,35.0,21.0,29.0,25.0,28.0,32.0,26.0,33.0,27.0,31.0,24.0,34.0,22.0,29.0,28.0,31.0,21.0,25.0,30.0,27.0,32.0,24.0,29.0,26.0,33.0,22.0,35.0,28.0,27.0,25.0,30.0,22.0,28.0,33.0,21.0,27.0,24.0,29.0,31.0,23.0,26.0,34.0,22.0,28.0,21.0,35.0,27.0,23.0,32.0,26.0,24.0,29.0,33.0,22.0,31.0,27.0,25.0,30.0,26.0,34.0,28.0,23.0,21.0,29.0,24.0,33.0,27.0,22.0,28.0,31.0,25.0,29.0,23.0,35.0,30.0,21.0,26.0,32.0,28.0,27.0,24.0,29.0,33.0,31.0,22.0,25.0,29.0,28.0,27.0,30.0,23.0,34.0,26.0,25.0,29.0,28.0,31.0,27.0,22.0,24.0,35.0,21.0,29.0,25.0,28.0,32.0,26.0,33.0,27.0,31.0,24.0,34.0,22.0,29.0,28.0,31.0,21.0,25.0,30.0,27.0,32.0,24.0,29.0,26.0,33.0,22.0,35.0,28.0,27.0],\"xaxis\":\"x\",\"yaxis\":\"y\",\"type\":\"histogram\"}],                        {\"template\":{\"data\":{\"histogram2dcontour\":[{\"type\":\"histogram2dcontour\",\"colorbar\":{\"outlinewidth\":0,\"ticks\":\"\"},\"colorscale\":[[0.0,\"#0d0887\"],[0.1111111111111111,\"#46039f\"],[0.2222222222222222,\"#7201a8\"],[0.3333333333333333,\"#9c179e\"],[0.4444444444444444,\"#bd3786\"],[0.5555555555555556,\"#d8576b\"],[0.6666666666666666,\"#ed7953\"],[0.7777777777777778,\"#fb9f3a\"],[0.8888888888888888,\"#fdca26\"],[1.0,\"#f0f921\"]]}],\"choropleth\":[{\"type\":\"choropleth\",\"colorbar\":{\"outlinewidth\":0,\"ticks\":\"\"}}],\"histogram2d\":[{\"type\":\"histogram2d\",\"colorbar\":{\"outlinewidth\":0,\"ticks\":\"\"},\"colorscale\":[[0.0,\"#0d0887\"],[0.1111111111111111,\"#46039f\"],[0.2222222222222222,\"#7201a8\"],[0.3333333333333333,\"#9c179e\"],[0.4444444444444444,\"#bd3786\"],[0.5555555555555556,\"#d8576b\"],[0.6666666666666666,\"#ed7953\"],[0.7777777777777778,\"#fb9f3a\"],[0.8888888888888888,\"#fdca26\"],[1.0,\"#f0f921\"]]}],\"heatmap\":[{\"type\":\"heatmap\",\"colorbar\":{\"outlinewidth\":0,\"ticks\":\"\"},\"colorscale\":[[0.0,\"#0d0887\"],[0.1111111111111111,\"#46039f\"],[0.2222222222222222,\"#7201a8\"],[0.3333333333333333,\"#9c179e\"],[0.4444444444444444,\"#bd3786\"],[0.5555555555555556,\"#d8576b\"],[0.6666666666666666,\"#ed7953\"],[0.7777777777777778,\"#fb9f3a\"],[0.8888888888888888,\"#fdca26\"],[1.0,\"#f0f921\"]]}],\"heatmapgl\":[{\"type\":\"heatmapgl\",\"colorbar\":{\"outlinewidth\":0,\"ticks\":\"\"},\"colorscale\":[[0.0,\"#0d0887\"],[0.1111111111111111,\"#46039f\"],[0.2222222222222222,\"#7201a8\"],[0.3333333333333333,\"#9c179e\"],[0.4444444444444444,\"#bd3786\"],[0.5555555555555556,\"#d8576b\"],[0.6666666666666666,\"#ed7953\"],[0.7777777777777778,\"#fb9f3a\"],[0.8888888888888888,\"#fdca26\"],[1.0,\"#f0f921\"]]}],\"contourcarpet\":[{\"type\":\"contourcarpet\",\"colorbar\":{\"outlinewidth\":0,\"ticks\":\"\"}}],\"contour\":[{\"type\":\"contour\",\"colorbar\":{\"outlinewidth\":0,\"ticks\":\"\"},\"colorscale\":[[0.0,\"#0d0887\"],[0.1111111111111111,\"#46039f\"],[0.2222222222222222,\"#7201a8\"],[0.3333333333333333,\"#9c179e\"],[0.4444444444444444,\"#bd3786\"],[0.5555555555555556,\"#d8576b\"],[0.6666666666666666,\"#ed7953\"],[0.7777777777777778,\"#fb9f3a\"],[0.8888888888888888,\"#fdca26\"],[1.0,\"#f0f921\"]]}],\"surface\":[{\"type\":\"surface\",\"colorbar\":{\"outlinewidth\":0,\"ticks\":\"\"},\"colorscale\":[[0.0,\"#0d0887\"],[0.1111111111111111,\"#46039f\"],[0.2222222222222222,\"#7201a8\"],[0.3333333333333333,\"#9c179e\"],[0.4444444444444444,\"#bd3786\"],[0.5555555555555556,\"#d8576b\"],[0.6666666666666666,\"#ed7953\"],[0.7777777777777778,\"#fb9f3a\"],[0.8888888888888888,\"#fdca26\"],[1.0,\"#f0f921\"]]}],\"mesh3d\":[{\"type\":\"mesh3d\",\"colorbar\":{\"outlinewidth\":0,\"ticks\":\"\"}}],\"scatter\":[{\"fillpattern\":{\"fillmode\":\"overlay\",\"size\":10,\"solidity\":0.2},\"type\":\"scatter\"}],\"parcoords\":[{\"type\":\"parcoords\",\"line\":{\"colorbar\":{\"outlinewidth\":0,\"ticks\":\"\"}}}],\"scatterpolargl\":[{\"type\":\"scatterpolargl\",\"marker\":{\"colorbar\":{\"outlinewidth\":0,\"ticks\":\"\"}}}],\"bar\":[{\"error_x\":{\"color\":\"#2a3f5f\"},\"error_y\":{\"color\":\"#2a3f5f\"},\"marker\":{\"line\":{\"color\":\"#E5ECF6\",\"width\":0.5},\"pattern\":{\"fillmode\":\"overlay\",\"size\":10,\"solidity\":0.2}},\"type\":\"bar\"}],\"scattergeo\":[{\"type\":\"scattergeo\",\"marker\":{\"colorbar\":{\"outlinewidth\":0,\"ticks\":\"\"}}}],\"scatterpolar\":[{\"type\":\"scatterpolar\",\"marker\":{\"colorbar\":{\"outlinewidth\":0,\"ticks\":\"\"}}}],\"histogram\":[{\"marker\":{\"pattern\":{\"fillmode\":\"overlay\",\"size\":10,\"solidity\":0.2}},\"type\":\"histogram\"}],\"scattergl\":[{\"type\":\"scattergl\",\"marker\":{\"colorbar\":{\"outlinewidth\":0,\"ticks\":\"\"}}}],\"scatter3d\":[{\"type\":\"scatter3d\",\"line\":{\"colorbar\":{\"outlinewidth\":0,\"ticks\":\"\"}},\"marker\":{\"colorbar\":{\"outlinewidth\":0,\"ticks\":\"\"}}}],\"scattermapbox\":[{\"type\":\"scattermapbox\",\"marker\":{\"colorbar\":{\"outlinewidth\":0,\"ticks\":\"\"}}}],\"scatterternary\":[{\"type\":\"scatterternary\",\"marker\":{\"colorbar\":{\"outlinewidth\":0,\"ticks\":\"\"}}}],\"scattercarpet\":[{\"type\":\"scattercarpet\",\"marker\":{\"colorbar\":{\"outlinewidth\":0,\"ticks\":\"\"}}}],\"carpet\":[{\"aaxis\":{\"endlinecolor\":\"#2a3f5f\",\"gridcolor\":\"white\",\"linecolor\":\"white\",\"minorgridcolor\":\"white\",\"startlinecolor\":\"#2a3f5f\"},\"baxis\":{\"endlinecolor\":\"#2a3f5f\",\"gridcolor\":\"white\",\"linecolor\":\"white\",\"minorgridcolor\":\"white\",\"startlinecolor\":\"#2a3f5f\"},\"type\":\"carpet\"}],\"table\":[{\"cells\":{\"fill\":{\"color\":\"#EBF0F8\"},\"line\":{\"color\":\"white\"}},\"header\":{\"fill\":{\"color\":\"#C8D4E3\"},\"line\":{\"color\":\"white\"}},\"type\":\"table\"}],\"barpolar\":[{\"marker\":{\"line\":{\"color\":\"#E5ECF6\",\"width\":0.5},\"pattern\":{\"fillmode\":\"overlay\",\"size\":10,\"solidity\":0.2}},\"type\":\"barpolar\"}],\"pie\":[{\"automargin\":true,\"type\":\"pie\"}]},\"layout\":{\"autotypenumbers\":\"strict\",\"colorway\":[\"#636efa\",\"#EF553B\",\"#00cc96\",\"#ab63fa\",\"#FFA15A\",\"#19d3f3\",\"#FF6692\",\"#B6E880\",\"#FF97FF\",\"#FECB52\"],\"font\":{\"color\":\"#2a3f5f\"},\"hovermode\":\"closest\",\"hoverlabel\":{\"align\":\"left\"},\"paper_bgcolor\":\"white\",\"plot_bgcolor\":\"#E5ECF6\",\"polar\":{\"bgcolor\":\"#E5ECF6\",\"angularaxis\":{\"gridcolor\":\"white\",\"linecolor\":\"white\",\"ticks\":\"\"},\"radialaxis\":{\"gridcolor\":\"white\",\"linecolor\":\"white\",\"ticks\":\"\"}},\"ternary\":{\"bgcolor\":\"#E5ECF6\",\"aaxis\":{\"gridcolor\":\"white\",\"linecolor\":\"white\",\"ticks\":\"\"},\"baxis\":{\"gridcolor\":\"white\",\"linecolor\":\"white\",\"ticks\":\"\"},\"caxis\":{\"gridcolor\":\"white\",\"linecolor\":\"white\",\"ticks\":\"\"}},\"coloraxis\":{\"colorbar\":{\"outlinewidth\":0,\"ticks\":\"\"}},\"colorscale\":{\"sequential\":[[0.0,\"#0d0887\"],[0.1111111111111111,\"#46039f\"],[0.2222222222222222,\"#7201a8\"],[0.3333333333333333,\"#9c179e\"],[0.4444444444444444,\"#bd3786\"],[0.5555555555555556,\"#d8576b\"],[0.6666666666666666,\"#ed7953\"],[0.7777777777777778,\"#fb9f3a\"],[0.8888888888888888,\"#fdca26\"],[1.0,\"#f0f921\"]],\"sequentialminus\":[[0.0,\"#0d0887\"],[0.1111111111111111,\"#46039f\"],[0.2222222222222222,\"#7201a8\"],[0.3333333333333333,\"#9c179e\"],[0.4444444444444444,\"#bd3786\"],[0.5555555555555556,\"#d8576b\"],[0.6666666666666666,\"#ed7953\"],[0.7777777777777778,\"#fb9f3a\"],[0.8888888888888888,\"#fdca26\"],[1.0,\"#f0f921\"]],\"diverging\":[[0,\"#8e0152\"],[0.1,\"#c51b7d\"],[0.2,\"#de77ae\"],[0.3,\"#f1b6da\"],[0.4,\"#fde0ef\"],[0.5,\"#f7f7f7\"],[0.6,\"#e6f5d0\"],[0.7,\"#b8e186\"],[0.8,\"#7fbc41\"],[0.9,\"#4d9221\"],[1,\"#276419\"]]},\"xaxis\":{\"gridcolor\":\"white\",\"linecolor\":\"white\",\"ticks\":\"\",\"title\":{\"standoff\":15},\"zerolinecolor\":\"white\",\"automargin\":true,\"zerolinewidth\":2},\"yaxis\":{\"gridcolor\":\"white\",\"linecolor\":\"white\",\"ticks\":\"\",\"title\":{\"standoff\":15},\"zerolinecolor\":\"white\",\"automargin\":true,\"zerolinewidth\":2},\"scene\":{\"xaxis\":{\"backgroundcolor\":\"#E5ECF6\",\"gridcolor\":\"white\",\"linecolor\":\"white\",\"showbackground\":true,\"ticks\":\"\",\"zerolinecolor\":\"white\",\"gridwidth\":2},\"yaxis\":{\"backgroundcolor\":\"#E5ECF6\",\"gridcolor\":\"white\",\"linecolor\":\"white\",\"showbackground\":true,\"ticks\":\"\",\"zerolinecolor\":\"white\",\"gridwidth\":2},\"zaxis\":{\"backgroundcolor\":\"#E5ECF6\",\"gridcolor\":\"white\",\"linecolor\":\"white\",\"showbackground\":true,\"ticks\":\"\",\"zerolinecolor\":\"white\",\"gridwidth\":2}},\"shapedefaults\":{\"line\":{\"color\":\"#2a3f5f\"}},\"annotationdefaults\":{\"arrowcolor\":\"#2a3f5f\",\"arrowhead\":0,\"arrowwidth\":1},\"geo\":{\"bgcolor\":\"white\",\"landcolor\":\"#E5ECF6\",\"subunitcolor\":\"white\",\"showland\":true,\"showlakes\":true,\"lakecolor\":\"white\"},\"title\":{\"x\":0.05},\"mapbox\":{\"style\":\"light\"}}},\"xaxis\":{\"anchor\":\"y\",\"domain\":[0.0,1.0],\"title\":{\"text\":\"Age\"}},\"yaxis\":{\"anchor\":\"x\",\"domain\":[0.0,1.0],\"title\":{\"text\":\"count\"}},\"legend\":{\"tracegroupgap\":0},\"title\":{\"text\":\"Age Distribution\"},\"barmode\":\"relative\"},                        {\"responsive\": true}                    ).then(function(){\n",
       "                            \n",
       "var gd = document.getElementById('1c502a00-a8cc-400e-a4e6-7e026111ddaf');\n",
       "var x = new MutationObserver(function (mutations, observer) {{\n",
       "        var display = window.getComputedStyle(gd).display;\n",
       "        if (!display || display === 'none') {{\n",
       "            console.log([gd, 'removed!']);\n",
       "            Plotly.purge(gd);\n",
       "            observer.disconnect();\n",
       "        }}\n",
       "}});\n",
       "\n",
       "// Listen for the removal of the full notebook cells\n",
       "var notebookContainer = gd.closest('#notebook-container');\n",
       "if (notebookContainer) {{\n",
       "    x.observe(notebookContainer, {childList: true});\n",
       "}}\n",
       "\n",
       "// Listen for the clearing of the current output cell\n",
       "var outputEl = gd.closest('.output');\n",
       "if (outputEl) {{\n",
       "    x.observe(outputEl, {childList: true});\n",
       "}}\n",
       "\n",
       "                        })                };                });            </script>        </div>"
      ]
     },
     "metadata": {},
     "output_type": "display_data"
    }
   ],
   "source": [
    "plt = px.histogram(train_df, x='Age', title='Age Distribution')\n",
    "plt.show()"
   ]
  },
  {
   "cell_type": "markdown",
   "id": "a1ef8342",
   "metadata": {
    "papermill": {
     "duration": 0.030131,
     "end_time": "2024-05-23T11:22:49.905226",
     "exception": false,
     "start_time": "2024-05-23T11:22:49.875095",
     "status": "completed"
    },
    "tags": []
   },
   "source": [
    "### Gender Distribution"
   ]
  },
  {
   "cell_type": "code",
   "execution_count": 18,
   "id": "93b1687b",
   "metadata": {
    "execution": {
     "iopub.execute_input": "2024-05-23T11:22:49.968759Z",
     "iopub.status.busy": "2024-05-23T11:22:49.967928Z",
     "iopub.status.idle": "2024-05-23T11:22:49.975687Z",
     "shell.execute_reply": "2024-05-23T11:22:49.974532Z"
    },
    "papermill": {
     "duration": 0.041824,
     "end_time": "2024-05-23T11:22:49.977875",
     "exception": false,
     "start_time": "2024-05-23T11:22:49.936051",
     "status": "completed"
    },
    "tags": []
   },
   "outputs": [
    {
     "data": {
      "text/plain": [
       "array(['Female', 'Male', 'Non-binary', '27', '24', '29', '33', '31', '22',\n",
       "       '25', '28', '30', '23', '34', '26', '35', '21', '32', nan],\n",
       "      dtype=object)"
      ]
     },
     "execution_count": 18,
     "metadata": {},
     "output_type": "execute_result"
    }
   ],
   "source": [
    "train_df['Gender'].unique()"
   ]
  },
  {
   "cell_type": "markdown",
   "id": "4d20e948",
   "metadata": {
    "papermill": {
     "duration": 0.030604,
     "end_time": "2024-05-23T11:22:50.039247",
     "exception": false,
     "start_time": "2024-05-23T11:22:50.008643",
     "status": "completed"
    },
    "tags": []
   },
   "source": [
    "* We've the same issue here too. Mix of Gender with some number like in Age Coloum. Let's handle it."
   ]
  },
  {
   "cell_type": "code",
   "execution_count": 19,
   "id": "0bda605d",
   "metadata": {
    "execution": {
     "iopub.execute_input": "2024-05-23T11:22:50.104875Z",
     "iopub.status.busy": "2024-05-23T11:22:50.104216Z",
     "iopub.status.idle": "2024-05-23T11:22:50.114609Z",
     "shell.execute_reply": "2024-05-23T11:22:50.113284Z"
    },
    "papermill": {
     "duration": 0.045442,
     "end_time": "2024-05-23T11:22:50.116844",
     "exception": false,
     "start_time": "2024-05-23T11:22:50.071402",
     "status": "completed"
    },
    "tags": []
   },
   "outputs": [
    {
     "name": "stdout",
     "output_type": "stream",
     "text": [
      "['Female' 'Male' 'Non-binary' 'Unknown']\n"
     ]
    }
   ],
   "source": [
    "# Function to replace numeric values with NaN\n",
    "def clean_gender_column(gender_value):\n",
    "    try:\n",
    "        # Try converting the value to float, if it succeeds it's a numeric value\n",
    "        float(gender_value)\n",
    "        return np.nan\n",
    "    except ValueError:\n",
    "        # If conversion fails, it's a valid gender entry\n",
    "        return gender_value\n",
    "\n",
    "# Apply the function to the Gender column\n",
    "train_df['Gender'] = train_df['Gender'].apply(clean_gender_column)\n",
    "\n",
    "# Fill NaN values with a placeholder or drop them\n",
    "# Here we fill NaN values with 'Unknown'\n",
    "train_df['Gender'].fillna('Unknown', inplace=True)\n",
    "\n",
    "# Verify the unique values after cleaning\n",
    "print(train_df['Gender'].unique())\n"
   ]
  },
  {
   "cell_type": "code",
   "execution_count": 20,
   "id": "478f7545",
   "metadata": {
    "execution": {
     "iopub.execute_input": "2024-05-23T11:22:50.180655Z",
     "iopub.status.busy": "2024-05-23T11:22:50.180027Z",
     "iopub.status.idle": "2024-05-23T11:22:50.186365Z",
     "shell.execute_reply": "2024-05-23T11:22:50.185212Z"
    },
    "papermill": {
     "duration": 0.04099,
     "end_time": "2024-05-23T11:22:50.188692",
     "exception": false,
     "start_time": "2024-05-23T11:22:50.147702",
     "status": "completed"
    },
    "tags": []
   },
   "outputs": [
    {
     "data": {
      "text/plain": [
       "array(['Female', 'Male', 'Non-binary', 'Unknown'], dtype=object)"
      ]
     },
     "execution_count": 20,
     "metadata": {},
     "output_type": "execute_result"
    }
   ],
   "source": [
    "train_df['Gender'].unique()"
   ]
  },
  {
   "cell_type": "code",
   "execution_count": 21,
   "id": "e827b0ea",
   "metadata": {
    "execution": {
     "iopub.execute_input": "2024-05-23T11:22:50.252430Z",
     "iopub.status.busy": "2024-05-23T11:22:50.251988Z",
     "iopub.status.idle": "2024-05-23T11:22:50.260985Z",
     "shell.execute_reply": "2024-05-23T11:22:50.260165Z"
    },
    "papermill": {
     "duration": 0.043545,
     "end_time": "2024-05-23T11:22:50.263167",
     "exception": false,
     "start_time": "2024-05-23T11:22:50.219622",
     "status": "completed"
    },
    "tags": []
   },
   "outputs": [
    {
     "data": {
      "text/plain": [
       "Gender\n",
       "Female        344\n",
       "Male          332\n",
       "Non-binary    248\n",
       "Unknown        77\n",
       "Name: count, dtype: int64"
      ]
     },
     "execution_count": 21,
     "metadata": {},
     "output_type": "execute_result"
    }
   ],
   "source": [
    "train_df['Gender'].value_counts()"
   ]
  },
  {
   "cell_type": "code",
   "execution_count": 22,
   "id": "de6104ec",
   "metadata": {
    "execution": {
     "iopub.execute_input": "2024-05-23T11:22:50.327651Z",
     "iopub.status.busy": "2024-05-23T11:22:50.326561Z",
     "iopub.status.idle": "2024-05-23T11:22:50.401638Z",
     "shell.execute_reply": "2024-05-23T11:22:50.400517Z"
    },
    "papermill": {
     "duration": 0.109974,
     "end_time": "2024-05-23T11:22:50.404089",
     "exception": false,
     "start_time": "2024-05-23T11:22:50.294115",
     "status": "completed"
    },
    "tags": []
   },
   "outputs": [
    {
     "data": {
      "text/html": [
       "<div>                            <div id=\"98add34c-981d-43f0-8a21-ec57dacb0359\" class=\"plotly-graph-div\" style=\"height:525px; width:100%;\"></div>            <script type=\"text/javascript\">                require([\"plotly\"], function(Plotly) {                    window.PLOTLYENV=window.PLOTLYENV || {};                                    if (document.getElementById(\"98add34c-981d-43f0-8a21-ec57dacb0359\")) {                    Plotly.newPlot(                        \"98add34c-981d-43f0-8a21-ec57dacb0359\",                        [{\"alignmentgroup\":\"True\",\"bingroup\":\"x\",\"hovertemplate\":\"Gender=%{x}\\u003cbr\\u003ecount=%{y}\\u003cextra\\u003e\\u003c\\u002fextra\\u003e\",\"legendgroup\":\"\",\"marker\":{\"color\":\"#636efa\",\"pattern\":{\"shape\":\"\"}},\"name\":\"\",\"offsetgroup\":\"\",\"orientation\":\"v\",\"showlegend\":false,\"x\":[\"Female\",\"Male\",\"Non-binary\",\"Female\",\"Male\",\"Male\",\"Female\",\"Non-binary\",\"Female\",\"Male\",\"Female\",\"Non-binary\",\"Male\",\"Female\",\"Male\",\"Non-binary\",\"Female\",\"Male\",\"Non-binary\",\"Female\",\"Male\",\"Female\",\"Male\",\"Non-binary\",\"Female\",\"Male\",\"Non-binary\",\"Female\",\"Male\",\"Non-binary\",\"Female\",\"Male\",\"Non-binary\",\"Female\",\"Male\",\"Non-binary\",\"Female\",\"Male\",\"Female\",\"Non-binary\",\"Male\",\"Female\",\"Male\",\"Non-binary\",\"Female\",\"Male\",\"Female\",\"Non-binary\",\"Male\",\"Female\",\"Male\",\"Female\",\"Non-binary\",\"Female\",\"Male\",\"Female\",\"Male\",\"Non-binary\",\"Female\",\"Male\",\"Female\",\"Male\",\"Non-binary\",\"Female\",\"Male\",\"Non-binary\",\"Male\",\"Female\",\"Male\",\"Non-binary\",\"Female\",\"Male\",\"Non-binary\",\"Female\",\"Male\",\"Non-binary\",\"Female\",\"Male\",\"Non-binary\",\"Female\",\"Male\",\"Non-binary\",\"Female\",\"Male\",\"Non-binary\",\"Female\",\"Male\",\"Non-binary\",\"Female\",\"Male\",\"Non-binary\",\"Female\",\"Male\",\"Female\",\"Male\",\"Non-binary\",\"Female\",\"Male\",\"Non-binary\",\"Female\",\"Female\",\"Male\",\"Non-binary\",\"Female\",\"Male\",\"Male\",\"Female\",\"Non-binary\",\"Female\",\"Male\",\"Female\",\"Non-binary\",\"Male\",\"Female\",\"Male\",\"Non-binary\",\"Female\",\"Male\",\"Non-binary\",\"Female\",\"Male\",\"Female\",\"Male\",\"Non-binary\",\"Female\",\"Male\",\"Non-binary\",\"Female\",\"Male\",\"Non-binary\",\"Female\",\"Male\",\"Non-binary\",\"Female\",\"Male\",\"Non-binary\",\"Female\",\"Male\",\"Female\",\"Non-binary\",\"Male\",\"Female\",\"Male\",\"Non-binary\",\"Female\",\"Male\",\"Female\",\"Non-binary\",\"Male\",\"Female\",\"Male\",\"Female\",\"Non-binary\",\"Female\",\"Male\",\"Female\",\"Male\",\"Non-binary\",\"Female\",\"Male\",\"Female\",\"Male\",\"Non-binary\",\"Female\",\"Male\",\"Non-binary\",\"Male\",\"Female\",\"Male\",\"Non-binary\",\"Female\",\"Male\",\"Non-binary\",\"Female\",\"Male\",\"Non-binary\",\"Female\",\"Male\",\"Non-binary\",\"Female\",\"Male\",\"Non-binary\",\"Female\",\"Male\",\"Non-binary\",\"Female\",\"Male\",\"Non-binary\",\"Female\",\"Male\",\"Non-binary\",\"Female\",\"Male\",\"Female\",\"Male\",\"Non-binary\",\"Female\",\"Male\",\"Non-binary\",\"Female\",\"Female\",\"Male\",\"Non-binary\",\"Female\",\"Male\",\"Male\",\"Female\",\"Non-binary\",\"Female\",\"Male\",\"Female\",\"Non-binary\",\"Male\",\"Female\",\"Male\",\"Non-binary\",\"Female\",\"Male\",\"Non-binary\",\"Female\",\"Male\",\"Female\",\"Male\",\"Non-binary\",\"Female\",\"Male\",\"Non-binary\",\"Female\",\"Male\",\"Non-binary\",\"Female\",\"Male\",\"Non-binary\",\"Female\",\"Male\",\"Non-binary\",\"Female\",\"Male\",\"Female\",\"Non-binary\",\"Male\",\"Female\",\"Male\",\"Non-binary\",\"Female\",\"Male\",\"Female\",\"Non-binary\",\"Male\",\"Female\",\"Unknown\",\"Unknown\",\"Unknown\",\"Unknown\",\"Unknown\",\"Unknown\",\"Unknown\",\"Unknown\",\"Unknown\",\"Unknown\",\"Unknown\",\"Unknown\",\"Unknown\",\"Unknown\",\"Unknown\",\"Unknown\",\"Unknown\",\"Unknown\",\"Unknown\",\"Unknown\",\"Unknown\",\"Unknown\",\"Unknown\",\"Unknown\",\"Unknown\",\"Unknown\",\"Unknown\",\"Unknown\",\"Unknown\",\"Unknown\",\"Unknown\",\"Unknown\",\"Unknown\",\"Unknown\",\"Unknown\",\"Unknown\",\"Unknown\",\"Unknown\",\"Female\",\"Male\",\"Non-binary\",\"Female\",\"Male\",\"Female\",\"Male\",\"Non-binary\",\"Female\",\"Male\",\"Non-binary\",\"Female\",\"Female\",\"Male\",\"Non-binary\",\"Female\",\"Male\",\"Male\",\"Female\",\"Non-binary\",\"Female\",\"Male\",\"Female\",\"Non-binary\",\"Male\",\"Female\",\"Male\",\"Non-binary\",\"Female\",\"Male\",\"Non-binary\",\"Female\",\"Male\",\"Female\",\"Male\",\"Non-binary\",\"Female\",\"Male\",\"Non-binary\",\"Female\",\"Male\",\"Non-binary\",\"Female\",\"Male\",\"Non-binary\",\"Female\",\"Male\",\"Non-binary\",\"Female\",\"Male\",\"Female\",\"Non-binary\",\"Male\",\"Female\",\"Male\",\"Non-binary\",\"Female\",\"Male\",\"Female\",\"Non-binary\",\"Male\",\"Female\",\"Male\",\"Female\",\"Non-binary\",\"Female\",\"Male\",\"Female\",\"Male\",\"Non-binary\",\"Female\",\"Male\",\"Female\",\"Male\",\"Non-binary\",\"Female\",\"Male\",\"Non-binary\",\"Male\",\"Female\",\"Male\",\"Non-binary\",\"Female\",\"Male\",\"Non-binary\",\"Female\",\"Male\",\"Non-binary\",\"Female\",\"Male\",\"Non-binary\",\"Female\",\"Male\",\"Non-binary\",\"Female\",\"Male\",\"Non-binary\",\"Female\",\"Male\",\"Non-binary\",\"Female\",\"Male\",\"Non-binary\",\"Female\",\"Male\",\"Female\",\"Male\",\"Non-binary\",\"Female\",\"Male\",\"Non-binary\",\"Female\",\"Female\",\"Male\",\"Non-binary\",\"Female\",\"Male\",\"Male\",\"Female\",\"Non-binary\",\"Female\",\"Male\",\"Female\",\"Non-binary\",\"Male\",\"Female\",\"Male\",\"Non-binary\",\"Female\",\"Male\",\"Non-binary\",\"Female\",\"Male\",\"Female\",\"Male\",\"Non-binary\",\"Female\",\"Male\",\"Non-binary\",\"Female\",\"Male\",\"Non-binary\",\"Female\",\"Male\",\"Non-binary\",\"Female\",\"Male\",\"Non-binary\",\"Female\",\"Male\",\"Female\",\"Non-binary\",\"Male\",\"Female\",\"Male\",\"Non-binary\",\"Female\",\"Male\",\"Female\",\"Non-binary\",\"Male\",\"Female\",\"Male\",\"Female\",\"Non-binary\",\"Female\",\"Male\",\"Female\",\"Male\",\"Non-binary\",\"Female\",\"Male\",\"Female\",\"Male\",\"Non-binary\",\"Female\",\"Male\",\"Non-binary\",\"Male\",\"Female\",\"Male\",\"Non-binary\",\"Female\",\"Male\",\"Non-binary\",\"Female\",\"Male\",\"Non-binary\",\"Female\",\"Male\",\"Non-binary\",\"Female\",\"Male\",\"Non-binary\",\"Female\",\"Male\",\"Non-binary\",\"Female\",\"Male\",\"Non-binary\",\"Female\",\"Male\",\"Non-binary\",\"Female\",\"Male\",\"Female\",\"Male\",\"Non-binary\",\"Female\",\"Male\",\"Non-binary\",\"Female\",\"Female\",\"Male\",\"Non-binary\",\"Female\",\"Male\",\"Male\",\"Female\",\"Non-binary\",\"Female\",\"Male\",\"Female\",\"Non-binary\",\"Male\",\"Female\",\"Male\",\"Non-binary\",\"Female\",\"Male\",\"Non-binary\",\"Female\",\"Male\",\"Female\",\"Male\",\"Non-binary\",\"Female\",\"Male\",\"Non-binary\",\"Female\",\"Male\",\"Non-binary\",\"Female\",\"Male\",\"Non-binary\",\"Female\",\"Male\",\"Non-binary\",\"Female\",\"Male\",\"Female\",\"Non-binary\",\"Male\",\"Female\",\"Male\",\"Non-binary\",\"Female\",\"Male\",\"Female\",\"Non-binary\",\"Male\",\"Female\",\"Male\",\"Female\",\"Non-binary\",\"Female\",\"Male\",\"Female\",\"Male\",\"Non-binary\",\"Female\",\"Male\",\"Female\",\"Male\",\"Non-binary\",\"Female\",\"Male\",\"Non-binary\",\"Male\",\"Female\",\"Male\",\"Non-binary\",\"Female\",\"Male\",\"Non-binary\",\"Female\",\"Male\",\"Non-binary\",\"Female\",\"Male\",\"Non-binary\",\"Female\",\"Male\",\"Non-binary\",\"Female\",\"Male\",\"Non-binary\",\"Female\",\"Male\",\"Non-binary\",\"Female\",\"Male\",\"Non-binary\",\"Female\",\"Male\",\"Female\",\"Male\",\"Non-binary\",\"Female\",\"Male\",\"Non-binary\",\"Female\",\"Female\",\"Male\",\"Non-binary\",\"Female\",\"Male\",\"Male\",\"Female\",\"Non-binary\",\"Female\",\"Male\",\"Female\",\"Non-binary\",\"Male\",\"Female\",\"Male\",\"Non-binary\",\"Female\",\"Male\",\"Non-binary\",\"Female\",\"Male\",\"Female\",\"Male\",\"Non-binary\",\"Female\",\"Male\",\"Non-binary\",\"Female\",\"Male\",\"Non-binary\",\"Female\",\"Male\",\"Non-binary\",\"Female\",\"Male\",\"Non-binary\",\"Female\",\"Male\",\"Female\",\"Non-binary\",\"Male\",\"Unknown\",\"Female\",\"Male\",\"Non-binary\",\"Female\",\"Male\",\"Female\",\"Non-binary\",\"Male\",\"Female\",\"Male\",\"Female\",\"Non-binary\",\"Female\",\"Male\",\"Female\",\"Male\",\"Non-binary\",\"Female\",\"Male\",\"Female\",\"Male\",\"Non-binary\",\"Female\",\"Male\",\"Non-binary\",\"Male\",\"Female\",\"Male\",\"Non-binary\",\"Female\",\"Male\",\"Non-binary\",\"Female\",\"Male\",\"Non-binary\",\"Female\",\"Male\",\"Non-binary\",\"Female\",\"Male\",\"Non-binary\",\"Female\",\"Male\",\"Non-binary\",\"Female\",\"Male\",\"Non-binary\",\"Female\",\"Male\",\"Non-binary\",\"Female\",\"Male\",\"Female\",\"Male\",\"Non-binary\",\"Female\",\"Male\",\"Non-binary\",\"Female\",\"Female\",\"Male\",\"Non-binary\",\"Female\",\"Male\",\"Male\",\"Female\",\"Non-binary\",\"Female\",\"Male\",\"Female\",\"Non-binary\",\"Male\",\"Female\",\"Male\",\"Non-binary\",\"Female\",\"Male\",\"Non-binary\",\"Female\",\"Male\",\"Female\",\"Male\",\"Non-binary\",\"Female\",\"Male\",\"Non-binary\",\"Female\",\"Male\",\"Non-binary\",\"Female\",\"Male\",\"Non-binary\",\"Female\",\"Male\",\"Non-binary\",\"Female\",\"Male\",\"Female\",\"Non-binary\",\"Male\",\"Female\",\"Male\",\"Non-binary\",\"Female\",\"Male\",\"Female\",\"Non-binary\",\"Male\",\"Female\",\"Unknown\",\"Unknown\",\"Unknown\",\"Unknown\",\"Unknown\",\"Unknown\",\"Unknown\",\"Unknown\",\"Unknown\",\"Unknown\",\"Unknown\",\"Unknown\",\"Unknown\",\"Unknown\",\"Unknown\",\"Unknown\",\"Unknown\",\"Unknown\",\"Unknown\",\"Unknown\",\"Unknown\",\"Unknown\",\"Unknown\",\"Unknown\",\"Unknown\",\"Unknown\",\"Unknown\",\"Unknown\",\"Unknown\",\"Unknown\",\"Unknown\",\"Unknown\",\"Unknown\",\"Unknown\",\"Unknown\",\"Unknown\",\"Unknown\",\"Unknown\",\"Female\",\"Male\",\"Non-binary\",\"Female\",\"Male\",\"Female\",\"Male\",\"Non-binary\",\"Female\",\"Male\",\"Non-binary\",\"Female\",\"Female\",\"Male\",\"Non-binary\",\"Female\",\"Male\",\"Male\",\"Female\",\"Non-binary\",\"Female\",\"Male\",\"Female\",\"Non-binary\",\"Male\",\"Female\",\"Male\",\"Non-binary\",\"Female\",\"Male\",\"Non-binary\",\"Female\",\"Male\",\"Female\",\"Male\",\"Non-binary\",\"Female\",\"Male\",\"Non-binary\",\"Female\",\"Male\",\"Non-binary\",\"Female\",\"Male\",\"Non-binary\",\"Female\",\"Male\",\"Non-binary\",\"Female\",\"Male\",\"Female\",\"Non-binary\",\"Male\",\"Female\",\"Male\",\"Non-binary\",\"Female\",\"Male\",\"Female\",\"Non-binary\",\"Male\",\"Female\",\"Male\",\"Female\",\"Non-binary\",\"Female\",\"Male\",\"Female\",\"Male\",\"Non-binary\",\"Female\",\"Male\",\"Female\",\"Male\",\"Non-binary\",\"Female\",\"Male\",\"Non-binary\",\"Male\",\"Female\",\"Male\",\"Non-binary\",\"Female\",\"Male\",\"Non-binary\",\"Female\",\"Male\",\"Non-binary\",\"Female\",\"Male\",\"Non-binary\",\"Female\",\"Male\",\"Non-binary\",\"Female\",\"Male\",\"Non-binary\",\"Female\",\"Male\",\"Non-binary\",\"Female\",\"Male\",\"Non-binary\",\"Female\",\"Male\",\"Female\",\"Male\",\"Non-binary\",\"Female\",\"Male\",\"Non-binary\",\"Female\",\"Female\",\"Male\",\"Non-binary\",\"Female\",\"Male\",\"Male\",\"Female\",\"Non-binary\",\"Female\",\"Male\",\"Female\",\"Non-binary\",\"Male\",\"Female\",\"Male\",\"Non-binary\",\"Female\",\"Male\",\"Non-binary\",\"Female\",\"Male\",\"Female\",\"Male\",\"Non-binary\",\"Female\",\"Male\",\"Non-binary\",\"Female\",\"Male\",\"Non-binary\",\"Female\",\"Male\",\"Non-binary\",\"Female\",\"Male\",\"Non-binary\",\"Female\",\"Male\",\"Female\",\"Non-binary\",\"Male\",\"Female\",\"Male\",\"Non-binary\",\"Female\",\"Male\",\"Female\",\"Non-binary\",\"Male\",\"Female\",\"Male\",\"Female\",\"Non-binary\",\"Female\",\"Male\",\"Female\",\"Male\",\"Non-binary\",\"Female\",\"Male\",\"Female\",\"Male\",\"Non-binary\",\"Female\",\"Male\",\"Non-binary\",\"Male\",\"Female\",\"Male\",\"Non-binary\",\"Female\",\"Male\",\"Non-binary\",\"Female\",\"Male\",\"Non-binary\",\"Female\",\"Male\",\"Non-binary\",\"Female\",\"Male\",\"Non-binary\",\"Female\",\"Male\",\"Non-binary\",\"Female\",\"Male\",\"Non-binary\",\"Female\",\"Male\",\"Non-binary\",\"Female\",\"Male\",\"Female\",\"Male\",\"Non-binary\",\"Female\",\"Male\",\"Non-binary\",\"Female\"],\"xaxis\":\"x\",\"yaxis\":\"y\",\"type\":\"histogram\"}],                        {\"template\":{\"data\":{\"histogram2dcontour\":[{\"type\":\"histogram2dcontour\",\"colorbar\":{\"outlinewidth\":0,\"ticks\":\"\"},\"colorscale\":[[0.0,\"#0d0887\"],[0.1111111111111111,\"#46039f\"],[0.2222222222222222,\"#7201a8\"],[0.3333333333333333,\"#9c179e\"],[0.4444444444444444,\"#bd3786\"],[0.5555555555555556,\"#d8576b\"],[0.6666666666666666,\"#ed7953\"],[0.7777777777777778,\"#fb9f3a\"],[0.8888888888888888,\"#fdca26\"],[1.0,\"#f0f921\"]]}],\"choropleth\":[{\"type\":\"choropleth\",\"colorbar\":{\"outlinewidth\":0,\"ticks\":\"\"}}],\"histogram2d\":[{\"type\":\"histogram2d\",\"colorbar\":{\"outlinewidth\":0,\"ticks\":\"\"},\"colorscale\":[[0.0,\"#0d0887\"],[0.1111111111111111,\"#46039f\"],[0.2222222222222222,\"#7201a8\"],[0.3333333333333333,\"#9c179e\"],[0.4444444444444444,\"#bd3786\"],[0.5555555555555556,\"#d8576b\"],[0.6666666666666666,\"#ed7953\"],[0.7777777777777778,\"#fb9f3a\"],[0.8888888888888888,\"#fdca26\"],[1.0,\"#f0f921\"]]}],\"heatmap\":[{\"type\":\"heatmap\",\"colorbar\":{\"outlinewidth\":0,\"ticks\":\"\"},\"colorscale\":[[0.0,\"#0d0887\"],[0.1111111111111111,\"#46039f\"],[0.2222222222222222,\"#7201a8\"],[0.3333333333333333,\"#9c179e\"],[0.4444444444444444,\"#bd3786\"],[0.5555555555555556,\"#d8576b\"],[0.6666666666666666,\"#ed7953\"],[0.7777777777777778,\"#fb9f3a\"],[0.8888888888888888,\"#fdca26\"],[1.0,\"#f0f921\"]]}],\"heatmapgl\":[{\"type\":\"heatmapgl\",\"colorbar\":{\"outlinewidth\":0,\"ticks\":\"\"},\"colorscale\":[[0.0,\"#0d0887\"],[0.1111111111111111,\"#46039f\"],[0.2222222222222222,\"#7201a8\"],[0.3333333333333333,\"#9c179e\"],[0.4444444444444444,\"#bd3786\"],[0.5555555555555556,\"#d8576b\"],[0.6666666666666666,\"#ed7953\"],[0.7777777777777778,\"#fb9f3a\"],[0.8888888888888888,\"#fdca26\"],[1.0,\"#f0f921\"]]}],\"contourcarpet\":[{\"type\":\"contourcarpet\",\"colorbar\":{\"outlinewidth\":0,\"ticks\":\"\"}}],\"contour\":[{\"type\":\"contour\",\"colorbar\":{\"outlinewidth\":0,\"ticks\":\"\"},\"colorscale\":[[0.0,\"#0d0887\"],[0.1111111111111111,\"#46039f\"],[0.2222222222222222,\"#7201a8\"],[0.3333333333333333,\"#9c179e\"],[0.4444444444444444,\"#bd3786\"],[0.5555555555555556,\"#d8576b\"],[0.6666666666666666,\"#ed7953\"],[0.7777777777777778,\"#fb9f3a\"],[0.8888888888888888,\"#fdca26\"],[1.0,\"#f0f921\"]]}],\"surface\":[{\"type\":\"surface\",\"colorbar\":{\"outlinewidth\":0,\"ticks\":\"\"},\"colorscale\":[[0.0,\"#0d0887\"],[0.1111111111111111,\"#46039f\"],[0.2222222222222222,\"#7201a8\"],[0.3333333333333333,\"#9c179e\"],[0.4444444444444444,\"#bd3786\"],[0.5555555555555556,\"#d8576b\"],[0.6666666666666666,\"#ed7953\"],[0.7777777777777778,\"#fb9f3a\"],[0.8888888888888888,\"#fdca26\"],[1.0,\"#f0f921\"]]}],\"mesh3d\":[{\"type\":\"mesh3d\",\"colorbar\":{\"outlinewidth\":0,\"ticks\":\"\"}}],\"scatter\":[{\"fillpattern\":{\"fillmode\":\"overlay\",\"size\":10,\"solidity\":0.2},\"type\":\"scatter\"}],\"parcoords\":[{\"type\":\"parcoords\",\"line\":{\"colorbar\":{\"outlinewidth\":0,\"ticks\":\"\"}}}],\"scatterpolargl\":[{\"type\":\"scatterpolargl\",\"marker\":{\"colorbar\":{\"outlinewidth\":0,\"ticks\":\"\"}}}],\"bar\":[{\"error_x\":{\"color\":\"#2a3f5f\"},\"error_y\":{\"color\":\"#2a3f5f\"},\"marker\":{\"line\":{\"color\":\"#E5ECF6\",\"width\":0.5},\"pattern\":{\"fillmode\":\"overlay\",\"size\":10,\"solidity\":0.2}},\"type\":\"bar\"}],\"scattergeo\":[{\"type\":\"scattergeo\",\"marker\":{\"colorbar\":{\"outlinewidth\":0,\"ticks\":\"\"}}}],\"scatterpolar\":[{\"type\":\"scatterpolar\",\"marker\":{\"colorbar\":{\"outlinewidth\":0,\"ticks\":\"\"}}}],\"histogram\":[{\"marker\":{\"pattern\":{\"fillmode\":\"overlay\",\"size\":10,\"solidity\":0.2}},\"type\":\"histogram\"}],\"scattergl\":[{\"type\":\"scattergl\",\"marker\":{\"colorbar\":{\"outlinewidth\":0,\"ticks\":\"\"}}}],\"scatter3d\":[{\"type\":\"scatter3d\",\"line\":{\"colorbar\":{\"outlinewidth\":0,\"ticks\":\"\"}},\"marker\":{\"colorbar\":{\"outlinewidth\":0,\"ticks\":\"\"}}}],\"scattermapbox\":[{\"type\":\"scattermapbox\",\"marker\":{\"colorbar\":{\"outlinewidth\":0,\"ticks\":\"\"}}}],\"scatterternary\":[{\"type\":\"scatterternary\",\"marker\":{\"colorbar\":{\"outlinewidth\":0,\"ticks\":\"\"}}}],\"scattercarpet\":[{\"type\":\"scattercarpet\",\"marker\":{\"colorbar\":{\"outlinewidth\":0,\"ticks\":\"\"}}}],\"carpet\":[{\"aaxis\":{\"endlinecolor\":\"#2a3f5f\",\"gridcolor\":\"white\",\"linecolor\":\"white\",\"minorgridcolor\":\"white\",\"startlinecolor\":\"#2a3f5f\"},\"baxis\":{\"endlinecolor\":\"#2a3f5f\",\"gridcolor\":\"white\",\"linecolor\":\"white\",\"minorgridcolor\":\"white\",\"startlinecolor\":\"#2a3f5f\"},\"type\":\"carpet\"}],\"table\":[{\"cells\":{\"fill\":{\"color\":\"#EBF0F8\"},\"line\":{\"color\":\"white\"}},\"header\":{\"fill\":{\"color\":\"#C8D4E3\"},\"line\":{\"color\":\"white\"}},\"type\":\"table\"}],\"barpolar\":[{\"marker\":{\"line\":{\"color\":\"#E5ECF6\",\"width\":0.5},\"pattern\":{\"fillmode\":\"overlay\",\"size\":10,\"solidity\":0.2}},\"type\":\"barpolar\"}],\"pie\":[{\"automargin\":true,\"type\":\"pie\"}]},\"layout\":{\"autotypenumbers\":\"strict\",\"colorway\":[\"#636efa\",\"#EF553B\",\"#00cc96\",\"#ab63fa\",\"#FFA15A\",\"#19d3f3\",\"#FF6692\",\"#B6E880\",\"#FF97FF\",\"#FECB52\"],\"font\":{\"color\":\"#2a3f5f\"},\"hovermode\":\"closest\",\"hoverlabel\":{\"align\":\"left\"},\"paper_bgcolor\":\"white\",\"plot_bgcolor\":\"#E5ECF6\",\"polar\":{\"bgcolor\":\"#E5ECF6\",\"angularaxis\":{\"gridcolor\":\"white\",\"linecolor\":\"white\",\"ticks\":\"\"},\"radialaxis\":{\"gridcolor\":\"white\",\"linecolor\":\"white\",\"ticks\":\"\"}},\"ternary\":{\"bgcolor\":\"#E5ECF6\",\"aaxis\":{\"gridcolor\":\"white\",\"linecolor\":\"white\",\"ticks\":\"\"},\"baxis\":{\"gridcolor\":\"white\",\"linecolor\":\"white\",\"ticks\":\"\"},\"caxis\":{\"gridcolor\":\"white\",\"linecolor\":\"white\",\"ticks\":\"\"}},\"coloraxis\":{\"colorbar\":{\"outlinewidth\":0,\"ticks\":\"\"}},\"colorscale\":{\"sequential\":[[0.0,\"#0d0887\"],[0.1111111111111111,\"#46039f\"],[0.2222222222222222,\"#7201a8\"],[0.3333333333333333,\"#9c179e\"],[0.4444444444444444,\"#bd3786\"],[0.5555555555555556,\"#d8576b\"],[0.6666666666666666,\"#ed7953\"],[0.7777777777777778,\"#fb9f3a\"],[0.8888888888888888,\"#fdca26\"],[1.0,\"#f0f921\"]],\"sequentialminus\":[[0.0,\"#0d0887\"],[0.1111111111111111,\"#46039f\"],[0.2222222222222222,\"#7201a8\"],[0.3333333333333333,\"#9c179e\"],[0.4444444444444444,\"#bd3786\"],[0.5555555555555556,\"#d8576b\"],[0.6666666666666666,\"#ed7953\"],[0.7777777777777778,\"#fb9f3a\"],[0.8888888888888888,\"#fdca26\"],[1.0,\"#f0f921\"]],\"diverging\":[[0,\"#8e0152\"],[0.1,\"#c51b7d\"],[0.2,\"#de77ae\"],[0.3,\"#f1b6da\"],[0.4,\"#fde0ef\"],[0.5,\"#f7f7f7\"],[0.6,\"#e6f5d0\"],[0.7,\"#b8e186\"],[0.8,\"#7fbc41\"],[0.9,\"#4d9221\"],[1,\"#276419\"]]},\"xaxis\":{\"gridcolor\":\"white\",\"linecolor\":\"white\",\"ticks\":\"\",\"title\":{\"standoff\":15},\"zerolinecolor\":\"white\",\"automargin\":true,\"zerolinewidth\":2},\"yaxis\":{\"gridcolor\":\"white\",\"linecolor\":\"white\",\"ticks\":\"\",\"title\":{\"standoff\":15},\"zerolinecolor\":\"white\",\"automargin\":true,\"zerolinewidth\":2},\"scene\":{\"xaxis\":{\"backgroundcolor\":\"#E5ECF6\",\"gridcolor\":\"white\",\"linecolor\":\"white\",\"showbackground\":true,\"ticks\":\"\",\"zerolinecolor\":\"white\",\"gridwidth\":2},\"yaxis\":{\"backgroundcolor\":\"#E5ECF6\",\"gridcolor\":\"white\",\"linecolor\":\"white\",\"showbackground\":true,\"ticks\":\"\",\"zerolinecolor\":\"white\",\"gridwidth\":2},\"zaxis\":{\"backgroundcolor\":\"#E5ECF6\",\"gridcolor\":\"white\",\"linecolor\":\"white\",\"showbackground\":true,\"ticks\":\"\",\"zerolinecolor\":\"white\",\"gridwidth\":2}},\"shapedefaults\":{\"line\":{\"color\":\"#2a3f5f\"}},\"annotationdefaults\":{\"arrowcolor\":\"#2a3f5f\",\"arrowhead\":0,\"arrowwidth\":1},\"geo\":{\"bgcolor\":\"white\",\"landcolor\":\"#E5ECF6\",\"subunitcolor\":\"white\",\"showland\":true,\"showlakes\":true,\"lakecolor\":\"white\"},\"title\":{\"x\":0.05},\"mapbox\":{\"style\":\"light\"}}},\"xaxis\":{\"anchor\":\"y\",\"domain\":[0.0,1.0],\"title\":{\"text\":\"Gender\"}},\"yaxis\":{\"anchor\":\"x\",\"domain\":[0.0,1.0],\"title\":{\"text\":\"count\"}},\"legend\":{\"tracegroupgap\":0},\"title\":{\"text\":\"Gender Distribution\"},\"barmode\":\"relative\"},                        {\"responsive\": true}                    ).then(function(){\n",
       "                            \n",
       "var gd = document.getElementById('98add34c-981d-43f0-8a21-ec57dacb0359');\n",
       "var x = new MutationObserver(function (mutations, observer) {{\n",
       "        var display = window.getComputedStyle(gd).display;\n",
       "        if (!display || display === 'none') {{\n",
       "            console.log([gd, 'removed!']);\n",
       "            Plotly.purge(gd);\n",
       "            observer.disconnect();\n",
       "        }}\n",
       "}});\n",
       "\n",
       "// Listen for the removal of the full notebook cells\n",
       "var notebookContainer = gd.closest('#notebook-container');\n",
       "if (notebookContainer) {{\n",
       "    x.observe(notebookContainer, {childList: true});\n",
       "}}\n",
       "\n",
       "// Listen for the clearing of the current output cell\n",
       "var outputEl = gd.closest('.output');\n",
       "if (outputEl) {{\n",
       "    x.observe(outputEl, {childList: true});\n",
       "}}\n",
       "\n",
       "                        })                };                });            </script>        </div>"
      ]
     },
     "metadata": {},
     "output_type": "display_data"
    }
   ],
   "source": [
    "plt = px.histogram(train_df, x='Gender', title='Gender Distribution')\n",
    "plt.show()"
   ]
  },
  {
   "cell_type": "markdown",
   "id": "3da93e6c",
   "metadata": {
    "papermill": {
     "duration": 0.031344,
     "end_time": "2024-05-23T11:22:50.466926",
     "exception": false,
     "start_time": "2024-05-23T11:22:50.435582",
     "status": "completed"
    },
    "tags": []
   },
   "source": [
    "### Platform Distribution"
   ]
  },
  {
   "cell_type": "code",
   "execution_count": 23,
   "id": "7edee270",
   "metadata": {
    "execution": {
     "iopub.execute_input": "2024-05-23T11:22:50.532942Z",
     "iopub.status.busy": "2024-05-23T11:22:50.532459Z",
     "iopub.status.idle": "2024-05-23T11:22:50.539835Z",
     "shell.execute_reply": "2024-05-23T11:22:50.539033Z"
    },
    "papermill": {
     "duration": 0.043525,
     "end_time": "2024-05-23T11:22:50.541964",
     "exception": false,
     "start_time": "2024-05-23T11:22:50.498439",
     "status": "completed"
    },
    "tags": []
   },
   "outputs": [
    {
     "data": {
      "text/plain": [
       "array(['Instagram', 'Twitter', 'Facebook', 'LinkedIn', 'Whatsapp',\n",
       "       'Telegram', 'Snapchat', nan], dtype=object)"
      ]
     },
     "execution_count": 23,
     "metadata": {},
     "output_type": "execute_result"
    }
   ],
   "source": [
    "train_df['Platform'].unique()"
   ]
  },
  {
   "cell_type": "code",
   "execution_count": 24,
   "id": "467e99d6",
   "metadata": {
    "execution": {
     "iopub.execute_input": "2024-05-23T11:22:50.608032Z",
     "iopub.status.busy": "2024-05-23T11:22:50.606819Z",
     "iopub.status.idle": "2024-05-23T11:22:50.615316Z",
     "shell.execute_reply": "2024-05-23T11:22:50.614271Z"
    },
    "papermill": {
     "duration": 0.043802,
     "end_time": "2024-05-23T11:22:50.617468",
     "exception": false,
     "start_time": "2024-05-23T11:22:50.573666",
     "status": "completed"
    },
    "tags": []
   },
   "outputs": [
    {
     "data": {
      "text/plain": [
       "Platform\n",
       "Instagram    250\n",
       "Twitter      200\n",
       "Facebook     190\n",
       "LinkedIn     120\n",
       "Whatsapp      80\n",
       "Telegram      80\n",
       "Snapchat      80\n",
       "Name: count, dtype: int64"
      ]
     },
     "execution_count": 24,
     "metadata": {},
     "output_type": "execute_result"
    }
   ],
   "source": [
    "train_df['Platform'].value_counts()"
   ]
  },
  {
   "cell_type": "markdown",
   "id": "59406f5f",
   "metadata": {
    "papermill": {
     "duration": 0.031694,
     "end_time": "2024-05-23T11:22:50.681345",
     "exception": false,
     "start_time": "2024-05-23T11:22:50.649651",
     "status": "completed"
    },
    "tags": []
   },
   "source": [
    "* Let's Impute the nan with the mode"
   ]
  },
  {
   "cell_type": "code",
   "execution_count": 25,
   "id": "b3f8afbc",
   "metadata": {
    "execution": {
     "iopub.execute_input": "2024-05-23T11:22:50.747463Z",
     "iopub.status.busy": "2024-05-23T11:22:50.747033Z",
     "iopub.status.idle": "2024-05-23T11:22:50.753736Z",
     "shell.execute_reply": "2024-05-23T11:22:50.752488Z"
    },
    "papermill": {
     "duration": 0.042541,
     "end_time": "2024-05-23T11:22:50.756067",
     "exception": false,
     "start_time": "2024-05-23T11:22:50.713526",
     "status": "completed"
    },
    "tags": []
   },
   "outputs": [],
   "source": [
    "# filling with mode\n",
    "train_df['Platform'].fillna(train_df['Platform'].mode()[0], inplace=True)"
   ]
  },
  {
   "cell_type": "code",
   "execution_count": 26,
   "id": "35afb407",
   "metadata": {
    "execution": {
     "iopub.execute_input": "2024-05-23T11:22:50.822668Z",
     "iopub.status.busy": "2024-05-23T11:22:50.821859Z",
     "iopub.status.idle": "2024-05-23T11:22:50.829470Z",
     "shell.execute_reply": "2024-05-23T11:22:50.827805Z"
    },
    "papermill": {
     "duration": 0.043886,
     "end_time": "2024-05-23T11:22:50.832105",
     "exception": false,
     "start_time": "2024-05-23T11:22:50.788219",
     "status": "completed"
    },
    "tags": []
   },
   "outputs": [
    {
     "data": {
      "text/plain": [
       "array(['Instagram', 'Twitter', 'Facebook', 'LinkedIn', 'Whatsapp',\n",
       "       'Telegram', 'Snapchat'], dtype=object)"
      ]
     },
     "execution_count": 26,
     "metadata": {},
     "output_type": "execute_result"
    }
   ],
   "source": [
    "train_df['Platform'].unique()"
   ]
  },
  {
   "cell_type": "code",
   "execution_count": 27,
   "id": "92b6e993",
   "metadata": {
    "execution": {
     "iopub.execute_input": "2024-05-23T11:22:50.898233Z",
     "iopub.status.busy": "2024-05-23T11:22:50.897803Z",
     "iopub.status.idle": "2024-05-23T11:22:50.905910Z",
     "shell.execute_reply": "2024-05-23T11:22:50.905025Z"
    },
    "papermill": {
     "duration": 0.043967,
     "end_time": "2024-05-23T11:22:50.908174",
     "exception": false,
     "start_time": "2024-05-23T11:22:50.864207",
     "status": "completed"
    },
    "tags": []
   },
   "outputs": [
    {
     "data": {
      "text/plain": [
       "Platform\n",
       "Instagram    251\n",
       "Twitter      200\n",
       "Facebook     190\n",
       "LinkedIn     120\n",
       "Whatsapp      80\n",
       "Telegram      80\n",
       "Snapchat      80\n",
       "Name: count, dtype: int64"
      ]
     },
     "execution_count": 27,
     "metadata": {},
     "output_type": "execute_result"
    }
   ],
   "source": [
    "train_df['Platform'].value_counts()"
   ]
  },
  {
   "cell_type": "code",
   "execution_count": 28,
   "id": "4a002423",
   "metadata": {
    "execution": {
     "iopub.execute_input": "2024-05-23T11:22:50.976392Z",
     "iopub.status.busy": "2024-05-23T11:22:50.975099Z",
     "iopub.status.idle": "2024-05-23T11:22:51.153855Z",
     "shell.execute_reply": "2024-05-23T11:22:51.152824Z"
    },
    "papermill": {
     "duration": 0.21616,
     "end_time": "2024-05-23T11:22:51.157263",
     "exception": false,
     "start_time": "2024-05-23T11:22:50.941103",
     "status": "completed"
    },
    "tags": []
   },
   "outputs": [
    {
     "data": {
      "text/html": [
       "<div>                            <div id=\"58de817e-91a2-4775-b9c3-f56e7a5a46d2\" class=\"plotly-graph-div\" style=\"height:525px; width:100%;\"></div>            <script type=\"text/javascript\">                require([\"plotly\"], function(Plotly) {                    window.PLOTLYENV=window.PLOTLYENV || {};                                    if (document.getElementById(\"58de817e-91a2-4775-b9c3-f56e7a5a46d2\")) {                    Plotly.newPlot(                        \"58de817e-91a2-4775-b9c3-f56e7a5a46d2\",                        [{\"alignmentgroup\":\"True\",\"bingroup\":\"x\",\"hovertemplate\":\"Platform=%{x}\\u003cbr\\u003ecount=%{y}\\u003cextra\\u003e\\u003c\\u002fextra\\u003e\",\"legendgroup\":\"\",\"marker\":{\"color\":\"#636efa\",\"pattern\":{\"shape\":\"\"}},\"name\":\"\",\"offsetgroup\":\"\",\"orientation\":\"v\",\"showlegend\":false,\"x\":[\"Instagram\",\"Twitter\",\"Facebook\",\"Instagram\",\"LinkedIn\",\"Instagram\",\"Twitter\",\"Facebook\",\"LinkedIn\",\"Instagram\",\"Twitter\",\"Facebook\",\"LinkedIn\",\"Instagram\",\"Twitter\",\"Facebook\",\"Instagram\",\"Twitter\",\"LinkedIn\",\"Instagram\",\"Facebook\",\"Twitter\",\"LinkedIn\",\"Instagram\",\"Twitter\",\"Facebook\",\"LinkedIn\",\"Instagram\",\"Twitter\",\"Facebook\",\"LinkedIn\",\"Instagram\",\"Twitter\",\"Instagram\",\"Facebook\",\"LinkedIn\",\"Instagram\",\"Twitter\",\"Instagram\",\"Facebook\",\"LinkedIn\",\"Instagram\",\"Twitter\",\"Facebook\",\"LinkedIn\",\"Instagram\",\"Twitter\",\"Facebook\",\"Instagram\",\"LinkedIn\",\"Instagram\",\"Twitter\",\"Facebook\",\"Instagram\",\"LinkedIn\",\"Whatsapp\",\"Telegram\",\"Snapchat\",\"Twitter\",\"Facebook\",\"Instagram\",\"Whatsapp\",\"Telegram\",\"Snapchat\",\"Twitter\",\"Facebook\",\"Instagram\",\"Whatsapp\",\"Telegram\",\"Snapchat\",\"Instagram\",\"Twitter\",\"Facebook\",\"Whatsapp\",\"Telegram\",\"Snapchat\",\"Instagram\",\"Twitter\",\"Facebook\",\"Whatsapp\",\"Telegram\",\"Snapchat\",\"Instagram\",\"Twitter\",\"Facebook\",\"Whatsapp\",\"Telegram\",\"Snapchat\",\"Instagram\",\"Twitter\",\"Facebook\",\"Whatsapp\",\"Telegram\",\"Snapchat\",\"Instagram\",\"Twitter\",\"Facebook\",\"Whatsapp\",\"Telegram\",\"Snapchat\",\"Instagram\",\"Twitter\",\"Facebook\",\"Instagram\",\"LinkedIn\",\"Instagram\",\"Twitter\",\"Facebook\",\"LinkedIn\",\"Instagram\",\"Twitter\",\"Facebook\",\"LinkedIn\",\"Instagram\",\"Twitter\",\"Facebook\",\"Instagram\",\"Twitter\",\"LinkedIn\",\"Instagram\",\"Facebook\",\"Twitter\",\"LinkedIn\",\"Instagram\",\"Twitter\",\"Facebook\",\"LinkedIn\",\"Instagram\",\"Twitter\",\"Facebook\",\"LinkedIn\",\"Instagram\",\"Twitter\",\"Instagram\",\"Facebook\",\"LinkedIn\",\"Instagram\",\"Twitter\",\"Instagram\",\"Facebook\",\"LinkedIn\",\"Instagram\",\"Twitter\",\"Facebook\",\"LinkedIn\",\"Instagram\",\"Twitter\",\"Facebook\",\"Instagram\",\"LinkedIn\",\"Instagram\",\"Twitter\",\"Facebook\",\"Instagram\",\"LinkedIn\",\"Whatsapp\",\"Telegram\",\"Snapchat\",\"Twitter\",\"Facebook\",\"Instagram\",\"Whatsapp\",\"Telegram\",\"Snapchat\",\"Twitter\",\"Facebook\",\"Instagram\",\"Whatsapp\",\"Telegram\",\"Snapchat\",\"Instagram\",\"Twitter\",\"Facebook\",\"Whatsapp\",\"Telegram\",\"Snapchat\",\"Instagram\",\"Twitter\",\"Facebook\",\"Whatsapp\",\"Telegram\",\"Snapchat\",\"Instagram\",\"Twitter\",\"Facebook\",\"Whatsapp\",\"Telegram\",\"Snapchat\",\"Instagram\",\"Twitter\",\"Facebook\",\"Whatsapp\",\"Telegram\",\"Snapchat\",\"Instagram\",\"Twitter\",\"Facebook\",\"Whatsapp\",\"Telegram\",\"Snapchat\",\"Instagram\",\"Twitter\",\"Facebook\",\"Instagram\",\"LinkedIn\",\"Instagram\",\"Twitter\",\"Facebook\",\"LinkedIn\",\"Instagram\",\"Twitter\",\"Facebook\",\"LinkedIn\",\"Instagram\",\"Twitter\",\"Facebook\",\"Instagram\",\"Twitter\",\"LinkedIn\",\"Instagram\",\"Facebook\",\"Twitter\",\"LinkedIn\",\"Instagram\",\"Twitter\",\"Facebook\",\"LinkedIn\",\"Instagram\",\"Twitter\",\"Facebook\",\"LinkedIn\",\"Instagram\",\"Twitter\",\"Instagram\",\"Facebook\",\"LinkedIn\",\"Instagram\",\"Twitter\",\"Instagram\",\"Facebook\",\"LinkedIn\",\"Instagram\",\"Twitter\",\"Facebook\",\"LinkedIn\",\"Instagram\",\"Twitter\",\"Facebook\",\"Instagram\",\"LinkedIn\",\"Instagram\",\"Twitter\",\"Facebook\",\"Instagram\",\"LinkedIn\",\"Whatsapp\",\"Telegram\",\"Snapchat\",\"Twitter\",\"Facebook\",\"Instagram\",\"Whatsapp\",\"Telegram\",\"Snapchat\",\"Twitter\",\"Facebook\",\"Instagram\",\"Whatsapp\",\"Telegram\",\"Snapchat\",\"Instagram\",\"Twitter\",\"Facebook\",\"Whatsapp\",\"Telegram\",\"Snapchat\",\"Instagram\",\"Twitter\",\"Facebook\",\"Whatsapp\",\"Telegram\",\"Snapchat\",\"Instagram\",\"Twitter\",\"Facebook\",\"Whatsapp\",\"Telegram\",\"Snapchat\",\"Instagram\",\"Twitter\",\"Facebook\",\"Whatsapp\",\"Telegram\",\"Snapchat\",\"Instagram\",\"Twitter\",\"Facebook\",\"Whatsapp\",\"Telegram\",\"Snapchat\",\"Instagram\",\"Twitter\",\"Facebook\",\"Instagram\",\"LinkedIn\",\"Instagram\",\"Twitter\",\"Facebook\",\"LinkedIn\",\"Instagram\",\"Twitter\",\"Facebook\",\"LinkedIn\",\"Instagram\",\"Twitter\",\"Facebook\",\"Instagram\",\"Twitter\",\"LinkedIn\",\"Instagram\",\"Facebook\",\"Twitter\",\"LinkedIn\",\"Instagram\",\"Twitter\",\"Facebook\",\"LinkedIn\",\"Instagram\",\"Twitter\",\"Facebook\",\"LinkedIn\",\"Instagram\",\"Twitter\",\"Instagram\",\"Facebook\",\"LinkedIn\",\"Instagram\",\"Twitter\",\"Instagram\",\"Facebook\",\"LinkedIn\",\"Instagram\",\"Twitter\",\"Facebook\",\"LinkedIn\",\"Instagram\",\"Twitter\",\"Facebook\",\"Instagram\",\"LinkedIn\",\"Instagram\",\"Twitter\",\"Facebook\",\"Instagram\",\"LinkedIn\",\"Whatsapp\",\"Telegram\",\"Snapchat\",\"Twitter\",\"Facebook\",\"Instagram\",\"Whatsapp\",\"Telegram\",\"Snapchat\",\"Twitter\",\"Facebook\",\"Instagram\",\"Whatsapp\",\"Telegram\",\"Snapchat\",\"Instagram\",\"Twitter\",\"Facebook\",\"Whatsapp\",\"Telegram\",\"Snapchat\",\"Instagram\",\"Twitter\",\"Facebook\",\"Whatsapp\",\"Telegram\",\"Snapchat\",\"Instagram\",\"Twitter\",\"Facebook\",\"Whatsapp\",\"Telegram\",\"Snapchat\",\"Instagram\",\"Twitter\",\"Facebook\",\"Whatsapp\",\"Telegram\",\"Snapchat\",\"Instagram\",\"Twitter\",\"Facebook\",\"Whatsapp\",\"Telegram\",\"Snapchat\",\"Instagram\",\"Twitter\",\"Facebook\",\"Instagram\",\"LinkedIn\",\"Instagram\",\"Twitter\",\"Facebook\",\"LinkedIn\",\"Instagram\",\"Twitter\",\"Facebook\",\"LinkedIn\",\"Instagram\",\"Twitter\",\"Facebook\",\"Instagram\",\"Twitter\",\"LinkedIn\",\"Instagram\",\"Facebook\",\"Twitter\",\"LinkedIn\",\"Instagram\",\"Twitter\",\"Facebook\",\"LinkedIn\",\"Instagram\",\"Twitter\",\"Facebook\",\"LinkedIn\",\"Instagram\",\"Twitter\",\"Instagram\",\"Facebook\",\"LinkedIn\",\"Instagram\",\"Twitter\",\"Instagram\",\"Facebook\",\"LinkedIn\",\"Instagram\",\"Twitter\",\"Facebook\",\"LinkedIn\",\"Instagram\",\"Twitter\",\"Facebook\",\"Instagram\",\"LinkedIn\",\"Instagram\",\"Twitter\",\"Facebook\",\"Instagram\",\"LinkedIn\",\"Whatsapp\",\"Telegram\",\"Snapchat\",\"Twitter\",\"Facebook\",\"Instagram\",\"Whatsapp\",\"Telegram\",\"Snapchat\",\"Twitter\",\"Facebook\",\"Instagram\",\"Whatsapp\",\"Telegram\",\"Snapchat\",\"Instagram\",\"Twitter\",\"Facebook\",\"Whatsapp\",\"Telegram\",\"Snapchat\",\"Instagram\",\"Twitter\",\"Facebook\",\"Whatsapp\",\"Telegram\",\"Snapchat\",\"Instagram\",\"Twitter\",\"Facebook\",\"Whatsapp\",\"Telegram\",\"Snapchat\",\"Instagram\",\"Twitter\",\"Facebook\",\"Whatsapp\",\"Telegram\",\"Snapchat\",\"Instagram\",\"Twitter\",\"Facebook\",\"Whatsapp\",\"Telegram\",\"Snapchat\",\"Instagram\",\"Twitter\",\"Facebook\",\"Instagram\",\"LinkedIn\",\"Instagram\",\"Twitter\",\"Facebook\",\"LinkedIn\",\"Instagram\",\"Twitter\",\"Facebook\",\"LinkedIn\",\"Instagram\",\"Twitter\",\"Facebook\",\"Instagram\",\"Twitter\",\"LinkedIn\",\"Instagram\",\"Facebook\",\"Twitter\",\"LinkedIn\",\"Instagram\",\"Twitter\",\"Facebook\",\"LinkedIn\",\"Instagram\",\"Twitter\",\"Facebook\",\"LinkedIn\",\"Instagram\",\"Twitter\",\"Instagram\",\"Facebook\",\"LinkedIn\",\"Instagram\",\"Twitter\",\"Instagram\",\"Facebook\",\"LinkedIn\",\"Instagram\",\"Twitter\",\"Facebook\",\"LinkedIn\",\"Instagram\",\"Twitter\",\"Facebook\",\"Instagram\",\"LinkedIn\",\"Instagram\",\"Twitter\",\"Facebook\",\"Instagram\",\"LinkedIn\",\"Whatsapp\",\"Telegram\",\"Snapchat\",\"Twitter\",\"Facebook\",\"Instagram\",\"Whatsapp\",\"Telegram\",\"Snapchat\",\"Twitter\",\"Facebook\",\"Instagram\",\"Whatsapp\",\"Telegram\",\"Snapchat\",\"Instagram\",\"Twitter\",\"Facebook\",\"Whatsapp\",\"Telegram\",\"Snapchat\",\"Instagram\",\"Twitter\",\"Facebook\",\"Whatsapp\",\"Telegram\",\"Snapchat\",\"Instagram\",\"Twitter\",\"Facebook\",\"Whatsapp\",\"Telegram\",\"Snapchat\",\"Instagram\",\"Twitter\",\"Facebook\",\"Whatsapp\",\"Telegram\",\"Snapchat\",\"Instagram\",\"Twitter\",\"Facebook\",\"Whatsapp\",\"Telegram\",\"Snapchat\",\"Instagram\",\"Twitter\",\"Facebook\",\"Instagram\",\"LinkedIn\",\"Instagram\",\"Twitter\",\"Facebook\",\"LinkedIn\",\"Instagram\",\"Twitter\",\"Facebook\",\"LinkedIn\",\"Instagram\",\"Twitter\",\"Facebook\",\"Instagram\",\"Twitter\",\"LinkedIn\",\"Instagram\",\"Facebook\",\"Twitter\",\"LinkedIn\",\"Instagram\",\"Twitter\",\"Facebook\",\"LinkedIn\",\"Instagram\",\"Twitter\",\"Facebook\",\"LinkedIn\",\"Instagram\",\"Twitter\",\"Instagram\",\"Facebook\",\"LinkedIn\",\"Instagram\",\"Twitter\",\"Instagram\",\"Facebook\",\"LinkedIn\",\"Instagram\",\"Instagram\",\"Twitter\",\"Facebook\",\"LinkedIn\",\"Instagram\",\"Twitter\",\"Facebook\",\"Instagram\",\"LinkedIn\",\"Instagram\",\"Twitter\",\"Facebook\",\"Instagram\",\"LinkedIn\",\"Whatsapp\",\"Telegram\",\"Snapchat\",\"Twitter\",\"Facebook\",\"Instagram\",\"Whatsapp\",\"Telegram\",\"Snapchat\",\"Twitter\",\"Facebook\",\"Instagram\",\"Whatsapp\",\"Telegram\",\"Snapchat\",\"Instagram\",\"Twitter\",\"Facebook\",\"Whatsapp\",\"Telegram\",\"Snapchat\",\"Instagram\",\"Twitter\",\"Facebook\",\"Whatsapp\",\"Telegram\",\"Snapchat\",\"Instagram\",\"Twitter\",\"Facebook\",\"Whatsapp\",\"Telegram\",\"Snapchat\",\"Instagram\",\"Twitter\",\"Facebook\",\"Whatsapp\",\"Telegram\",\"Snapchat\",\"Instagram\",\"Twitter\",\"Facebook\",\"Whatsapp\",\"Telegram\",\"Snapchat\",\"Instagram\",\"Twitter\",\"Facebook\",\"Instagram\",\"LinkedIn\",\"Instagram\",\"Twitter\",\"Facebook\",\"LinkedIn\",\"Instagram\",\"Twitter\",\"Facebook\",\"LinkedIn\",\"Instagram\",\"Twitter\",\"Facebook\",\"Instagram\",\"Twitter\",\"LinkedIn\",\"Instagram\",\"Facebook\",\"Twitter\",\"LinkedIn\",\"Instagram\",\"Twitter\",\"Facebook\",\"LinkedIn\",\"Instagram\",\"Twitter\",\"Facebook\",\"LinkedIn\",\"Instagram\",\"Twitter\",\"Instagram\",\"Facebook\",\"LinkedIn\",\"Instagram\",\"Twitter\",\"Instagram\",\"Facebook\",\"LinkedIn\",\"Instagram\",\"Twitter\",\"Facebook\",\"LinkedIn\",\"Instagram\",\"Twitter\",\"Facebook\",\"Instagram\",\"LinkedIn\",\"Instagram\",\"Twitter\",\"Facebook\",\"Instagram\",\"LinkedIn\",\"Whatsapp\",\"Telegram\",\"Snapchat\",\"Twitter\",\"Facebook\",\"Instagram\",\"Whatsapp\",\"Telegram\",\"Snapchat\",\"Twitter\",\"Facebook\",\"Instagram\",\"Whatsapp\",\"Telegram\",\"Snapchat\",\"Instagram\",\"Twitter\",\"Facebook\",\"Whatsapp\",\"Telegram\",\"Snapchat\",\"Instagram\",\"Twitter\",\"Facebook\",\"Whatsapp\",\"Telegram\",\"Snapchat\",\"Instagram\",\"Twitter\",\"Facebook\",\"Whatsapp\",\"Telegram\",\"Snapchat\",\"Instagram\",\"Twitter\",\"Facebook\",\"Whatsapp\",\"Telegram\",\"Snapchat\",\"Instagram\",\"Twitter\",\"Facebook\",\"Whatsapp\",\"Telegram\",\"Snapchat\",\"Instagram\",\"Twitter\",\"Facebook\",\"Instagram\",\"LinkedIn\",\"Instagram\",\"Twitter\",\"Facebook\",\"LinkedIn\",\"Instagram\",\"Twitter\",\"Facebook\",\"LinkedIn\",\"Instagram\",\"Twitter\",\"Facebook\",\"Instagram\",\"Twitter\",\"LinkedIn\",\"Instagram\",\"Facebook\",\"Twitter\",\"LinkedIn\",\"Instagram\",\"Twitter\",\"Facebook\",\"LinkedIn\",\"Instagram\",\"Twitter\",\"Facebook\",\"LinkedIn\",\"Instagram\",\"Twitter\",\"Instagram\",\"Facebook\",\"LinkedIn\",\"Instagram\",\"Twitter\",\"Instagram\",\"Facebook\",\"LinkedIn\",\"Instagram\",\"Twitter\",\"Facebook\",\"LinkedIn\",\"Instagram\",\"Twitter\",\"Facebook\",\"Instagram\",\"LinkedIn\",\"Instagram\",\"Twitter\",\"Facebook\",\"Instagram\",\"LinkedIn\",\"Whatsapp\",\"Telegram\",\"Snapchat\",\"Twitter\",\"Facebook\",\"Instagram\",\"Whatsapp\",\"Telegram\",\"Snapchat\",\"Twitter\",\"Facebook\",\"Instagram\",\"Whatsapp\",\"Telegram\",\"Snapchat\",\"Instagram\",\"Twitter\",\"Facebook\",\"Whatsapp\",\"Telegram\",\"Snapchat\",\"Instagram\",\"Twitter\",\"Facebook\",\"Whatsapp\",\"Telegram\",\"Snapchat\",\"Instagram\",\"Twitter\",\"Facebook\",\"Whatsapp\",\"Telegram\",\"Snapchat\",\"Instagram\",\"Twitter\",\"Facebook\",\"Whatsapp\",\"Telegram\",\"Snapchat\",\"Instagram\",\"Twitter\",\"Facebook\",\"Whatsapp\",\"Telegram\",\"Snapchat\",\"Instagram\",\"Twitter\",\"Facebook\",\"Instagram\",\"LinkedIn\",\"Instagram\",\"Twitter\",\"Facebook\",\"LinkedIn\",\"Instagram\",\"Twitter\",\"Facebook\",\"LinkedIn\",\"Instagram\",\"Twitter\",\"Facebook\",\"Instagram\",\"Twitter\",\"LinkedIn\",\"Instagram\",\"Facebook\",\"Twitter\",\"LinkedIn\",\"Instagram\",\"Twitter\",\"Facebook\",\"LinkedIn\",\"Instagram\",\"Twitter\",\"Facebook\",\"LinkedIn\",\"Instagram\",\"Twitter\",\"Instagram\",\"Facebook\",\"LinkedIn\",\"Instagram\",\"Twitter\",\"Instagram\",\"Facebook\",\"LinkedIn\",\"Instagram\",\"Twitter\",\"Facebook\",\"LinkedIn\",\"Instagram\",\"Twitter\",\"Facebook\",\"Instagram\",\"LinkedIn\",\"Instagram\",\"Twitter\",\"Facebook\",\"Instagram\",\"LinkedIn\",\"Whatsapp\",\"Telegram\",\"Snapchat\",\"Twitter\",\"Facebook\",\"Instagram\",\"Whatsapp\",\"Telegram\",\"Snapchat\",\"Twitter\",\"Facebook\",\"Instagram\",\"Whatsapp\",\"Telegram\",\"Snapchat\",\"Instagram\",\"Twitter\",\"Facebook\",\"Whatsapp\",\"Telegram\",\"Snapchat\",\"Instagram\",\"Twitter\",\"Facebook\",\"Whatsapp\",\"Telegram\",\"Snapchat\",\"Instagram\",\"Twitter\",\"Facebook\",\"Whatsapp\",\"Telegram\",\"Snapchat\",\"Instagram\",\"Twitter\",\"Facebook\",\"Whatsapp\",\"Telegram\",\"Snapchat\",\"Instagram\",\"Twitter\",\"Facebook\",\"Whatsapp\",\"Telegram\",\"Snapchat\"],\"xaxis\":\"x\",\"yaxis\":\"y\",\"type\":\"histogram\"}],                        {\"template\":{\"data\":{\"histogram2dcontour\":[{\"type\":\"histogram2dcontour\",\"colorbar\":{\"outlinewidth\":0,\"ticks\":\"\"},\"colorscale\":[[0.0,\"#0d0887\"],[0.1111111111111111,\"#46039f\"],[0.2222222222222222,\"#7201a8\"],[0.3333333333333333,\"#9c179e\"],[0.4444444444444444,\"#bd3786\"],[0.5555555555555556,\"#d8576b\"],[0.6666666666666666,\"#ed7953\"],[0.7777777777777778,\"#fb9f3a\"],[0.8888888888888888,\"#fdca26\"],[1.0,\"#f0f921\"]]}],\"choropleth\":[{\"type\":\"choropleth\",\"colorbar\":{\"outlinewidth\":0,\"ticks\":\"\"}}],\"histogram2d\":[{\"type\":\"histogram2d\",\"colorbar\":{\"outlinewidth\":0,\"ticks\":\"\"},\"colorscale\":[[0.0,\"#0d0887\"],[0.1111111111111111,\"#46039f\"],[0.2222222222222222,\"#7201a8\"],[0.3333333333333333,\"#9c179e\"],[0.4444444444444444,\"#bd3786\"],[0.5555555555555556,\"#d8576b\"],[0.6666666666666666,\"#ed7953\"],[0.7777777777777778,\"#fb9f3a\"],[0.8888888888888888,\"#fdca26\"],[1.0,\"#f0f921\"]]}],\"heatmap\":[{\"type\":\"heatmap\",\"colorbar\":{\"outlinewidth\":0,\"ticks\":\"\"},\"colorscale\":[[0.0,\"#0d0887\"],[0.1111111111111111,\"#46039f\"],[0.2222222222222222,\"#7201a8\"],[0.3333333333333333,\"#9c179e\"],[0.4444444444444444,\"#bd3786\"],[0.5555555555555556,\"#d8576b\"],[0.6666666666666666,\"#ed7953\"],[0.7777777777777778,\"#fb9f3a\"],[0.8888888888888888,\"#fdca26\"],[1.0,\"#f0f921\"]]}],\"heatmapgl\":[{\"type\":\"heatmapgl\",\"colorbar\":{\"outlinewidth\":0,\"ticks\":\"\"},\"colorscale\":[[0.0,\"#0d0887\"],[0.1111111111111111,\"#46039f\"],[0.2222222222222222,\"#7201a8\"],[0.3333333333333333,\"#9c179e\"],[0.4444444444444444,\"#bd3786\"],[0.5555555555555556,\"#d8576b\"],[0.6666666666666666,\"#ed7953\"],[0.7777777777777778,\"#fb9f3a\"],[0.8888888888888888,\"#fdca26\"],[1.0,\"#f0f921\"]]}],\"contourcarpet\":[{\"type\":\"contourcarpet\",\"colorbar\":{\"outlinewidth\":0,\"ticks\":\"\"}}],\"contour\":[{\"type\":\"contour\",\"colorbar\":{\"outlinewidth\":0,\"ticks\":\"\"},\"colorscale\":[[0.0,\"#0d0887\"],[0.1111111111111111,\"#46039f\"],[0.2222222222222222,\"#7201a8\"],[0.3333333333333333,\"#9c179e\"],[0.4444444444444444,\"#bd3786\"],[0.5555555555555556,\"#d8576b\"],[0.6666666666666666,\"#ed7953\"],[0.7777777777777778,\"#fb9f3a\"],[0.8888888888888888,\"#fdca26\"],[1.0,\"#f0f921\"]]}],\"surface\":[{\"type\":\"surface\",\"colorbar\":{\"outlinewidth\":0,\"ticks\":\"\"},\"colorscale\":[[0.0,\"#0d0887\"],[0.1111111111111111,\"#46039f\"],[0.2222222222222222,\"#7201a8\"],[0.3333333333333333,\"#9c179e\"],[0.4444444444444444,\"#bd3786\"],[0.5555555555555556,\"#d8576b\"],[0.6666666666666666,\"#ed7953\"],[0.7777777777777778,\"#fb9f3a\"],[0.8888888888888888,\"#fdca26\"],[1.0,\"#f0f921\"]]}],\"mesh3d\":[{\"type\":\"mesh3d\",\"colorbar\":{\"outlinewidth\":0,\"ticks\":\"\"}}],\"scatter\":[{\"fillpattern\":{\"fillmode\":\"overlay\",\"size\":10,\"solidity\":0.2},\"type\":\"scatter\"}],\"parcoords\":[{\"type\":\"parcoords\",\"line\":{\"colorbar\":{\"outlinewidth\":0,\"ticks\":\"\"}}}],\"scatterpolargl\":[{\"type\":\"scatterpolargl\",\"marker\":{\"colorbar\":{\"outlinewidth\":0,\"ticks\":\"\"}}}],\"bar\":[{\"error_x\":{\"color\":\"#2a3f5f\"},\"error_y\":{\"color\":\"#2a3f5f\"},\"marker\":{\"line\":{\"color\":\"#E5ECF6\",\"width\":0.5},\"pattern\":{\"fillmode\":\"overlay\",\"size\":10,\"solidity\":0.2}},\"type\":\"bar\"}],\"scattergeo\":[{\"type\":\"scattergeo\",\"marker\":{\"colorbar\":{\"outlinewidth\":0,\"ticks\":\"\"}}}],\"scatterpolar\":[{\"type\":\"scatterpolar\",\"marker\":{\"colorbar\":{\"outlinewidth\":0,\"ticks\":\"\"}}}],\"histogram\":[{\"marker\":{\"pattern\":{\"fillmode\":\"overlay\",\"size\":10,\"solidity\":0.2}},\"type\":\"histogram\"}],\"scattergl\":[{\"type\":\"scattergl\",\"marker\":{\"colorbar\":{\"outlinewidth\":0,\"ticks\":\"\"}}}],\"scatter3d\":[{\"type\":\"scatter3d\",\"line\":{\"colorbar\":{\"outlinewidth\":0,\"ticks\":\"\"}},\"marker\":{\"colorbar\":{\"outlinewidth\":0,\"ticks\":\"\"}}}],\"scattermapbox\":[{\"type\":\"scattermapbox\",\"marker\":{\"colorbar\":{\"outlinewidth\":0,\"ticks\":\"\"}}}],\"scatterternary\":[{\"type\":\"scatterternary\",\"marker\":{\"colorbar\":{\"outlinewidth\":0,\"ticks\":\"\"}}}],\"scattercarpet\":[{\"type\":\"scattercarpet\",\"marker\":{\"colorbar\":{\"outlinewidth\":0,\"ticks\":\"\"}}}],\"carpet\":[{\"aaxis\":{\"endlinecolor\":\"#2a3f5f\",\"gridcolor\":\"white\",\"linecolor\":\"white\",\"minorgridcolor\":\"white\",\"startlinecolor\":\"#2a3f5f\"},\"baxis\":{\"endlinecolor\":\"#2a3f5f\",\"gridcolor\":\"white\",\"linecolor\":\"white\",\"minorgridcolor\":\"white\",\"startlinecolor\":\"#2a3f5f\"},\"type\":\"carpet\"}],\"table\":[{\"cells\":{\"fill\":{\"color\":\"#EBF0F8\"},\"line\":{\"color\":\"white\"}},\"header\":{\"fill\":{\"color\":\"#C8D4E3\"},\"line\":{\"color\":\"white\"}},\"type\":\"table\"}],\"barpolar\":[{\"marker\":{\"line\":{\"color\":\"#E5ECF6\",\"width\":0.5},\"pattern\":{\"fillmode\":\"overlay\",\"size\":10,\"solidity\":0.2}},\"type\":\"barpolar\"}],\"pie\":[{\"automargin\":true,\"type\":\"pie\"}]},\"layout\":{\"autotypenumbers\":\"strict\",\"colorway\":[\"#636efa\",\"#EF553B\",\"#00cc96\",\"#ab63fa\",\"#FFA15A\",\"#19d3f3\",\"#FF6692\",\"#B6E880\",\"#FF97FF\",\"#FECB52\"],\"font\":{\"color\":\"#2a3f5f\"},\"hovermode\":\"closest\",\"hoverlabel\":{\"align\":\"left\"},\"paper_bgcolor\":\"white\",\"plot_bgcolor\":\"#E5ECF6\",\"polar\":{\"bgcolor\":\"#E5ECF6\",\"angularaxis\":{\"gridcolor\":\"white\",\"linecolor\":\"white\",\"ticks\":\"\"},\"radialaxis\":{\"gridcolor\":\"white\",\"linecolor\":\"white\",\"ticks\":\"\"}},\"ternary\":{\"bgcolor\":\"#E5ECF6\",\"aaxis\":{\"gridcolor\":\"white\",\"linecolor\":\"white\",\"ticks\":\"\"},\"baxis\":{\"gridcolor\":\"white\",\"linecolor\":\"white\",\"ticks\":\"\"},\"caxis\":{\"gridcolor\":\"white\",\"linecolor\":\"white\",\"ticks\":\"\"}},\"coloraxis\":{\"colorbar\":{\"outlinewidth\":0,\"ticks\":\"\"}},\"colorscale\":{\"sequential\":[[0.0,\"#0d0887\"],[0.1111111111111111,\"#46039f\"],[0.2222222222222222,\"#7201a8\"],[0.3333333333333333,\"#9c179e\"],[0.4444444444444444,\"#bd3786\"],[0.5555555555555556,\"#d8576b\"],[0.6666666666666666,\"#ed7953\"],[0.7777777777777778,\"#fb9f3a\"],[0.8888888888888888,\"#fdca26\"],[1.0,\"#f0f921\"]],\"sequentialminus\":[[0.0,\"#0d0887\"],[0.1111111111111111,\"#46039f\"],[0.2222222222222222,\"#7201a8\"],[0.3333333333333333,\"#9c179e\"],[0.4444444444444444,\"#bd3786\"],[0.5555555555555556,\"#d8576b\"],[0.6666666666666666,\"#ed7953\"],[0.7777777777777778,\"#fb9f3a\"],[0.8888888888888888,\"#fdca26\"],[1.0,\"#f0f921\"]],\"diverging\":[[0,\"#8e0152\"],[0.1,\"#c51b7d\"],[0.2,\"#de77ae\"],[0.3,\"#f1b6da\"],[0.4,\"#fde0ef\"],[0.5,\"#f7f7f7\"],[0.6,\"#e6f5d0\"],[0.7,\"#b8e186\"],[0.8,\"#7fbc41\"],[0.9,\"#4d9221\"],[1,\"#276419\"]]},\"xaxis\":{\"gridcolor\":\"white\",\"linecolor\":\"white\",\"ticks\":\"\",\"title\":{\"standoff\":15},\"zerolinecolor\":\"white\",\"automargin\":true,\"zerolinewidth\":2},\"yaxis\":{\"gridcolor\":\"white\",\"linecolor\":\"white\",\"ticks\":\"\",\"title\":{\"standoff\":15},\"zerolinecolor\":\"white\",\"automargin\":true,\"zerolinewidth\":2},\"scene\":{\"xaxis\":{\"backgroundcolor\":\"#E5ECF6\",\"gridcolor\":\"white\",\"linecolor\":\"white\",\"showbackground\":true,\"ticks\":\"\",\"zerolinecolor\":\"white\",\"gridwidth\":2},\"yaxis\":{\"backgroundcolor\":\"#E5ECF6\",\"gridcolor\":\"white\",\"linecolor\":\"white\",\"showbackground\":true,\"ticks\":\"\",\"zerolinecolor\":\"white\",\"gridwidth\":2},\"zaxis\":{\"backgroundcolor\":\"#E5ECF6\",\"gridcolor\":\"white\",\"linecolor\":\"white\",\"showbackground\":true,\"ticks\":\"\",\"zerolinecolor\":\"white\",\"gridwidth\":2}},\"shapedefaults\":{\"line\":{\"color\":\"#2a3f5f\"}},\"annotationdefaults\":{\"arrowcolor\":\"#2a3f5f\",\"arrowhead\":0,\"arrowwidth\":1},\"geo\":{\"bgcolor\":\"white\",\"landcolor\":\"#E5ECF6\",\"subunitcolor\":\"white\",\"showland\":true,\"showlakes\":true,\"lakecolor\":\"white\"},\"title\":{\"x\":0.05},\"mapbox\":{\"style\":\"light\"}}},\"xaxis\":{\"anchor\":\"y\",\"domain\":[0.0,1.0],\"title\":{\"text\":\"Platform\"}},\"yaxis\":{\"anchor\":\"x\",\"domain\":[0.0,1.0],\"title\":{\"text\":\"count\"}},\"legend\":{\"tracegroupgap\":0},\"title\":{\"text\":\"Platform Distribution\"},\"barmode\":\"relative\"},                        {\"responsive\": true}                    ).then(function(){\n",
       "                            \n",
       "var gd = document.getElementById('58de817e-91a2-4775-b9c3-f56e7a5a46d2');\n",
       "var x = new MutationObserver(function (mutations, observer) {{\n",
       "        var display = window.getComputedStyle(gd).display;\n",
       "        if (!display || display === 'none') {{\n",
       "            console.log([gd, 'removed!']);\n",
       "            Plotly.purge(gd);\n",
       "            observer.disconnect();\n",
       "        }}\n",
       "}});\n",
       "\n",
       "// Listen for the removal of the full notebook cells\n",
       "var notebookContainer = gd.closest('#notebook-container');\n",
       "if (notebookContainer) {{\n",
       "    x.observe(notebookContainer, {childList: true});\n",
       "}}\n",
       "\n",
       "// Listen for the clearing of the current output cell\n",
       "var outputEl = gd.closest('.output');\n",
       "if (outputEl) {{\n",
       "    x.observe(outputEl, {childList: true});\n",
       "}}\n",
       "\n",
       "                        })                };                });            </script>        </div>"
      ]
     },
     "metadata": {},
     "output_type": "display_data"
    }
   ],
   "source": [
    "plt = px.histogram(train_df, x='Platform', title='Platform Distribution')\n",
    "plt.show()"
   ]
  },
  {
   "cell_type": "markdown",
   "id": "2c522e0f",
   "metadata": {
    "papermill": {
     "duration": 0.032751,
     "end_time": "2024-05-23T11:22:51.223055",
     "exception": false,
     "start_time": "2024-05-23T11:22:51.190304",
     "status": "completed"
    },
    "tags": []
   },
   "source": [
    "### Daily Usage Time (minutes) Distribution"
   ]
  },
  {
   "cell_type": "code",
   "execution_count": 29,
   "id": "1b0be5fa",
   "metadata": {
    "execution": {
     "iopub.execute_input": "2024-05-23T11:22:51.291537Z",
     "iopub.status.busy": "2024-05-23T11:22:51.290703Z",
     "iopub.status.idle": "2024-05-23T11:22:51.360868Z",
     "shell.execute_reply": "2024-05-23T11:22:51.359398Z"
    },
    "papermill": {
     "duration": 0.107787,
     "end_time": "2024-05-23T11:22:51.363727",
     "exception": false,
     "start_time": "2024-05-23T11:22:51.255940",
     "status": "completed"
    },
    "tags": []
   },
   "outputs": [
    {
     "data": {
      "text/html": [
       "<div>                            <div id=\"47736c99-22e4-4d07-b29e-6bab14ef69f8\" class=\"plotly-graph-div\" style=\"height:525px; width:100%;\"></div>            <script type=\"text/javascript\">                require([\"plotly\"], function(Plotly) {                    window.PLOTLYENV=window.PLOTLYENV || {};                                    if (document.getElementById(\"47736c99-22e4-4d07-b29e-6bab14ef69f8\")) {                    Plotly.newPlot(                        \"47736c99-22e4-4d07-b29e-6bab14ef69f8\",                        [{\"alignmentgroup\":\"True\",\"bingroup\":\"x\",\"hovertemplate\":\"Daily_Usage_Time (minutes)=%{x}\\u003cbr\\u003ecount=%{y}\\u003cextra\\u003e\\u003c\\u002fextra\\u003e\",\"legendgroup\":\"\",\"marker\":{\"color\":\"#636efa\",\"pattern\":{\"shape\":\"\"}},\"name\":\"\",\"offsetgroup\":\"\",\"orientation\":\"v\",\"showlegend\":false,\"x\":[120.0,90.0,60.0,200.0,45.0,150.0,85.0,110.0,55.0,170.0,75.0,95.0,65.0,180.0,100.0,40.0,125.0,90.0,50.0,140.0,75.0,105.0,60.0,190.0,70.0,80.0,55.0,160.0,90.0,45.0,65.0,145.0,70.0,130.0,65.0,55.0,170.0,85.0,115.0,100.0,45.0,150.0,95.0,105.0,60.0,175.0,90.0,75.0,130.0,55.0,165.0,75.0,85.0,145.0,60.0,70.0,90.0,50.0,95.0,60.0,175.0,70.0,80.0,120.0,90.0,60.0,165.0,65.0,105.0,75.0,140.0,70.0,55.0,90.0,80.0,115.0,155.0,75.0,65.0,90.0,50.0,85.0,120.0,70.0,75.0,100.0,85.0,60.0,170.0,70.0,50.0,105.0,75.0,95.0,150.0,85.0,70.0,110.0,60.0,120.0,120.0,90.0,60.0,200.0,45.0,150.0,85.0,110.0,55.0,170.0,75.0,95.0,65.0,180.0,100.0,40.0,125.0,90.0,50.0,140.0,75.0,105.0,60.0,190.0,70.0,80.0,55.0,160.0,90.0,45.0,65.0,145.0,70.0,130.0,65.0,55.0,170.0,85.0,115.0,100.0,45.0,150.0,95.0,105.0,60.0,175.0,90.0,75.0,130.0,55.0,165.0,75.0,85.0,145.0,60.0,70.0,90.0,50.0,95.0,60.0,175.0,70.0,80.0,120.0,90.0,60.0,165.0,65.0,105.0,75.0,140.0,70.0,55.0,90.0,80.0,115.0,155.0,75.0,65.0,90.0,50.0,85.0,120.0,70.0,75.0,100.0,85.0,60.0,170.0,70.0,50.0,105.0,75.0,95.0,150.0,85.0,70.0,110.0,60.0,120.0,120.0,90.0,60.0,200.0,45.0,150.0,85.0,110.0,55.0,170.0,75.0,95.0,65.0,180.0,100.0,40.0,125.0,90.0,50.0,140.0,75.0,105.0,60.0,190.0,70.0,80.0,55.0,160.0,90.0,45.0,65.0,145.0,70.0,130.0,65.0,55.0,170.0,85.0,115.0,100.0,45.0,150.0,95.0,105.0,60.0,175.0,90.0,75.0,130.0,55.0,165.0,75.0,85.0,145.0,60.0,70.0,90.0,50.0,95.0,60.0,175.0,70.0,80.0,120.0,90.0,60.0,165.0,65.0,105.0,75.0,140.0,70.0,55.0,90.0,80.0,115.0,155.0,75.0,65.0,90.0,50.0,85.0,120.0,70.0,75.0,100.0,85.0,60.0,170.0,70.0,50.0,105.0,75.0,95.0,150.0,85.0,70.0,110.0,60.0,120.0,120.0,90.0,60.0,200.0,45.0,150.0,85.0,110.0,55.0,170.0,75.0,95.0,65.0,180.0,100.0,40.0,125.0,90.0,50.0,140.0,75.0,105.0,60.0,190.0,70.0,80.0,55.0,160.0,90.0,45.0,65.0,145.0,70.0,130.0,65.0,55.0,170.0,85.0,115.0,100.0,45.0,150.0,95.0,105.0,60.0,175.0,90.0,75.0,130.0,55.0,165.0,75.0,85.0,145.0,60.0,70.0,90.0,50.0,95.0,60.0,175.0,70.0,80.0,120.0,90.0,60.0,165.0,65.0,105.0,75.0,140.0,70.0,55.0,90.0,80.0,115.0,155.0,75.0,65.0,90.0,50.0,85.0,120.0,70.0,75.0,100.0,85.0,60.0,170.0,70.0,50.0,105.0,75.0,95.0,150.0,85.0,70.0,110.0,60.0,120.0,120.0,90.0,60.0,200.0,45.0,150.0,85.0,110.0,55.0,170.0,75.0,95.0,65.0,180.0,100.0,40.0,125.0,90.0,50.0,140.0,75.0,105.0,60.0,190.0,70.0,80.0,55.0,160.0,90.0,45.0,65.0,145.0,70.0,130.0,65.0,55.0,170.0,85.0,115.0,100.0,45.0,150.0,95.0,105.0,60.0,175.0,90.0,75.0,130.0,55.0,165.0,75.0,85.0,145.0,60.0,70.0,90.0,50.0,95.0,60.0,175.0,70.0,80.0,120.0,90.0,60.0,165.0,65.0,105.0,75.0,140.0,70.0,55.0,90.0,80.0,115.0,155.0,75.0,65.0,90.0,50.0,85.0,120.0,70.0,75.0,100.0,85.0,60.0,170.0,70.0,50.0,105.0,75.0,95.0,150.0,85.0,70.0,110.0,60.0,120.0,120.0,90.0,60.0,200.0,45.0,150.0,85.0,110.0,55.0,170.0,75.0,95.0,65.0,180.0,100.0,40.0,125.0,90.0,50.0,140.0,75.0,105.0,60.0,190.0,70.0,80.0,55.0,160.0,90.0,45.0,65.0,145.0,70.0,130.0,65.0,55.0,170.0,85.0,115.0,100.0,45.0,150.0,95.0,105.0,60.0,175.0,90.0,75.0,130.0,55.0,165.0,75.0,85.0,145.0,60.0,70.0,90.0,50.0,95.0,60.0,175.0,70.0,80.0,120.0,90.0,60.0,165.0,65.0,105.0,75.0,140.0,70.0,55.0,90.0,80.0,115.0,155.0,75.0,65.0,90.0,50.0,85.0,120.0,70.0,75.0,100.0,85.0,60.0,170.0,70.0,50.0,105.0,75.0,95.0,150.0,85.0,70.0,110.0,60.0,120.0,120.0,90.0,60.0,200.0,45.0,150.0,85.0,110.0,55.0,170.0,75.0,95.0,65.0,180.0,100.0,40.0,125.0,90.0,50.0,140.0,75.0,105.0,60.0,190.0,70.0,80.0,55.0,160.0,90.0,45.0,65.0,145.0,70.0,130.0,65.0,55.0,170.0,85.0,115.0,100.0,45.0,null,150.0,95.0,105.0,60.0,175.0,90.0,75.0,130.0,55.0,165.0,75.0,85.0,145.0,60.0,70.0,90.0,50.0,95.0,60.0,175.0,70.0,80.0,120.0,90.0,60.0,165.0,65.0,105.0,75.0,140.0,70.0,55.0,90.0,80.0,115.0,155.0,75.0,65.0,90.0,50.0,85.0,120.0,70.0,75.0,100.0,85.0,60.0,170.0,70.0,50.0,105.0,75.0,95.0,150.0,85.0,70.0,110.0,60.0,120.0,120.0,90.0,60.0,200.0,45.0,150.0,85.0,110.0,55.0,170.0,75.0,95.0,65.0,180.0,100.0,40.0,125.0,90.0,50.0,140.0,75.0,105.0,60.0,190.0,70.0,80.0,55.0,160.0,90.0,45.0,65.0,145.0,70.0,130.0,65.0,55.0,170.0,85.0,115.0,100.0,45.0,150.0,95.0,105.0,60.0,175.0,90.0,75.0,130.0,55.0,165.0,75.0,85.0,145.0,60.0,70.0,90.0,50.0,95.0,60.0,175.0,70.0,80.0,120.0,90.0,60.0,165.0,65.0,105.0,75.0,140.0,70.0,55.0,90.0,80.0,115.0,155.0,75.0,65.0,90.0,50.0,85.0,120.0,70.0,75.0,100.0,85.0,60.0,170.0,70.0,50.0,105.0,75.0,95.0,150.0,85.0,70.0,110.0,60.0,120.0,120.0,90.0,60.0,200.0,45.0,150.0,85.0,110.0,55.0,170.0,75.0,95.0,65.0,180.0,100.0,40.0,125.0,90.0,50.0,140.0,75.0,105.0,60.0,190.0,70.0,80.0,55.0,160.0,90.0,45.0,65.0,145.0,70.0,130.0,65.0,55.0,170.0,85.0,115.0,100.0,45.0,150.0,95.0,105.0,60.0,175.0,90.0,75.0,130.0,55.0,165.0,75.0,85.0,145.0,60.0,70.0,90.0,50.0,95.0,60.0,175.0,70.0,80.0,120.0,90.0,60.0,165.0,65.0,105.0,75.0,140.0,70.0,55.0,90.0,80.0,115.0,155.0,75.0,65.0,90.0,50.0,85.0,120.0,70.0,75.0,100.0,85.0,60.0,170.0,70.0,50.0,105.0,75.0,95.0,150.0,85.0,70.0,110.0,60.0,120.0,120.0,90.0,60.0,200.0,45.0,150.0,85.0,110.0,55.0,170.0,75.0,95.0,65.0,180.0,100.0,40.0,125.0,90.0,50.0,140.0,75.0,105.0,60.0,190.0,70.0,80.0,55.0,160.0,90.0,45.0,65.0,145.0,70.0,130.0,65.0,55.0,170.0,85.0,115.0,100.0,45.0,150.0,95.0,105.0,60.0,175.0,90.0,75.0,130.0,55.0,165.0,75.0,85.0,145.0,60.0,70.0,90.0,50.0,95.0,60.0,175.0,70.0,80.0,120.0,90.0,60.0,165.0,65.0,105.0,75.0,140.0,70.0,55.0,90.0,80.0,115.0,155.0,75.0,65.0,90.0,50.0,85.0,120.0,70.0,75.0,100.0,85.0,60.0,170.0,70.0,50.0,105.0,75.0,95.0,150.0,85.0,70.0,110.0,60.0,120.0],\"xaxis\":\"x\",\"yaxis\":\"y\",\"type\":\"histogram\"}],                        {\"template\":{\"data\":{\"histogram2dcontour\":[{\"type\":\"histogram2dcontour\",\"colorbar\":{\"outlinewidth\":0,\"ticks\":\"\"},\"colorscale\":[[0.0,\"#0d0887\"],[0.1111111111111111,\"#46039f\"],[0.2222222222222222,\"#7201a8\"],[0.3333333333333333,\"#9c179e\"],[0.4444444444444444,\"#bd3786\"],[0.5555555555555556,\"#d8576b\"],[0.6666666666666666,\"#ed7953\"],[0.7777777777777778,\"#fb9f3a\"],[0.8888888888888888,\"#fdca26\"],[1.0,\"#f0f921\"]]}],\"choropleth\":[{\"type\":\"choropleth\",\"colorbar\":{\"outlinewidth\":0,\"ticks\":\"\"}}],\"histogram2d\":[{\"type\":\"histogram2d\",\"colorbar\":{\"outlinewidth\":0,\"ticks\":\"\"},\"colorscale\":[[0.0,\"#0d0887\"],[0.1111111111111111,\"#46039f\"],[0.2222222222222222,\"#7201a8\"],[0.3333333333333333,\"#9c179e\"],[0.4444444444444444,\"#bd3786\"],[0.5555555555555556,\"#d8576b\"],[0.6666666666666666,\"#ed7953\"],[0.7777777777777778,\"#fb9f3a\"],[0.8888888888888888,\"#fdca26\"],[1.0,\"#f0f921\"]]}],\"heatmap\":[{\"type\":\"heatmap\",\"colorbar\":{\"outlinewidth\":0,\"ticks\":\"\"},\"colorscale\":[[0.0,\"#0d0887\"],[0.1111111111111111,\"#46039f\"],[0.2222222222222222,\"#7201a8\"],[0.3333333333333333,\"#9c179e\"],[0.4444444444444444,\"#bd3786\"],[0.5555555555555556,\"#d8576b\"],[0.6666666666666666,\"#ed7953\"],[0.7777777777777778,\"#fb9f3a\"],[0.8888888888888888,\"#fdca26\"],[1.0,\"#f0f921\"]]}],\"heatmapgl\":[{\"type\":\"heatmapgl\",\"colorbar\":{\"outlinewidth\":0,\"ticks\":\"\"},\"colorscale\":[[0.0,\"#0d0887\"],[0.1111111111111111,\"#46039f\"],[0.2222222222222222,\"#7201a8\"],[0.3333333333333333,\"#9c179e\"],[0.4444444444444444,\"#bd3786\"],[0.5555555555555556,\"#d8576b\"],[0.6666666666666666,\"#ed7953\"],[0.7777777777777778,\"#fb9f3a\"],[0.8888888888888888,\"#fdca26\"],[1.0,\"#f0f921\"]]}],\"contourcarpet\":[{\"type\":\"contourcarpet\",\"colorbar\":{\"outlinewidth\":0,\"ticks\":\"\"}}],\"contour\":[{\"type\":\"contour\",\"colorbar\":{\"outlinewidth\":0,\"ticks\":\"\"},\"colorscale\":[[0.0,\"#0d0887\"],[0.1111111111111111,\"#46039f\"],[0.2222222222222222,\"#7201a8\"],[0.3333333333333333,\"#9c179e\"],[0.4444444444444444,\"#bd3786\"],[0.5555555555555556,\"#d8576b\"],[0.6666666666666666,\"#ed7953\"],[0.7777777777777778,\"#fb9f3a\"],[0.8888888888888888,\"#fdca26\"],[1.0,\"#f0f921\"]]}],\"surface\":[{\"type\":\"surface\",\"colorbar\":{\"outlinewidth\":0,\"ticks\":\"\"},\"colorscale\":[[0.0,\"#0d0887\"],[0.1111111111111111,\"#46039f\"],[0.2222222222222222,\"#7201a8\"],[0.3333333333333333,\"#9c179e\"],[0.4444444444444444,\"#bd3786\"],[0.5555555555555556,\"#d8576b\"],[0.6666666666666666,\"#ed7953\"],[0.7777777777777778,\"#fb9f3a\"],[0.8888888888888888,\"#fdca26\"],[1.0,\"#f0f921\"]]}],\"mesh3d\":[{\"type\":\"mesh3d\",\"colorbar\":{\"outlinewidth\":0,\"ticks\":\"\"}}],\"scatter\":[{\"fillpattern\":{\"fillmode\":\"overlay\",\"size\":10,\"solidity\":0.2},\"type\":\"scatter\"}],\"parcoords\":[{\"type\":\"parcoords\",\"line\":{\"colorbar\":{\"outlinewidth\":0,\"ticks\":\"\"}}}],\"scatterpolargl\":[{\"type\":\"scatterpolargl\",\"marker\":{\"colorbar\":{\"outlinewidth\":0,\"ticks\":\"\"}}}],\"bar\":[{\"error_x\":{\"color\":\"#2a3f5f\"},\"error_y\":{\"color\":\"#2a3f5f\"},\"marker\":{\"line\":{\"color\":\"#E5ECF6\",\"width\":0.5},\"pattern\":{\"fillmode\":\"overlay\",\"size\":10,\"solidity\":0.2}},\"type\":\"bar\"}],\"scattergeo\":[{\"type\":\"scattergeo\",\"marker\":{\"colorbar\":{\"outlinewidth\":0,\"ticks\":\"\"}}}],\"scatterpolar\":[{\"type\":\"scatterpolar\",\"marker\":{\"colorbar\":{\"outlinewidth\":0,\"ticks\":\"\"}}}],\"histogram\":[{\"marker\":{\"pattern\":{\"fillmode\":\"overlay\",\"size\":10,\"solidity\":0.2}},\"type\":\"histogram\"}],\"scattergl\":[{\"type\":\"scattergl\",\"marker\":{\"colorbar\":{\"outlinewidth\":0,\"ticks\":\"\"}}}],\"scatter3d\":[{\"type\":\"scatter3d\",\"line\":{\"colorbar\":{\"outlinewidth\":0,\"ticks\":\"\"}},\"marker\":{\"colorbar\":{\"outlinewidth\":0,\"ticks\":\"\"}}}],\"scattermapbox\":[{\"type\":\"scattermapbox\",\"marker\":{\"colorbar\":{\"outlinewidth\":0,\"ticks\":\"\"}}}],\"scatterternary\":[{\"type\":\"scatterternary\",\"marker\":{\"colorbar\":{\"outlinewidth\":0,\"ticks\":\"\"}}}],\"scattercarpet\":[{\"type\":\"scattercarpet\",\"marker\":{\"colorbar\":{\"outlinewidth\":0,\"ticks\":\"\"}}}],\"carpet\":[{\"aaxis\":{\"endlinecolor\":\"#2a3f5f\",\"gridcolor\":\"white\",\"linecolor\":\"white\",\"minorgridcolor\":\"white\",\"startlinecolor\":\"#2a3f5f\"},\"baxis\":{\"endlinecolor\":\"#2a3f5f\",\"gridcolor\":\"white\",\"linecolor\":\"white\",\"minorgridcolor\":\"white\",\"startlinecolor\":\"#2a3f5f\"},\"type\":\"carpet\"}],\"table\":[{\"cells\":{\"fill\":{\"color\":\"#EBF0F8\"},\"line\":{\"color\":\"white\"}},\"header\":{\"fill\":{\"color\":\"#C8D4E3\"},\"line\":{\"color\":\"white\"}},\"type\":\"table\"}],\"barpolar\":[{\"marker\":{\"line\":{\"color\":\"#E5ECF6\",\"width\":0.5},\"pattern\":{\"fillmode\":\"overlay\",\"size\":10,\"solidity\":0.2}},\"type\":\"barpolar\"}],\"pie\":[{\"automargin\":true,\"type\":\"pie\"}]},\"layout\":{\"autotypenumbers\":\"strict\",\"colorway\":[\"#636efa\",\"#EF553B\",\"#00cc96\",\"#ab63fa\",\"#FFA15A\",\"#19d3f3\",\"#FF6692\",\"#B6E880\",\"#FF97FF\",\"#FECB52\"],\"font\":{\"color\":\"#2a3f5f\"},\"hovermode\":\"closest\",\"hoverlabel\":{\"align\":\"left\"},\"paper_bgcolor\":\"white\",\"plot_bgcolor\":\"#E5ECF6\",\"polar\":{\"bgcolor\":\"#E5ECF6\",\"angularaxis\":{\"gridcolor\":\"white\",\"linecolor\":\"white\",\"ticks\":\"\"},\"radialaxis\":{\"gridcolor\":\"white\",\"linecolor\":\"white\",\"ticks\":\"\"}},\"ternary\":{\"bgcolor\":\"#E5ECF6\",\"aaxis\":{\"gridcolor\":\"white\",\"linecolor\":\"white\",\"ticks\":\"\"},\"baxis\":{\"gridcolor\":\"white\",\"linecolor\":\"white\",\"ticks\":\"\"},\"caxis\":{\"gridcolor\":\"white\",\"linecolor\":\"white\",\"ticks\":\"\"}},\"coloraxis\":{\"colorbar\":{\"outlinewidth\":0,\"ticks\":\"\"}},\"colorscale\":{\"sequential\":[[0.0,\"#0d0887\"],[0.1111111111111111,\"#46039f\"],[0.2222222222222222,\"#7201a8\"],[0.3333333333333333,\"#9c179e\"],[0.4444444444444444,\"#bd3786\"],[0.5555555555555556,\"#d8576b\"],[0.6666666666666666,\"#ed7953\"],[0.7777777777777778,\"#fb9f3a\"],[0.8888888888888888,\"#fdca26\"],[1.0,\"#f0f921\"]],\"sequentialminus\":[[0.0,\"#0d0887\"],[0.1111111111111111,\"#46039f\"],[0.2222222222222222,\"#7201a8\"],[0.3333333333333333,\"#9c179e\"],[0.4444444444444444,\"#bd3786\"],[0.5555555555555556,\"#d8576b\"],[0.6666666666666666,\"#ed7953\"],[0.7777777777777778,\"#fb9f3a\"],[0.8888888888888888,\"#fdca26\"],[1.0,\"#f0f921\"]],\"diverging\":[[0,\"#8e0152\"],[0.1,\"#c51b7d\"],[0.2,\"#de77ae\"],[0.3,\"#f1b6da\"],[0.4,\"#fde0ef\"],[0.5,\"#f7f7f7\"],[0.6,\"#e6f5d0\"],[0.7,\"#b8e186\"],[0.8,\"#7fbc41\"],[0.9,\"#4d9221\"],[1,\"#276419\"]]},\"xaxis\":{\"gridcolor\":\"white\",\"linecolor\":\"white\",\"ticks\":\"\",\"title\":{\"standoff\":15},\"zerolinecolor\":\"white\",\"automargin\":true,\"zerolinewidth\":2},\"yaxis\":{\"gridcolor\":\"white\",\"linecolor\":\"white\",\"ticks\":\"\",\"title\":{\"standoff\":15},\"zerolinecolor\":\"white\",\"automargin\":true,\"zerolinewidth\":2},\"scene\":{\"xaxis\":{\"backgroundcolor\":\"#E5ECF6\",\"gridcolor\":\"white\",\"linecolor\":\"white\",\"showbackground\":true,\"ticks\":\"\",\"zerolinecolor\":\"white\",\"gridwidth\":2},\"yaxis\":{\"backgroundcolor\":\"#E5ECF6\",\"gridcolor\":\"white\",\"linecolor\":\"white\",\"showbackground\":true,\"ticks\":\"\",\"zerolinecolor\":\"white\",\"gridwidth\":2},\"zaxis\":{\"backgroundcolor\":\"#E5ECF6\",\"gridcolor\":\"white\",\"linecolor\":\"white\",\"showbackground\":true,\"ticks\":\"\",\"zerolinecolor\":\"white\",\"gridwidth\":2}},\"shapedefaults\":{\"line\":{\"color\":\"#2a3f5f\"}},\"annotationdefaults\":{\"arrowcolor\":\"#2a3f5f\",\"arrowhead\":0,\"arrowwidth\":1},\"geo\":{\"bgcolor\":\"white\",\"landcolor\":\"#E5ECF6\",\"subunitcolor\":\"white\",\"showland\":true,\"showlakes\":true,\"lakecolor\":\"white\"},\"title\":{\"x\":0.05},\"mapbox\":{\"style\":\"light\"}}},\"xaxis\":{\"anchor\":\"y\",\"domain\":[0.0,1.0],\"title\":{\"text\":\"Daily_Usage_Time (minutes)\"}},\"yaxis\":{\"anchor\":\"x\",\"domain\":[0.0,1.0],\"title\":{\"text\":\"count\"}},\"legend\":{\"tracegroupgap\":0},\"title\":{\"text\":\"Daily Usage Time Distribution\"},\"barmode\":\"relative\"},                        {\"responsive\": true}                    ).then(function(){\n",
       "                            \n",
       "var gd = document.getElementById('47736c99-22e4-4d07-b29e-6bab14ef69f8');\n",
       "var x = new MutationObserver(function (mutations, observer) {{\n",
       "        var display = window.getComputedStyle(gd).display;\n",
       "        if (!display || display === 'none') {{\n",
       "            console.log([gd, 'removed!']);\n",
       "            Plotly.purge(gd);\n",
       "            observer.disconnect();\n",
       "        }}\n",
       "}});\n",
       "\n",
       "// Listen for the removal of the full notebook cells\n",
       "var notebookContainer = gd.closest('#notebook-container');\n",
       "if (notebookContainer) {{\n",
       "    x.observe(notebookContainer, {childList: true});\n",
       "}}\n",
       "\n",
       "// Listen for the clearing of the current output cell\n",
       "var outputEl = gd.closest('.output');\n",
       "if (outputEl) {{\n",
       "    x.observe(outputEl, {childList: true});\n",
       "}}\n",
       "\n",
       "                        })                };                });            </script>        </div>"
      ]
     },
     "metadata": {},
     "output_type": "display_data"
    }
   ],
   "source": [
    "plt = px.histogram(train_df, x='Daily_Usage_Time (minutes)', title='Daily Usage Time Distribution')\n",
    "plt.show()"
   ]
  },
  {
   "cell_type": "markdown",
   "id": "11a4377a",
   "metadata": {
    "papermill": {
     "duration": 0.033917,
     "end_time": "2024-05-23T11:22:51.431267",
     "exception": false,
     "start_time": "2024-05-23T11:22:51.397350",
     "status": "completed"
    },
    "tags": []
   },
   "source": [
    "### Post Per Day Distribution"
   ]
  },
  {
   "cell_type": "code",
   "execution_count": 30,
   "id": "2ecd85a6",
   "metadata": {
    "execution": {
     "iopub.execute_input": "2024-05-23T11:22:51.501176Z",
     "iopub.status.busy": "2024-05-23T11:22:51.500367Z",
     "iopub.status.idle": "2024-05-23T11:22:51.508321Z",
     "shell.execute_reply": "2024-05-23T11:22:51.507276Z"
    },
    "papermill": {
     "duration": 0.045621,
     "end_time": "2024-05-23T11:22:51.510631",
     "exception": false,
     "start_time": "2024-05-23T11:22:51.465010",
     "status": "completed"
    },
    "tags": []
   },
   "outputs": [
    {
     "data": {
      "text/plain": [
       "array([ 3.,  5.,  2.,  8.,  1.,  4.,  6.,  7., nan])"
      ]
     },
     "execution_count": 30,
     "metadata": {},
     "output_type": "execute_result"
    }
   ],
   "source": [
    "train_df['Posts_Per_Day'].unique()"
   ]
  },
  {
   "cell_type": "code",
   "execution_count": 31,
   "id": "b4b53a16",
   "metadata": {
    "execution": {
     "iopub.execute_input": "2024-05-23T11:22:51.583965Z",
     "iopub.status.busy": "2024-05-23T11:22:51.583155Z",
     "iopub.status.idle": "2024-05-23T11:22:51.591892Z",
     "shell.execute_reply": "2024-05-23T11:22:51.590754Z"
    },
    "papermill": {
     "duration": 0.047471,
     "end_time": "2024-05-23T11:22:51.594549",
     "exception": false,
     "start_time": "2024-05-23T11:22:51.547078",
     "status": "completed"
    },
    "tags": []
   },
   "outputs": [],
   "source": [
    "# fill with mode\n",
    "train_df['Posts_Per_Day'].fillna(train_df['Posts_Per_Day'].mode()[0], inplace=True)"
   ]
  },
  {
   "cell_type": "code",
   "execution_count": 32,
   "id": "4c0faf68",
   "metadata": {
    "execution": {
     "iopub.execute_input": "2024-05-23T11:22:51.664912Z",
     "iopub.status.busy": "2024-05-23T11:22:51.663724Z",
     "iopub.status.idle": "2024-05-23T11:22:51.734260Z",
     "shell.execute_reply": "2024-05-23T11:22:51.733010Z"
    },
    "papermill": {
     "duration": 0.10817,
     "end_time": "2024-05-23T11:22:51.736713",
     "exception": false,
     "start_time": "2024-05-23T11:22:51.628543",
     "status": "completed"
    },
    "tags": []
   },
   "outputs": [
    {
     "data": {
      "text/html": [
       "<div>                            <div id=\"2b0883fc-d3bb-4ab0-a221-a1b740de9ee8\" class=\"plotly-graph-div\" style=\"height:525px; width:100%;\"></div>            <script type=\"text/javascript\">                require([\"plotly\"], function(Plotly) {                    window.PLOTLYENV=window.PLOTLYENV || {};                                    if (document.getElementById(\"2b0883fc-d3bb-4ab0-a221-a1b740de9ee8\")) {                    Plotly.newPlot(                        \"2b0883fc-d3bb-4ab0-a221-a1b740de9ee8\",                        [{\"alignmentgroup\":\"True\",\"bingroup\":\"x\",\"hovertemplate\":\"Posts_Per_Day=%{x}\\u003cbr\\u003ecount=%{y}\\u003cextra\\u003e\\u003c\\u002fextra\\u003e\",\"legendgroup\":\"\",\"marker\":{\"color\":\"#636efa\",\"pattern\":{\"shape\":\"\"}},\"name\":\"\",\"offsetgroup\":\"\",\"orientation\":\"v\",\"showlegend\":false,\"x\":[3.0,5.0,2.0,8.0,1.0,4.0,3.0,6.0,2.0,5.0,4.0,3.0,1.0,7.0,6.0,1.0,4.0,3.0,1.0,5.0,2.0,4.0,2.0,8.0,3.0,2.0,1.0,6.0,4.0,1.0,2.0,5.0,3.0,6.0,2.0,1.0,7.0,4.0,3.0,2.0,1.0,6.0,4.0,2.0,1.0,7.0,3.0,2.0,5.0,1.0,6.0,3.0,2.0,4.0,1.0,2.0,3.0,2.0,4.0,1.0,6.0,3.0,2.0,4.0,6.0,1.0,5.0,2.0,3.0,2.0,4.0,1.0,3.0,2.0,4.0,3.0,6.0,2.0,1.0,4.0,2.0,3.0,5.0,1.0,2.0,4.0,3.0,1.0,6.0,2.0,1.0,4.0,3.0,2.0,5.0,4.0,1.0,3.0,2.0,4.0,5.0,4.0,2.0,8.0,1.0,5.0,3.0,6.0,2.0,7.0,4.0,3.0,1.0,8.0,6.0,1.0,5.0,3.0,1.0,6.0,2.0,4.0,2.0,8.0,3.0,2.0,1.0,6.0,4.0,1.0,2.0,7.0,3.0,6.0,2.0,1.0,7.0,4.0,3.0,2.0,1.0,6.0,4.0,2.0,1.0,7.0,3.0,2.0,5.0,1.0,6.0,3.0,2.0,4.0,1.0,2.0,3.0,2.0,4.0,1.0,6.0,3.0,2.0,4.0,6.0,1.0,5.0,2.0,3.0,2.0,4.0,1.0,3.0,2.0,4.0,3.0,6.0,2.0,1.0,4.0,2.0,3.0,5.0,1.0,2.0,4.0,3.0,1.0,6.0,2.0,1.0,4.0,3.0,2.0,5.0,4.0,1.0,3.0,2.0,4.0,5.0,4.0,2.0,8.0,1.0,5.0,3.0,6.0,2.0,7.0,4.0,3.0,1.0,8.0,6.0,1.0,5.0,3.0,1.0,6.0,2.0,4.0,2.0,8.0,3.0,2.0,1.0,6.0,4.0,1.0,2.0,7.0,3.0,6.0,2.0,1.0,7.0,4.0,3.0,2.0,1.0,6.0,4.0,2.0,1.0,7.0,3.0,2.0,5.0,1.0,6.0,3.0,2.0,4.0,1.0,2.0,3.0,2.0,4.0,1.0,6.0,3.0,2.0,4.0,6.0,1.0,5.0,2.0,3.0,2.0,4.0,1.0,3.0,2.0,4.0,3.0,6.0,2.0,1.0,4.0,2.0,3.0,5.0,1.0,2.0,4.0,3.0,1.0,6.0,2.0,1.0,4.0,3.0,2.0,5.0,4.0,1.0,3.0,2.0,4.0,5.0,4.0,2.0,8.0,1.0,5.0,3.0,6.0,2.0,7.0,4.0,3.0,1.0,8.0,6.0,1.0,5.0,3.0,1.0,6.0,2.0,4.0,2.0,8.0,3.0,2.0,1.0,6.0,4.0,1.0,2.0,7.0,3.0,6.0,2.0,1.0,7.0,4.0,3.0,2.0,1.0,6.0,4.0,2.0,1.0,7.0,3.0,2.0,5.0,1.0,6.0,3.0,2.0,4.0,1.0,2.0,3.0,2.0,4.0,1.0,6.0,3.0,2.0,4.0,6.0,1.0,5.0,2.0,3.0,2.0,4.0,1.0,3.0,2.0,4.0,3.0,6.0,2.0,1.0,4.0,2.0,3.0,5.0,1.0,2.0,4.0,3.0,1.0,6.0,2.0,1.0,4.0,3.0,2.0,5.0,4.0,1.0,3.0,2.0,4.0,5.0,4.0,2.0,8.0,1.0,5.0,3.0,6.0,2.0,7.0,4.0,3.0,1.0,8.0,6.0,1.0,5.0,3.0,1.0,6.0,2.0,4.0,2.0,8.0,3.0,2.0,1.0,6.0,4.0,1.0,2.0,7.0,3.0,6.0,2.0,1.0,7.0,4.0,3.0,2.0,1.0,6.0,4.0,2.0,1.0,7.0,3.0,2.0,5.0,1.0,6.0,3.0,2.0,4.0,1.0,2.0,3.0,2.0,4.0,1.0,6.0,3.0,2.0,4.0,6.0,1.0,5.0,2.0,3.0,2.0,4.0,1.0,3.0,2.0,4.0,3.0,6.0,2.0,1.0,4.0,2.0,3.0,5.0,1.0,2.0,4.0,3.0,1.0,6.0,2.0,1.0,4.0,3.0,2.0,5.0,4.0,1.0,3.0,2.0,4.0,5.0,4.0,2.0,8.0,1.0,5.0,3.0,6.0,2.0,7.0,4.0,3.0,1.0,8.0,6.0,1.0,5.0,3.0,1.0,6.0,2.0,4.0,2.0,8.0,3.0,2.0,1.0,6.0,4.0,1.0,2.0,7.0,3.0,6.0,2.0,1.0,7.0,4.0,3.0,2.0,1.0,6.0,4.0,2.0,1.0,7.0,3.0,2.0,5.0,1.0,6.0,3.0,2.0,4.0,1.0,2.0,3.0,2.0,4.0,1.0,6.0,3.0,2.0,4.0,6.0,1.0,5.0,2.0,3.0,2.0,4.0,1.0,3.0,2.0,4.0,3.0,6.0,2.0,1.0,4.0,2.0,3.0,5.0,1.0,2.0,4.0,3.0,1.0,6.0,2.0,1.0,4.0,3.0,2.0,5.0,4.0,1.0,3.0,2.0,4.0,5.0,4.0,2.0,8.0,1.0,5.0,3.0,6.0,2.0,7.0,4.0,3.0,1.0,8.0,6.0,1.0,5.0,3.0,1.0,6.0,2.0,4.0,2.0,8.0,3.0,2.0,1.0,6.0,4.0,1.0,2.0,7.0,3.0,6.0,2.0,1.0,7.0,4.0,3.0,2.0,1.0,2.0,6.0,4.0,2.0,1.0,7.0,3.0,2.0,5.0,1.0,6.0,3.0,2.0,4.0,1.0,2.0,3.0,2.0,4.0,1.0,6.0,3.0,2.0,4.0,6.0,1.0,5.0,2.0,3.0,2.0,4.0,1.0,3.0,2.0,4.0,3.0,6.0,2.0,1.0,4.0,2.0,3.0,5.0,1.0,2.0,4.0,3.0,1.0,6.0,2.0,1.0,4.0,3.0,2.0,5.0,4.0,1.0,3.0,2.0,4.0,5.0,4.0,2.0,8.0,1.0,5.0,3.0,6.0,2.0,7.0,4.0,3.0,1.0,8.0,6.0,1.0,5.0,3.0,1.0,6.0,2.0,4.0,2.0,8.0,3.0,2.0,1.0,6.0,4.0,1.0,2.0,7.0,3.0,6.0,2.0,1.0,7.0,4.0,3.0,2.0,1.0,6.0,4.0,2.0,1.0,7.0,3.0,2.0,5.0,1.0,6.0,3.0,2.0,4.0,1.0,2.0,3.0,2.0,4.0,1.0,6.0,3.0,2.0,4.0,6.0,1.0,5.0,2.0,3.0,2.0,4.0,1.0,3.0,2.0,4.0,3.0,6.0,2.0,1.0,4.0,2.0,3.0,5.0,1.0,2.0,4.0,3.0,1.0,6.0,2.0,1.0,4.0,3.0,2.0,5.0,4.0,1.0,3.0,2.0,4.0,5.0,4.0,2.0,8.0,1.0,5.0,3.0,6.0,2.0,7.0,4.0,3.0,1.0,8.0,6.0,1.0,5.0,3.0,1.0,6.0,2.0,4.0,2.0,8.0,3.0,2.0,1.0,6.0,4.0,1.0,2.0,7.0,3.0,6.0,2.0,1.0,7.0,4.0,3.0,2.0,1.0,6.0,4.0,2.0,1.0,7.0,3.0,2.0,5.0,1.0,6.0,3.0,2.0,4.0,1.0,2.0,3.0,2.0,4.0,1.0,6.0,3.0,2.0,4.0,6.0,1.0,5.0,2.0,3.0,2.0,4.0,1.0,3.0,2.0,4.0,3.0,6.0,2.0,1.0,4.0,2.0,3.0,5.0,1.0,2.0,4.0,3.0,1.0,6.0,2.0,1.0,4.0,3.0,2.0,5.0,4.0,1.0,3.0,2.0,4.0,5.0,4.0,2.0,8.0,1.0,5.0,3.0,6.0,2.0,7.0,4.0,3.0,1.0,8.0,6.0,1.0,5.0,3.0,1.0,6.0,2.0,4.0,2.0,8.0,3.0,2.0,1.0,6.0,4.0,1.0,2.0,7.0,3.0,6.0,2.0,1.0,7.0,4.0,3.0,2.0,1.0,6.0,4.0,2.0,1.0,7.0,3.0,2.0,5.0,1.0,6.0,3.0,2.0,4.0,1.0,2.0,3.0,2.0,4.0,1.0,6.0,3.0,2.0,4.0,6.0,1.0,5.0,2.0,3.0,2.0,4.0,1.0,3.0,2.0,4.0,3.0,6.0,2.0,1.0,4.0,2.0,3.0,5.0,1.0,2.0,4.0,3.0,1.0,6.0,2.0,1.0,4.0,3.0,2.0,5.0,4.0,1.0,3.0,2.0,4.0],\"xaxis\":\"x\",\"yaxis\":\"y\",\"type\":\"histogram\"}],                        {\"template\":{\"data\":{\"histogram2dcontour\":[{\"type\":\"histogram2dcontour\",\"colorbar\":{\"outlinewidth\":0,\"ticks\":\"\"},\"colorscale\":[[0.0,\"#0d0887\"],[0.1111111111111111,\"#46039f\"],[0.2222222222222222,\"#7201a8\"],[0.3333333333333333,\"#9c179e\"],[0.4444444444444444,\"#bd3786\"],[0.5555555555555556,\"#d8576b\"],[0.6666666666666666,\"#ed7953\"],[0.7777777777777778,\"#fb9f3a\"],[0.8888888888888888,\"#fdca26\"],[1.0,\"#f0f921\"]]}],\"choropleth\":[{\"type\":\"choropleth\",\"colorbar\":{\"outlinewidth\":0,\"ticks\":\"\"}}],\"histogram2d\":[{\"type\":\"histogram2d\",\"colorbar\":{\"outlinewidth\":0,\"ticks\":\"\"},\"colorscale\":[[0.0,\"#0d0887\"],[0.1111111111111111,\"#46039f\"],[0.2222222222222222,\"#7201a8\"],[0.3333333333333333,\"#9c179e\"],[0.4444444444444444,\"#bd3786\"],[0.5555555555555556,\"#d8576b\"],[0.6666666666666666,\"#ed7953\"],[0.7777777777777778,\"#fb9f3a\"],[0.8888888888888888,\"#fdca26\"],[1.0,\"#f0f921\"]]}],\"heatmap\":[{\"type\":\"heatmap\",\"colorbar\":{\"outlinewidth\":0,\"ticks\":\"\"},\"colorscale\":[[0.0,\"#0d0887\"],[0.1111111111111111,\"#46039f\"],[0.2222222222222222,\"#7201a8\"],[0.3333333333333333,\"#9c179e\"],[0.4444444444444444,\"#bd3786\"],[0.5555555555555556,\"#d8576b\"],[0.6666666666666666,\"#ed7953\"],[0.7777777777777778,\"#fb9f3a\"],[0.8888888888888888,\"#fdca26\"],[1.0,\"#f0f921\"]]}],\"heatmapgl\":[{\"type\":\"heatmapgl\",\"colorbar\":{\"outlinewidth\":0,\"ticks\":\"\"},\"colorscale\":[[0.0,\"#0d0887\"],[0.1111111111111111,\"#46039f\"],[0.2222222222222222,\"#7201a8\"],[0.3333333333333333,\"#9c179e\"],[0.4444444444444444,\"#bd3786\"],[0.5555555555555556,\"#d8576b\"],[0.6666666666666666,\"#ed7953\"],[0.7777777777777778,\"#fb9f3a\"],[0.8888888888888888,\"#fdca26\"],[1.0,\"#f0f921\"]]}],\"contourcarpet\":[{\"type\":\"contourcarpet\",\"colorbar\":{\"outlinewidth\":0,\"ticks\":\"\"}}],\"contour\":[{\"type\":\"contour\",\"colorbar\":{\"outlinewidth\":0,\"ticks\":\"\"},\"colorscale\":[[0.0,\"#0d0887\"],[0.1111111111111111,\"#46039f\"],[0.2222222222222222,\"#7201a8\"],[0.3333333333333333,\"#9c179e\"],[0.4444444444444444,\"#bd3786\"],[0.5555555555555556,\"#d8576b\"],[0.6666666666666666,\"#ed7953\"],[0.7777777777777778,\"#fb9f3a\"],[0.8888888888888888,\"#fdca26\"],[1.0,\"#f0f921\"]]}],\"surface\":[{\"type\":\"surface\",\"colorbar\":{\"outlinewidth\":0,\"ticks\":\"\"},\"colorscale\":[[0.0,\"#0d0887\"],[0.1111111111111111,\"#46039f\"],[0.2222222222222222,\"#7201a8\"],[0.3333333333333333,\"#9c179e\"],[0.4444444444444444,\"#bd3786\"],[0.5555555555555556,\"#d8576b\"],[0.6666666666666666,\"#ed7953\"],[0.7777777777777778,\"#fb9f3a\"],[0.8888888888888888,\"#fdca26\"],[1.0,\"#f0f921\"]]}],\"mesh3d\":[{\"type\":\"mesh3d\",\"colorbar\":{\"outlinewidth\":0,\"ticks\":\"\"}}],\"scatter\":[{\"fillpattern\":{\"fillmode\":\"overlay\",\"size\":10,\"solidity\":0.2},\"type\":\"scatter\"}],\"parcoords\":[{\"type\":\"parcoords\",\"line\":{\"colorbar\":{\"outlinewidth\":0,\"ticks\":\"\"}}}],\"scatterpolargl\":[{\"type\":\"scatterpolargl\",\"marker\":{\"colorbar\":{\"outlinewidth\":0,\"ticks\":\"\"}}}],\"bar\":[{\"error_x\":{\"color\":\"#2a3f5f\"},\"error_y\":{\"color\":\"#2a3f5f\"},\"marker\":{\"line\":{\"color\":\"#E5ECF6\",\"width\":0.5},\"pattern\":{\"fillmode\":\"overlay\",\"size\":10,\"solidity\":0.2}},\"type\":\"bar\"}],\"scattergeo\":[{\"type\":\"scattergeo\",\"marker\":{\"colorbar\":{\"outlinewidth\":0,\"ticks\":\"\"}}}],\"scatterpolar\":[{\"type\":\"scatterpolar\",\"marker\":{\"colorbar\":{\"outlinewidth\":0,\"ticks\":\"\"}}}],\"histogram\":[{\"marker\":{\"pattern\":{\"fillmode\":\"overlay\",\"size\":10,\"solidity\":0.2}},\"type\":\"histogram\"}],\"scattergl\":[{\"type\":\"scattergl\",\"marker\":{\"colorbar\":{\"outlinewidth\":0,\"ticks\":\"\"}}}],\"scatter3d\":[{\"type\":\"scatter3d\",\"line\":{\"colorbar\":{\"outlinewidth\":0,\"ticks\":\"\"}},\"marker\":{\"colorbar\":{\"outlinewidth\":0,\"ticks\":\"\"}}}],\"scattermapbox\":[{\"type\":\"scattermapbox\",\"marker\":{\"colorbar\":{\"outlinewidth\":0,\"ticks\":\"\"}}}],\"scatterternary\":[{\"type\":\"scatterternary\",\"marker\":{\"colorbar\":{\"outlinewidth\":0,\"ticks\":\"\"}}}],\"scattercarpet\":[{\"type\":\"scattercarpet\",\"marker\":{\"colorbar\":{\"outlinewidth\":0,\"ticks\":\"\"}}}],\"carpet\":[{\"aaxis\":{\"endlinecolor\":\"#2a3f5f\",\"gridcolor\":\"white\",\"linecolor\":\"white\",\"minorgridcolor\":\"white\",\"startlinecolor\":\"#2a3f5f\"},\"baxis\":{\"endlinecolor\":\"#2a3f5f\",\"gridcolor\":\"white\",\"linecolor\":\"white\",\"minorgridcolor\":\"white\",\"startlinecolor\":\"#2a3f5f\"},\"type\":\"carpet\"}],\"table\":[{\"cells\":{\"fill\":{\"color\":\"#EBF0F8\"},\"line\":{\"color\":\"white\"}},\"header\":{\"fill\":{\"color\":\"#C8D4E3\"},\"line\":{\"color\":\"white\"}},\"type\":\"table\"}],\"barpolar\":[{\"marker\":{\"line\":{\"color\":\"#E5ECF6\",\"width\":0.5},\"pattern\":{\"fillmode\":\"overlay\",\"size\":10,\"solidity\":0.2}},\"type\":\"barpolar\"}],\"pie\":[{\"automargin\":true,\"type\":\"pie\"}]},\"layout\":{\"autotypenumbers\":\"strict\",\"colorway\":[\"#636efa\",\"#EF553B\",\"#00cc96\",\"#ab63fa\",\"#FFA15A\",\"#19d3f3\",\"#FF6692\",\"#B6E880\",\"#FF97FF\",\"#FECB52\"],\"font\":{\"color\":\"#2a3f5f\"},\"hovermode\":\"closest\",\"hoverlabel\":{\"align\":\"left\"},\"paper_bgcolor\":\"white\",\"plot_bgcolor\":\"#E5ECF6\",\"polar\":{\"bgcolor\":\"#E5ECF6\",\"angularaxis\":{\"gridcolor\":\"white\",\"linecolor\":\"white\",\"ticks\":\"\"},\"radialaxis\":{\"gridcolor\":\"white\",\"linecolor\":\"white\",\"ticks\":\"\"}},\"ternary\":{\"bgcolor\":\"#E5ECF6\",\"aaxis\":{\"gridcolor\":\"white\",\"linecolor\":\"white\",\"ticks\":\"\"},\"baxis\":{\"gridcolor\":\"white\",\"linecolor\":\"white\",\"ticks\":\"\"},\"caxis\":{\"gridcolor\":\"white\",\"linecolor\":\"white\",\"ticks\":\"\"}},\"coloraxis\":{\"colorbar\":{\"outlinewidth\":0,\"ticks\":\"\"}},\"colorscale\":{\"sequential\":[[0.0,\"#0d0887\"],[0.1111111111111111,\"#46039f\"],[0.2222222222222222,\"#7201a8\"],[0.3333333333333333,\"#9c179e\"],[0.4444444444444444,\"#bd3786\"],[0.5555555555555556,\"#d8576b\"],[0.6666666666666666,\"#ed7953\"],[0.7777777777777778,\"#fb9f3a\"],[0.8888888888888888,\"#fdca26\"],[1.0,\"#f0f921\"]],\"sequentialminus\":[[0.0,\"#0d0887\"],[0.1111111111111111,\"#46039f\"],[0.2222222222222222,\"#7201a8\"],[0.3333333333333333,\"#9c179e\"],[0.4444444444444444,\"#bd3786\"],[0.5555555555555556,\"#d8576b\"],[0.6666666666666666,\"#ed7953\"],[0.7777777777777778,\"#fb9f3a\"],[0.8888888888888888,\"#fdca26\"],[1.0,\"#f0f921\"]],\"diverging\":[[0,\"#8e0152\"],[0.1,\"#c51b7d\"],[0.2,\"#de77ae\"],[0.3,\"#f1b6da\"],[0.4,\"#fde0ef\"],[0.5,\"#f7f7f7\"],[0.6,\"#e6f5d0\"],[0.7,\"#b8e186\"],[0.8,\"#7fbc41\"],[0.9,\"#4d9221\"],[1,\"#276419\"]]},\"xaxis\":{\"gridcolor\":\"white\",\"linecolor\":\"white\",\"ticks\":\"\",\"title\":{\"standoff\":15},\"zerolinecolor\":\"white\",\"automargin\":true,\"zerolinewidth\":2},\"yaxis\":{\"gridcolor\":\"white\",\"linecolor\":\"white\",\"ticks\":\"\",\"title\":{\"standoff\":15},\"zerolinecolor\":\"white\",\"automargin\":true,\"zerolinewidth\":2},\"scene\":{\"xaxis\":{\"backgroundcolor\":\"#E5ECF6\",\"gridcolor\":\"white\",\"linecolor\":\"white\",\"showbackground\":true,\"ticks\":\"\",\"zerolinecolor\":\"white\",\"gridwidth\":2},\"yaxis\":{\"backgroundcolor\":\"#E5ECF6\",\"gridcolor\":\"white\",\"linecolor\":\"white\",\"showbackground\":true,\"ticks\":\"\",\"zerolinecolor\":\"white\",\"gridwidth\":2},\"zaxis\":{\"backgroundcolor\":\"#E5ECF6\",\"gridcolor\":\"white\",\"linecolor\":\"white\",\"showbackground\":true,\"ticks\":\"\",\"zerolinecolor\":\"white\",\"gridwidth\":2}},\"shapedefaults\":{\"line\":{\"color\":\"#2a3f5f\"}},\"annotationdefaults\":{\"arrowcolor\":\"#2a3f5f\",\"arrowhead\":0,\"arrowwidth\":1},\"geo\":{\"bgcolor\":\"white\",\"landcolor\":\"#E5ECF6\",\"subunitcolor\":\"white\",\"showland\":true,\"showlakes\":true,\"lakecolor\":\"white\"},\"title\":{\"x\":0.05},\"mapbox\":{\"style\":\"light\"}}},\"xaxis\":{\"anchor\":\"y\",\"domain\":[0.0,1.0],\"title\":{\"text\":\"Posts_Per_Day\"}},\"yaxis\":{\"anchor\":\"x\",\"domain\":[0.0,1.0],\"title\":{\"text\":\"count\"}},\"legend\":{\"tracegroupgap\":0},\"title\":{\"text\":\"Posts Per Day Distribution\"},\"barmode\":\"relative\"},                        {\"responsive\": true}                    ).then(function(){\n",
       "                            \n",
       "var gd = document.getElementById('2b0883fc-d3bb-4ab0-a221-a1b740de9ee8');\n",
       "var x = new MutationObserver(function (mutations, observer) {{\n",
       "        var display = window.getComputedStyle(gd).display;\n",
       "        if (!display || display === 'none') {{\n",
       "            console.log([gd, 'removed!']);\n",
       "            Plotly.purge(gd);\n",
       "            observer.disconnect();\n",
       "        }}\n",
       "}});\n",
       "\n",
       "// Listen for the removal of the full notebook cells\n",
       "var notebookContainer = gd.closest('#notebook-container');\n",
       "if (notebookContainer) {{\n",
       "    x.observe(notebookContainer, {childList: true});\n",
       "}}\n",
       "\n",
       "// Listen for the clearing of the current output cell\n",
       "var outputEl = gd.closest('.output');\n",
       "if (outputEl) {{\n",
       "    x.observe(outputEl, {childList: true});\n",
       "}}\n",
       "\n",
       "                        })                };                });            </script>        </div>"
      ]
     },
     "metadata": {},
     "output_type": "display_data"
    }
   ],
   "source": [
    "plt = px.histogram(train_df, x='Posts_Per_Day', title='Posts Per Day Distribution')\n",
    "plt.show()"
   ]
  },
  {
   "cell_type": "markdown",
   "id": "feed4dbb",
   "metadata": {
    "papermill": {
     "duration": 0.03425,
     "end_time": "2024-05-23T11:22:51.805091",
     "exception": false,
     "start_time": "2024-05-23T11:22:51.770841",
     "status": "completed"
    },
    "tags": []
   },
   "source": [
    "### Likes Per Day Distribution"
   ]
  },
  {
   "cell_type": "code",
   "execution_count": 33,
   "id": "eca4c3dc",
   "metadata": {
    "execution": {
     "iopub.execute_input": "2024-05-23T11:22:51.876419Z",
     "iopub.status.busy": "2024-05-23T11:22:51.875758Z",
     "iopub.status.idle": "2024-05-23T11:22:51.883260Z",
     "shell.execute_reply": "2024-05-23T11:22:51.882178Z"
    },
    "papermill": {
     "duration": 0.046167,
     "end_time": "2024-05-23T11:22:51.885478",
     "exception": false,
     "start_time": "2024-05-23T11:22:51.839311",
     "status": "completed"
    },
    "tags": []
   },
   "outputs": [
    {
     "data": {
      "text/plain": [
       "array([ 45.,  20.,  15., 100.,   5.,  60.,  30.,  25.,  10.,  80.,  35.,\n",
       "        12.,  90.,  40.,  55.,  33.,   8.,  70.,  28.,  11.,  95.,  18.,\n",
       "         9.,  85.,  38.,   6.,  13.,  75.,  27.,  88.,  22.,  78.,  29.,\n",
       "        50.,  36.,  72.,  65., 110.,  14.,  17., 105.,  43.,  37.,  42.,\n",
       "        48.,  21.,  24.,  23.,  83.,  nan])"
      ]
     },
     "execution_count": 33,
     "metadata": {},
     "output_type": "execute_result"
    }
   ],
   "source": [
    "train_df['Likes_Received_Per_Day'].unique()"
   ]
  },
  {
   "cell_type": "code",
   "execution_count": 34,
   "id": "24179941",
   "metadata": {
    "execution": {
     "iopub.execute_input": "2024-05-23T11:22:51.957200Z",
     "iopub.status.busy": "2024-05-23T11:22:51.956146Z",
     "iopub.status.idle": "2024-05-23T11:22:51.962115Z",
     "shell.execute_reply": "2024-05-23T11:22:51.961196Z"
    },
    "papermill": {
     "duration": 0.044334,
     "end_time": "2024-05-23T11:22:51.964854",
     "exception": false,
     "start_time": "2024-05-23T11:22:51.920520",
     "status": "completed"
    },
    "tags": []
   },
   "outputs": [],
   "source": [
    "# filling wih mode\n",
    "train_df['Likes_Received_Per_Day'].fillna(train_df['Likes_Received_Per_Day'].mode()[0], inplace=True)"
   ]
  },
  {
   "cell_type": "code",
   "execution_count": 35,
   "id": "4dc4b1b9",
   "metadata": {
    "execution": {
     "iopub.execute_input": "2024-05-23T11:22:52.037054Z",
     "iopub.status.busy": "2024-05-23T11:22:52.036579Z",
     "iopub.status.idle": "2024-05-23T11:22:52.106487Z",
     "shell.execute_reply": "2024-05-23T11:22:52.105231Z"
    },
    "papermill": {
     "duration": 0.109054,
     "end_time": "2024-05-23T11:22:52.109169",
     "exception": false,
     "start_time": "2024-05-23T11:22:52.000115",
     "status": "completed"
    },
    "tags": []
   },
   "outputs": [
    {
     "data": {
      "text/html": [
       "<div>                            <div id=\"8a836ab6-9c52-42c1-9c55-cf84f6e70f2f\" class=\"plotly-graph-div\" style=\"height:525px; width:100%;\"></div>            <script type=\"text/javascript\">                require([\"plotly\"], function(Plotly) {                    window.PLOTLYENV=window.PLOTLYENV || {};                                    if (document.getElementById(\"8a836ab6-9c52-42c1-9c55-cf84f6e70f2f\")) {                    Plotly.newPlot(                        \"8a836ab6-9c52-42c1-9c55-cf84f6e70f2f\",                        [{\"alignmentgroup\":\"True\",\"bingroup\":\"x\",\"hovertemplate\":\"Likes_Received_Per_Day=%{x}\\u003cbr\\u003ecount=%{y}\\u003cextra\\u003e\\u003c\\u002fextra\\u003e\",\"legendgroup\":\"\",\"marker\":{\"color\":\"#636efa\",\"pattern\":{\"shape\":\"\"}},\"name\":\"\",\"offsetgroup\":\"\",\"orientation\":\"v\",\"showlegend\":false,\"x\":[45.0,20.0,15.0,100.0,5.0,60.0,30.0,25.0,10.0,80.0,35.0,20.0,12.0,90.0,40.0,5.0,55.0,33.0,8.0,70.0,25.0,28.0,11.0,95.0,20.0,18.0,9.0,85.0,38.0,6.0,13.0,75.0,27.0,88.0,22.0,10.0,90.0,35.0,55.0,18.0,6.0,80.0,40.0,20.0,12.0,85.0,33.0,28.0,70.0,8.0,78.0,29.0,25.0,60.0,10.0,40.0,20.0,15.0,45.0,10.0,70.0,20.0,18.0,50.0,40.0,8.0,75.0,25.0,45.0,18.0,60.0,12.0,15.0,20.0,28.0,36.0,72.0,22.0,12.0,35.0,18.0,30.0,55.0,20.0,18.0,35.0,40.0,15.0,78.0,28.0,8.0,50.0,33.0,20.0,65.0,30.0,12.0,45.0,15.0,38.0,50.0,30.0,20.0,110.0,10.0,65.0,40.0,35.0,15.0,90.0,45.0,30.0,14.0,100.0,50.0,10.0,65.0,40.0,12.0,75.0,30.0,35.0,17.0,105.0,25.0,20.0,12.0,85.0,43.0,8.0,17.0,80.0,30.0,95.0,27.0,11.0,95.0,45.0,60.0,22.0,9.0,90.0,50.0,25.0,15.0,100.0,37.0,30.0,80.0,12.0,85.0,33.0,27.0,65.0,15.0,42.0,22.0,18.0,48.0,12.0,72.0,22.0,21.0,55.0,42.0,12.0,78.0,27.0,48.0,21.0,65.0,13.0,17.0,24.0,30.0,38.0,75.0,23.0,13.0,37.0,20.0,33.0,60.0,22.0,20.0,37.0,45.0,18.0,83.0,30.0,10.0,55.0,37.0,23.0,70.0,35.0,14.0,50.0,18.0,40.0,50.0,30.0,20.0,110.0,10.0,65.0,40.0,35.0,15.0,90.0,45.0,30.0,14.0,100.0,50.0,10.0,65.0,40.0,12.0,75.0,30.0,35.0,17.0,105.0,25.0,20.0,12.0,85.0,43.0,8.0,17.0,80.0,30.0,95.0,27.0,11.0,95.0,45.0,60.0,22.0,9.0,90.0,50.0,25.0,15.0,100.0,37.0,30.0,80.0,12.0,85.0,33.0,27.0,65.0,15.0,42.0,22.0,18.0,48.0,12.0,72.0,22.0,21.0,55.0,42.0,12.0,78.0,27.0,48.0,21.0,65.0,13.0,17.0,24.0,30.0,38.0,75.0,23.0,13.0,37.0,20.0,33.0,60.0,22.0,20.0,37.0,45.0,18.0,83.0,30.0,10.0,55.0,37.0,23.0,70.0,35.0,14.0,50.0,18.0,40.0,50.0,30.0,20.0,110.0,10.0,65.0,40.0,35.0,15.0,90.0,45.0,30.0,14.0,100.0,50.0,10.0,65.0,40.0,12.0,75.0,30.0,35.0,17.0,105.0,25.0,20.0,12.0,85.0,43.0,8.0,17.0,80.0,30.0,95.0,27.0,11.0,95.0,45.0,60.0,22.0,9.0,90.0,50.0,25.0,15.0,100.0,37.0,30.0,80.0,12.0,85.0,33.0,27.0,65.0,15.0,42.0,22.0,18.0,48.0,12.0,72.0,22.0,21.0,55.0,42.0,12.0,78.0,27.0,48.0,21.0,65.0,13.0,17.0,24.0,30.0,38.0,75.0,23.0,13.0,37.0,20.0,33.0,60.0,22.0,20.0,37.0,45.0,18.0,83.0,30.0,10.0,55.0,37.0,23.0,70.0,35.0,14.0,50.0,18.0,40.0,50.0,30.0,20.0,110.0,10.0,65.0,40.0,35.0,15.0,90.0,45.0,30.0,14.0,100.0,50.0,10.0,65.0,40.0,12.0,75.0,30.0,35.0,17.0,105.0,25.0,20.0,12.0,85.0,43.0,8.0,17.0,80.0,30.0,95.0,27.0,11.0,95.0,45.0,60.0,22.0,9.0,90.0,50.0,25.0,15.0,100.0,37.0,30.0,80.0,12.0,85.0,33.0,27.0,65.0,15.0,42.0,22.0,18.0,48.0,12.0,72.0,22.0,21.0,55.0,42.0,12.0,78.0,27.0,48.0,21.0,65.0,13.0,17.0,24.0,30.0,38.0,75.0,23.0,13.0,37.0,20.0,33.0,60.0,22.0,20.0,37.0,45.0,18.0,83.0,30.0,10.0,55.0,37.0,23.0,70.0,35.0,14.0,50.0,18.0,40.0,50.0,30.0,20.0,110.0,10.0,65.0,40.0,35.0,15.0,90.0,45.0,30.0,14.0,100.0,50.0,10.0,65.0,40.0,12.0,75.0,30.0,35.0,17.0,105.0,25.0,20.0,12.0,85.0,43.0,8.0,17.0,80.0,30.0,95.0,27.0,11.0,95.0,45.0,60.0,22.0,9.0,90.0,50.0,25.0,15.0,100.0,37.0,30.0,80.0,12.0,85.0,33.0,27.0,65.0,15.0,42.0,22.0,18.0,48.0,12.0,72.0,22.0,21.0,55.0,42.0,12.0,78.0,27.0,48.0,21.0,65.0,13.0,17.0,24.0,30.0,38.0,75.0,23.0,13.0,37.0,20.0,33.0,60.0,22.0,20.0,37.0,45.0,18.0,83.0,30.0,10.0,55.0,37.0,23.0,70.0,35.0,14.0,50.0,18.0,40.0,50.0,30.0,20.0,110.0,10.0,65.0,40.0,35.0,15.0,90.0,45.0,30.0,14.0,100.0,50.0,10.0,65.0,40.0,12.0,75.0,30.0,35.0,17.0,105.0,25.0,20.0,12.0,85.0,43.0,8.0,17.0,80.0,30.0,95.0,27.0,11.0,95.0,45.0,60.0,22.0,9.0,30.0,90.0,50.0,25.0,15.0,100.0,37.0,30.0,80.0,12.0,85.0,33.0,27.0,65.0,15.0,42.0,22.0,18.0,48.0,12.0,72.0,22.0,21.0,55.0,42.0,12.0,78.0,27.0,48.0,21.0,65.0,13.0,17.0,24.0,30.0,38.0,75.0,23.0,13.0,37.0,20.0,33.0,60.0,22.0,20.0,37.0,45.0,18.0,83.0,30.0,10.0,55.0,37.0,23.0,70.0,35.0,14.0,50.0,18.0,40.0,50.0,30.0,20.0,110.0,10.0,65.0,40.0,35.0,15.0,90.0,45.0,30.0,14.0,100.0,50.0,10.0,65.0,40.0,12.0,75.0,30.0,35.0,17.0,105.0,25.0,20.0,12.0,85.0,43.0,8.0,17.0,80.0,30.0,95.0,27.0,11.0,95.0,45.0,60.0,22.0,9.0,90.0,50.0,25.0,15.0,100.0,37.0,30.0,80.0,12.0,85.0,33.0,27.0,65.0,15.0,42.0,22.0,18.0,48.0,12.0,72.0,22.0,21.0,55.0,42.0,12.0,78.0,27.0,48.0,21.0,65.0,13.0,17.0,24.0,30.0,38.0,75.0,23.0,13.0,37.0,20.0,33.0,60.0,22.0,20.0,37.0,45.0,18.0,83.0,30.0,10.0,55.0,37.0,23.0,70.0,35.0,14.0,50.0,18.0,40.0,50.0,30.0,20.0,110.0,10.0,65.0,40.0,35.0,15.0,90.0,45.0,30.0,14.0,100.0,50.0,10.0,65.0,40.0,12.0,75.0,30.0,35.0,17.0,105.0,25.0,20.0,12.0,85.0,43.0,8.0,17.0,80.0,30.0,95.0,27.0,11.0,95.0,45.0,60.0,22.0,9.0,90.0,50.0,25.0,15.0,100.0,37.0,30.0,80.0,12.0,85.0,33.0,27.0,65.0,15.0,42.0,22.0,18.0,48.0,12.0,72.0,22.0,21.0,55.0,42.0,12.0,78.0,27.0,48.0,21.0,65.0,13.0,17.0,24.0,30.0,38.0,75.0,23.0,13.0,37.0,20.0,33.0,60.0,22.0,20.0,37.0,45.0,18.0,83.0,30.0,10.0,55.0,37.0,23.0,70.0,35.0,14.0,50.0,18.0,40.0,50.0,30.0,20.0,110.0,10.0,65.0,40.0,35.0,15.0,90.0,45.0,30.0,14.0,100.0,50.0,10.0,65.0,40.0,12.0,75.0,30.0,35.0,17.0,105.0,25.0,20.0,12.0,85.0,43.0,8.0,17.0,80.0,30.0,95.0,27.0,11.0,95.0,45.0,60.0,22.0,9.0,90.0,50.0,25.0,15.0,100.0,37.0,30.0,80.0,12.0,85.0,33.0,27.0,65.0,15.0,42.0,22.0,18.0,48.0,12.0,72.0,22.0,21.0,55.0,42.0,12.0,78.0,27.0,48.0,21.0,65.0,13.0,17.0,24.0,30.0,38.0,75.0,23.0,13.0,37.0,20.0,33.0,60.0,22.0,20.0,37.0,45.0,18.0,83.0,30.0,10.0,55.0,37.0,23.0,70.0,35.0,14.0,50.0,18.0,40.0],\"xaxis\":\"x\",\"yaxis\":\"y\",\"type\":\"histogram\"}],                        {\"template\":{\"data\":{\"histogram2dcontour\":[{\"type\":\"histogram2dcontour\",\"colorbar\":{\"outlinewidth\":0,\"ticks\":\"\"},\"colorscale\":[[0.0,\"#0d0887\"],[0.1111111111111111,\"#46039f\"],[0.2222222222222222,\"#7201a8\"],[0.3333333333333333,\"#9c179e\"],[0.4444444444444444,\"#bd3786\"],[0.5555555555555556,\"#d8576b\"],[0.6666666666666666,\"#ed7953\"],[0.7777777777777778,\"#fb9f3a\"],[0.8888888888888888,\"#fdca26\"],[1.0,\"#f0f921\"]]}],\"choropleth\":[{\"type\":\"choropleth\",\"colorbar\":{\"outlinewidth\":0,\"ticks\":\"\"}}],\"histogram2d\":[{\"type\":\"histogram2d\",\"colorbar\":{\"outlinewidth\":0,\"ticks\":\"\"},\"colorscale\":[[0.0,\"#0d0887\"],[0.1111111111111111,\"#46039f\"],[0.2222222222222222,\"#7201a8\"],[0.3333333333333333,\"#9c179e\"],[0.4444444444444444,\"#bd3786\"],[0.5555555555555556,\"#d8576b\"],[0.6666666666666666,\"#ed7953\"],[0.7777777777777778,\"#fb9f3a\"],[0.8888888888888888,\"#fdca26\"],[1.0,\"#f0f921\"]]}],\"heatmap\":[{\"type\":\"heatmap\",\"colorbar\":{\"outlinewidth\":0,\"ticks\":\"\"},\"colorscale\":[[0.0,\"#0d0887\"],[0.1111111111111111,\"#46039f\"],[0.2222222222222222,\"#7201a8\"],[0.3333333333333333,\"#9c179e\"],[0.4444444444444444,\"#bd3786\"],[0.5555555555555556,\"#d8576b\"],[0.6666666666666666,\"#ed7953\"],[0.7777777777777778,\"#fb9f3a\"],[0.8888888888888888,\"#fdca26\"],[1.0,\"#f0f921\"]]}],\"heatmapgl\":[{\"type\":\"heatmapgl\",\"colorbar\":{\"outlinewidth\":0,\"ticks\":\"\"},\"colorscale\":[[0.0,\"#0d0887\"],[0.1111111111111111,\"#46039f\"],[0.2222222222222222,\"#7201a8\"],[0.3333333333333333,\"#9c179e\"],[0.4444444444444444,\"#bd3786\"],[0.5555555555555556,\"#d8576b\"],[0.6666666666666666,\"#ed7953\"],[0.7777777777777778,\"#fb9f3a\"],[0.8888888888888888,\"#fdca26\"],[1.0,\"#f0f921\"]]}],\"contourcarpet\":[{\"type\":\"contourcarpet\",\"colorbar\":{\"outlinewidth\":0,\"ticks\":\"\"}}],\"contour\":[{\"type\":\"contour\",\"colorbar\":{\"outlinewidth\":0,\"ticks\":\"\"},\"colorscale\":[[0.0,\"#0d0887\"],[0.1111111111111111,\"#46039f\"],[0.2222222222222222,\"#7201a8\"],[0.3333333333333333,\"#9c179e\"],[0.4444444444444444,\"#bd3786\"],[0.5555555555555556,\"#d8576b\"],[0.6666666666666666,\"#ed7953\"],[0.7777777777777778,\"#fb9f3a\"],[0.8888888888888888,\"#fdca26\"],[1.0,\"#f0f921\"]]}],\"surface\":[{\"type\":\"surface\",\"colorbar\":{\"outlinewidth\":0,\"ticks\":\"\"},\"colorscale\":[[0.0,\"#0d0887\"],[0.1111111111111111,\"#46039f\"],[0.2222222222222222,\"#7201a8\"],[0.3333333333333333,\"#9c179e\"],[0.4444444444444444,\"#bd3786\"],[0.5555555555555556,\"#d8576b\"],[0.6666666666666666,\"#ed7953\"],[0.7777777777777778,\"#fb9f3a\"],[0.8888888888888888,\"#fdca26\"],[1.0,\"#f0f921\"]]}],\"mesh3d\":[{\"type\":\"mesh3d\",\"colorbar\":{\"outlinewidth\":0,\"ticks\":\"\"}}],\"scatter\":[{\"fillpattern\":{\"fillmode\":\"overlay\",\"size\":10,\"solidity\":0.2},\"type\":\"scatter\"}],\"parcoords\":[{\"type\":\"parcoords\",\"line\":{\"colorbar\":{\"outlinewidth\":0,\"ticks\":\"\"}}}],\"scatterpolargl\":[{\"type\":\"scatterpolargl\",\"marker\":{\"colorbar\":{\"outlinewidth\":0,\"ticks\":\"\"}}}],\"bar\":[{\"error_x\":{\"color\":\"#2a3f5f\"},\"error_y\":{\"color\":\"#2a3f5f\"},\"marker\":{\"line\":{\"color\":\"#E5ECF6\",\"width\":0.5},\"pattern\":{\"fillmode\":\"overlay\",\"size\":10,\"solidity\":0.2}},\"type\":\"bar\"}],\"scattergeo\":[{\"type\":\"scattergeo\",\"marker\":{\"colorbar\":{\"outlinewidth\":0,\"ticks\":\"\"}}}],\"scatterpolar\":[{\"type\":\"scatterpolar\",\"marker\":{\"colorbar\":{\"outlinewidth\":0,\"ticks\":\"\"}}}],\"histogram\":[{\"marker\":{\"pattern\":{\"fillmode\":\"overlay\",\"size\":10,\"solidity\":0.2}},\"type\":\"histogram\"}],\"scattergl\":[{\"type\":\"scattergl\",\"marker\":{\"colorbar\":{\"outlinewidth\":0,\"ticks\":\"\"}}}],\"scatter3d\":[{\"type\":\"scatter3d\",\"line\":{\"colorbar\":{\"outlinewidth\":0,\"ticks\":\"\"}},\"marker\":{\"colorbar\":{\"outlinewidth\":0,\"ticks\":\"\"}}}],\"scattermapbox\":[{\"type\":\"scattermapbox\",\"marker\":{\"colorbar\":{\"outlinewidth\":0,\"ticks\":\"\"}}}],\"scatterternary\":[{\"type\":\"scatterternary\",\"marker\":{\"colorbar\":{\"outlinewidth\":0,\"ticks\":\"\"}}}],\"scattercarpet\":[{\"type\":\"scattercarpet\",\"marker\":{\"colorbar\":{\"outlinewidth\":0,\"ticks\":\"\"}}}],\"carpet\":[{\"aaxis\":{\"endlinecolor\":\"#2a3f5f\",\"gridcolor\":\"white\",\"linecolor\":\"white\",\"minorgridcolor\":\"white\",\"startlinecolor\":\"#2a3f5f\"},\"baxis\":{\"endlinecolor\":\"#2a3f5f\",\"gridcolor\":\"white\",\"linecolor\":\"white\",\"minorgridcolor\":\"white\",\"startlinecolor\":\"#2a3f5f\"},\"type\":\"carpet\"}],\"table\":[{\"cells\":{\"fill\":{\"color\":\"#EBF0F8\"},\"line\":{\"color\":\"white\"}},\"header\":{\"fill\":{\"color\":\"#C8D4E3\"},\"line\":{\"color\":\"white\"}},\"type\":\"table\"}],\"barpolar\":[{\"marker\":{\"line\":{\"color\":\"#E5ECF6\",\"width\":0.5},\"pattern\":{\"fillmode\":\"overlay\",\"size\":10,\"solidity\":0.2}},\"type\":\"barpolar\"}],\"pie\":[{\"automargin\":true,\"type\":\"pie\"}]},\"layout\":{\"autotypenumbers\":\"strict\",\"colorway\":[\"#636efa\",\"#EF553B\",\"#00cc96\",\"#ab63fa\",\"#FFA15A\",\"#19d3f3\",\"#FF6692\",\"#B6E880\",\"#FF97FF\",\"#FECB52\"],\"font\":{\"color\":\"#2a3f5f\"},\"hovermode\":\"closest\",\"hoverlabel\":{\"align\":\"left\"},\"paper_bgcolor\":\"white\",\"plot_bgcolor\":\"#E5ECF6\",\"polar\":{\"bgcolor\":\"#E5ECF6\",\"angularaxis\":{\"gridcolor\":\"white\",\"linecolor\":\"white\",\"ticks\":\"\"},\"radialaxis\":{\"gridcolor\":\"white\",\"linecolor\":\"white\",\"ticks\":\"\"}},\"ternary\":{\"bgcolor\":\"#E5ECF6\",\"aaxis\":{\"gridcolor\":\"white\",\"linecolor\":\"white\",\"ticks\":\"\"},\"baxis\":{\"gridcolor\":\"white\",\"linecolor\":\"white\",\"ticks\":\"\"},\"caxis\":{\"gridcolor\":\"white\",\"linecolor\":\"white\",\"ticks\":\"\"}},\"coloraxis\":{\"colorbar\":{\"outlinewidth\":0,\"ticks\":\"\"}},\"colorscale\":{\"sequential\":[[0.0,\"#0d0887\"],[0.1111111111111111,\"#46039f\"],[0.2222222222222222,\"#7201a8\"],[0.3333333333333333,\"#9c179e\"],[0.4444444444444444,\"#bd3786\"],[0.5555555555555556,\"#d8576b\"],[0.6666666666666666,\"#ed7953\"],[0.7777777777777778,\"#fb9f3a\"],[0.8888888888888888,\"#fdca26\"],[1.0,\"#f0f921\"]],\"sequentialminus\":[[0.0,\"#0d0887\"],[0.1111111111111111,\"#46039f\"],[0.2222222222222222,\"#7201a8\"],[0.3333333333333333,\"#9c179e\"],[0.4444444444444444,\"#bd3786\"],[0.5555555555555556,\"#d8576b\"],[0.6666666666666666,\"#ed7953\"],[0.7777777777777778,\"#fb9f3a\"],[0.8888888888888888,\"#fdca26\"],[1.0,\"#f0f921\"]],\"diverging\":[[0,\"#8e0152\"],[0.1,\"#c51b7d\"],[0.2,\"#de77ae\"],[0.3,\"#f1b6da\"],[0.4,\"#fde0ef\"],[0.5,\"#f7f7f7\"],[0.6,\"#e6f5d0\"],[0.7,\"#b8e186\"],[0.8,\"#7fbc41\"],[0.9,\"#4d9221\"],[1,\"#276419\"]]},\"xaxis\":{\"gridcolor\":\"white\",\"linecolor\":\"white\",\"ticks\":\"\",\"title\":{\"standoff\":15},\"zerolinecolor\":\"white\",\"automargin\":true,\"zerolinewidth\":2},\"yaxis\":{\"gridcolor\":\"white\",\"linecolor\":\"white\",\"ticks\":\"\",\"title\":{\"standoff\":15},\"zerolinecolor\":\"white\",\"automargin\":true,\"zerolinewidth\":2},\"scene\":{\"xaxis\":{\"backgroundcolor\":\"#E5ECF6\",\"gridcolor\":\"white\",\"linecolor\":\"white\",\"showbackground\":true,\"ticks\":\"\",\"zerolinecolor\":\"white\",\"gridwidth\":2},\"yaxis\":{\"backgroundcolor\":\"#E5ECF6\",\"gridcolor\":\"white\",\"linecolor\":\"white\",\"showbackground\":true,\"ticks\":\"\",\"zerolinecolor\":\"white\",\"gridwidth\":2},\"zaxis\":{\"backgroundcolor\":\"#E5ECF6\",\"gridcolor\":\"white\",\"linecolor\":\"white\",\"showbackground\":true,\"ticks\":\"\",\"zerolinecolor\":\"white\",\"gridwidth\":2}},\"shapedefaults\":{\"line\":{\"color\":\"#2a3f5f\"}},\"annotationdefaults\":{\"arrowcolor\":\"#2a3f5f\",\"arrowhead\":0,\"arrowwidth\":1},\"geo\":{\"bgcolor\":\"white\",\"landcolor\":\"#E5ECF6\",\"subunitcolor\":\"white\",\"showland\":true,\"showlakes\":true,\"lakecolor\":\"white\"},\"title\":{\"x\":0.05},\"mapbox\":{\"style\":\"light\"}}},\"xaxis\":{\"anchor\":\"y\",\"domain\":[0.0,1.0],\"title\":{\"text\":\"Likes_Received_Per_Day\"}},\"yaxis\":{\"anchor\":\"x\",\"domain\":[0.0,1.0],\"title\":{\"text\":\"count\"}},\"legend\":{\"tracegroupgap\":0},\"title\":{\"text\":\"Posts Per Day Distribution\"},\"barmode\":\"relative\"},                        {\"responsive\": true}                    ).then(function(){\n",
       "                            \n",
       "var gd = document.getElementById('8a836ab6-9c52-42c1-9c55-cf84f6e70f2f');\n",
       "var x = new MutationObserver(function (mutations, observer) {{\n",
       "        var display = window.getComputedStyle(gd).display;\n",
       "        if (!display || display === 'none') {{\n",
       "            console.log([gd, 'removed!']);\n",
       "            Plotly.purge(gd);\n",
       "            observer.disconnect();\n",
       "        }}\n",
       "}});\n",
       "\n",
       "// Listen for the removal of the full notebook cells\n",
       "var notebookContainer = gd.closest('#notebook-container');\n",
       "if (notebookContainer) {{\n",
       "    x.observe(notebookContainer, {childList: true});\n",
       "}}\n",
       "\n",
       "// Listen for the clearing of the current output cell\n",
       "var outputEl = gd.closest('.output');\n",
       "if (outputEl) {{\n",
       "    x.observe(outputEl, {childList: true});\n",
       "}}\n",
       "\n",
       "                        })                };                });            </script>        </div>"
      ]
     },
     "metadata": {},
     "output_type": "display_data"
    }
   ],
   "source": [
    "plt = px.histogram(train_df, x='Likes_Received_Per_Day', title='Posts Per Day Distribution')\n",
    "plt.show()"
   ]
  },
  {
   "cell_type": "markdown",
   "id": "551229e6",
   "metadata": {
    "papermill": {
     "duration": 0.034823,
     "end_time": "2024-05-23T11:22:52.179525",
     "exception": false,
     "start_time": "2024-05-23T11:22:52.144702",
     "status": "completed"
    },
    "tags": []
   },
   "source": [
    "### Comments Per Day Distribution"
   ]
  },
  {
   "cell_type": "code",
   "execution_count": 36,
   "id": "e5ac7464",
   "metadata": {
    "execution": {
     "iopub.execute_input": "2024-05-23T11:22:52.253312Z",
     "iopub.status.busy": "2024-05-23T11:22:52.252853Z",
     "iopub.status.idle": "2024-05-23T11:22:52.261056Z",
     "shell.execute_reply": "2024-05-23T11:22:52.259891Z"
    },
    "papermill": {
     "duration": 0.048919,
     "end_time": "2024-05-23T11:22:52.263578",
     "exception": false,
     "start_time": "2024-05-23T11:22:52.214659",
     "status": "completed"
    },
    "tags": []
   },
   "outputs": [
    {
     "data": {
      "text/plain": [
       "array([10., 25.,  5., 30.,  2., 15., 12.,  3., 20.,  7.,  4., 23., 18.,\n",
       "       22., 14., 26.,  8., 19., 17., 11.,  6.,  9., 13., 40., 16., 35.,\n",
       "       38., 28., 36., 33., nan])"
      ]
     },
     "execution_count": 36,
     "metadata": {},
     "output_type": "execute_result"
    }
   ],
   "source": [
    "train_df['Comments_Received_Per_Day'].unique()"
   ]
  },
  {
   "cell_type": "code",
   "execution_count": 37,
   "id": "1ef19dbd",
   "metadata": {
    "execution": {
     "iopub.execute_input": "2024-05-23T11:22:52.336844Z",
     "iopub.status.busy": "2024-05-23T11:22:52.336204Z",
     "iopub.status.idle": "2024-05-23T11:22:52.343246Z",
     "shell.execute_reply": "2024-05-23T11:22:52.342048Z"
    },
    "papermill": {
     "duration": 0.046275,
     "end_time": "2024-05-23T11:22:52.345761",
     "exception": false,
     "start_time": "2024-05-23T11:22:52.299486",
     "status": "completed"
    },
    "tags": []
   },
   "outputs": [],
   "source": [
    "# filling with mode\n",
    "train_df['Comments_Received_Per_Day'].fillna(train_df['Comments_Received_Per_Day'].mode()[0], inplace=True)"
   ]
  },
  {
   "cell_type": "code",
   "execution_count": 38,
   "id": "aacce8e2",
   "metadata": {
    "execution": {
     "iopub.execute_input": "2024-05-23T11:22:52.417837Z",
     "iopub.status.busy": "2024-05-23T11:22:52.417444Z",
     "iopub.status.idle": "2024-05-23T11:22:52.424928Z",
     "shell.execute_reply": "2024-05-23T11:22:52.424041Z"
    },
    "papermill": {
     "duration": 0.046076,
     "end_time": "2024-05-23T11:22:52.427017",
     "exception": false,
     "start_time": "2024-05-23T11:22:52.380941",
     "status": "completed"
    },
    "tags": []
   },
   "outputs": [
    {
     "data": {
      "text/plain": [
       "array([10., 25.,  5., 30.,  2., 15., 12.,  3., 20.,  7.,  4., 23., 18.,\n",
       "       22., 14., 26.,  8., 19., 17., 11.,  6.,  9., 13., 40., 16., 35.,\n",
       "       38., 28., 36., 33.])"
      ]
     },
     "execution_count": 38,
     "metadata": {},
     "output_type": "execute_result"
    }
   ],
   "source": [
    "train_df['Comments_Received_Per_Day'].unique()"
   ]
  },
  {
   "cell_type": "code",
   "execution_count": 39,
   "id": "04297370",
   "metadata": {
    "execution": {
     "iopub.execute_input": "2024-05-23T11:22:52.499849Z",
     "iopub.status.busy": "2024-05-23T11:22:52.499457Z",
     "iopub.status.idle": "2024-05-23T11:22:52.570319Z",
     "shell.execute_reply": "2024-05-23T11:22:52.569166Z"
    },
    "papermill": {
     "duration": 0.110266,
     "end_time": "2024-05-23T11:22:52.572980",
     "exception": false,
     "start_time": "2024-05-23T11:22:52.462714",
     "status": "completed"
    },
    "tags": []
   },
   "outputs": [
    {
     "data": {
      "text/html": [
       "<div>                            <div id=\"6385995f-1554-4ee0-ac4d-38fb236f539d\" class=\"plotly-graph-div\" style=\"height:525px; width:100%;\"></div>            <script type=\"text/javascript\">                require([\"plotly\"], function(Plotly) {                    window.PLOTLYENV=window.PLOTLYENV || {};                                    if (document.getElementById(\"6385995f-1554-4ee0-ac4d-38fb236f539d\")) {                    Plotly.newPlot(                        \"6385995f-1554-4ee0-ac4d-38fb236f539d\",                        [{\"alignmentgroup\":\"True\",\"bingroup\":\"x\",\"hovertemplate\":\"Comments_Received_Per_Day=%{x}\\u003cbr\\u003ecount=%{y}\\u003cextra\\u003e\\u003c\\u002fextra\\u003e\",\"legendgroup\":\"\",\"marker\":{\"color\":\"#636efa\",\"pattern\":{\"shape\":\"\"}},\"name\":\"\",\"offsetgroup\":\"\",\"orientation\":\"v\",\"showlegend\":false,\"x\":[10.0,25.0,5.0,30.0,2.0,15.0,10.0,12.0,3.0,20.0,7.0,10.0,4.0,25.0,23.0,2.0,18.0,15.0,3.0,22.0,10.0,14.0,5.0,26.0,12.0,8.0,2.0,19.0,17.0,3.0,4.0,20.0,11.0,15.0,8.0,5.0,25.0,15.0,12.0,10.0,2.0,18.0,20.0,8.0,5.0,23.0,12.0,11.0,19.0,4.0,22.0,15.0,7.0,18.0,3.0,8.0,10.0,5.0,20.0,4.0,23.0,8.0,7.0,15.0,12.0,2.0,18.0,8.0,15.0,6.0,18.0,7.0,5.0,9.0,11.0,12.0,20.0,10.0,5.0,14.0,6.0,13.0,19.0,5.0,8.0,12.0,15.0,5.0,22.0,10.0,2.0,18.0,13.0,7.0,20.0,13.0,5.0,20.0,6.0,13.0,20.0,20.0,10.0,40.0,5.0,25.0,18.0,16.0,5.0,35.0,20.0,14.0,6.0,38.0,30.0,4.0,22.0,16.0,6.0,28.0,14.0,20.0,8.0,36.0,16.0,10.0,5.0,26.0,19.0,4.0,5.0,30.0,14.0,22.0,11.0,6.0,30.0,18.0,17.0,12.0,4.0,26.0,22.0,12.0,7.0,33.0,14.0,12.0,28.0,6.0,30.0,18.0,9.0,23.0,7.0,10.0,11.0,7.0,22.0,5.0,30.0,10.0,8.0,18.0,14.0,4.0,23.0,10.0,20.0,8.0,22.0,8.0,7.0,12.0,13.0,18.0,25.0,12.0,7.0,18.0,10.0,20.0,25.0,7.0,8.0,14.0,20.0,7.0,30.0,12.0,4.0,25.0,16.0,10.0,25.0,18.0,6.0,25.0,8.0,18.0,20.0,20.0,10.0,40.0,5.0,25.0,18.0,16.0,5.0,35.0,20.0,14.0,6.0,38.0,30.0,4.0,22.0,16.0,6.0,28.0,14.0,20.0,8.0,36.0,16.0,10.0,5.0,26.0,19.0,4.0,5.0,30.0,14.0,22.0,11.0,6.0,30.0,18.0,17.0,12.0,4.0,26.0,22.0,12.0,7.0,33.0,14.0,12.0,28.0,6.0,30.0,18.0,9.0,23.0,7.0,10.0,11.0,7.0,22.0,5.0,30.0,10.0,8.0,18.0,14.0,4.0,23.0,10.0,20.0,8.0,22.0,8.0,7.0,12.0,13.0,18.0,25.0,12.0,7.0,18.0,10.0,20.0,25.0,7.0,8.0,14.0,20.0,7.0,30.0,12.0,4.0,25.0,16.0,10.0,25.0,18.0,6.0,25.0,8.0,18.0,20.0,20.0,10.0,40.0,5.0,25.0,18.0,16.0,5.0,35.0,20.0,14.0,6.0,38.0,30.0,4.0,22.0,16.0,6.0,28.0,14.0,20.0,8.0,36.0,16.0,10.0,5.0,26.0,19.0,4.0,5.0,30.0,14.0,22.0,11.0,6.0,30.0,18.0,17.0,12.0,4.0,26.0,22.0,12.0,7.0,33.0,14.0,12.0,28.0,6.0,30.0,18.0,9.0,23.0,7.0,10.0,11.0,7.0,22.0,5.0,30.0,10.0,8.0,18.0,14.0,4.0,23.0,10.0,20.0,8.0,22.0,8.0,7.0,12.0,13.0,18.0,25.0,12.0,7.0,18.0,10.0,20.0,25.0,7.0,8.0,14.0,20.0,7.0,30.0,12.0,4.0,25.0,16.0,10.0,25.0,18.0,6.0,25.0,8.0,18.0,20.0,20.0,10.0,40.0,5.0,25.0,18.0,16.0,5.0,35.0,20.0,14.0,6.0,38.0,30.0,4.0,22.0,16.0,6.0,28.0,14.0,20.0,8.0,36.0,16.0,10.0,5.0,26.0,19.0,4.0,5.0,30.0,14.0,22.0,11.0,6.0,30.0,18.0,17.0,12.0,4.0,26.0,22.0,12.0,7.0,33.0,14.0,12.0,28.0,6.0,30.0,18.0,9.0,23.0,7.0,10.0,11.0,7.0,22.0,5.0,30.0,10.0,8.0,18.0,14.0,4.0,23.0,10.0,20.0,8.0,22.0,8.0,7.0,12.0,13.0,18.0,25.0,12.0,7.0,18.0,10.0,20.0,25.0,7.0,8.0,14.0,20.0,7.0,30.0,12.0,4.0,25.0,16.0,10.0,25.0,18.0,6.0,25.0,8.0,18.0,20.0,20.0,10.0,40.0,5.0,25.0,18.0,16.0,5.0,35.0,20.0,14.0,6.0,38.0,30.0,4.0,22.0,16.0,6.0,28.0,14.0,20.0,8.0,36.0,16.0,10.0,5.0,26.0,19.0,4.0,5.0,30.0,14.0,22.0,11.0,6.0,30.0,18.0,17.0,12.0,4.0,26.0,22.0,12.0,7.0,33.0,14.0,12.0,28.0,6.0,30.0,18.0,9.0,23.0,7.0,10.0,11.0,7.0,22.0,5.0,30.0,10.0,8.0,18.0,14.0,4.0,23.0,10.0,20.0,8.0,22.0,8.0,7.0,12.0,13.0,18.0,25.0,12.0,7.0,18.0,10.0,20.0,25.0,7.0,8.0,14.0,20.0,7.0,30.0,12.0,4.0,25.0,16.0,10.0,25.0,18.0,6.0,25.0,8.0,18.0,20.0,20.0,10.0,40.0,5.0,25.0,18.0,16.0,5.0,35.0,20.0,14.0,6.0,38.0,30.0,4.0,22.0,16.0,6.0,28.0,14.0,20.0,8.0,36.0,16.0,10.0,5.0,26.0,19.0,4.0,5.0,30.0,14.0,22.0,11.0,6.0,30.0,18.0,17.0,12.0,4.0,18.0,26.0,22.0,12.0,7.0,33.0,14.0,12.0,28.0,6.0,30.0,18.0,9.0,23.0,7.0,10.0,11.0,7.0,22.0,5.0,30.0,10.0,8.0,18.0,14.0,4.0,23.0,10.0,20.0,8.0,22.0,8.0,7.0,12.0,13.0,18.0,25.0,12.0,7.0,18.0,10.0,20.0,25.0,7.0,8.0,14.0,20.0,7.0,30.0,12.0,4.0,25.0,16.0,10.0,25.0,18.0,6.0,25.0,8.0,18.0,20.0,20.0,10.0,40.0,5.0,25.0,18.0,16.0,5.0,35.0,20.0,14.0,6.0,38.0,30.0,4.0,22.0,16.0,6.0,28.0,14.0,20.0,8.0,36.0,16.0,10.0,5.0,26.0,19.0,4.0,5.0,30.0,14.0,22.0,11.0,6.0,30.0,18.0,17.0,12.0,4.0,26.0,22.0,12.0,7.0,33.0,14.0,12.0,28.0,6.0,30.0,18.0,9.0,23.0,7.0,10.0,11.0,7.0,22.0,5.0,30.0,10.0,8.0,18.0,14.0,4.0,23.0,10.0,20.0,8.0,22.0,8.0,7.0,12.0,13.0,18.0,25.0,12.0,7.0,18.0,10.0,20.0,25.0,7.0,8.0,14.0,20.0,7.0,30.0,12.0,4.0,25.0,16.0,10.0,25.0,18.0,6.0,25.0,8.0,18.0,20.0,20.0,10.0,40.0,5.0,25.0,18.0,16.0,5.0,35.0,20.0,14.0,6.0,38.0,30.0,4.0,22.0,16.0,6.0,28.0,14.0,20.0,8.0,36.0,16.0,10.0,5.0,26.0,19.0,4.0,5.0,30.0,14.0,22.0,11.0,6.0,30.0,18.0,17.0,12.0,4.0,26.0,22.0,12.0,7.0,33.0,14.0,12.0,28.0,6.0,30.0,18.0,9.0,23.0,7.0,10.0,11.0,7.0,22.0,5.0,30.0,10.0,8.0,18.0,14.0,4.0,23.0,10.0,20.0,8.0,22.0,8.0,7.0,12.0,13.0,18.0,25.0,12.0,7.0,18.0,10.0,20.0,25.0,7.0,8.0,14.0,20.0,7.0,30.0,12.0,4.0,25.0,16.0,10.0,25.0,18.0,6.0,25.0,8.0,18.0,20.0,20.0,10.0,40.0,5.0,25.0,18.0,16.0,5.0,35.0,20.0,14.0,6.0,38.0,30.0,4.0,22.0,16.0,6.0,28.0,14.0,20.0,8.0,36.0,16.0,10.0,5.0,26.0,19.0,4.0,5.0,30.0,14.0,22.0,11.0,6.0,30.0,18.0,17.0,12.0,4.0,26.0,22.0,12.0,7.0,33.0,14.0,12.0,28.0,6.0,30.0,18.0,9.0,23.0,7.0,10.0,11.0,7.0,22.0,5.0,30.0,10.0,8.0,18.0,14.0,4.0,23.0,10.0,20.0,8.0,22.0,8.0,7.0,12.0,13.0,18.0,25.0,12.0,7.0,18.0,10.0,20.0,25.0,7.0,8.0,14.0,20.0,7.0,30.0,12.0,4.0,25.0,16.0,10.0,25.0,18.0,6.0,25.0,8.0,18.0],\"xaxis\":\"x\",\"yaxis\":\"y\",\"type\":\"histogram\"}],                        {\"template\":{\"data\":{\"histogram2dcontour\":[{\"type\":\"histogram2dcontour\",\"colorbar\":{\"outlinewidth\":0,\"ticks\":\"\"},\"colorscale\":[[0.0,\"#0d0887\"],[0.1111111111111111,\"#46039f\"],[0.2222222222222222,\"#7201a8\"],[0.3333333333333333,\"#9c179e\"],[0.4444444444444444,\"#bd3786\"],[0.5555555555555556,\"#d8576b\"],[0.6666666666666666,\"#ed7953\"],[0.7777777777777778,\"#fb9f3a\"],[0.8888888888888888,\"#fdca26\"],[1.0,\"#f0f921\"]]}],\"choropleth\":[{\"type\":\"choropleth\",\"colorbar\":{\"outlinewidth\":0,\"ticks\":\"\"}}],\"histogram2d\":[{\"type\":\"histogram2d\",\"colorbar\":{\"outlinewidth\":0,\"ticks\":\"\"},\"colorscale\":[[0.0,\"#0d0887\"],[0.1111111111111111,\"#46039f\"],[0.2222222222222222,\"#7201a8\"],[0.3333333333333333,\"#9c179e\"],[0.4444444444444444,\"#bd3786\"],[0.5555555555555556,\"#d8576b\"],[0.6666666666666666,\"#ed7953\"],[0.7777777777777778,\"#fb9f3a\"],[0.8888888888888888,\"#fdca26\"],[1.0,\"#f0f921\"]]}],\"heatmap\":[{\"type\":\"heatmap\",\"colorbar\":{\"outlinewidth\":0,\"ticks\":\"\"},\"colorscale\":[[0.0,\"#0d0887\"],[0.1111111111111111,\"#46039f\"],[0.2222222222222222,\"#7201a8\"],[0.3333333333333333,\"#9c179e\"],[0.4444444444444444,\"#bd3786\"],[0.5555555555555556,\"#d8576b\"],[0.6666666666666666,\"#ed7953\"],[0.7777777777777778,\"#fb9f3a\"],[0.8888888888888888,\"#fdca26\"],[1.0,\"#f0f921\"]]}],\"heatmapgl\":[{\"type\":\"heatmapgl\",\"colorbar\":{\"outlinewidth\":0,\"ticks\":\"\"},\"colorscale\":[[0.0,\"#0d0887\"],[0.1111111111111111,\"#46039f\"],[0.2222222222222222,\"#7201a8\"],[0.3333333333333333,\"#9c179e\"],[0.4444444444444444,\"#bd3786\"],[0.5555555555555556,\"#d8576b\"],[0.6666666666666666,\"#ed7953\"],[0.7777777777777778,\"#fb9f3a\"],[0.8888888888888888,\"#fdca26\"],[1.0,\"#f0f921\"]]}],\"contourcarpet\":[{\"type\":\"contourcarpet\",\"colorbar\":{\"outlinewidth\":0,\"ticks\":\"\"}}],\"contour\":[{\"type\":\"contour\",\"colorbar\":{\"outlinewidth\":0,\"ticks\":\"\"},\"colorscale\":[[0.0,\"#0d0887\"],[0.1111111111111111,\"#46039f\"],[0.2222222222222222,\"#7201a8\"],[0.3333333333333333,\"#9c179e\"],[0.4444444444444444,\"#bd3786\"],[0.5555555555555556,\"#d8576b\"],[0.6666666666666666,\"#ed7953\"],[0.7777777777777778,\"#fb9f3a\"],[0.8888888888888888,\"#fdca26\"],[1.0,\"#f0f921\"]]}],\"surface\":[{\"type\":\"surface\",\"colorbar\":{\"outlinewidth\":0,\"ticks\":\"\"},\"colorscale\":[[0.0,\"#0d0887\"],[0.1111111111111111,\"#46039f\"],[0.2222222222222222,\"#7201a8\"],[0.3333333333333333,\"#9c179e\"],[0.4444444444444444,\"#bd3786\"],[0.5555555555555556,\"#d8576b\"],[0.6666666666666666,\"#ed7953\"],[0.7777777777777778,\"#fb9f3a\"],[0.8888888888888888,\"#fdca26\"],[1.0,\"#f0f921\"]]}],\"mesh3d\":[{\"type\":\"mesh3d\",\"colorbar\":{\"outlinewidth\":0,\"ticks\":\"\"}}],\"scatter\":[{\"fillpattern\":{\"fillmode\":\"overlay\",\"size\":10,\"solidity\":0.2},\"type\":\"scatter\"}],\"parcoords\":[{\"type\":\"parcoords\",\"line\":{\"colorbar\":{\"outlinewidth\":0,\"ticks\":\"\"}}}],\"scatterpolargl\":[{\"type\":\"scatterpolargl\",\"marker\":{\"colorbar\":{\"outlinewidth\":0,\"ticks\":\"\"}}}],\"bar\":[{\"error_x\":{\"color\":\"#2a3f5f\"},\"error_y\":{\"color\":\"#2a3f5f\"},\"marker\":{\"line\":{\"color\":\"#E5ECF6\",\"width\":0.5},\"pattern\":{\"fillmode\":\"overlay\",\"size\":10,\"solidity\":0.2}},\"type\":\"bar\"}],\"scattergeo\":[{\"type\":\"scattergeo\",\"marker\":{\"colorbar\":{\"outlinewidth\":0,\"ticks\":\"\"}}}],\"scatterpolar\":[{\"type\":\"scatterpolar\",\"marker\":{\"colorbar\":{\"outlinewidth\":0,\"ticks\":\"\"}}}],\"histogram\":[{\"marker\":{\"pattern\":{\"fillmode\":\"overlay\",\"size\":10,\"solidity\":0.2}},\"type\":\"histogram\"}],\"scattergl\":[{\"type\":\"scattergl\",\"marker\":{\"colorbar\":{\"outlinewidth\":0,\"ticks\":\"\"}}}],\"scatter3d\":[{\"type\":\"scatter3d\",\"line\":{\"colorbar\":{\"outlinewidth\":0,\"ticks\":\"\"}},\"marker\":{\"colorbar\":{\"outlinewidth\":0,\"ticks\":\"\"}}}],\"scattermapbox\":[{\"type\":\"scattermapbox\",\"marker\":{\"colorbar\":{\"outlinewidth\":0,\"ticks\":\"\"}}}],\"scatterternary\":[{\"type\":\"scatterternary\",\"marker\":{\"colorbar\":{\"outlinewidth\":0,\"ticks\":\"\"}}}],\"scattercarpet\":[{\"type\":\"scattercarpet\",\"marker\":{\"colorbar\":{\"outlinewidth\":0,\"ticks\":\"\"}}}],\"carpet\":[{\"aaxis\":{\"endlinecolor\":\"#2a3f5f\",\"gridcolor\":\"white\",\"linecolor\":\"white\",\"minorgridcolor\":\"white\",\"startlinecolor\":\"#2a3f5f\"},\"baxis\":{\"endlinecolor\":\"#2a3f5f\",\"gridcolor\":\"white\",\"linecolor\":\"white\",\"minorgridcolor\":\"white\",\"startlinecolor\":\"#2a3f5f\"},\"type\":\"carpet\"}],\"table\":[{\"cells\":{\"fill\":{\"color\":\"#EBF0F8\"},\"line\":{\"color\":\"white\"}},\"header\":{\"fill\":{\"color\":\"#C8D4E3\"},\"line\":{\"color\":\"white\"}},\"type\":\"table\"}],\"barpolar\":[{\"marker\":{\"line\":{\"color\":\"#E5ECF6\",\"width\":0.5},\"pattern\":{\"fillmode\":\"overlay\",\"size\":10,\"solidity\":0.2}},\"type\":\"barpolar\"}],\"pie\":[{\"automargin\":true,\"type\":\"pie\"}]},\"layout\":{\"autotypenumbers\":\"strict\",\"colorway\":[\"#636efa\",\"#EF553B\",\"#00cc96\",\"#ab63fa\",\"#FFA15A\",\"#19d3f3\",\"#FF6692\",\"#B6E880\",\"#FF97FF\",\"#FECB52\"],\"font\":{\"color\":\"#2a3f5f\"},\"hovermode\":\"closest\",\"hoverlabel\":{\"align\":\"left\"},\"paper_bgcolor\":\"white\",\"plot_bgcolor\":\"#E5ECF6\",\"polar\":{\"bgcolor\":\"#E5ECF6\",\"angularaxis\":{\"gridcolor\":\"white\",\"linecolor\":\"white\",\"ticks\":\"\"},\"radialaxis\":{\"gridcolor\":\"white\",\"linecolor\":\"white\",\"ticks\":\"\"}},\"ternary\":{\"bgcolor\":\"#E5ECF6\",\"aaxis\":{\"gridcolor\":\"white\",\"linecolor\":\"white\",\"ticks\":\"\"},\"baxis\":{\"gridcolor\":\"white\",\"linecolor\":\"white\",\"ticks\":\"\"},\"caxis\":{\"gridcolor\":\"white\",\"linecolor\":\"white\",\"ticks\":\"\"}},\"coloraxis\":{\"colorbar\":{\"outlinewidth\":0,\"ticks\":\"\"}},\"colorscale\":{\"sequential\":[[0.0,\"#0d0887\"],[0.1111111111111111,\"#46039f\"],[0.2222222222222222,\"#7201a8\"],[0.3333333333333333,\"#9c179e\"],[0.4444444444444444,\"#bd3786\"],[0.5555555555555556,\"#d8576b\"],[0.6666666666666666,\"#ed7953\"],[0.7777777777777778,\"#fb9f3a\"],[0.8888888888888888,\"#fdca26\"],[1.0,\"#f0f921\"]],\"sequentialminus\":[[0.0,\"#0d0887\"],[0.1111111111111111,\"#46039f\"],[0.2222222222222222,\"#7201a8\"],[0.3333333333333333,\"#9c179e\"],[0.4444444444444444,\"#bd3786\"],[0.5555555555555556,\"#d8576b\"],[0.6666666666666666,\"#ed7953\"],[0.7777777777777778,\"#fb9f3a\"],[0.8888888888888888,\"#fdca26\"],[1.0,\"#f0f921\"]],\"diverging\":[[0,\"#8e0152\"],[0.1,\"#c51b7d\"],[0.2,\"#de77ae\"],[0.3,\"#f1b6da\"],[0.4,\"#fde0ef\"],[0.5,\"#f7f7f7\"],[0.6,\"#e6f5d0\"],[0.7,\"#b8e186\"],[0.8,\"#7fbc41\"],[0.9,\"#4d9221\"],[1,\"#276419\"]]},\"xaxis\":{\"gridcolor\":\"white\",\"linecolor\":\"white\",\"ticks\":\"\",\"title\":{\"standoff\":15},\"zerolinecolor\":\"white\",\"automargin\":true,\"zerolinewidth\":2},\"yaxis\":{\"gridcolor\":\"white\",\"linecolor\":\"white\",\"ticks\":\"\",\"title\":{\"standoff\":15},\"zerolinecolor\":\"white\",\"automargin\":true,\"zerolinewidth\":2},\"scene\":{\"xaxis\":{\"backgroundcolor\":\"#E5ECF6\",\"gridcolor\":\"white\",\"linecolor\":\"white\",\"showbackground\":true,\"ticks\":\"\",\"zerolinecolor\":\"white\",\"gridwidth\":2},\"yaxis\":{\"backgroundcolor\":\"#E5ECF6\",\"gridcolor\":\"white\",\"linecolor\":\"white\",\"showbackground\":true,\"ticks\":\"\",\"zerolinecolor\":\"white\",\"gridwidth\":2},\"zaxis\":{\"backgroundcolor\":\"#E5ECF6\",\"gridcolor\":\"white\",\"linecolor\":\"white\",\"showbackground\":true,\"ticks\":\"\",\"zerolinecolor\":\"white\",\"gridwidth\":2}},\"shapedefaults\":{\"line\":{\"color\":\"#2a3f5f\"}},\"annotationdefaults\":{\"arrowcolor\":\"#2a3f5f\",\"arrowhead\":0,\"arrowwidth\":1},\"geo\":{\"bgcolor\":\"white\",\"landcolor\":\"#E5ECF6\",\"subunitcolor\":\"white\",\"showland\":true,\"showlakes\":true,\"lakecolor\":\"white\"},\"title\":{\"x\":0.05},\"mapbox\":{\"style\":\"light\"}}},\"xaxis\":{\"anchor\":\"y\",\"domain\":[0.0,1.0],\"title\":{\"text\":\"Comments_Received_Per_Day\"}},\"yaxis\":{\"anchor\":\"x\",\"domain\":[0.0,1.0],\"title\":{\"text\":\"count\"}},\"legend\":{\"tracegroupgap\":0},\"title\":{\"text\":\"Posts Per Day Distribution\"},\"barmode\":\"relative\"},                        {\"responsive\": true}                    ).then(function(){\n",
       "                            \n",
       "var gd = document.getElementById('6385995f-1554-4ee0-ac4d-38fb236f539d');\n",
       "var x = new MutationObserver(function (mutations, observer) {{\n",
       "        var display = window.getComputedStyle(gd).display;\n",
       "        if (!display || display === 'none') {{\n",
       "            console.log([gd, 'removed!']);\n",
       "            Plotly.purge(gd);\n",
       "            observer.disconnect();\n",
       "        }}\n",
       "}});\n",
       "\n",
       "// Listen for the removal of the full notebook cells\n",
       "var notebookContainer = gd.closest('#notebook-container');\n",
       "if (notebookContainer) {{\n",
       "    x.observe(notebookContainer, {childList: true});\n",
       "}}\n",
       "\n",
       "// Listen for the clearing of the current output cell\n",
       "var outputEl = gd.closest('.output');\n",
       "if (outputEl) {{\n",
       "    x.observe(outputEl, {childList: true});\n",
       "}}\n",
       "\n",
       "                        })                };                });            </script>        </div>"
      ]
     },
     "metadata": {},
     "output_type": "display_data"
    }
   ],
   "source": [
    "plt = px.histogram(train_df, x='Comments_Received_Per_Day', title='Posts Per Day Distribution')\n",
    "plt.show()"
   ]
  },
  {
   "cell_type": "markdown",
   "id": "a9b2d8ac",
   "metadata": {
    "papermill": {
     "duration": 0.035507,
     "end_time": "2024-05-23T11:22:52.644433",
     "exception": false,
     "start_time": "2024-05-23T11:22:52.608926",
     "status": "completed"
    },
    "tags": []
   },
   "source": [
    "### Messages Per Day Distribution"
   ]
  },
  {
   "cell_type": "code",
   "execution_count": 40,
   "id": "fec800b6",
   "metadata": {
    "execution": {
     "iopub.execute_input": "2024-05-23T11:22:52.718510Z",
     "iopub.status.busy": "2024-05-23T11:22:52.718131Z",
     "iopub.status.idle": "2024-05-23T11:22:52.787853Z",
     "shell.execute_reply": "2024-05-23T11:22:52.786890Z"
    },
    "papermill": {
     "duration": 0.109511,
     "end_time": "2024-05-23T11:22:52.790071",
     "exception": false,
     "start_time": "2024-05-23T11:22:52.680560",
     "status": "completed"
    },
    "tags": []
   },
   "outputs": [
    {
     "data": {
      "text/html": [
       "<div>                            <div id=\"8a5149bb-4564-4121-8708-2a585e5a206a\" class=\"plotly-graph-div\" style=\"height:525px; width:100%;\"></div>            <script type=\"text/javascript\">                require([\"plotly\"], function(Plotly) {                    window.PLOTLYENV=window.PLOTLYENV || {};                                    if (document.getElementById(\"8a5149bb-4564-4121-8708-2a585e5a206a\")) {                    Plotly.newPlot(                        \"8a5149bb-4564-4121-8708-2a585e5a206a\",                        [{\"alignmentgroup\":\"True\",\"bingroup\":\"x\",\"hovertemplate\":\"Messages_Sent_Per_Day=%{x}\\u003cbr\\u003ecount=%{y}\\u003cextra\\u003e\\u003c\\u002fextra\\u003e\",\"legendgroup\":\"\",\"marker\":{\"color\":\"#636efa\",\"pattern\":{\"shape\":\"\"}},\"name\":\"\",\"offsetgroup\":\"\",\"orientation\":\"v\",\"showlegend\":false,\"x\":[12.0,30.0,20.0,50.0,10.0,25.0,18.0,22.0,8.0,35.0,20.0,18.0,15.0,40.0,28.0,10.0,30.0,25.0,12.0,33.0,18.0,20.0,17.0,45.0,15.0,21.0,11.0,32.0,24.0,10.0,14.0,35.0,18.0,30.0,20.0,11.0,40.0,20.0,25.0,22.0,9.0,30.0,22.0,18.0,14.0,38.0,20.0,18.0,31.0,10.0,27.0,19.0,20.0,35.0,17.0,21.0,22.0,18.0,25.0,15.0,33.0,18.0,20.0,30.0,26.0,12.0,35.0,20.0,28.0,20.0,30.0,10.0,12.0,22.0,25.0,27.0,38.0,18.0,14.0,20.0,12.0,18.0,25.0,22.0,20.0,26.0,28.0,12.0,33.0,20.0,10.0,25.0,22.0,28.0,30.0,18.0,10.0,25.0,18.0,22.0,25.0,22.0,15.0,45.0,12.0,30.0,20.0,25.0,10.0,40.0,25.0,18.0,15.0,45.0,29.0,12.0,28.0,24.0,12.0,30.0,20.0,23.0,15.0,50.0,15.0,20.0,11.0,30.0,24.0,12.0,14.0,35.0,18.0,28.0,22.0,11.0,38.0,24.0,30.0,25.0,10.0,30.0,22.0,18.0,14.0,38.0,20.0,18.0,31.0,10.0,28.0,19.0,20.0,35.0,17.0,21.0,22.0,18.0,25.0,15.0,33.0,18.0,20.0,30.0,26.0,12.0,35.0,20.0,28.0,20.0,30.0,10.0,12.0,22.0,25.0,27.0,38.0,18.0,14.0,20.0,12.0,18.0,25.0,22.0,20.0,26.0,28.0,12.0,33.0,20.0,10.0,25.0,22.0,28.0,30.0,18.0,10.0,25.0,18.0,22.0,25.0,22.0,15.0,45.0,12.0,30.0,20.0,25.0,10.0,40.0,25.0,18.0,15.0,45.0,29.0,12.0,28.0,24.0,12.0,30.0,20.0,23.0,15.0,50.0,15.0,20.0,11.0,30.0,24.0,12.0,14.0,35.0,18.0,28.0,22.0,11.0,38.0,24.0,30.0,25.0,10.0,30.0,22.0,18.0,14.0,38.0,20.0,18.0,31.0,10.0,28.0,19.0,20.0,35.0,17.0,21.0,22.0,18.0,25.0,15.0,33.0,18.0,20.0,30.0,26.0,12.0,35.0,20.0,28.0,20.0,30.0,10.0,12.0,22.0,25.0,27.0,38.0,18.0,14.0,20.0,12.0,18.0,25.0,22.0,20.0,26.0,28.0,12.0,33.0,20.0,10.0,25.0,22.0,28.0,30.0,18.0,10.0,25.0,18.0,22.0,25.0,22.0,15.0,45.0,12.0,30.0,20.0,25.0,10.0,40.0,25.0,18.0,15.0,45.0,29.0,12.0,28.0,24.0,12.0,30.0,20.0,23.0,15.0,50.0,15.0,20.0,11.0,30.0,24.0,12.0,14.0,35.0,18.0,28.0,22.0,11.0,38.0,24.0,30.0,25.0,10.0,30.0,22.0,18.0,14.0,38.0,20.0,18.0,31.0,10.0,28.0,19.0,20.0,35.0,17.0,21.0,22.0,18.0,25.0,15.0,33.0,18.0,20.0,30.0,26.0,12.0,35.0,20.0,28.0,20.0,30.0,10.0,12.0,22.0,25.0,27.0,38.0,18.0,14.0,20.0,12.0,18.0,25.0,22.0,20.0,26.0,28.0,12.0,33.0,20.0,10.0,25.0,22.0,28.0,30.0,18.0,10.0,25.0,18.0,22.0,25.0,22.0,15.0,45.0,12.0,30.0,20.0,25.0,10.0,40.0,25.0,18.0,15.0,45.0,29.0,12.0,28.0,24.0,12.0,30.0,20.0,23.0,15.0,50.0,15.0,20.0,11.0,30.0,24.0,12.0,14.0,35.0,18.0,28.0,22.0,11.0,38.0,24.0,30.0,25.0,10.0,30.0,22.0,18.0,14.0,38.0,20.0,18.0,31.0,10.0,28.0,19.0,20.0,35.0,17.0,21.0,22.0,18.0,25.0,15.0,33.0,18.0,20.0,30.0,26.0,12.0,35.0,20.0,28.0,20.0,30.0,10.0,12.0,22.0,25.0,27.0,38.0,18.0,14.0,20.0,12.0,18.0,25.0,22.0,20.0,26.0,28.0,12.0,33.0,20.0,10.0,25.0,22.0,28.0,30.0,18.0,10.0,25.0,18.0,22.0,25.0,22.0,15.0,45.0,12.0,30.0,20.0,25.0,10.0,40.0,25.0,18.0,15.0,45.0,29.0,12.0,28.0,24.0,12.0,30.0,20.0,23.0,15.0,50.0,15.0,20.0,11.0,30.0,24.0,12.0,14.0,35.0,18.0,28.0,22.0,11.0,38.0,24.0,30.0,25.0,10.0,30.0,22.0,18.0,14.0,38.0,20.0,18.0,31.0,10.0,28.0,19.0,20.0,35.0,17.0,21.0,22.0,18.0,25.0,15.0,33.0,18.0,20.0,30.0,26.0,12.0,35.0,20.0,28.0,20.0,30.0,10.0,12.0,22.0,25.0,27.0,38.0,18.0,14.0,20.0,12.0,18.0,25.0,22.0,20.0,26.0,28.0,12.0,33.0,20.0,10.0,25.0,22.0,28.0,30.0,18.0,10.0,25.0,18.0,22.0,25.0,22.0,15.0,45.0,12.0,30.0,20.0,25.0,10.0,40.0,25.0,18.0,15.0,45.0,29.0,12.0,28.0,24.0,12.0,30.0,20.0,23.0,15.0,50.0,15.0,20.0,11.0,30.0,24.0,12.0,14.0,35.0,18.0,28.0,22.0,11.0,38.0,24.0,30.0,25.0,10.0,null,30.0,22.0,18.0,14.0,38.0,20.0,18.0,31.0,10.0,28.0,19.0,20.0,35.0,17.0,21.0,22.0,18.0,25.0,15.0,33.0,18.0,20.0,30.0,26.0,12.0,35.0,20.0,28.0,20.0,30.0,10.0,12.0,22.0,25.0,27.0,38.0,18.0,14.0,20.0,12.0,18.0,25.0,22.0,20.0,26.0,28.0,12.0,33.0,20.0,10.0,25.0,22.0,28.0,30.0,18.0,10.0,25.0,18.0,22.0,25.0,22.0,15.0,45.0,12.0,30.0,20.0,25.0,10.0,40.0,25.0,18.0,15.0,45.0,29.0,12.0,28.0,24.0,12.0,30.0,20.0,23.0,15.0,50.0,15.0,20.0,11.0,30.0,24.0,12.0,14.0,35.0,18.0,28.0,22.0,11.0,38.0,24.0,30.0,25.0,10.0,30.0,22.0,18.0,14.0,38.0,20.0,18.0,31.0,10.0,28.0,19.0,20.0,35.0,17.0,21.0,22.0,18.0,25.0,15.0,33.0,18.0,20.0,30.0,26.0,12.0,35.0,20.0,28.0,20.0,30.0,10.0,12.0,22.0,25.0,27.0,38.0,18.0,14.0,20.0,12.0,18.0,25.0,22.0,20.0,26.0,28.0,12.0,33.0,20.0,10.0,25.0,22.0,28.0,30.0,18.0,10.0,25.0,18.0,22.0,25.0,22.0,15.0,45.0,12.0,30.0,20.0,25.0,10.0,40.0,25.0,18.0,15.0,45.0,29.0,12.0,28.0,24.0,12.0,30.0,20.0,23.0,15.0,50.0,15.0,20.0,11.0,30.0,24.0,12.0,14.0,35.0,18.0,28.0,22.0,11.0,38.0,24.0,30.0,25.0,10.0,30.0,22.0,18.0,14.0,38.0,20.0,18.0,31.0,10.0,28.0,19.0,20.0,35.0,17.0,21.0,22.0,18.0,25.0,15.0,33.0,18.0,20.0,30.0,26.0,12.0,35.0,20.0,28.0,20.0,30.0,10.0,12.0,22.0,25.0,27.0,38.0,18.0,14.0,20.0,12.0,18.0,25.0,22.0,20.0,26.0,28.0,12.0,33.0,20.0,10.0,25.0,22.0,28.0,30.0,18.0,10.0,25.0,18.0,22.0,25.0,22.0,15.0,45.0,12.0,30.0,20.0,25.0,10.0,40.0,25.0,18.0,15.0,45.0,29.0,12.0,28.0,24.0,12.0,30.0,20.0,23.0,15.0,50.0,15.0,20.0,11.0,30.0,24.0,12.0,14.0,35.0,18.0,28.0,22.0,11.0,38.0,24.0,30.0,25.0,10.0,30.0,22.0,18.0,14.0,38.0,20.0,18.0,31.0,10.0,28.0,19.0,20.0,35.0,17.0,21.0,22.0,18.0,25.0,15.0,33.0,18.0,20.0,30.0,26.0,12.0,35.0,20.0,28.0,20.0,30.0,10.0,12.0,22.0,25.0,27.0,38.0,18.0,14.0,20.0,12.0,18.0,25.0,22.0,20.0,26.0,28.0,12.0,33.0,20.0,10.0,25.0,22.0,28.0,30.0,18.0,10.0,25.0,18.0,22.0],\"xaxis\":\"x\",\"yaxis\":\"y\",\"type\":\"histogram\"}],                        {\"template\":{\"data\":{\"histogram2dcontour\":[{\"type\":\"histogram2dcontour\",\"colorbar\":{\"outlinewidth\":0,\"ticks\":\"\"},\"colorscale\":[[0.0,\"#0d0887\"],[0.1111111111111111,\"#46039f\"],[0.2222222222222222,\"#7201a8\"],[0.3333333333333333,\"#9c179e\"],[0.4444444444444444,\"#bd3786\"],[0.5555555555555556,\"#d8576b\"],[0.6666666666666666,\"#ed7953\"],[0.7777777777777778,\"#fb9f3a\"],[0.8888888888888888,\"#fdca26\"],[1.0,\"#f0f921\"]]}],\"choropleth\":[{\"type\":\"choropleth\",\"colorbar\":{\"outlinewidth\":0,\"ticks\":\"\"}}],\"histogram2d\":[{\"type\":\"histogram2d\",\"colorbar\":{\"outlinewidth\":0,\"ticks\":\"\"},\"colorscale\":[[0.0,\"#0d0887\"],[0.1111111111111111,\"#46039f\"],[0.2222222222222222,\"#7201a8\"],[0.3333333333333333,\"#9c179e\"],[0.4444444444444444,\"#bd3786\"],[0.5555555555555556,\"#d8576b\"],[0.6666666666666666,\"#ed7953\"],[0.7777777777777778,\"#fb9f3a\"],[0.8888888888888888,\"#fdca26\"],[1.0,\"#f0f921\"]]}],\"heatmap\":[{\"type\":\"heatmap\",\"colorbar\":{\"outlinewidth\":0,\"ticks\":\"\"},\"colorscale\":[[0.0,\"#0d0887\"],[0.1111111111111111,\"#46039f\"],[0.2222222222222222,\"#7201a8\"],[0.3333333333333333,\"#9c179e\"],[0.4444444444444444,\"#bd3786\"],[0.5555555555555556,\"#d8576b\"],[0.6666666666666666,\"#ed7953\"],[0.7777777777777778,\"#fb9f3a\"],[0.8888888888888888,\"#fdca26\"],[1.0,\"#f0f921\"]]}],\"heatmapgl\":[{\"type\":\"heatmapgl\",\"colorbar\":{\"outlinewidth\":0,\"ticks\":\"\"},\"colorscale\":[[0.0,\"#0d0887\"],[0.1111111111111111,\"#46039f\"],[0.2222222222222222,\"#7201a8\"],[0.3333333333333333,\"#9c179e\"],[0.4444444444444444,\"#bd3786\"],[0.5555555555555556,\"#d8576b\"],[0.6666666666666666,\"#ed7953\"],[0.7777777777777778,\"#fb9f3a\"],[0.8888888888888888,\"#fdca26\"],[1.0,\"#f0f921\"]]}],\"contourcarpet\":[{\"type\":\"contourcarpet\",\"colorbar\":{\"outlinewidth\":0,\"ticks\":\"\"}}],\"contour\":[{\"type\":\"contour\",\"colorbar\":{\"outlinewidth\":0,\"ticks\":\"\"},\"colorscale\":[[0.0,\"#0d0887\"],[0.1111111111111111,\"#46039f\"],[0.2222222222222222,\"#7201a8\"],[0.3333333333333333,\"#9c179e\"],[0.4444444444444444,\"#bd3786\"],[0.5555555555555556,\"#d8576b\"],[0.6666666666666666,\"#ed7953\"],[0.7777777777777778,\"#fb9f3a\"],[0.8888888888888888,\"#fdca26\"],[1.0,\"#f0f921\"]]}],\"surface\":[{\"type\":\"surface\",\"colorbar\":{\"outlinewidth\":0,\"ticks\":\"\"},\"colorscale\":[[0.0,\"#0d0887\"],[0.1111111111111111,\"#46039f\"],[0.2222222222222222,\"#7201a8\"],[0.3333333333333333,\"#9c179e\"],[0.4444444444444444,\"#bd3786\"],[0.5555555555555556,\"#d8576b\"],[0.6666666666666666,\"#ed7953\"],[0.7777777777777778,\"#fb9f3a\"],[0.8888888888888888,\"#fdca26\"],[1.0,\"#f0f921\"]]}],\"mesh3d\":[{\"type\":\"mesh3d\",\"colorbar\":{\"outlinewidth\":0,\"ticks\":\"\"}}],\"scatter\":[{\"fillpattern\":{\"fillmode\":\"overlay\",\"size\":10,\"solidity\":0.2},\"type\":\"scatter\"}],\"parcoords\":[{\"type\":\"parcoords\",\"line\":{\"colorbar\":{\"outlinewidth\":0,\"ticks\":\"\"}}}],\"scatterpolargl\":[{\"type\":\"scatterpolargl\",\"marker\":{\"colorbar\":{\"outlinewidth\":0,\"ticks\":\"\"}}}],\"bar\":[{\"error_x\":{\"color\":\"#2a3f5f\"},\"error_y\":{\"color\":\"#2a3f5f\"},\"marker\":{\"line\":{\"color\":\"#E5ECF6\",\"width\":0.5},\"pattern\":{\"fillmode\":\"overlay\",\"size\":10,\"solidity\":0.2}},\"type\":\"bar\"}],\"scattergeo\":[{\"type\":\"scattergeo\",\"marker\":{\"colorbar\":{\"outlinewidth\":0,\"ticks\":\"\"}}}],\"scatterpolar\":[{\"type\":\"scatterpolar\",\"marker\":{\"colorbar\":{\"outlinewidth\":0,\"ticks\":\"\"}}}],\"histogram\":[{\"marker\":{\"pattern\":{\"fillmode\":\"overlay\",\"size\":10,\"solidity\":0.2}},\"type\":\"histogram\"}],\"scattergl\":[{\"type\":\"scattergl\",\"marker\":{\"colorbar\":{\"outlinewidth\":0,\"ticks\":\"\"}}}],\"scatter3d\":[{\"type\":\"scatter3d\",\"line\":{\"colorbar\":{\"outlinewidth\":0,\"ticks\":\"\"}},\"marker\":{\"colorbar\":{\"outlinewidth\":0,\"ticks\":\"\"}}}],\"scattermapbox\":[{\"type\":\"scattermapbox\",\"marker\":{\"colorbar\":{\"outlinewidth\":0,\"ticks\":\"\"}}}],\"scatterternary\":[{\"type\":\"scatterternary\",\"marker\":{\"colorbar\":{\"outlinewidth\":0,\"ticks\":\"\"}}}],\"scattercarpet\":[{\"type\":\"scattercarpet\",\"marker\":{\"colorbar\":{\"outlinewidth\":0,\"ticks\":\"\"}}}],\"carpet\":[{\"aaxis\":{\"endlinecolor\":\"#2a3f5f\",\"gridcolor\":\"white\",\"linecolor\":\"white\",\"minorgridcolor\":\"white\",\"startlinecolor\":\"#2a3f5f\"},\"baxis\":{\"endlinecolor\":\"#2a3f5f\",\"gridcolor\":\"white\",\"linecolor\":\"white\",\"minorgridcolor\":\"white\",\"startlinecolor\":\"#2a3f5f\"},\"type\":\"carpet\"}],\"table\":[{\"cells\":{\"fill\":{\"color\":\"#EBF0F8\"},\"line\":{\"color\":\"white\"}},\"header\":{\"fill\":{\"color\":\"#C8D4E3\"},\"line\":{\"color\":\"white\"}},\"type\":\"table\"}],\"barpolar\":[{\"marker\":{\"line\":{\"color\":\"#E5ECF6\",\"width\":0.5},\"pattern\":{\"fillmode\":\"overlay\",\"size\":10,\"solidity\":0.2}},\"type\":\"barpolar\"}],\"pie\":[{\"automargin\":true,\"type\":\"pie\"}]},\"layout\":{\"autotypenumbers\":\"strict\",\"colorway\":[\"#636efa\",\"#EF553B\",\"#00cc96\",\"#ab63fa\",\"#FFA15A\",\"#19d3f3\",\"#FF6692\",\"#B6E880\",\"#FF97FF\",\"#FECB52\"],\"font\":{\"color\":\"#2a3f5f\"},\"hovermode\":\"closest\",\"hoverlabel\":{\"align\":\"left\"},\"paper_bgcolor\":\"white\",\"plot_bgcolor\":\"#E5ECF6\",\"polar\":{\"bgcolor\":\"#E5ECF6\",\"angularaxis\":{\"gridcolor\":\"white\",\"linecolor\":\"white\",\"ticks\":\"\"},\"radialaxis\":{\"gridcolor\":\"white\",\"linecolor\":\"white\",\"ticks\":\"\"}},\"ternary\":{\"bgcolor\":\"#E5ECF6\",\"aaxis\":{\"gridcolor\":\"white\",\"linecolor\":\"white\",\"ticks\":\"\"},\"baxis\":{\"gridcolor\":\"white\",\"linecolor\":\"white\",\"ticks\":\"\"},\"caxis\":{\"gridcolor\":\"white\",\"linecolor\":\"white\",\"ticks\":\"\"}},\"coloraxis\":{\"colorbar\":{\"outlinewidth\":0,\"ticks\":\"\"}},\"colorscale\":{\"sequential\":[[0.0,\"#0d0887\"],[0.1111111111111111,\"#46039f\"],[0.2222222222222222,\"#7201a8\"],[0.3333333333333333,\"#9c179e\"],[0.4444444444444444,\"#bd3786\"],[0.5555555555555556,\"#d8576b\"],[0.6666666666666666,\"#ed7953\"],[0.7777777777777778,\"#fb9f3a\"],[0.8888888888888888,\"#fdca26\"],[1.0,\"#f0f921\"]],\"sequentialminus\":[[0.0,\"#0d0887\"],[0.1111111111111111,\"#46039f\"],[0.2222222222222222,\"#7201a8\"],[0.3333333333333333,\"#9c179e\"],[0.4444444444444444,\"#bd3786\"],[0.5555555555555556,\"#d8576b\"],[0.6666666666666666,\"#ed7953\"],[0.7777777777777778,\"#fb9f3a\"],[0.8888888888888888,\"#fdca26\"],[1.0,\"#f0f921\"]],\"diverging\":[[0,\"#8e0152\"],[0.1,\"#c51b7d\"],[0.2,\"#de77ae\"],[0.3,\"#f1b6da\"],[0.4,\"#fde0ef\"],[0.5,\"#f7f7f7\"],[0.6,\"#e6f5d0\"],[0.7,\"#b8e186\"],[0.8,\"#7fbc41\"],[0.9,\"#4d9221\"],[1,\"#276419\"]]},\"xaxis\":{\"gridcolor\":\"white\",\"linecolor\":\"white\",\"ticks\":\"\",\"title\":{\"standoff\":15},\"zerolinecolor\":\"white\",\"automargin\":true,\"zerolinewidth\":2},\"yaxis\":{\"gridcolor\":\"white\",\"linecolor\":\"white\",\"ticks\":\"\",\"title\":{\"standoff\":15},\"zerolinecolor\":\"white\",\"automargin\":true,\"zerolinewidth\":2},\"scene\":{\"xaxis\":{\"backgroundcolor\":\"#E5ECF6\",\"gridcolor\":\"white\",\"linecolor\":\"white\",\"showbackground\":true,\"ticks\":\"\",\"zerolinecolor\":\"white\",\"gridwidth\":2},\"yaxis\":{\"backgroundcolor\":\"#E5ECF6\",\"gridcolor\":\"white\",\"linecolor\":\"white\",\"showbackground\":true,\"ticks\":\"\",\"zerolinecolor\":\"white\",\"gridwidth\":2},\"zaxis\":{\"backgroundcolor\":\"#E5ECF6\",\"gridcolor\":\"white\",\"linecolor\":\"white\",\"showbackground\":true,\"ticks\":\"\",\"zerolinecolor\":\"white\",\"gridwidth\":2}},\"shapedefaults\":{\"line\":{\"color\":\"#2a3f5f\"}},\"annotationdefaults\":{\"arrowcolor\":\"#2a3f5f\",\"arrowhead\":0,\"arrowwidth\":1},\"geo\":{\"bgcolor\":\"white\",\"landcolor\":\"#E5ECF6\",\"subunitcolor\":\"white\",\"showland\":true,\"showlakes\":true,\"lakecolor\":\"white\"},\"title\":{\"x\":0.05},\"mapbox\":{\"style\":\"light\"}}},\"xaxis\":{\"anchor\":\"y\",\"domain\":[0.0,1.0],\"title\":{\"text\":\"Messages_Sent_Per_Day\"}},\"yaxis\":{\"anchor\":\"x\",\"domain\":[0.0,1.0],\"title\":{\"text\":\"count\"}},\"legend\":{\"tracegroupgap\":0},\"title\":{\"text\":\"Posts Per Day Distribution\"},\"barmode\":\"relative\"},                        {\"responsive\": true}                    ).then(function(){\n",
       "                            \n",
       "var gd = document.getElementById('8a5149bb-4564-4121-8708-2a585e5a206a');\n",
       "var x = new MutationObserver(function (mutations, observer) {{\n",
       "        var display = window.getComputedStyle(gd).display;\n",
       "        if (!display || display === 'none') {{\n",
       "            console.log([gd, 'removed!']);\n",
       "            Plotly.purge(gd);\n",
       "            observer.disconnect();\n",
       "        }}\n",
       "}});\n",
       "\n",
       "// Listen for the removal of the full notebook cells\n",
       "var notebookContainer = gd.closest('#notebook-container');\n",
       "if (notebookContainer) {{\n",
       "    x.observe(notebookContainer, {childList: true});\n",
       "}}\n",
       "\n",
       "// Listen for the clearing of the current output cell\n",
       "var outputEl = gd.closest('.output');\n",
       "if (outputEl) {{\n",
       "    x.observe(outputEl, {childList: true});\n",
       "}}\n",
       "\n",
       "                        })                };                });            </script>        </div>"
      ]
     },
     "metadata": {},
     "output_type": "display_data"
    }
   ],
   "source": [
    "plt = px.histogram(train_df, x='Messages_Sent_Per_Day', title='Posts Per Day Distribution')\n",
    "plt.show()"
   ]
  },
  {
   "cell_type": "markdown",
   "id": "d68a67b2",
   "metadata": {
    "papermill": {
     "duration": 0.035606,
     "end_time": "2024-05-23T11:22:52.861805",
     "exception": false,
     "start_time": "2024-05-23T11:22:52.826199",
     "status": "completed"
    },
    "tags": []
   },
   "source": [
    "### Emotion Distribution"
   ]
  },
  {
   "cell_type": "code",
   "execution_count": 41,
   "id": "1c123f7a",
   "metadata": {
    "execution": {
     "iopub.execute_input": "2024-05-23T11:22:52.936403Z",
     "iopub.status.busy": "2024-05-23T11:22:52.935733Z",
     "iopub.status.idle": "2024-05-23T11:22:52.943573Z",
     "shell.execute_reply": "2024-05-23T11:22:52.942473Z"
    },
    "papermill": {
     "duration": 0.047822,
     "end_time": "2024-05-23T11:22:52.945998",
     "exception": false,
     "start_time": "2024-05-23T11:22:52.898176",
     "status": "completed"
    },
    "tags": []
   },
   "outputs": [
    {
     "data": {
      "text/plain": [
       "array(['Happiness', 'Anger', 'Neutral', 'Anxiety', 'Boredom', 'Sadness',\n",
       "       nan], dtype=object)"
      ]
     },
     "execution_count": 41,
     "metadata": {},
     "output_type": "execute_result"
    }
   ],
   "source": [
    "train_df['Dominant_Emotion'].unique()"
   ]
  },
  {
   "cell_type": "code",
   "execution_count": 42,
   "id": "2c0a91fa",
   "metadata": {
    "execution": {
     "iopub.execute_input": "2024-05-23T11:22:53.023049Z",
     "iopub.status.busy": "2024-05-23T11:22:53.022562Z",
     "iopub.status.idle": "2024-05-23T11:22:53.029525Z",
     "shell.execute_reply": "2024-05-23T11:22:53.028095Z"
    },
    "papermill": {
     "duration": 0.048297,
     "end_time": "2024-05-23T11:22:53.031823",
     "exception": false,
     "start_time": "2024-05-23T11:22:52.983526",
     "status": "completed"
    },
    "tags": []
   },
   "outputs": [],
   "source": [
    "# fill with mode\n",
    "train_df['Dominant_Emotion'].fillna(train_df['Dominant_Emotion'].mode()[0], inplace=True)"
   ]
  },
  {
   "cell_type": "code",
   "execution_count": 43,
   "id": "aa6525e6",
   "metadata": {
    "execution": {
     "iopub.execute_input": "2024-05-23T11:22:53.108131Z",
     "iopub.status.busy": "2024-05-23T11:22:53.107691Z",
     "iopub.status.idle": "2024-05-23T11:22:53.193032Z",
     "shell.execute_reply": "2024-05-23T11:22:53.191976Z"
    },
    "papermill": {
     "duration": 0.126617,
     "end_time": "2024-05-23T11:22:53.195647",
     "exception": false,
     "start_time": "2024-05-23T11:22:53.069030",
     "status": "completed"
    },
    "tags": []
   },
   "outputs": [
    {
     "data": {
      "text/html": [
       "<div>                            <div id=\"2051cf3c-e59d-4725-94f1-b6291544c80b\" class=\"plotly-graph-div\" style=\"height:525px; width:100%;\"></div>            <script type=\"text/javascript\">                require([\"plotly\"], function(Plotly) {                    window.PLOTLYENV=window.PLOTLYENV || {};                                    if (document.getElementById(\"2051cf3c-e59d-4725-94f1-b6291544c80b\")) {                    Plotly.newPlot(                        \"2051cf3c-e59d-4725-94f1-b6291544c80b\",                        [{\"domain\":{\"x\":[0.0,1.0],\"y\":[0.0,1.0]},\"hovertemplate\":\"Dominant_Emotion=%{label}\\u003cextra\\u003e\\u003c\\u002fextra\\u003e\",\"labels\":[\"Happiness\",\"Anger\",\"Neutral\",\"Anxiety\",\"Boredom\",\"Happiness\",\"Anger\",\"Sadness\",\"Neutral\",\"Happiness\",\"Anxiety\",\"Sadness\",\"Boredom\",\"Happiness\",\"Anger\",\"Neutral\",\"Anxiety\",\"Sadness\",\"Neutral\",\"Happiness\",\"Anxiety\",\"Anger\",\"Boredom\",\"Happiness\",\"Sadness\",\"Neutral\",\"Anxiety\",\"Happiness\",\"Anger\",\"Sadness\",\"Boredom\",\"Happiness\",\"Neutral\",\"Sadness\",\"Anxiety\",\"Boredom\",\"Happiness\",\"Anger\",\"Neutral\",\"Anxiety\",\"Sadness\",\"Happiness\",\"Anger\",\"Neutral\",\"Boredom\",\"Happiness\",\"Sadness\",\"Anxiety\",\"Neutral\",\"Boredom\",\"Happiness\",\"Anger\",\"Neutral\",\"Sadness\",\"Anxiety\",\"Anxiety\",\"Boredom\",\"Sadness\",\"Happiness\",\"Boredom\",\"Happiness\",\"Anger\",\"Neutral\",\"Anxiety\",\"Sadness\",\"Boredom\",\"Happiness\",\"Neutral\",\"Anxiety\",\"Sadness\",\"Happiness\",\"Boredom\",\"Neutral\",\"Anger\",\"Neutral\",\"Anxiety\",\"Happiness\",\"Sadness\",\"Anxiety\",\"Neutral\",\"Sadness\",\"Happiness\",\"Anger\",\"Neutral\",\"Boredom\",\"Anxiety\",\"Sadness\",\"Neutral\",\"Happiness\",\"Anxiety\",\"Boredom\",\"Anger\",\"Neutral\",\"Sadness\",\"Anxiety\",\"Boredom\",\"Neutral\",\"Happiness\",\"Anger\",\"Neutral\",\"Happiness\",\"Anger\",\"Neutral\",\"Anxiety\",\"Boredom\",\"Happiness\",\"Anger\",\"Sadness\",\"Neutral\",\"Happiness\",\"Anxiety\",\"Sadness\",\"Boredom\",\"Happiness\",\"Anger\",\"Neutral\",\"Anxiety\",\"Sadness\",\"Neutral\",\"Happiness\",\"Anxiety\",\"Anger\",\"Boredom\",\"Happiness\",\"Sadness\",\"Neutral\",\"Anxiety\",\"Happiness\",\"Anger\",\"Sadness\",\"Boredom\",\"Happiness\",\"Neutral\",\"Sadness\",\"Anxiety\",\"Boredom\",\"Happiness\",\"Anger\",\"Neutral\",\"Anxiety\",\"Sadness\",\"Happiness\",\"Anger\",\"Neutral\",\"Boredom\",\"Happiness\",\"Sadness\",\"Anxiety\",\"Neutral\",\"Boredom\",\"Happiness\",\"Anger\",\"Neutral\",\"Sadness\",\"Anxiety\",\"Anxiety\",\"Boredom\",\"Sadness\",\"Happiness\",\"Boredom\",\"Happiness\",\"Anger\",\"Neutral\",\"Anxiety\",\"Sadness\",\"Boredom\",\"Happiness\",\"Neutral\",\"Anxiety\",\"Sadness\",\"Happiness\",\"Boredom\",\"Neutral\",\"Anger\",\"Neutral\",\"Anxiety\",\"Happiness\",\"Sadness\",\"Anxiety\",\"Neutral\",\"Sadness\",\"Happiness\",\"Anger\",\"Neutral\",\"Boredom\",\"Anxiety\",\"Sadness\",\"Neutral\",\"Happiness\",\"Anxiety\",\"Boredom\",\"Anger\",\"Neutral\",\"Sadness\",\"Anxiety\",\"Boredom\",\"Neutral\",\"Happiness\",\"Anger\",\"Neutral\",\"Happiness\",\"Anger\",\"Neutral\",\"Anxiety\",\"Boredom\",\"Happiness\",\"Anger\",\"Sadness\",\"Neutral\",\"Happiness\",\"Anxiety\",\"Sadness\",\"Boredom\",\"Happiness\",\"Anger\",\"Neutral\",\"Anxiety\",\"Sadness\",\"Neutral\",\"Happiness\",\"Anxiety\",\"Anger\",\"Boredom\",\"Happiness\",\"Sadness\",\"Neutral\",\"Anxiety\",\"Happiness\",\"Anger\",\"Sadness\",\"Boredom\",\"Happiness\",\"Neutral\",\"Sadness\",\"Anxiety\",\"Boredom\",\"Happiness\",\"Anger\",\"Neutral\",\"Anxiety\",\"Sadness\",\"Happiness\",\"Anger\",\"Neutral\",\"Boredom\",\"Happiness\",\"Sadness\",\"Anxiety\",\"Neutral\",\"Boredom\",\"Happiness\",\"Anger\",\"Neutral\",\"Sadness\",\"Anxiety\",\"Anxiety\",\"Boredom\",\"Sadness\",\"Happiness\",\"Boredom\",\"Happiness\",\"Anger\",\"Neutral\",\"Anxiety\",\"Sadness\",\"Boredom\",\"Happiness\",\"Neutral\",\"Anxiety\",\"Sadness\",\"Happiness\",\"Boredom\",\"Neutral\",\"Anger\",\"Neutral\",\"Anxiety\",\"Happiness\",\"Sadness\",\"Anxiety\",\"Neutral\",\"Sadness\",\"Happiness\",\"Anger\",\"Neutral\",\"Boredom\",\"Anxiety\",\"Sadness\",\"Neutral\",\"Happiness\",\"Anxiety\",\"Boredom\",\"Anger\",\"Neutral\",\"Sadness\",\"Anxiety\",\"Boredom\",\"Neutral\",\"Happiness\",\"Anger\",\"Neutral\",\"Happiness\",\"Anger\",\"Neutral\",\"Anxiety\",\"Boredom\",\"Happiness\",\"Anger\",\"Sadness\",\"Neutral\",\"Happiness\",\"Anxiety\",\"Sadness\",\"Boredom\",\"Happiness\",\"Anger\",\"Neutral\",\"Anxiety\",\"Sadness\",\"Neutral\",\"Happiness\",\"Anxiety\",\"Anger\",\"Boredom\",\"Happiness\",\"Sadness\",\"Neutral\",\"Anxiety\",\"Happiness\",\"Anger\",\"Sadness\",\"Boredom\",\"Happiness\",\"Neutral\",\"Sadness\",\"Anxiety\",\"Boredom\",\"Happiness\",\"Anger\",\"Neutral\",\"Anxiety\",\"Sadness\",\"Happiness\",\"Anger\",\"Neutral\",\"Boredom\",\"Happiness\",\"Sadness\",\"Anxiety\",\"Neutral\",\"Boredom\",\"Happiness\",\"Anger\",\"Neutral\",\"Sadness\",\"Anxiety\",\"Anxiety\",\"Boredom\",\"Sadness\",\"Happiness\",\"Boredom\",\"Happiness\",\"Anger\",\"Neutral\",\"Anxiety\",\"Sadness\",\"Boredom\",\"Happiness\",\"Neutral\",\"Anxiety\",\"Sadness\",\"Happiness\",\"Boredom\",\"Neutral\",\"Anger\",\"Neutral\",\"Anxiety\",\"Happiness\",\"Sadness\",\"Anxiety\",\"Neutral\",\"Sadness\",\"Happiness\",\"Anger\",\"Neutral\",\"Boredom\",\"Anxiety\",\"Sadness\",\"Neutral\",\"Happiness\",\"Anxiety\",\"Boredom\",\"Anger\",\"Neutral\",\"Sadness\",\"Anxiety\",\"Boredom\",\"Neutral\",\"Happiness\",\"Anger\",\"Neutral\",\"Happiness\",\"Anger\",\"Neutral\",\"Anxiety\",\"Boredom\",\"Happiness\",\"Anger\",\"Sadness\",\"Neutral\",\"Happiness\",\"Anxiety\",\"Sadness\",\"Boredom\",\"Happiness\",\"Anger\",\"Neutral\",\"Anxiety\",\"Sadness\",\"Neutral\",\"Happiness\",\"Anxiety\",\"Anger\",\"Boredom\",\"Happiness\",\"Sadness\",\"Neutral\",\"Anxiety\",\"Happiness\",\"Anger\",\"Sadness\",\"Boredom\",\"Happiness\",\"Neutral\",\"Sadness\",\"Anxiety\",\"Boredom\",\"Happiness\",\"Anger\",\"Neutral\",\"Anxiety\",\"Sadness\",\"Happiness\",\"Anger\",\"Neutral\",\"Boredom\",\"Happiness\",\"Sadness\",\"Anxiety\",\"Neutral\",\"Boredom\",\"Happiness\",\"Anger\",\"Neutral\",\"Sadness\",\"Anxiety\",\"Anxiety\",\"Boredom\",\"Sadness\",\"Happiness\",\"Boredom\",\"Happiness\",\"Anger\",\"Neutral\",\"Anxiety\",\"Sadness\",\"Boredom\",\"Happiness\",\"Neutral\",\"Anxiety\",\"Sadness\",\"Happiness\",\"Boredom\",\"Neutral\",\"Anger\",\"Neutral\",\"Anxiety\",\"Happiness\",\"Sadness\",\"Anxiety\",\"Neutral\",\"Sadness\",\"Happiness\",\"Anger\",\"Neutral\",\"Boredom\",\"Anxiety\",\"Sadness\",\"Neutral\",\"Happiness\",\"Anxiety\",\"Boredom\",\"Anger\",\"Neutral\",\"Sadness\",\"Anxiety\",\"Boredom\",\"Neutral\",\"Happiness\",\"Anger\",\"Neutral\",\"Happiness\",\"Anger\",\"Neutral\",\"Anxiety\",\"Boredom\",\"Happiness\",\"Anger\",\"Sadness\",\"Neutral\",\"Happiness\",\"Anxiety\",\"Sadness\",\"Boredom\",\"Happiness\",\"Anger\",\"Neutral\",\"Anxiety\",\"Sadness\",\"Neutral\",\"Happiness\",\"Anxiety\",\"Anger\",\"Boredom\",\"Happiness\",\"Sadness\",\"Neutral\",\"Anxiety\",\"Happiness\",\"Anger\",\"Sadness\",\"Boredom\",\"Happiness\",\"Neutral\",\"Sadness\",\"Anxiety\",\"Boredom\",\"Happiness\",\"Anger\",\"Neutral\",\"Anxiety\",\"Sadness\",\"Happiness\",\"Anger\",\"Neutral\",\"Boredom\",\"Happiness\",\"Sadness\",\"Anxiety\",\"Neutral\",\"Boredom\",\"Happiness\",\"Anger\",\"Neutral\",\"Sadness\",\"Anxiety\",\"Anxiety\",\"Boredom\",\"Sadness\",\"Happiness\",\"Boredom\",\"Happiness\",\"Anger\",\"Neutral\",\"Anxiety\",\"Sadness\",\"Boredom\",\"Happiness\",\"Neutral\",\"Anxiety\",\"Sadness\",\"Happiness\",\"Boredom\",\"Neutral\",\"Anger\",\"Neutral\",\"Anxiety\",\"Happiness\",\"Sadness\",\"Anxiety\",\"Neutral\",\"Sadness\",\"Happiness\",\"Anger\",\"Neutral\",\"Boredom\",\"Anxiety\",\"Sadness\",\"Neutral\",\"Happiness\",\"Anxiety\",\"Boredom\",\"Anger\",\"Neutral\",\"Sadness\",\"Anxiety\",\"Boredom\",\"Neutral\",\"Happiness\",\"Anger\",\"Neutral\",\"Happiness\",\"Anger\",\"Neutral\",\"Anxiety\",\"Boredom\",\"Happiness\",\"Anger\",\"Sadness\",\"Neutral\",\"Happiness\",\"Anxiety\",\"Sadness\",\"Boredom\",\"Happiness\",\"Anger\",\"Neutral\",\"Anxiety\",\"Sadness\",\"Neutral\",\"Happiness\",\"Anxiety\",\"Anger\",\"Boredom\",\"Happiness\",\"Sadness\",\"Neutral\",\"Anxiety\",\"Happiness\",\"Anger\",\"Sadness\",\"Boredom\",\"Happiness\",\"Neutral\",\"Sadness\",\"Anxiety\",\"Boredom\",\"Happiness\",\"Anger\",\"Neutral\",\"Anxiety\",\"Sadness\",\"Happiness\",\"Happiness\",\"Anger\",\"Neutral\",\"Boredom\",\"Happiness\",\"Sadness\",\"Anxiety\",\"Neutral\",\"Boredom\",\"Happiness\",\"Anger\",\"Neutral\",\"Sadness\",\"Anxiety\",\"Anxiety\",\"Boredom\",\"Sadness\",\"Happiness\",\"Boredom\",\"Happiness\",\"Anger\",\"Neutral\",\"Anxiety\",\"Sadness\",\"Boredom\",\"Happiness\",\"Neutral\",\"Anxiety\",\"Sadness\",\"Happiness\",\"Boredom\",\"Neutral\",\"Anger\",\"Neutral\",\"Anxiety\",\"Happiness\",\"Sadness\",\"Anxiety\",\"Neutral\",\"Sadness\",\"Happiness\",\"Anger\",\"Neutral\",\"Boredom\",\"Anxiety\",\"Sadness\",\"Neutral\",\"Happiness\",\"Anxiety\",\"Boredom\",\"Anger\",\"Neutral\",\"Sadness\",\"Anxiety\",\"Boredom\",\"Neutral\",\"Happiness\",\"Anger\",\"Neutral\",\"Happiness\",\"Anger\",\"Neutral\",\"Anxiety\",\"Boredom\",\"Happiness\",\"Anger\",\"Sadness\",\"Neutral\",\"Happiness\",\"Anxiety\",\"Sadness\",\"Boredom\",\"Happiness\",\"Anger\",\"Neutral\",\"Anxiety\",\"Sadness\",\"Neutral\",\"Happiness\",\"Anxiety\",\"Anger\",\"Boredom\",\"Happiness\",\"Sadness\",\"Neutral\",\"Anxiety\",\"Happiness\",\"Anger\",\"Sadness\",\"Boredom\",\"Happiness\",\"Neutral\",\"Sadness\",\"Anxiety\",\"Boredom\",\"Happiness\",\"Anger\",\"Neutral\",\"Anxiety\",\"Sadness\",\"Happiness\",\"Anger\",\"Neutral\",\"Boredom\",\"Happiness\",\"Sadness\",\"Anxiety\",\"Neutral\",\"Boredom\",\"Happiness\",\"Anger\",\"Neutral\",\"Sadness\",\"Anxiety\",\"Anxiety\",\"Boredom\",\"Sadness\",\"Happiness\",\"Boredom\",\"Happiness\",\"Anger\",\"Neutral\",\"Anxiety\",\"Sadness\",\"Boredom\",\"Happiness\",\"Neutral\",\"Anxiety\",\"Sadness\",\"Happiness\",\"Boredom\",\"Neutral\",\"Anger\",\"Neutral\",\"Anxiety\",\"Happiness\",\"Sadness\",\"Anxiety\",\"Neutral\",\"Sadness\",\"Happiness\",\"Anger\",\"Neutral\",\"Boredom\",\"Anxiety\",\"Sadness\",\"Neutral\",\"Happiness\",\"Anxiety\",\"Boredom\",\"Anger\",\"Neutral\",\"Sadness\",\"Anxiety\",\"Boredom\",\"Neutral\",\"Happiness\",\"Anger\",\"Neutral\",\"Happiness\",\"Anger\",\"Neutral\",\"Anxiety\",\"Boredom\",\"Happiness\",\"Anger\",\"Sadness\",\"Neutral\",\"Happiness\",\"Anxiety\",\"Sadness\",\"Boredom\",\"Happiness\",\"Anger\",\"Neutral\",\"Anxiety\",\"Sadness\",\"Neutral\",\"Happiness\",\"Anxiety\",\"Anger\",\"Boredom\",\"Happiness\",\"Sadness\",\"Neutral\",\"Anxiety\",\"Happiness\",\"Anger\",\"Sadness\",\"Boredom\",\"Happiness\",\"Neutral\",\"Sadness\",\"Anxiety\",\"Boredom\",\"Happiness\",\"Anger\",\"Neutral\",\"Anxiety\",\"Sadness\",\"Happiness\",\"Anger\",\"Neutral\",\"Boredom\",\"Happiness\",\"Sadness\",\"Anxiety\",\"Neutral\",\"Boredom\",\"Happiness\",\"Anger\",\"Neutral\",\"Sadness\",\"Anxiety\",\"Anxiety\",\"Boredom\",\"Sadness\",\"Happiness\",\"Boredom\",\"Happiness\",\"Anger\",\"Neutral\",\"Anxiety\",\"Sadness\",\"Boredom\",\"Happiness\",\"Neutral\",\"Anxiety\",\"Sadness\",\"Happiness\",\"Boredom\",\"Neutral\",\"Anger\",\"Neutral\",\"Anxiety\",\"Happiness\",\"Sadness\",\"Anxiety\",\"Neutral\",\"Sadness\",\"Happiness\",\"Anger\",\"Neutral\",\"Boredom\",\"Anxiety\",\"Sadness\",\"Neutral\",\"Happiness\",\"Anxiety\",\"Boredom\",\"Anger\",\"Neutral\",\"Sadness\",\"Anxiety\",\"Boredom\",\"Neutral\",\"Happiness\",\"Anger\",\"Neutral\",\"Happiness\",\"Anger\",\"Neutral\",\"Anxiety\",\"Boredom\",\"Happiness\",\"Anger\",\"Sadness\",\"Neutral\",\"Happiness\",\"Anxiety\",\"Sadness\",\"Boredom\",\"Happiness\",\"Anger\",\"Neutral\",\"Anxiety\",\"Sadness\",\"Neutral\",\"Happiness\",\"Anxiety\",\"Anger\",\"Boredom\",\"Happiness\",\"Sadness\",\"Neutral\",\"Anxiety\",\"Happiness\",\"Anger\",\"Sadness\",\"Boredom\",\"Happiness\",\"Neutral\",\"Sadness\",\"Anxiety\",\"Boredom\",\"Happiness\",\"Anger\",\"Neutral\",\"Anxiety\",\"Sadness\",\"Happiness\",\"Anger\",\"Neutral\",\"Boredom\",\"Happiness\",\"Sadness\",\"Anxiety\",\"Neutral\",\"Boredom\",\"Happiness\",\"Anger\",\"Neutral\",\"Sadness\",\"Anxiety\",\"Anxiety\",\"Boredom\",\"Sadness\",\"Happiness\",\"Boredom\",\"Happiness\",\"Anger\",\"Neutral\",\"Anxiety\",\"Sadness\",\"Boredom\",\"Happiness\",\"Neutral\",\"Anxiety\",\"Sadness\",\"Happiness\",\"Boredom\",\"Neutral\",\"Anger\",\"Neutral\",\"Anxiety\",\"Happiness\",\"Sadness\",\"Anxiety\",\"Neutral\",\"Sadness\",\"Happiness\",\"Anger\",\"Neutral\",\"Boredom\",\"Anxiety\",\"Sadness\",\"Neutral\",\"Happiness\",\"Anxiety\",\"Boredom\",\"Anger\",\"Neutral\",\"Sadness\",\"Anxiety\",\"Boredom\",\"Neutral\",\"Happiness\",\"Anger\",\"Neutral\"],\"legendgroup\":\"\",\"name\":\"\",\"showlegend\":true,\"type\":\"pie\",\"textinfo\":\"percent+label\",\"textposition\":\"inside\"}],                        {\"template\":{\"data\":{\"histogram2dcontour\":[{\"type\":\"histogram2dcontour\",\"colorbar\":{\"outlinewidth\":0,\"ticks\":\"\"},\"colorscale\":[[0.0,\"#0d0887\"],[0.1111111111111111,\"#46039f\"],[0.2222222222222222,\"#7201a8\"],[0.3333333333333333,\"#9c179e\"],[0.4444444444444444,\"#bd3786\"],[0.5555555555555556,\"#d8576b\"],[0.6666666666666666,\"#ed7953\"],[0.7777777777777778,\"#fb9f3a\"],[0.8888888888888888,\"#fdca26\"],[1.0,\"#f0f921\"]]}],\"choropleth\":[{\"type\":\"choropleth\",\"colorbar\":{\"outlinewidth\":0,\"ticks\":\"\"}}],\"histogram2d\":[{\"type\":\"histogram2d\",\"colorbar\":{\"outlinewidth\":0,\"ticks\":\"\"},\"colorscale\":[[0.0,\"#0d0887\"],[0.1111111111111111,\"#46039f\"],[0.2222222222222222,\"#7201a8\"],[0.3333333333333333,\"#9c179e\"],[0.4444444444444444,\"#bd3786\"],[0.5555555555555556,\"#d8576b\"],[0.6666666666666666,\"#ed7953\"],[0.7777777777777778,\"#fb9f3a\"],[0.8888888888888888,\"#fdca26\"],[1.0,\"#f0f921\"]]}],\"heatmap\":[{\"type\":\"heatmap\",\"colorbar\":{\"outlinewidth\":0,\"ticks\":\"\"},\"colorscale\":[[0.0,\"#0d0887\"],[0.1111111111111111,\"#46039f\"],[0.2222222222222222,\"#7201a8\"],[0.3333333333333333,\"#9c179e\"],[0.4444444444444444,\"#bd3786\"],[0.5555555555555556,\"#d8576b\"],[0.6666666666666666,\"#ed7953\"],[0.7777777777777778,\"#fb9f3a\"],[0.8888888888888888,\"#fdca26\"],[1.0,\"#f0f921\"]]}],\"heatmapgl\":[{\"type\":\"heatmapgl\",\"colorbar\":{\"outlinewidth\":0,\"ticks\":\"\"},\"colorscale\":[[0.0,\"#0d0887\"],[0.1111111111111111,\"#46039f\"],[0.2222222222222222,\"#7201a8\"],[0.3333333333333333,\"#9c179e\"],[0.4444444444444444,\"#bd3786\"],[0.5555555555555556,\"#d8576b\"],[0.6666666666666666,\"#ed7953\"],[0.7777777777777778,\"#fb9f3a\"],[0.8888888888888888,\"#fdca26\"],[1.0,\"#f0f921\"]]}],\"contourcarpet\":[{\"type\":\"contourcarpet\",\"colorbar\":{\"outlinewidth\":0,\"ticks\":\"\"}}],\"contour\":[{\"type\":\"contour\",\"colorbar\":{\"outlinewidth\":0,\"ticks\":\"\"},\"colorscale\":[[0.0,\"#0d0887\"],[0.1111111111111111,\"#46039f\"],[0.2222222222222222,\"#7201a8\"],[0.3333333333333333,\"#9c179e\"],[0.4444444444444444,\"#bd3786\"],[0.5555555555555556,\"#d8576b\"],[0.6666666666666666,\"#ed7953\"],[0.7777777777777778,\"#fb9f3a\"],[0.8888888888888888,\"#fdca26\"],[1.0,\"#f0f921\"]]}],\"surface\":[{\"type\":\"surface\",\"colorbar\":{\"outlinewidth\":0,\"ticks\":\"\"},\"colorscale\":[[0.0,\"#0d0887\"],[0.1111111111111111,\"#46039f\"],[0.2222222222222222,\"#7201a8\"],[0.3333333333333333,\"#9c179e\"],[0.4444444444444444,\"#bd3786\"],[0.5555555555555556,\"#d8576b\"],[0.6666666666666666,\"#ed7953\"],[0.7777777777777778,\"#fb9f3a\"],[0.8888888888888888,\"#fdca26\"],[1.0,\"#f0f921\"]]}],\"mesh3d\":[{\"type\":\"mesh3d\",\"colorbar\":{\"outlinewidth\":0,\"ticks\":\"\"}}],\"scatter\":[{\"fillpattern\":{\"fillmode\":\"overlay\",\"size\":10,\"solidity\":0.2},\"type\":\"scatter\"}],\"parcoords\":[{\"type\":\"parcoords\",\"line\":{\"colorbar\":{\"outlinewidth\":0,\"ticks\":\"\"}}}],\"scatterpolargl\":[{\"type\":\"scatterpolargl\",\"marker\":{\"colorbar\":{\"outlinewidth\":0,\"ticks\":\"\"}}}],\"bar\":[{\"error_x\":{\"color\":\"#2a3f5f\"},\"error_y\":{\"color\":\"#2a3f5f\"},\"marker\":{\"line\":{\"color\":\"#E5ECF6\",\"width\":0.5},\"pattern\":{\"fillmode\":\"overlay\",\"size\":10,\"solidity\":0.2}},\"type\":\"bar\"}],\"scattergeo\":[{\"type\":\"scattergeo\",\"marker\":{\"colorbar\":{\"outlinewidth\":0,\"ticks\":\"\"}}}],\"scatterpolar\":[{\"type\":\"scatterpolar\",\"marker\":{\"colorbar\":{\"outlinewidth\":0,\"ticks\":\"\"}}}],\"histogram\":[{\"marker\":{\"pattern\":{\"fillmode\":\"overlay\",\"size\":10,\"solidity\":0.2}},\"type\":\"histogram\"}],\"scattergl\":[{\"type\":\"scattergl\",\"marker\":{\"colorbar\":{\"outlinewidth\":0,\"ticks\":\"\"}}}],\"scatter3d\":[{\"type\":\"scatter3d\",\"line\":{\"colorbar\":{\"outlinewidth\":0,\"ticks\":\"\"}},\"marker\":{\"colorbar\":{\"outlinewidth\":0,\"ticks\":\"\"}}}],\"scattermapbox\":[{\"type\":\"scattermapbox\",\"marker\":{\"colorbar\":{\"outlinewidth\":0,\"ticks\":\"\"}}}],\"scatterternary\":[{\"type\":\"scatterternary\",\"marker\":{\"colorbar\":{\"outlinewidth\":0,\"ticks\":\"\"}}}],\"scattercarpet\":[{\"type\":\"scattercarpet\",\"marker\":{\"colorbar\":{\"outlinewidth\":0,\"ticks\":\"\"}}}],\"carpet\":[{\"aaxis\":{\"endlinecolor\":\"#2a3f5f\",\"gridcolor\":\"white\",\"linecolor\":\"white\",\"minorgridcolor\":\"white\",\"startlinecolor\":\"#2a3f5f\"},\"baxis\":{\"endlinecolor\":\"#2a3f5f\",\"gridcolor\":\"white\",\"linecolor\":\"white\",\"minorgridcolor\":\"white\",\"startlinecolor\":\"#2a3f5f\"},\"type\":\"carpet\"}],\"table\":[{\"cells\":{\"fill\":{\"color\":\"#EBF0F8\"},\"line\":{\"color\":\"white\"}},\"header\":{\"fill\":{\"color\":\"#C8D4E3\"},\"line\":{\"color\":\"white\"}},\"type\":\"table\"}],\"barpolar\":[{\"marker\":{\"line\":{\"color\":\"#E5ECF6\",\"width\":0.5},\"pattern\":{\"fillmode\":\"overlay\",\"size\":10,\"solidity\":0.2}},\"type\":\"barpolar\"}],\"pie\":[{\"automargin\":true,\"type\":\"pie\"}]},\"layout\":{\"autotypenumbers\":\"strict\",\"colorway\":[\"#636efa\",\"#EF553B\",\"#00cc96\",\"#ab63fa\",\"#FFA15A\",\"#19d3f3\",\"#FF6692\",\"#B6E880\",\"#FF97FF\",\"#FECB52\"],\"font\":{\"color\":\"#2a3f5f\"},\"hovermode\":\"closest\",\"hoverlabel\":{\"align\":\"left\"},\"paper_bgcolor\":\"white\",\"plot_bgcolor\":\"#E5ECF6\",\"polar\":{\"bgcolor\":\"#E5ECF6\",\"angularaxis\":{\"gridcolor\":\"white\",\"linecolor\":\"white\",\"ticks\":\"\"},\"radialaxis\":{\"gridcolor\":\"white\",\"linecolor\":\"white\",\"ticks\":\"\"}},\"ternary\":{\"bgcolor\":\"#E5ECF6\",\"aaxis\":{\"gridcolor\":\"white\",\"linecolor\":\"white\",\"ticks\":\"\"},\"baxis\":{\"gridcolor\":\"white\",\"linecolor\":\"white\",\"ticks\":\"\"},\"caxis\":{\"gridcolor\":\"white\",\"linecolor\":\"white\",\"ticks\":\"\"}},\"coloraxis\":{\"colorbar\":{\"outlinewidth\":0,\"ticks\":\"\"}},\"colorscale\":{\"sequential\":[[0.0,\"#0d0887\"],[0.1111111111111111,\"#46039f\"],[0.2222222222222222,\"#7201a8\"],[0.3333333333333333,\"#9c179e\"],[0.4444444444444444,\"#bd3786\"],[0.5555555555555556,\"#d8576b\"],[0.6666666666666666,\"#ed7953\"],[0.7777777777777778,\"#fb9f3a\"],[0.8888888888888888,\"#fdca26\"],[1.0,\"#f0f921\"]],\"sequentialminus\":[[0.0,\"#0d0887\"],[0.1111111111111111,\"#46039f\"],[0.2222222222222222,\"#7201a8\"],[0.3333333333333333,\"#9c179e\"],[0.4444444444444444,\"#bd3786\"],[0.5555555555555556,\"#d8576b\"],[0.6666666666666666,\"#ed7953\"],[0.7777777777777778,\"#fb9f3a\"],[0.8888888888888888,\"#fdca26\"],[1.0,\"#f0f921\"]],\"diverging\":[[0,\"#8e0152\"],[0.1,\"#c51b7d\"],[0.2,\"#de77ae\"],[0.3,\"#f1b6da\"],[0.4,\"#fde0ef\"],[0.5,\"#f7f7f7\"],[0.6,\"#e6f5d0\"],[0.7,\"#b8e186\"],[0.8,\"#7fbc41\"],[0.9,\"#4d9221\"],[1,\"#276419\"]]},\"xaxis\":{\"gridcolor\":\"white\",\"linecolor\":\"white\",\"ticks\":\"\",\"title\":{\"standoff\":15},\"zerolinecolor\":\"white\",\"automargin\":true,\"zerolinewidth\":2},\"yaxis\":{\"gridcolor\":\"white\",\"linecolor\":\"white\",\"ticks\":\"\",\"title\":{\"standoff\":15},\"zerolinecolor\":\"white\",\"automargin\":true,\"zerolinewidth\":2},\"scene\":{\"xaxis\":{\"backgroundcolor\":\"#E5ECF6\",\"gridcolor\":\"white\",\"linecolor\":\"white\",\"showbackground\":true,\"ticks\":\"\",\"zerolinecolor\":\"white\",\"gridwidth\":2},\"yaxis\":{\"backgroundcolor\":\"#E5ECF6\",\"gridcolor\":\"white\",\"linecolor\":\"white\",\"showbackground\":true,\"ticks\":\"\",\"zerolinecolor\":\"white\",\"gridwidth\":2},\"zaxis\":{\"backgroundcolor\":\"#E5ECF6\",\"gridcolor\":\"white\",\"linecolor\":\"white\",\"showbackground\":true,\"ticks\":\"\",\"zerolinecolor\":\"white\",\"gridwidth\":2}},\"shapedefaults\":{\"line\":{\"color\":\"#2a3f5f\"}},\"annotationdefaults\":{\"arrowcolor\":\"#2a3f5f\",\"arrowhead\":0,\"arrowwidth\":1},\"geo\":{\"bgcolor\":\"white\",\"landcolor\":\"#E5ECF6\",\"subunitcolor\":\"white\",\"showland\":true,\"showlakes\":true,\"lakecolor\":\"white\"},\"title\":{\"x\":0.05},\"mapbox\":{\"style\":\"light\"}}},\"legend\":{\"tracegroupgap\":0},\"title\":{\"text\":\"Dominant Emotion Distribution\"}},                        {\"responsive\": true}                    ).then(function(){\n",
       "                            \n",
       "var gd = document.getElementById('2051cf3c-e59d-4725-94f1-b6291544c80b');\n",
       "var x = new MutationObserver(function (mutations, observer) {{\n",
       "        var display = window.getComputedStyle(gd).display;\n",
       "        if (!display || display === 'none') {{\n",
       "            console.log([gd, 'removed!']);\n",
       "            Plotly.purge(gd);\n",
       "            observer.disconnect();\n",
       "        }}\n",
       "}});\n",
       "\n",
       "// Listen for the removal of the full notebook cells\n",
       "var notebookContainer = gd.closest('#notebook-container');\n",
       "if (notebookContainer) {{\n",
       "    x.observe(notebookContainer, {childList: true});\n",
       "}}\n",
       "\n",
       "// Listen for the clearing of the current output cell\n",
       "var outputEl = gd.closest('.output');\n",
       "if (outputEl) {{\n",
       "    x.observe(outputEl, {childList: true});\n",
       "}}\n",
       "\n",
       "                        })                };                });            </script>        </div>"
      ]
     },
     "metadata": {},
     "output_type": "display_data"
    }
   ],
   "source": [
    "plt = px.pie(train_df, names='Dominant_Emotion', title='Dominant Emotion Distribution')\n",
    "# adding the values to the pie section\n",
    "plt.update_traces(textposition='inside', textinfo='percent+label')\n",
    "plt.show()"
   ]
  },
  {
   "cell_type": "markdown",
   "id": "0f8e174c",
   "metadata": {
    "papermill": {
     "duration": 0.03702,
     "end_time": "2024-05-23T11:22:53.270848",
     "exception": false,
     "start_time": "2024-05-23T11:22:53.233828",
     "status": "completed"
    },
    "tags": []
   },
   "source": [
    "## Relationship Between Variables"
   ]
  },
  {
   "cell_type": "markdown",
   "id": "f07a1846",
   "metadata": {
    "papermill": {
     "duration": 0.037104,
     "end_time": "2024-05-23T11:22:53.345688",
     "exception": false,
     "start_time": "2024-05-23T11:22:53.308584",
     "status": "completed"
    },
    "tags": []
   },
   "source": [
    "### Gender and Platform"
   ]
  },
  {
   "cell_type": "code",
   "execution_count": 44,
   "id": "6a13667c",
   "metadata": {
    "execution": {
     "iopub.execute_input": "2024-05-23T11:22:53.424855Z",
     "iopub.status.busy": "2024-05-23T11:22:53.424469Z",
     "iopub.status.idle": "2024-05-23T11:22:53.434137Z",
     "shell.execute_reply": "2024-05-23T11:22:53.432823Z"
    },
    "papermill": {
     "duration": 0.052174,
     "end_time": "2024-05-23T11:22:53.436297",
     "exception": false,
     "start_time": "2024-05-23T11:22:53.384123",
     "status": "completed"
    },
    "tags": []
   },
   "outputs": [
    {
     "name": "stdout",
     "output_type": "stream",
     "text": [
      "Gender      Platform \n",
      "Female      Facebook      10\n",
      "            Instagram    150\n",
      "            LinkedIn      40\n",
      "            Snapchat      28\n",
      "            Twitter       66\n",
      "            Whatsapp      50\n",
      "Male        Facebook      38\n",
      "            Instagram     76\n",
      "            LinkedIn      48\n",
      "            Telegram      50\n",
      "            Twitter      102\n",
      "            Whatsapp      18\n",
      "Non-binary  Facebook     130\n",
      "            Instagram     10\n",
      "            LinkedIn      30\n",
      "            Snapchat      40\n",
      "            Telegram      18\n",
      "            Twitter       20\n",
      "Unknown     Facebook      12\n",
      "            Instagram     15\n",
      "            LinkedIn       2\n",
      "            Snapchat      12\n",
      "            Telegram      12\n",
      "            Twitter       12\n",
      "            Whatsapp      12\n",
      "dtype: int64\n"
     ]
    }
   ],
   "source": [
    "# Group the data by gender and platform\n",
    "grouped = train_df.groupby(['Gender', 'Platform'])\n",
    "\n",
    "# Count the number of rows in each group\n",
    "counts = grouped.size()\n",
    "\n",
    "# Print the counts\n",
    "print(counts)"
   ]
  },
  {
   "cell_type": "code",
   "execution_count": 45,
   "id": "4b6fd528",
   "metadata": {
    "execution": {
     "iopub.execute_input": "2024-05-23T11:22:53.513092Z",
     "iopub.status.busy": "2024-05-23T11:22:53.512689Z",
     "iopub.status.idle": "2024-05-23T11:22:53.630387Z",
     "shell.execute_reply": "2024-05-23T11:22:53.629289Z"
    },
    "papermill": {
     "duration": 0.159276,
     "end_time": "2024-05-23T11:22:53.632967",
     "exception": false,
     "start_time": "2024-05-23T11:22:53.473691",
     "status": "completed"
    },
    "tags": []
   },
   "outputs": [
    {
     "data": {
      "text/html": [
       "<div>                            <div id=\"911239f2-2a59-4dd4-b796-e5f7568de340\" class=\"plotly-graph-div\" style=\"height:525px; width:100%;\"></div>            <script type=\"text/javascript\">                require([\"plotly\"], function(Plotly) {                    window.PLOTLYENV=window.PLOTLYENV || {};                                    if (document.getElementById(\"911239f2-2a59-4dd4-b796-e5f7568de340\")) {                    Plotly.newPlot(                        \"911239f2-2a59-4dd4-b796-e5f7568de340\",                        [{\"alignmentgroup\":\"True\",\"bingroup\":\"x\",\"hovertemplate\":\"Platform=Instagram\\u003cbr\\u003eGender=%{x}\\u003cbr\\u003ecount=%{y}\\u003cextra\\u003e\\u003c\\u002fextra\\u003e\",\"legendgroup\":\"Instagram\",\"marker\":{\"color\":\"#636efa\",\"pattern\":{\"shape\":\"\"}},\"name\":\"Instagram\",\"offsetgroup\":\"Instagram\",\"orientation\":\"v\",\"showlegend\":true,\"x\":[\"Female\",\"Female\",\"Male\",\"Male\",\"Female\",\"Female\",\"Female\",\"Non-binary\",\"Female\",\"Male\",\"Female\",\"Female\",\"Female\",\"Female\",\"Male\",\"Male\",\"Male\",\"Female\",\"Female\",\"Male\",\"Female\",\"Female\",\"Female\",\"Female\",\"Male\",\"Female\",\"Female\",\"Male\",\"Male\",\"Female\",\"Female\",\"Female\",\"Non-binary\",\"Female\",\"Male\",\"Female\",\"Female\",\"Female\",\"Female\",\"Male\",\"Male\",\"Male\",\"Female\",\"Female\",\"Male\",\"Female\",\"Female\",\"Female\",\"Female\",\"Male\",\"Female\",\"Female\",\"Male\",\"Male\",\"Female\",\"Female\",\"Female\",\"Non-binary\",\"Female\",\"Male\",\"Female\",\"Female\",\"Female\",\"Female\",\"Male\",\"Male\",\"Unknown\",\"Unknown\",\"Unknown\",\"Unknown\",\"Unknown\",\"Unknown\",\"Unknown\",\"Female\",\"Male\",\"Female\",\"Female\",\"Male\",\"Male\",\"Female\",\"Female\",\"Female\",\"Non-binary\",\"Female\",\"Male\",\"Female\",\"Female\",\"Female\",\"Female\",\"Male\",\"Male\",\"Male\",\"Female\",\"Female\",\"Male\",\"Female\",\"Female\",\"Female\",\"Female\",\"Male\",\"Female\",\"Female\",\"Male\",\"Male\",\"Female\",\"Female\",\"Female\",\"Non-binary\",\"Female\",\"Male\",\"Female\",\"Female\",\"Female\",\"Female\",\"Male\",\"Male\",\"Male\",\"Female\",\"Female\",\"Male\",\"Female\",\"Female\",\"Female\",\"Female\",\"Male\",\"Female\",\"Female\",\"Male\",\"Male\",\"Female\",\"Female\",\"Female\",\"Non-binary\",\"Female\",\"Male\",\"Female\",\"Female\",\"Female\",\"Female\",\"Male\",\"Male\",\"Male\",\"Female\",\"Female\",\"Male\",\"Female\",\"Female\",\"Female\",\"Female\",\"Male\",\"Female\",\"Female\",\"Male\",\"Male\",\"Female\",\"Female\",\"Female\",\"Non-binary\",\"Female\",\"Male\",\"Female\",\"Female\",\"Female\",\"Unknown\",\"Female\",\"Male\",\"Male\",\"Male\",\"Female\",\"Female\",\"Male\",\"Female\",\"Female\",\"Female\",\"Female\",\"Male\",\"Female\",\"Female\",\"Male\",\"Male\",\"Female\",\"Female\",\"Female\",\"Non-binary\",\"Female\",\"Male\",\"Female\",\"Female\",\"Female\",\"Female\",\"Male\",\"Male\",\"Unknown\",\"Unknown\",\"Unknown\",\"Unknown\",\"Unknown\",\"Unknown\",\"Unknown\",\"Female\",\"Male\",\"Female\",\"Female\",\"Male\",\"Male\",\"Female\",\"Female\",\"Female\",\"Non-binary\",\"Female\",\"Male\",\"Female\",\"Female\",\"Female\",\"Female\",\"Male\",\"Male\",\"Male\",\"Female\",\"Female\",\"Male\",\"Female\",\"Female\",\"Female\",\"Female\",\"Male\",\"Female\",\"Female\",\"Male\",\"Male\",\"Female\",\"Female\",\"Female\",\"Non-binary\",\"Female\",\"Male\",\"Female\",\"Female\",\"Female\",\"Female\",\"Male\",\"Male\",\"Male\",\"Female\",\"Female\",\"Male\",\"Female\",\"Female\",\"Female\",\"Female\",\"Male\"],\"xaxis\":\"x\",\"yaxis\":\"y\",\"type\":\"histogram\"},{\"alignmentgroup\":\"True\",\"bingroup\":\"x\",\"hovertemplate\":\"Platform=Twitter\\u003cbr\\u003eGender=%{x}\\u003cbr\\u003ecount=%{y}\\u003cextra\\u003e\\u003c\\u002fextra\\u003e\",\"legendgroup\":\"Twitter\",\"marker\":{\"color\":\"#EF553B\",\"pattern\":{\"shape\":\"\"}},\"name\":\"Twitter\",\"offsetgroup\":\"Twitter\",\"orientation\":\"v\",\"showlegend\":true,\"x\":[\"Male\",\"Female\",\"Female\",\"Male\",\"Male\",\"Female\",\"Female\",\"Male\",\"Non-binary\",\"Male\",\"Male\",\"Female\",\"Female\",\"Female\",\"Male\",\"Male\",\"Male\",\"Male\",\"Male\",\"Non-binary\",\"Male\",\"Female\",\"Female\",\"Male\",\"Male\",\"Female\",\"Female\",\"Male\",\"Non-binary\",\"Male\",\"Male\",\"Female\",\"Female\",\"Female\",\"Male\",\"Male\",\"Male\",\"Male\",\"Male\",\"Non-binary\",\"Male\",\"Female\",\"Female\",\"Male\",\"Male\",\"Female\",\"Female\",\"Male\",\"Non-binary\",\"Male\",\"Male\",\"Female\",\"Unknown\",\"Unknown\",\"Unknown\",\"Unknown\",\"Unknown\",\"Unknown\",\"Male\",\"Non-binary\",\"Male\",\"Female\",\"Female\",\"Male\",\"Male\",\"Female\",\"Female\",\"Male\",\"Non-binary\",\"Male\",\"Male\",\"Female\",\"Female\",\"Female\",\"Male\",\"Male\",\"Male\",\"Male\",\"Male\",\"Non-binary\",\"Male\",\"Female\",\"Female\",\"Male\",\"Male\",\"Female\",\"Female\",\"Male\",\"Non-binary\",\"Male\",\"Male\",\"Female\",\"Female\",\"Female\",\"Male\",\"Male\",\"Male\",\"Male\",\"Male\",\"Non-binary\",\"Male\",\"Female\",\"Female\",\"Male\",\"Male\",\"Female\",\"Female\",\"Male\",\"Non-binary\",\"Male\",\"Male\",\"Female\",\"Female\",\"Female\",\"Male\",\"Male\",\"Male\",\"Male\",\"Male\",\"Non-binary\",\"Male\",\"Female\",\"Female\",\"Male\",\"Male\",\"Female\",\"Female\",\"Male\",\"Non-binary\",\"Male\",\"Male\",\"Female\",\"Female\",\"Female\",\"Male\",\"Male\",\"Male\",\"Male\",\"Male\",\"Non-binary\",\"Male\",\"Female\",\"Female\",\"Male\",\"Male\",\"Female\",\"Female\",\"Male\",\"Non-binary\",\"Male\",\"Male\",\"Female\",\"Unknown\",\"Unknown\",\"Unknown\",\"Unknown\",\"Unknown\",\"Unknown\",\"Male\",\"Non-binary\",\"Male\",\"Female\",\"Female\",\"Male\",\"Male\",\"Female\",\"Female\",\"Male\",\"Non-binary\",\"Male\",\"Male\",\"Female\",\"Female\",\"Female\",\"Male\",\"Male\",\"Male\",\"Male\",\"Male\",\"Non-binary\",\"Male\",\"Female\",\"Female\",\"Male\",\"Male\",\"Female\",\"Female\",\"Male\",\"Non-binary\",\"Male\",\"Male\",\"Female\",\"Female\",\"Female\",\"Male\",\"Male\",\"Male\",\"Male\",\"Male\",\"Non-binary\"],\"xaxis\":\"x\",\"yaxis\":\"y\",\"type\":\"histogram\"},{\"alignmentgroup\":\"True\",\"bingroup\":\"x\",\"hovertemplate\":\"Platform=Facebook\\u003cbr\\u003eGender=%{x}\\u003cbr\\u003ecount=%{y}\\u003cextra\\u003e\\u003c\\u002fextra\\u003e\",\"legendgroup\":\"Facebook\",\"marker\":{\"color\":\"#00cc96\",\"pattern\":{\"shape\":\"\"}},\"name\":\"Facebook\",\"offsetgroup\":\"Facebook\",\"orientation\":\"v\",\"showlegend\":true,\"x\":[\"Non-binary\",\"Non-binary\",\"Non-binary\",\"Non-binary\",\"Male\",\"Male\",\"Non-binary\",\"Male\",\"Non-binary\",\"Non-binary\",\"Non-binary\",\"Non-binary\",\"Male\",\"Non-binary\",\"Non-binary\",\"Non-binary\",\"Non-binary\",\"Non-binary\",\"Female\",\"Non-binary\",\"Non-binary\",\"Non-binary\",\"Non-binary\",\"Male\",\"Male\",\"Non-binary\",\"Male\",\"Non-binary\",\"Non-binary\",\"Non-binary\",\"Non-binary\",\"Male\",\"Non-binary\",\"Non-binary\",\"Non-binary\",\"Non-binary\",\"Non-binary\",\"Female\",\"Non-binary\",\"Non-binary\",\"Non-binary\",\"Non-binary\",\"Male\",\"Male\",\"Non-binary\",\"Male\",\"Non-binary\",\"Non-binary\",\"Non-binary\",\"Unknown\",\"Unknown\",\"Unknown\",\"Unknown\",\"Unknown\",\"Unknown\",\"Non-binary\",\"Female\",\"Non-binary\",\"Non-binary\",\"Non-binary\",\"Non-binary\",\"Male\",\"Male\",\"Non-binary\",\"Male\",\"Non-binary\",\"Non-binary\",\"Non-binary\",\"Non-binary\",\"Male\",\"Non-binary\",\"Non-binary\",\"Non-binary\",\"Non-binary\",\"Non-binary\",\"Female\",\"Non-binary\",\"Non-binary\",\"Non-binary\",\"Non-binary\",\"Male\",\"Male\",\"Non-binary\",\"Male\",\"Non-binary\",\"Non-binary\",\"Non-binary\",\"Non-binary\",\"Male\",\"Non-binary\",\"Non-binary\",\"Non-binary\",\"Non-binary\",\"Non-binary\",\"Female\",\"Non-binary\",\"Non-binary\",\"Non-binary\",\"Non-binary\",\"Male\",\"Male\",\"Non-binary\",\"Male\",\"Non-binary\",\"Non-binary\",\"Non-binary\",\"Non-binary\",\"Male\",\"Non-binary\",\"Non-binary\",\"Non-binary\",\"Non-binary\",\"Non-binary\",\"Female\",\"Non-binary\",\"Non-binary\",\"Non-binary\",\"Non-binary\",\"Male\",\"Male\",\"Non-binary\",\"Male\",\"Non-binary\",\"Non-binary\",\"Non-binary\",\"Non-binary\",\"Male\",\"Non-binary\",\"Non-binary\",\"Non-binary\",\"Non-binary\",\"Non-binary\",\"Female\",\"Non-binary\",\"Non-binary\",\"Non-binary\",\"Non-binary\",\"Male\",\"Male\",\"Non-binary\",\"Male\",\"Non-binary\",\"Non-binary\",\"Non-binary\",\"Unknown\",\"Unknown\",\"Unknown\",\"Unknown\",\"Unknown\",\"Unknown\",\"Non-binary\",\"Female\",\"Non-binary\",\"Non-binary\",\"Non-binary\",\"Non-binary\",\"Male\",\"Male\",\"Non-binary\",\"Male\",\"Non-binary\",\"Non-binary\",\"Non-binary\",\"Non-binary\",\"Male\",\"Non-binary\",\"Non-binary\",\"Non-binary\",\"Non-binary\",\"Non-binary\",\"Female\",\"Non-binary\",\"Non-binary\",\"Non-binary\",\"Non-binary\",\"Male\",\"Male\",\"Non-binary\",\"Male\",\"Non-binary\",\"Non-binary\",\"Non-binary\",\"Non-binary\",\"Male\",\"Non-binary\",\"Non-binary\",\"Non-binary\",\"Non-binary\",\"Non-binary\",\"Female\"],\"xaxis\":\"x\",\"yaxis\":\"y\",\"type\":\"histogram\"},{\"alignmentgroup\":\"True\",\"bingroup\":\"x\",\"hovertemplate\":\"Platform=LinkedIn\\u003cbr\\u003eGender=%{x}\\u003cbr\\u003ecount=%{y}\\u003cextra\\u003e\\u003c\\u002fextra\\u003e\",\"legendgroup\":\"LinkedIn\",\"marker\":{\"color\":\"#ab63fa\",\"pattern\":{\"shape\":\"\"}},\"name\":\"LinkedIn\",\"offsetgroup\":\"LinkedIn\",\"orientation\":\"v\",\"showlegend\":true,\"x\":[\"Male\",\"Female\",\"Male\",\"Non-binary\",\"Male\",\"Non-binary\",\"Female\",\"Non-binary\",\"Male\",\"Female\",\"Female\",\"Male\",\"Male\",\"Female\",\"Male\",\"Non-binary\",\"Male\",\"Non-binary\",\"Female\",\"Non-binary\",\"Male\",\"Female\",\"Female\",\"Male\",\"Male\",\"Female\",\"Male\",\"Non-binary\",\"Male\",\"Non-binary\",\"Female\",\"Non-binary\",\"Male\",\"Female\",\"Female\",\"Unknown\",\"Male\",\"Female\",\"Male\",\"Non-binary\",\"Male\",\"Non-binary\",\"Female\",\"Non-binary\",\"Male\",\"Female\",\"Female\",\"Male\",\"Male\",\"Female\",\"Male\",\"Non-binary\",\"Male\",\"Non-binary\",\"Female\",\"Non-binary\",\"Male\",\"Female\",\"Female\",\"Male\",\"Male\",\"Female\",\"Male\",\"Non-binary\",\"Male\",\"Non-binary\",\"Female\",\"Non-binary\",\"Male\",\"Female\",\"Female\",\"Male\",\"Male\",\"Female\",\"Male\",\"Non-binary\",\"Male\",\"Non-binary\",\"Female\",\"Non-binary\",\"Male\",\"Female\",\"Female\",\"Male\",\"Male\",\"Female\",\"Male\",\"Non-binary\",\"Male\",\"Non-binary\",\"Female\",\"Non-binary\",\"Male\",\"Female\",\"Female\",\"Unknown\",\"Male\",\"Female\",\"Male\",\"Non-binary\",\"Male\",\"Non-binary\",\"Female\",\"Non-binary\",\"Male\",\"Female\",\"Female\",\"Male\",\"Male\",\"Female\",\"Male\",\"Non-binary\",\"Male\",\"Non-binary\",\"Female\",\"Non-binary\",\"Male\",\"Female\",\"Female\",\"Male\"],\"xaxis\":\"x\",\"yaxis\":\"y\",\"type\":\"histogram\"},{\"alignmentgroup\":\"True\",\"bingroup\":\"x\",\"hovertemplate\":\"Platform=Whatsapp\\u003cbr\\u003eGender=%{x}\\u003cbr\\u003ecount=%{y}\\u003cextra\\u003e\\u003c\\u002fextra\\u003e\",\"legendgroup\":\"Whatsapp\",\"marker\":{\"color\":\"#FFA15A\",\"pattern\":{\"shape\":\"\"}},\"name\":\"Whatsapp\",\"offsetgroup\":\"Whatsapp\",\"orientation\":\"v\",\"showlegend\":true,\"x\":[\"Female\",\"Male\",\"Female\",\"Female\",\"Female\",\"Female\",\"Female\",\"Male\",\"Female\",\"Male\",\"Female\",\"Female\",\"Female\",\"Female\",\"Female\",\"Male\",\"Unknown\",\"Unknown\",\"Unknown\",\"Unknown\",\"Unknown\",\"Unknown\",\"Female\",\"Male\",\"Female\",\"Male\",\"Female\",\"Female\",\"Female\",\"Female\",\"Female\",\"Male\",\"Female\",\"Male\",\"Female\",\"Female\",\"Female\",\"Female\",\"Female\",\"Male\",\"Female\",\"Male\",\"Female\",\"Female\",\"Female\",\"Female\",\"Female\",\"Male\",\"Female\",\"Male\",\"Female\",\"Female\",\"Female\",\"Female\",\"Female\",\"Male\",\"Unknown\",\"Unknown\",\"Unknown\",\"Unknown\",\"Unknown\",\"Unknown\",\"Female\",\"Male\",\"Female\",\"Male\",\"Female\",\"Female\",\"Female\",\"Female\",\"Female\",\"Male\",\"Female\",\"Male\",\"Female\",\"Female\",\"Female\",\"Female\",\"Female\",\"Male\"],\"xaxis\":\"x\",\"yaxis\":\"y\",\"type\":\"histogram\"},{\"alignmentgroup\":\"True\",\"bingroup\":\"x\",\"hovertemplate\":\"Platform=Telegram\\u003cbr\\u003eGender=%{x}\\u003cbr\\u003ecount=%{y}\\u003cextra\\u003e\\u003c\\u002fextra\\u003e\",\"legendgroup\":\"Telegram\",\"marker\":{\"color\":\"#19d3f3\",\"pattern\":{\"shape\":\"\"}},\"name\":\"Telegram\",\"offsetgroup\":\"Telegram\",\"orientation\":\"v\",\"showlegend\":true,\"x\":[\"Male\",\"Non-binary\",\"Male\",\"Male\",\"Male\",\"Male\",\"Male\",\"Non-binary\",\"Male\",\"Non-binary\",\"Male\",\"Male\",\"Male\",\"Male\",\"Male\",\"Non-binary\",\"Unknown\",\"Unknown\",\"Unknown\",\"Unknown\",\"Unknown\",\"Unknown\",\"Male\",\"Non-binary\",\"Male\",\"Non-binary\",\"Male\",\"Male\",\"Male\",\"Male\",\"Male\",\"Non-binary\",\"Male\",\"Non-binary\",\"Male\",\"Male\",\"Male\",\"Male\",\"Male\",\"Non-binary\",\"Male\",\"Non-binary\",\"Male\",\"Male\",\"Male\",\"Male\",\"Male\",\"Non-binary\",\"Male\",\"Non-binary\",\"Male\",\"Male\",\"Male\",\"Male\",\"Male\",\"Non-binary\",\"Unknown\",\"Unknown\",\"Unknown\",\"Unknown\",\"Unknown\",\"Unknown\",\"Male\",\"Non-binary\",\"Male\",\"Non-binary\",\"Male\",\"Male\",\"Male\",\"Male\",\"Male\",\"Non-binary\",\"Male\",\"Non-binary\",\"Male\",\"Male\",\"Male\",\"Male\",\"Male\",\"Non-binary\"],\"xaxis\":\"x\",\"yaxis\":\"y\",\"type\":\"histogram\"},{\"alignmentgroup\":\"True\",\"bingroup\":\"x\",\"hovertemplate\":\"Platform=Snapchat\\u003cbr\\u003eGender=%{x}\\u003cbr\\u003ecount=%{y}\\u003cextra\\u003e\\u003c\\u002fextra\\u003e\",\"legendgroup\":\"Snapchat\",\"marker\":{\"color\":\"#FF6692\",\"pattern\":{\"shape\":\"\"}},\"name\":\"Snapchat\",\"offsetgroup\":\"Snapchat\",\"orientation\":\"v\",\"showlegend\":true,\"x\":[\"Non-binary\",\"Female\",\"Non-binary\",\"Non-binary\",\"Non-binary\",\"Non-binary\",\"Female\",\"Female\",\"Non-binary\",\"Female\",\"Non-binary\",\"Non-binary\",\"Non-binary\",\"Non-binary\",\"Female\",\"Female\",\"Unknown\",\"Unknown\",\"Unknown\",\"Unknown\",\"Unknown\",\"Unknown\",\"Female\",\"Female\",\"Non-binary\",\"Female\",\"Non-binary\",\"Non-binary\",\"Non-binary\",\"Non-binary\",\"Female\",\"Female\",\"Non-binary\",\"Female\",\"Non-binary\",\"Non-binary\",\"Non-binary\",\"Non-binary\",\"Female\",\"Female\",\"Non-binary\",\"Female\",\"Non-binary\",\"Non-binary\",\"Non-binary\",\"Non-binary\",\"Female\",\"Female\",\"Non-binary\",\"Female\",\"Non-binary\",\"Non-binary\",\"Non-binary\",\"Non-binary\",\"Female\",\"Female\",\"Unknown\",\"Unknown\",\"Unknown\",\"Unknown\",\"Unknown\",\"Unknown\",\"Female\",\"Female\",\"Non-binary\",\"Female\",\"Non-binary\",\"Non-binary\",\"Non-binary\",\"Non-binary\",\"Female\",\"Female\",\"Non-binary\",\"Female\",\"Non-binary\",\"Non-binary\",\"Non-binary\",\"Non-binary\",\"Female\",\"Female\"],\"xaxis\":\"x\",\"yaxis\":\"y\",\"type\":\"histogram\"}],                        {\"template\":{\"data\":{\"histogram2dcontour\":[{\"type\":\"histogram2dcontour\",\"colorbar\":{\"outlinewidth\":0,\"ticks\":\"\"},\"colorscale\":[[0.0,\"#0d0887\"],[0.1111111111111111,\"#46039f\"],[0.2222222222222222,\"#7201a8\"],[0.3333333333333333,\"#9c179e\"],[0.4444444444444444,\"#bd3786\"],[0.5555555555555556,\"#d8576b\"],[0.6666666666666666,\"#ed7953\"],[0.7777777777777778,\"#fb9f3a\"],[0.8888888888888888,\"#fdca26\"],[1.0,\"#f0f921\"]]}],\"choropleth\":[{\"type\":\"choropleth\",\"colorbar\":{\"outlinewidth\":0,\"ticks\":\"\"}}],\"histogram2d\":[{\"type\":\"histogram2d\",\"colorbar\":{\"outlinewidth\":0,\"ticks\":\"\"},\"colorscale\":[[0.0,\"#0d0887\"],[0.1111111111111111,\"#46039f\"],[0.2222222222222222,\"#7201a8\"],[0.3333333333333333,\"#9c179e\"],[0.4444444444444444,\"#bd3786\"],[0.5555555555555556,\"#d8576b\"],[0.6666666666666666,\"#ed7953\"],[0.7777777777777778,\"#fb9f3a\"],[0.8888888888888888,\"#fdca26\"],[1.0,\"#f0f921\"]]}],\"heatmap\":[{\"type\":\"heatmap\",\"colorbar\":{\"outlinewidth\":0,\"ticks\":\"\"},\"colorscale\":[[0.0,\"#0d0887\"],[0.1111111111111111,\"#46039f\"],[0.2222222222222222,\"#7201a8\"],[0.3333333333333333,\"#9c179e\"],[0.4444444444444444,\"#bd3786\"],[0.5555555555555556,\"#d8576b\"],[0.6666666666666666,\"#ed7953\"],[0.7777777777777778,\"#fb9f3a\"],[0.8888888888888888,\"#fdca26\"],[1.0,\"#f0f921\"]]}],\"heatmapgl\":[{\"type\":\"heatmapgl\",\"colorbar\":{\"outlinewidth\":0,\"ticks\":\"\"},\"colorscale\":[[0.0,\"#0d0887\"],[0.1111111111111111,\"#46039f\"],[0.2222222222222222,\"#7201a8\"],[0.3333333333333333,\"#9c179e\"],[0.4444444444444444,\"#bd3786\"],[0.5555555555555556,\"#d8576b\"],[0.6666666666666666,\"#ed7953\"],[0.7777777777777778,\"#fb9f3a\"],[0.8888888888888888,\"#fdca26\"],[1.0,\"#f0f921\"]]}],\"contourcarpet\":[{\"type\":\"contourcarpet\",\"colorbar\":{\"outlinewidth\":0,\"ticks\":\"\"}}],\"contour\":[{\"type\":\"contour\",\"colorbar\":{\"outlinewidth\":0,\"ticks\":\"\"},\"colorscale\":[[0.0,\"#0d0887\"],[0.1111111111111111,\"#46039f\"],[0.2222222222222222,\"#7201a8\"],[0.3333333333333333,\"#9c179e\"],[0.4444444444444444,\"#bd3786\"],[0.5555555555555556,\"#d8576b\"],[0.6666666666666666,\"#ed7953\"],[0.7777777777777778,\"#fb9f3a\"],[0.8888888888888888,\"#fdca26\"],[1.0,\"#f0f921\"]]}],\"surface\":[{\"type\":\"surface\",\"colorbar\":{\"outlinewidth\":0,\"ticks\":\"\"},\"colorscale\":[[0.0,\"#0d0887\"],[0.1111111111111111,\"#46039f\"],[0.2222222222222222,\"#7201a8\"],[0.3333333333333333,\"#9c179e\"],[0.4444444444444444,\"#bd3786\"],[0.5555555555555556,\"#d8576b\"],[0.6666666666666666,\"#ed7953\"],[0.7777777777777778,\"#fb9f3a\"],[0.8888888888888888,\"#fdca26\"],[1.0,\"#f0f921\"]]}],\"mesh3d\":[{\"type\":\"mesh3d\",\"colorbar\":{\"outlinewidth\":0,\"ticks\":\"\"}}],\"scatter\":[{\"fillpattern\":{\"fillmode\":\"overlay\",\"size\":10,\"solidity\":0.2},\"type\":\"scatter\"}],\"parcoords\":[{\"type\":\"parcoords\",\"line\":{\"colorbar\":{\"outlinewidth\":0,\"ticks\":\"\"}}}],\"scatterpolargl\":[{\"type\":\"scatterpolargl\",\"marker\":{\"colorbar\":{\"outlinewidth\":0,\"ticks\":\"\"}}}],\"bar\":[{\"error_x\":{\"color\":\"#2a3f5f\"},\"error_y\":{\"color\":\"#2a3f5f\"},\"marker\":{\"line\":{\"color\":\"#E5ECF6\",\"width\":0.5},\"pattern\":{\"fillmode\":\"overlay\",\"size\":10,\"solidity\":0.2}},\"type\":\"bar\"}],\"scattergeo\":[{\"type\":\"scattergeo\",\"marker\":{\"colorbar\":{\"outlinewidth\":0,\"ticks\":\"\"}}}],\"scatterpolar\":[{\"type\":\"scatterpolar\",\"marker\":{\"colorbar\":{\"outlinewidth\":0,\"ticks\":\"\"}}}],\"histogram\":[{\"marker\":{\"pattern\":{\"fillmode\":\"overlay\",\"size\":10,\"solidity\":0.2}},\"type\":\"histogram\"}],\"scattergl\":[{\"type\":\"scattergl\",\"marker\":{\"colorbar\":{\"outlinewidth\":0,\"ticks\":\"\"}}}],\"scatter3d\":[{\"type\":\"scatter3d\",\"line\":{\"colorbar\":{\"outlinewidth\":0,\"ticks\":\"\"}},\"marker\":{\"colorbar\":{\"outlinewidth\":0,\"ticks\":\"\"}}}],\"scattermapbox\":[{\"type\":\"scattermapbox\",\"marker\":{\"colorbar\":{\"outlinewidth\":0,\"ticks\":\"\"}}}],\"scatterternary\":[{\"type\":\"scatterternary\",\"marker\":{\"colorbar\":{\"outlinewidth\":0,\"ticks\":\"\"}}}],\"scattercarpet\":[{\"type\":\"scattercarpet\",\"marker\":{\"colorbar\":{\"outlinewidth\":0,\"ticks\":\"\"}}}],\"carpet\":[{\"aaxis\":{\"endlinecolor\":\"#2a3f5f\",\"gridcolor\":\"white\",\"linecolor\":\"white\",\"minorgridcolor\":\"white\",\"startlinecolor\":\"#2a3f5f\"},\"baxis\":{\"endlinecolor\":\"#2a3f5f\",\"gridcolor\":\"white\",\"linecolor\":\"white\",\"minorgridcolor\":\"white\",\"startlinecolor\":\"#2a3f5f\"},\"type\":\"carpet\"}],\"table\":[{\"cells\":{\"fill\":{\"color\":\"#EBF0F8\"},\"line\":{\"color\":\"white\"}},\"header\":{\"fill\":{\"color\":\"#C8D4E3\"},\"line\":{\"color\":\"white\"}},\"type\":\"table\"}],\"barpolar\":[{\"marker\":{\"line\":{\"color\":\"#E5ECF6\",\"width\":0.5},\"pattern\":{\"fillmode\":\"overlay\",\"size\":10,\"solidity\":0.2}},\"type\":\"barpolar\"}],\"pie\":[{\"automargin\":true,\"type\":\"pie\"}]},\"layout\":{\"autotypenumbers\":\"strict\",\"colorway\":[\"#636efa\",\"#EF553B\",\"#00cc96\",\"#ab63fa\",\"#FFA15A\",\"#19d3f3\",\"#FF6692\",\"#B6E880\",\"#FF97FF\",\"#FECB52\"],\"font\":{\"color\":\"#2a3f5f\"},\"hovermode\":\"closest\",\"hoverlabel\":{\"align\":\"left\"},\"paper_bgcolor\":\"white\",\"plot_bgcolor\":\"#E5ECF6\",\"polar\":{\"bgcolor\":\"#E5ECF6\",\"angularaxis\":{\"gridcolor\":\"white\",\"linecolor\":\"white\",\"ticks\":\"\"},\"radialaxis\":{\"gridcolor\":\"white\",\"linecolor\":\"white\",\"ticks\":\"\"}},\"ternary\":{\"bgcolor\":\"#E5ECF6\",\"aaxis\":{\"gridcolor\":\"white\",\"linecolor\":\"white\",\"ticks\":\"\"},\"baxis\":{\"gridcolor\":\"white\",\"linecolor\":\"white\",\"ticks\":\"\"},\"caxis\":{\"gridcolor\":\"white\",\"linecolor\":\"white\",\"ticks\":\"\"}},\"coloraxis\":{\"colorbar\":{\"outlinewidth\":0,\"ticks\":\"\"}},\"colorscale\":{\"sequential\":[[0.0,\"#0d0887\"],[0.1111111111111111,\"#46039f\"],[0.2222222222222222,\"#7201a8\"],[0.3333333333333333,\"#9c179e\"],[0.4444444444444444,\"#bd3786\"],[0.5555555555555556,\"#d8576b\"],[0.6666666666666666,\"#ed7953\"],[0.7777777777777778,\"#fb9f3a\"],[0.8888888888888888,\"#fdca26\"],[1.0,\"#f0f921\"]],\"sequentialminus\":[[0.0,\"#0d0887\"],[0.1111111111111111,\"#46039f\"],[0.2222222222222222,\"#7201a8\"],[0.3333333333333333,\"#9c179e\"],[0.4444444444444444,\"#bd3786\"],[0.5555555555555556,\"#d8576b\"],[0.6666666666666666,\"#ed7953\"],[0.7777777777777778,\"#fb9f3a\"],[0.8888888888888888,\"#fdca26\"],[1.0,\"#f0f921\"]],\"diverging\":[[0,\"#8e0152\"],[0.1,\"#c51b7d\"],[0.2,\"#de77ae\"],[0.3,\"#f1b6da\"],[0.4,\"#fde0ef\"],[0.5,\"#f7f7f7\"],[0.6,\"#e6f5d0\"],[0.7,\"#b8e186\"],[0.8,\"#7fbc41\"],[0.9,\"#4d9221\"],[1,\"#276419\"]]},\"xaxis\":{\"gridcolor\":\"white\",\"linecolor\":\"white\",\"ticks\":\"\",\"title\":{\"standoff\":15},\"zerolinecolor\":\"white\",\"automargin\":true,\"zerolinewidth\":2},\"yaxis\":{\"gridcolor\":\"white\",\"linecolor\":\"white\",\"ticks\":\"\",\"title\":{\"standoff\":15},\"zerolinecolor\":\"white\",\"automargin\":true,\"zerolinewidth\":2},\"scene\":{\"xaxis\":{\"backgroundcolor\":\"#E5ECF6\",\"gridcolor\":\"white\",\"linecolor\":\"white\",\"showbackground\":true,\"ticks\":\"\",\"zerolinecolor\":\"white\",\"gridwidth\":2},\"yaxis\":{\"backgroundcolor\":\"#E5ECF6\",\"gridcolor\":\"white\",\"linecolor\":\"white\",\"showbackground\":true,\"ticks\":\"\",\"zerolinecolor\":\"white\",\"gridwidth\":2},\"zaxis\":{\"backgroundcolor\":\"#E5ECF6\",\"gridcolor\":\"white\",\"linecolor\":\"white\",\"showbackground\":true,\"ticks\":\"\",\"zerolinecolor\":\"white\",\"gridwidth\":2}},\"shapedefaults\":{\"line\":{\"color\":\"#2a3f5f\"}},\"annotationdefaults\":{\"arrowcolor\":\"#2a3f5f\",\"arrowhead\":0,\"arrowwidth\":1},\"geo\":{\"bgcolor\":\"white\",\"landcolor\":\"#E5ECF6\",\"subunitcolor\":\"white\",\"showland\":true,\"showlakes\":true,\"lakecolor\":\"white\"},\"title\":{\"x\":0.05},\"mapbox\":{\"style\":\"light\"}}},\"xaxis\":{\"anchor\":\"y\",\"domain\":[0.0,1.0],\"title\":{\"text\":\"Gender\"}},\"yaxis\":{\"anchor\":\"x\",\"domain\":[0.0,1.0],\"title\":{\"text\":\"count\"}},\"legend\":{\"title\":{\"text\":\"Platform\"},\"tracegroupgap\":0},\"title\":{\"text\":\"Platform by Gender Usage\"},\"barmode\":\"relative\"},                        {\"responsive\": true}                    ).then(function(){\n",
       "                            \n",
       "var gd = document.getElementById('911239f2-2a59-4dd4-b796-e5f7568de340');\n",
       "var x = new MutationObserver(function (mutations, observer) {{\n",
       "        var display = window.getComputedStyle(gd).display;\n",
       "        if (!display || display === 'none') {{\n",
       "            console.log([gd, 'removed!']);\n",
       "            Plotly.purge(gd);\n",
       "            observer.disconnect();\n",
       "        }}\n",
       "}});\n",
       "\n",
       "// Listen for the removal of the full notebook cells\n",
       "var notebookContainer = gd.closest('#notebook-container');\n",
       "if (notebookContainer) {{\n",
       "    x.observe(notebookContainer, {childList: true});\n",
       "}}\n",
       "\n",
       "// Listen for the clearing of the current output cell\n",
       "var outputEl = gd.closest('.output');\n",
       "if (outputEl) {{\n",
       "    x.observe(outputEl, {childList: true});\n",
       "}}\n",
       "\n",
       "                        })                };                });            </script>        </div>"
      ]
     },
     "metadata": {},
     "output_type": "display_data"
    }
   ],
   "source": [
    "plt = px.histogram(train_df, x='Gender', color='Platform', title='Platform by Gender Usage')\n",
    "plt.show()"
   ]
  },
  {
   "cell_type": "markdown",
   "id": "59a73b8f",
   "metadata": {
    "papermill": {
     "duration": 0.037681,
     "end_time": "2024-05-23T11:22:53.708560",
     "exception": false,
     "start_time": "2024-05-23T11:22:53.670879",
     "status": "completed"
    },
    "tags": []
   },
   "source": [
    "### Age and Gender"
   ]
  },
  {
   "cell_type": "code",
   "execution_count": 46,
   "id": "00e074c4",
   "metadata": {
    "execution": {
     "iopub.execute_input": "2024-05-23T11:22:53.786200Z",
     "iopub.status.busy": "2024-05-23T11:22:53.785810Z",
     "iopub.status.idle": "2024-05-23T11:22:53.799391Z",
     "shell.execute_reply": "2024-05-23T11:22:53.797550Z"
    },
    "papermill": {
     "duration": 0.056392,
     "end_time": "2024-05-23T11:22:53.802716",
     "exception": false,
     "start_time": "2024-05-23T11:22:53.746324",
     "status": "completed"
    },
    "tags": []
   },
   "outputs": [
    {
     "name": "stdout",
     "output_type": "stream",
     "text": [
      "Age   Gender    \n",
      "21.0  Female        20\n",
      "      Male          10\n",
      "      Non-binary    26\n",
      "22.0  Female        48\n",
      "      Male           8\n",
      "      Non-binary    18\n",
      "23.0  Female        10\n",
      "      Male           8\n",
      "      Non-binary    30\n",
      "24.0  Female        26\n",
      "      Male          10\n",
      "      Non-binary    28\n",
      "25.0  Female        40\n",
      "      Male          24\n",
      "26.0  Female         8\n",
      "      Male          28\n",
      "      Non-binary    30\n",
      "27.0  Female        28\n",
      "      Male          44\n",
      "      Non-binary    20\n",
      "      Unknown       77\n",
      "28.0  Female        36\n",
      "      Male          28\n",
      "      Non-binary    28\n",
      "29.0  Female        28\n",
      "      Male          30\n",
      "      Non-binary    32\n",
      "30.0  Female         8\n",
      "      Male          40\n",
      "31.0  Female         8\n",
      "      Male          54\n",
      "32.0  Female        28\n",
      "      Male          10\n",
      "33.0  Female        18\n",
      "      Male          10\n",
      "      Non-binary    28\n",
      "34.0  Female        18\n",
      "      Male          10\n",
      "      Non-binary     8\n",
      "35.0  Female        20\n",
      "      Male          18\n",
      "dtype: int64\n"
     ]
    }
   ],
   "source": [
    "# grouping age with gender\n",
    "grouped = train_df.groupby(['Age', 'Gender'])\n",
    "\n",
    "# count the number of rows in each group\n",
    "counts = grouped.size()\n",
    "\n",
    "# print the counts  \n",
    "print(counts)"
   ]
  },
  {
   "cell_type": "code",
   "execution_count": 47,
   "id": "b38adf42",
   "metadata": {
    "execution": {
     "iopub.execute_input": "2024-05-23T11:22:53.893033Z",
     "iopub.status.busy": "2024-05-23T11:22:53.892591Z",
     "iopub.status.idle": "2024-05-23T11:22:53.986692Z",
     "shell.execute_reply": "2024-05-23T11:22:53.985565Z"
    },
    "papermill": {
     "duration": 0.13806,
     "end_time": "2024-05-23T11:22:53.989282",
     "exception": false,
     "start_time": "2024-05-23T11:22:53.851222",
     "status": "completed"
    },
    "tags": []
   },
   "outputs": [
    {
     "data": {
      "text/html": [
       "<div>                            <div id=\"8d8603d8-da82-40a7-8e1d-0fdb0219a0d3\" class=\"plotly-graph-div\" style=\"height:525px; width:100%;\"></div>            <script type=\"text/javascript\">                require([\"plotly\"], function(Plotly) {                    window.PLOTLYENV=window.PLOTLYENV || {};                                    if (document.getElementById(\"8d8603d8-da82-40a7-8e1d-0fdb0219a0d3\")) {                    Plotly.newPlot(                        \"8d8603d8-da82-40a7-8e1d-0fdb0219a0d3\",                        [{\"alignmentgroup\":\"True\",\"bingroup\":\"x\",\"hovertemplate\":\"Gender=Female\\u003cbr\\u003eAge=%{x}\\u003cbr\\u003ecount=%{y}\\u003cextra\\u003e\\u003c\\u002fextra\\u003e\",\"legendgroup\":\"Female\",\"marker\":{\"color\":\"#636efa\",\"pattern\":{\"shape\":\"\"}},\"name\":\"Female\",\"offsetgroup\":\"Female\",\"orientation\":\"v\",\"showlegend\":true,\"x\":[25.0,28.0,27.0,29.0,23.0,22.0,35.0,32.0,24.0,22.0,25.0,34.0,21.0,33.0,22.0,25.0,35.0,21.0,28.0,24.0,33.0,22.0,28.0,30.0,26.0,31.0,24.0,29.0,32.0,27.0,34.0,28.0,25.0,32.0,29.0,22.0,27.0,25.0,28.0,27.0,29.0,23.0,22.0,35.0,32.0,24.0,22.0,25.0,34.0,21.0,33.0,22.0,25.0,35.0,21.0,28.0,24.0,33.0,22.0,28.0,30.0,26.0,31.0,24.0,29.0,32.0,27.0,34.0,28.0,25.0,32.0,29.0,22.0,27.0,25.0,28.0,27.0,29.0,23.0,22.0,35.0,32.0,24.0,22.0,25.0,34.0,21.0,33.0,22.0,25.0,35.0,21.0,28.0,25.0,32.0,29.0,22.0,27.0,25.0,28.0,27.0,29.0,23.0,22.0,35.0,32.0,24.0,22.0,25.0,34.0,21.0,33.0,22.0,25.0,35.0,21.0,28.0,24.0,33.0,22.0,28.0,30.0,26.0,31.0,24.0,29.0,32.0,27.0,34.0,28.0,25.0,32.0,29.0,22.0,27.0,25.0,28.0,27.0,29.0,23.0,22.0,35.0,32.0,24.0,22.0,25.0,34.0,21.0,33.0,22.0,25.0,35.0,21.0,28.0,24.0,33.0,22.0,28.0,30.0,26.0,31.0,24.0,29.0,32.0,27.0,34.0,28.0,25.0,32.0,29.0,22.0,27.0,25.0,28.0,27.0,29.0,23.0,22.0,35.0,32.0,24.0,22.0,25.0,34.0,21.0,33.0,22.0,25.0,35.0,21.0,28.0,24.0,33.0,22.0,28.0,30.0,26.0,31.0,24.0,29.0,32.0,27.0,34.0,28.0,25.0,32.0,29.0,22.0,27.0,25.0,28.0,27.0,29.0,23.0,22.0,35.0,32.0,24.0,22.0,25.0,34.0,21.0,33.0,22.0,25.0,35.0,21.0,28.0,24.0,33.0,22.0,28.0,30.0,26.0,31.0,24.0,29.0,32.0,27.0,34.0,28.0,25.0,32.0,29.0,22.0,27.0,25.0,28.0,27.0,29.0,23.0,22.0,35.0,32.0,24.0,22.0,25.0,34.0,21.0,33.0,22.0,25.0,35.0,21.0,28.0,25.0,32.0,29.0,22.0,27.0,25.0,28.0,27.0,29.0,23.0,22.0,35.0,32.0,24.0,22.0,25.0,34.0,21.0,33.0,22.0,25.0,35.0,21.0,28.0,24.0,33.0,22.0,28.0,30.0,26.0,31.0,24.0,29.0,32.0,27.0,34.0,28.0,25.0,32.0,29.0,22.0,27.0,25.0,28.0,27.0,29.0,23.0,22.0,35.0,32.0,24.0,22.0,25.0,34.0,21.0,33.0,22.0,25.0,35.0,21.0,28.0,24.0,33.0,22.0,28.0,30.0,26.0,31.0,24.0,29.0,32.0,27.0,34.0,28.0,25.0,32.0,29.0,22.0,27.0],\"xaxis\":\"x\",\"yaxis\":\"y\",\"type\":\"histogram\"},{\"alignmentgroup\":\"True\",\"bingroup\":\"x\",\"hovertemplate\":\"Gender=Male\\u003cbr\\u003eAge=%{x}\\u003cbr\\u003ecount=%{y}\\u003cextra\\u003e\\u003c\\u002fextra\\u003e\",\"legendgroup\":\"Male\",\"marker\":{\"color\":\"#EF553B\",\"pattern\":{\"shape\":\"\"}},\"name\":\"Male\",\"offsetgroup\":\"Male\",\"orientation\":\"v\",\"showlegend\":true,\"x\":[30.0,33.0,21.0,31.0,34.0,28.0,27.0,26.0,29.0,31.0,30.0,28.0,29.0,27.0,31.0,29.0,30.0,32.0,27.0,31.0,25.0,27.0,23.0,25.0,28.0,27.0,35.0,25.0,26.0,31.0,22.0,31.0,30.0,24.0,26.0,35.0,30.0,33.0,21.0,31.0,34.0,28.0,27.0,26.0,29.0,31.0,30.0,28.0,29.0,27.0,31.0,29.0,30.0,32.0,27.0,31.0,25.0,27.0,23.0,25.0,28.0,27.0,35.0,25.0,26.0,31.0,22.0,31.0,30.0,24.0,26.0,35.0,30.0,33.0,21.0,31.0,34.0,28.0,27.0,26.0,29.0,31.0,30.0,28.0,29.0,27.0,31.0,29.0,30.0,32.0,30.0,24.0,26.0,35.0,30.0,33.0,21.0,31.0,34.0,28.0,27.0,26.0,29.0,31.0,30.0,28.0,29.0,27.0,31.0,29.0,30.0,32.0,27.0,31.0,25.0,27.0,23.0,25.0,28.0,27.0,35.0,25.0,26.0,31.0,22.0,31.0,30.0,24.0,26.0,35.0,30.0,33.0,21.0,31.0,34.0,28.0,27.0,26.0,29.0,31.0,30.0,28.0,29.0,27.0,31.0,29.0,30.0,32.0,27.0,31.0,25.0,27.0,23.0,25.0,28.0,27.0,35.0,25.0,26.0,31.0,22.0,31.0,30.0,24.0,26.0,35.0,30.0,33.0,21.0,31.0,34.0,28.0,27.0,26.0,29.0,31.0,30.0,28.0,29.0,27.0,31.0,29.0,30.0,32.0,27.0,31.0,25.0,27.0,23.0,25.0,28.0,27.0,35.0,25.0,26.0,31.0,22.0,31.0,30.0,24.0,26.0,35.0,30.0,33.0,21.0,31.0,34.0,28.0,27.0,26.0,29.0,31.0,30.0,28.0,29.0,27.0,31.0,29.0,30.0,32.0,27.0,31.0,25.0,27.0,23.0,25.0,28.0,27.0,35.0,25.0,26.0,31.0,22.0,31.0,30.0,24.0,26.0,35.0,30.0,33.0,21.0,31.0,34.0,28.0,27.0,26.0,29.0,31.0,30.0,28.0,29.0,27.0,31.0,29.0,30.0,32.0,30.0,24.0,26.0,35.0,30.0,33.0,21.0,31.0,34.0,28.0,27.0,26.0,29.0,31.0,30.0,28.0,29.0,27.0,31.0,29.0,30.0,32.0,27.0,31.0,25.0,27.0,23.0,25.0,28.0,27.0,35.0,25.0,26.0,31.0,22.0,31.0,30.0,24.0,26.0,35.0,30.0,33.0,21.0,31.0,34.0,28.0,27.0,26.0,29.0,31.0,30.0,28.0,29.0,27.0,31.0,29.0,30.0,32.0,27.0,31.0,25.0,27.0,23.0,25.0,28.0,27.0,35.0,25.0,26.0,31.0,22.0,31.0,30.0,24.0,26.0,35.0],\"xaxis\":\"x\",\"yaxis\":\"y\",\"type\":\"histogram\"},{\"alignmentgroup\":\"True\",\"bingroup\":\"x\",\"hovertemplate\":\"Gender=Non-binary\\u003cbr\\u003eAge=%{x}\\u003cbr\\u003ecount=%{y}\\u003cextra\\u003e\\u003c\\u002fextra\\u003e\",\"legendgroup\":\"Non-binary\",\"marker\":{\"color\":\"#00cc96\",\"pattern\":{\"shape\":\"\"}},\"name\":\"Non-binary\",\"offsetgroup\":\"Non-binary\",\"orientation\":\"v\",\"showlegend\":true,\"x\":[22.0,24.0,26.0,21.0,23.0,33.0,27.0,26.0,23.0,24.0,28.0,23.0,26.0,29.0,29.0,34.0,29.0,22.0,21.0,28.0,33.0,24.0,29.0,21.0,27.0,33.0,28.0,22.0,24.0,26.0,21.0,23.0,33.0,27.0,26.0,23.0,24.0,28.0,23.0,26.0,29.0,29.0,34.0,29.0,22.0,21.0,28.0,33.0,24.0,29.0,21.0,27.0,33.0,28.0,22.0,24.0,26.0,21.0,23.0,33.0,27.0,26.0,23.0,24.0,28.0,23.0,26.0,27.0,33.0,28.0,22.0,24.0,26.0,21.0,23.0,33.0,27.0,26.0,23.0,24.0,28.0,23.0,26.0,29.0,29.0,34.0,29.0,22.0,21.0,28.0,33.0,24.0,29.0,21.0,27.0,33.0,28.0,22.0,24.0,26.0,21.0,23.0,33.0,27.0,26.0,23.0,24.0,28.0,23.0,26.0,29.0,29.0,34.0,29.0,22.0,21.0,28.0,33.0,24.0,29.0,21.0,27.0,33.0,28.0,22.0,24.0,26.0,21.0,23.0,33.0,27.0,26.0,23.0,24.0,28.0,23.0,26.0,29.0,29.0,34.0,29.0,22.0,21.0,28.0,33.0,24.0,29.0,21.0,27.0,33.0,28.0,22.0,24.0,26.0,21.0,23.0,33.0,27.0,26.0,23.0,24.0,28.0,23.0,26.0,29.0,29.0,34.0,29.0,22.0,21.0,28.0,33.0,24.0,29.0,21.0,27.0,33.0,28.0,22.0,24.0,26.0,21.0,23.0,33.0,27.0,26.0,23.0,24.0,28.0,23.0,26.0,27.0,33.0,28.0,22.0,24.0,26.0,21.0,23.0,33.0,27.0,26.0,23.0,24.0,28.0,23.0,26.0,29.0,29.0,34.0,29.0,22.0,21.0,28.0,33.0,24.0,29.0,21.0,27.0,33.0,28.0,22.0,24.0,26.0,21.0,23.0,33.0,27.0,26.0,23.0,24.0,28.0,23.0,26.0,29.0,29.0,34.0,29.0,22.0,21.0,28.0,33.0,24.0,29.0,21.0,27.0,33.0,28.0],\"xaxis\":\"x\",\"yaxis\":\"y\",\"type\":\"histogram\"},{\"alignmentgroup\":\"True\",\"bingroup\":\"x\",\"hovertemplate\":\"Gender=Unknown\\u003cbr\\u003eAge=%{x}\\u003cbr\\u003ecount=%{y}\\u003cextra\\u003e\\u003c\\u002fextra\\u003e\",\"legendgroup\":\"Unknown\",\"marker\":{\"color\":\"#ab63fa\",\"pattern\":{\"shape\":\"\"}},\"name\":\"Unknown\",\"offsetgroup\":\"Unknown\",\"orientation\":\"v\",\"showlegend\":true,\"x\":[27.0,27.0,27.0,27.0,27.0,27.0,27.0,27.0,27.0,27.0,27.0,27.0,27.0,27.0,27.0,27.0,27.0,27.0,27.0,27.0,27.0,27.0,27.0,27.0,27.0,27.0,27.0,27.0,27.0,27.0,27.0,27.0,27.0,27.0,27.0,27.0,27.0,27.0,27.0,27.0,27.0,27.0,27.0,27.0,27.0,27.0,27.0,27.0,27.0,27.0,27.0,27.0,27.0,27.0,27.0,27.0,27.0,27.0,27.0,27.0,27.0,27.0,27.0,27.0,27.0,27.0,27.0,27.0,27.0,27.0,27.0,27.0,27.0,27.0,27.0,27.0,27.0],\"xaxis\":\"x\",\"yaxis\":\"y\",\"type\":\"histogram\"}],                        {\"template\":{\"data\":{\"histogram2dcontour\":[{\"type\":\"histogram2dcontour\",\"colorbar\":{\"outlinewidth\":0,\"ticks\":\"\"},\"colorscale\":[[0.0,\"#0d0887\"],[0.1111111111111111,\"#46039f\"],[0.2222222222222222,\"#7201a8\"],[0.3333333333333333,\"#9c179e\"],[0.4444444444444444,\"#bd3786\"],[0.5555555555555556,\"#d8576b\"],[0.6666666666666666,\"#ed7953\"],[0.7777777777777778,\"#fb9f3a\"],[0.8888888888888888,\"#fdca26\"],[1.0,\"#f0f921\"]]}],\"choropleth\":[{\"type\":\"choropleth\",\"colorbar\":{\"outlinewidth\":0,\"ticks\":\"\"}}],\"histogram2d\":[{\"type\":\"histogram2d\",\"colorbar\":{\"outlinewidth\":0,\"ticks\":\"\"},\"colorscale\":[[0.0,\"#0d0887\"],[0.1111111111111111,\"#46039f\"],[0.2222222222222222,\"#7201a8\"],[0.3333333333333333,\"#9c179e\"],[0.4444444444444444,\"#bd3786\"],[0.5555555555555556,\"#d8576b\"],[0.6666666666666666,\"#ed7953\"],[0.7777777777777778,\"#fb9f3a\"],[0.8888888888888888,\"#fdca26\"],[1.0,\"#f0f921\"]]}],\"heatmap\":[{\"type\":\"heatmap\",\"colorbar\":{\"outlinewidth\":0,\"ticks\":\"\"},\"colorscale\":[[0.0,\"#0d0887\"],[0.1111111111111111,\"#46039f\"],[0.2222222222222222,\"#7201a8\"],[0.3333333333333333,\"#9c179e\"],[0.4444444444444444,\"#bd3786\"],[0.5555555555555556,\"#d8576b\"],[0.6666666666666666,\"#ed7953\"],[0.7777777777777778,\"#fb9f3a\"],[0.8888888888888888,\"#fdca26\"],[1.0,\"#f0f921\"]]}],\"heatmapgl\":[{\"type\":\"heatmapgl\",\"colorbar\":{\"outlinewidth\":0,\"ticks\":\"\"},\"colorscale\":[[0.0,\"#0d0887\"],[0.1111111111111111,\"#46039f\"],[0.2222222222222222,\"#7201a8\"],[0.3333333333333333,\"#9c179e\"],[0.4444444444444444,\"#bd3786\"],[0.5555555555555556,\"#d8576b\"],[0.6666666666666666,\"#ed7953\"],[0.7777777777777778,\"#fb9f3a\"],[0.8888888888888888,\"#fdca26\"],[1.0,\"#f0f921\"]]}],\"contourcarpet\":[{\"type\":\"contourcarpet\",\"colorbar\":{\"outlinewidth\":0,\"ticks\":\"\"}}],\"contour\":[{\"type\":\"contour\",\"colorbar\":{\"outlinewidth\":0,\"ticks\":\"\"},\"colorscale\":[[0.0,\"#0d0887\"],[0.1111111111111111,\"#46039f\"],[0.2222222222222222,\"#7201a8\"],[0.3333333333333333,\"#9c179e\"],[0.4444444444444444,\"#bd3786\"],[0.5555555555555556,\"#d8576b\"],[0.6666666666666666,\"#ed7953\"],[0.7777777777777778,\"#fb9f3a\"],[0.8888888888888888,\"#fdca26\"],[1.0,\"#f0f921\"]]}],\"surface\":[{\"type\":\"surface\",\"colorbar\":{\"outlinewidth\":0,\"ticks\":\"\"},\"colorscale\":[[0.0,\"#0d0887\"],[0.1111111111111111,\"#46039f\"],[0.2222222222222222,\"#7201a8\"],[0.3333333333333333,\"#9c179e\"],[0.4444444444444444,\"#bd3786\"],[0.5555555555555556,\"#d8576b\"],[0.6666666666666666,\"#ed7953\"],[0.7777777777777778,\"#fb9f3a\"],[0.8888888888888888,\"#fdca26\"],[1.0,\"#f0f921\"]]}],\"mesh3d\":[{\"type\":\"mesh3d\",\"colorbar\":{\"outlinewidth\":0,\"ticks\":\"\"}}],\"scatter\":[{\"fillpattern\":{\"fillmode\":\"overlay\",\"size\":10,\"solidity\":0.2},\"type\":\"scatter\"}],\"parcoords\":[{\"type\":\"parcoords\",\"line\":{\"colorbar\":{\"outlinewidth\":0,\"ticks\":\"\"}}}],\"scatterpolargl\":[{\"type\":\"scatterpolargl\",\"marker\":{\"colorbar\":{\"outlinewidth\":0,\"ticks\":\"\"}}}],\"bar\":[{\"error_x\":{\"color\":\"#2a3f5f\"},\"error_y\":{\"color\":\"#2a3f5f\"},\"marker\":{\"line\":{\"color\":\"#E5ECF6\",\"width\":0.5},\"pattern\":{\"fillmode\":\"overlay\",\"size\":10,\"solidity\":0.2}},\"type\":\"bar\"}],\"scattergeo\":[{\"type\":\"scattergeo\",\"marker\":{\"colorbar\":{\"outlinewidth\":0,\"ticks\":\"\"}}}],\"scatterpolar\":[{\"type\":\"scatterpolar\",\"marker\":{\"colorbar\":{\"outlinewidth\":0,\"ticks\":\"\"}}}],\"histogram\":[{\"marker\":{\"pattern\":{\"fillmode\":\"overlay\",\"size\":10,\"solidity\":0.2}},\"type\":\"histogram\"}],\"scattergl\":[{\"type\":\"scattergl\",\"marker\":{\"colorbar\":{\"outlinewidth\":0,\"ticks\":\"\"}}}],\"scatter3d\":[{\"type\":\"scatter3d\",\"line\":{\"colorbar\":{\"outlinewidth\":0,\"ticks\":\"\"}},\"marker\":{\"colorbar\":{\"outlinewidth\":0,\"ticks\":\"\"}}}],\"scattermapbox\":[{\"type\":\"scattermapbox\",\"marker\":{\"colorbar\":{\"outlinewidth\":0,\"ticks\":\"\"}}}],\"scatterternary\":[{\"type\":\"scatterternary\",\"marker\":{\"colorbar\":{\"outlinewidth\":0,\"ticks\":\"\"}}}],\"scattercarpet\":[{\"type\":\"scattercarpet\",\"marker\":{\"colorbar\":{\"outlinewidth\":0,\"ticks\":\"\"}}}],\"carpet\":[{\"aaxis\":{\"endlinecolor\":\"#2a3f5f\",\"gridcolor\":\"white\",\"linecolor\":\"white\",\"minorgridcolor\":\"white\",\"startlinecolor\":\"#2a3f5f\"},\"baxis\":{\"endlinecolor\":\"#2a3f5f\",\"gridcolor\":\"white\",\"linecolor\":\"white\",\"minorgridcolor\":\"white\",\"startlinecolor\":\"#2a3f5f\"},\"type\":\"carpet\"}],\"table\":[{\"cells\":{\"fill\":{\"color\":\"#EBF0F8\"},\"line\":{\"color\":\"white\"}},\"header\":{\"fill\":{\"color\":\"#C8D4E3\"},\"line\":{\"color\":\"white\"}},\"type\":\"table\"}],\"barpolar\":[{\"marker\":{\"line\":{\"color\":\"#E5ECF6\",\"width\":0.5},\"pattern\":{\"fillmode\":\"overlay\",\"size\":10,\"solidity\":0.2}},\"type\":\"barpolar\"}],\"pie\":[{\"automargin\":true,\"type\":\"pie\"}]},\"layout\":{\"autotypenumbers\":\"strict\",\"colorway\":[\"#636efa\",\"#EF553B\",\"#00cc96\",\"#ab63fa\",\"#FFA15A\",\"#19d3f3\",\"#FF6692\",\"#B6E880\",\"#FF97FF\",\"#FECB52\"],\"font\":{\"color\":\"#2a3f5f\"},\"hovermode\":\"closest\",\"hoverlabel\":{\"align\":\"left\"},\"paper_bgcolor\":\"white\",\"plot_bgcolor\":\"#E5ECF6\",\"polar\":{\"bgcolor\":\"#E5ECF6\",\"angularaxis\":{\"gridcolor\":\"white\",\"linecolor\":\"white\",\"ticks\":\"\"},\"radialaxis\":{\"gridcolor\":\"white\",\"linecolor\":\"white\",\"ticks\":\"\"}},\"ternary\":{\"bgcolor\":\"#E5ECF6\",\"aaxis\":{\"gridcolor\":\"white\",\"linecolor\":\"white\",\"ticks\":\"\"},\"baxis\":{\"gridcolor\":\"white\",\"linecolor\":\"white\",\"ticks\":\"\"},\"caxis\":{\"gridcolor\":\"white\",\"linecolor\":\"white\",\"ticks\":\"\"}},\"coloraxis\":{\"colorbar\":{\"outlinewidth\":0,\"ticks\":\"\"}},\"colorscale\":{\"sequential\":[[0.0,\"#0d0887\"],[0.1111111111111111,\"#46039f\"],[0.2222222222222222,\"#7201a8\"],[0.3333333333333333,\"#9c179e\"],[0.4444444444444444,\"#bd3786\"],[0.5555555555555556,\"#d8576b\"],[0.6666666666666666,\"#ed7953\"],[0.7777777777777778,\"#fb9f3a\"],[0.8888888888888888,\"#fdca26\"],[1.0,\"#f0f921\"]],\"sequentialminus\":[[0.0,\"#0d0887\"],[0.1111111111111111,\"#46039f\"],[0.2222222222222222,\"#7201a8\"],[0.3333333333333333,\"#9c179e\"],[0.4444444444444444,\"#bd3786\"],[0.5555555555555556,\"#d8576b\"],[0.6666666666666666,\"#ed7953\"],[0.7777777777777778,\"#fb9f3a\"],[0.8888888888888888,\"#fdca26\"],[1.0,\"#f0f921\"]],\"diverging\":[[0,\"#8e0152\"],[0.1,\"#c51b7d\"],[0.2,\"#de77ae\"],[0.3,\"#f1b6da\"],[0.4,\"#fde0ef\"],[0.5,\"#f7f7f7\"],[0.6,\"#e6f5d0\"],[0.7,\"#b8e186\"],[0.8,\"#7fbc41\"],[0.9,\"#4d9221\"],[1,\"#276419\"]]},\"xaxis\":{\"gridcolor\":\"white\",\"linecolor\":\"white\",\"ticks\":\"\",\"title\":{\"standoff\":15},\"zerolinecolor\":\"white\",\"automargin\":true,\"zerolinewidth\":2},\"yaxis\":{\"gridcolor\":\"white\",\"linecolor\":\"white\",\"ticks\":\"\",\"title\":{\"standoff\":15},\"zerolinecolor\":\"white\",\"automargin\":true,\"zerolinewidth\":2},\"scene\":{\"xaxis\":{\"backgroundcolor\":\"#E5ECF6\",\"gridcolor\":\"white\",\"linecolor\":\"white\",\"showbackground\":true,\"ticks\":\"\",\"zerolinecolor\":\"white\",\"gridwidth\":2},\"yaxis\":{\"backgroundcolor\":\"#E5ECF6\",\"gridcolor\":\"white\",\"linecolor\":\"white\",\"showbackground\":true,\"ticks\":\"\",\"zerolinecolor\":\"white\",\"gridwidth\":2},\"zaxis\":{\"backgroundcolor\":\"#E5ECF6\",\"gridcolor\":\"white\",\"linecolor\":\"white\",\"showbackground\":true,\"ticks\":\"\",\"zerolinecolor\":\"white\",\"gridwidth\":2}},\"shapedefaults\":{\"line\":{\"color\":\"#2a3f5f\"}},\"annotationdefaults\":{\"arrowcolor\":\"#2a3f5f\",\"arrowhead\":0,\"arrowwidth\":1},\"geo\":{\"bgcolor\":\"white\",\"landcolor\":\"#E5ECF6\",\"subunitcolor\":\"white\",\"showland\":true,\"showlakes\":true,\"lakecolor\":\"white\"},\"title\":{\"x\":0.05},\"mapbox\":{\"style\":\"light\"}}},\"xaxis\":{\"anchor\":\"y\",\"domain\":[0.0,1.0],\"title\":{\"text\":\"Age\"}},\"yaxis\":{\"anchor\":\"x\",\"domain\":[0.0,1.0],\"title\":{\"text\":\"count\"}},\"legend\":{\"title\":{\"text\":\"Gender\"},\"tracegroupgap\":0},\"title\":{\"text\":\"Age by Gender\"},\"barmode\":\"relative\"},                        {\"responsive\": true}                    ).then(function(){\n",
       "                            \n",
       "var gd = document.getElementById('8d8603d8-da82-40a7-8e1d-0fdb0219a0d3');\n",
       "var x = new MutationObserver(function (mutations, observer) {{\n",
       "        var display = window.getComputedStyle(gd).display;\n",
       "        if (!display || display === 'none') {{\n",
       "            console.log([gd, 'removed!']);\n",
       "            Plotly.purge(gd);\n",
       "            observer.disconnect();\n",
       "        }}\n",
       "}});\n",
       "\n",
       "// Listen for the removal of the full notebook cells\n",
       "var notebookContainer = gd.closest('#notebook-container');\n",
       "if (notebookContainer) {{\n",
       "    x.observe(notebookContainer, {childList: true});\n",
       "}}\n",
       "\n",
       "// Listen for the clearing of the current output cell\n",
       "var outputEl = gd.closest('.output');\n",
       "if (outputEl) {{\n",
       "    x.observe(outputEl, {childList: true});\n",
       "}}\n",
       "\n",
       "                        })                };                });            </script>        </div>"
      ]
     },
     "metadata": {},
     "output_type": "display_data"
    }
   ],
   "source": [
    "plt = px.histogram(train_df, x='Age', color='Gender', title='Age by Gender')\n",
    "plt.show()"
   ]
  },
  {
   "cell_type": "markdown",
   "id": "5b606a0f",
   "metadata": {
    "papermill": {
     "duration": 0.041721,
     "end_time": "2024-05-23T11:22:54.071345",
     "exception": false,
     "start_time": "2024-05-23T11:22:54.029624",
     "status": "completed"
    },
    "tags": []
   },
   "source": [
    "### Gender and Platform VS Daily Usage Time (minutes)"
   ]
  },
  {
   "cell_type": "code",
   "execution_count": 48,
   "id": "effaf728",
   "metadata": {
    "execution": {
     "iopub.execute_input": "2024-05-23T11:22:54.151731Z",
     "iopub.status.busy": "2024-05-23T11:22:54.151316Z",
     "iopub.status.idle": "2024-05-23T11:22:54.252753Z",
     "shell.execute_reply": "2024-05-23T11:22:54.250774Z"
    },
    "papermill": {
     "duration": 0.145463,
     "end_time": "2024-05-23T11:22:54.256436",
     "exception": false,
     "start_time": "2024-05-23T11:22:54.110973",
     "status": "completed"
    },
    "tags": []
   },
   "outputs": [
    {
     "data": {
      "text/html": [
       "<div>                            <div id=\"a6b5b89c-24fb-4e25-9127-200656ac2e05\" class=\"plotly-graph-div\" style=\"height:525px; width:100%;\"></div>            <script type=\"text/javascript\">                require([\"plotly\"], function(Plotly) {                    window.PLOTLYENV=window.PLOTLYENV || {};                                    if (document.getElementById(\"a6b5b89c-24fb-4e25-9127-200656ac2e05\")) {                    Plotly.newPlot(                        \"a6b5b89c-24fb-4e25-9127-200656ac2e05\",                        [{\"alignmentgroup\":\"True\",\"bingroup\":\"y\",\"histfunc\":\"sum\",\"hovertemplate\":\"Gender=Female\\u003cbr\\u003esum of Posts_Per_Day=%{x}\\u003cbr\\u003ePlatform=%{y}\\u003cextra\\u003e\\u003c\\u002fextra\\u003e\",\"legendgroup\":\"Female\",\"marker\":{\"color\":\"#636efa\",\"pattern\":{\"shape\":\"\"}},\"name\":\"Female\",\"offsetgroup\":\"Female\",\"orientation\":\"h\",\"showlegend\":true,\"x\":[3.0,8.0,3.0,2.0,4.0,7.0,4.0,5.0,4.0,3.0,6.0,2.0,6.0,7.0,3.0,6.0,1.0,3.0,1.0,3.0,4.0,2.0,4.0,6.0,4.0,2.0,4.0,2.0,6.0,4.0,5.0,4.0,6.0,4.0,2.0,1.0,4.0,5.0,8.0,3.0,2.0,4.0,8.0,5.0,6.0,4.0,3.0,6.0,2.0,6.0,7.0,3.0,6.0,1.0,3.0,1.0,3.0,4.0,2.0,4.0,6.0,4.0,2.0,4.0,2.0,6.0,4.0,5.0,4.0,6.0,4.0,2.0,1.0,4.0,5.0,8.0,3.0,2.0,4.0,8.0,5.0,6.0,4.0,3.0,6.0,2.0,6.0,7.0,3.0,6.0,1.0,3.0,1.0,6.0,4.0,2.0,1.0,4.0,5.0,8.0,3.0,2.0,4.0,8.0,5.0,6.0,4.0,3.0,6.0,2.0,6.0,7.0,3.0,6.0,1.0,3.0,1.0,3.0,4.0,2.0,4.0,6.0,4.0,2.0,4.0,2.0,6.0,4.0,5.0,4.0,6.0,4.0,2.0,1.0,4.0,5.0,8.0,3.0,2.0,4.0,8.0,5.0,6.0,4.0,3.0,6.0,2.0,6.0,7.0,3.0,6.0,1.0,3.0,1.0,3.0,4.0,2.0,4.0,6.0,4.0,2.0,4.0,2.0,6.0,4.0,5.0,4.0,6.0,4.0,2.0,1.0,4.0,5.0,8.0,3.0,2.0,4.0,8.0,5.0,6.0,4.0,3.0,6.0,2.0,6.0,7.0,3.0,6.0,1.0,3.0,1.0,3.0,4.0,2.0,4.0,6.0,4.0,2.0,4.0,2.0,6.0,4.0,5.0,4.0,6.0,4.0,2.0,1.0,4.0,5.0,8.0,3.0,2.0,4.0,8.0,5.0,6.0,4.0,3.0,6.0,2.0,6.0,7.0,3.0,6.0,1.0,3.0,1.0,3.0,4.0,2.0,4.0,6.0,4.0,2.0,4.0,2.0,6.0,4.0,5.0,4.0,6.0,4.0,2.0,1.0,4.0,5.0,8.0,3.0,2.0,4.0,8.0,5.0,6.0,4.0,3.0,6.0,2.0,6.0,7.0,3.0,6.0,1.0,3.0,1.0,6.0,4.0,2.0,1.0,4.0,5.0,8.0,3.0,2.0,4.0,8.0,5.0,6.0,4.0,3.0,6.0,2.0,6.0,7.0,3.0,6.0,1.0,3.0,1.0,3.0,4.0,2.0,4.0,6.0,4.0,2.0,4.0,2.0,6.0,4.0,5.0,4.0,6.0,4.0,2.0,1.0,4.0,5.0,8.0,3.0,2.0,4.0,8.0,5.0,6.0,4.0,3.0,6.0,2.0,6.0,7.0,3.0,6.0,1.0,3.0,1.0,3.0,4.0,2.0,4.0,6.0,4.0,2.0,4.0,2.0,6.0,4.0,5.0,4.0,6.0,4.0,2.0,1.0,4.0],\"xaxis\":\"x\",\"y\":[\"Instagram\",\"Instagram\",\"Twitter\",\"LinkedIn\",\"Twitter\",\"Instagram\",\"Instagram\",\"Instagram\",\"Twitter\",\"Twitter\",\"Instagram\",\"LinkedIn\",\"Instagram\",\"Instagram\",\"Instagram\",\"Instagram\",\"LinkedIn\",\"Twitter\",\"LinkedIn\",\"Twitter\",\"Instagram\",\"Whatsapp\",\"Twitter\",\"Instagram\",\"Snapchat\",\"Whatsapp\",\"Instagram\",\"Whatsapp\",\"Instagram\",\"Whatsapp\",\"Instagram\",\"Whatsapp\",\"Instagram\",\"Whatsapp\",\"Snapchat\",\"Facebook\",\"Snapchat\",\"Instagram\",\"Instagram\",\"Twitter\",\"LinkedIn\",\"Twitter\",\"Instagram\",\"Instagram\",\"Instagram\",\"Twitter\",\"Twitter\",\"Instagram\",\"LinkedIn\",\"Instagram\",\"Instagram\",\"Instagram\",\"Instagram\",\"LinkedIn\",\"Twitter\",\"LinkedIn\",\"Twitter\",\"Instagram\",\"Whatsapp\",\"Twitter\",\"Instagram\",\"Snapchat\",\"Whatsapp\",\"Instagram\",\"Whatsapp\",\"Instagram\",\"Whatsapp\",\"Instagram\",\"Whatsapp\",\"Instagram\",\"Whatsapp\",\"Snapchat\",\"Facebook\",\"Snapchat\",\"Instagram\",\"Instagram\",\"Twitter\",\"LinkedIn\",\"Twitter\",\"Instagram\",\"Instagram\",\"Instagram\",\"Twitter\",\"Twitter\",\"Instagram\",\"LinkedIn\",\"Instagram\",\"Instagram\",\"Instagram\",\"Instagram\",\"LinkedIn\",\"Twitter\",\"LinkedIn\",\"Instagram\",\"Whatsapp\",\"Snapchat\",\"Facebook\",\"Snapchat\",\"Instagram\",\"Instagram\",\"Twitter\",\"LinkedIn\",\"Twitter\",\"Instagram\",\"Instagram\",\"Instagram\",\"Twitter\",\"Twitter\",\"Instagram\",\"LinkedIn\",\"Instagram\",\"Instagram\",\"Instagram\",\"Instagram\",\"LinkedIn\",\"Twitter\",\"LinkedIn\",\"Twitter\",\"Instagram\",\"Whatsapp\",\"Twitter\",\"Instagram\",\"Snapchat\",\"Whatsapp\",\"Instagram\",\"Whatsapp\",\"Instagram\",\"Whatsapp\",\"Instagram\",\"Whatsapp\",\"Instagram\",\"Whatsapp\",\"Snapchat\",\"Facebook\",\"Snapchat\",\"Instagram\",\"Instagram\",\"Twitter\",\"LinkedIn\",\"Twitter\",\"Instagram\",\"Instagram\",\"Instagram\",\"Twitter\",\"Twitter\",\"Instagram\",\"LinkedIn\",\"Instagram\",\"Instagram\",\"Instagram\",\"Instagram\",\"LinkedIn\",\"Twitter\",\"LinkedIn\",\"Twitter\",\"Instagram\",\"Whatsapp\",\"Twitter\",\"Instagram\",\"Snapchat\",\"Whatsapp\",\"Instagram\",\"Whatsapp\",\"Instagram\",\"Whatsapp\",\"Instagram\",\"Whatsapp\",\"Instagram\",\"Whatsapp\",\"Snapchat\",\"Facebook\",\"Snapchat\",\"Instagram\",\"Instagram\",\"Twitter\",\"LinkedIn\",\"Twitter\",\"Instagram\",\"Instagram\",\"Instagram\",\"Twitter\",\"Twitter\",\"Instagram\",\"LinkedIn\",\"Instagram\",\"Instagram\",\"Instagram\",\"Instagram\",\"LinkedIn\",\"Twitter\",\"LinkedIn\",\"Twitter\",\"Instagram\",\"Whatsapp\",\"Twitter\",\"Instagram\",\"Snapchat\",\"Whatsapp\",\"Instagram\",\"Whatsapp\",\"Instagram\",\"Whatsapp\",\"Instagram\",\"Whatsapp\",\"Instagram\",\"Whatsapp\",\"Snapchat\",\"Facebook\",\"Snapchat\",\"Instagram\",\"Instagram\",\"Twitter\",\"LinkedIn\",\"Twitter\",\"Instagram\",\"Instagram\",\"Instagram\",\"Twitter\",\"Twitter\",\"Instagram\",\"LinkedIn\",\"Instagram\",\"Instagram\",\"Instagram\",\"Instagram\",\"LinkedIn\",\"Twitter\",\"LinkedIn\",\"Twitter\",\"Instagram\",\"Whatsapp\",\"Twitter\",\"Instagram\",\"Snapchat\",\"Whatsapp\",\"Instagram\",\"Whatsapp\",\"Instagram\",\"Whatsapp\",\"Instagram\",\"Whatsapp\",\"Instagram\",\"Whatsapp\",\"Snapchat\",\"Facebook\",\"Snapchat\",\"Instagram\",\"Instagram\",\"Twitter\",\"LinkedIn\",\"Twitter\",\"Instagram\",\"Instagram\",\"Instagram\",\"Twitter\",\"Twitter\",\"Instagram\",\"LinkedIn\",\"Instagram\",\"Instagram\",\"Instagram\",\"Instagram\",\"LinkedIn\",\"Twitter\",\"LinkedIn\",\"Instagram\",\"Whatsapp\",\"Snapchat\",\"Facebook\",\"Snapchat\",\"Instagram\",\"Instagram\",\"Twitter\",\"LinkedIn\",\"Twitter\",\"Instagram\",\"Instagram\",\"Instagram\",\"Twitter\",\"Twitter\",\"Instagram\",\"LinkedIn\",\"Instagram\",\"Instagram\",\"Instagram\",\"Instagram\",\"LinkedIn\",\"Twitter\",\"LinkedIn\",\"Twitter\",\"Instagram\",\"Whatsapp\",\"Twitter\",\"Instagram\",\"Snapchat\",\"Whatsapp\",\"Instagram\",\"Whatsapp\",\"Instagram\",\"Whatsapp\",\"Instagram\",\"Whatsapp\",\"Instagram\",\"Whatsapp\",\"Snapchat\",\"Facebook\",\"Snapchat\",\"Instagram\",\"Instagram\",\"Twitter\",\"LinkedIn\",\"Twitter\",\"Instagram\",\"Instagram\",\"Instagram\",\"Twitter\",\"Twitter\",\"Instagram\",\"LinkedIn\",\"Instagram\",\"Instagram\",\"Instagram\",\"Instagram\",\"LinkedIn\",\"Twitter\",\"LinkedIn\",\"Twitter\",\"Instagram\",\"Whatsapp\",\"Twitter\",\"Instagram\",\"Snapchat\",\"Whatsapp\",\"Instagram\",\"Whatsapp\",\"Instagram\",\"Whatsapp\",\"Instagram\",\"Whatsapp\",\"Instagram\",\"Whatsapp\",\"Snapchat\",\"Facebook\",\"Snapchat\"],\"yaxis\":\"y\",\"type\":\"histogram\"},{\"alignmentgroup\":\"True\",\"bingroup\":\"y\",\"histfunc\":\"sum\",\"hovertemplate\":\"Gender=Male\\u003cbr\\u003esum of Posts_Per_Day=%{x}\\u003cbr\\u003ePlatform=%{y}\\u003cextra\\u003e\\u003c\\u002fextra\\u003e\",\"legendgroup\":\"Male\",\"marker\":{\"color\":\"#EF553B\",\"pattern\":{\"shape\":\"\"}},\"name\":\"Male\",\"offsetgroup\":\"Male\",\"orientation\":\"h\",\"showlegend\":true,\"x\":[5.0,1.0,4.0,5.0,1.0,6.0,3.0,2.0,2.0,2.0,4.0,5.0,2.0,4.0,1.0,4.0,7.0,5.0,6.0,1.0,3.0,1.0,3.0,6.0,5.0,3.0,1.0,4.0,2.0,2.0,1.0,3.0,2.0,3.0,5.0,3.0,4.0,1.0,5.0,7.0,1.0,6.0,3.0,2.0,2.0,2.0,4.0,7.0,2.0,4.0,1.0,4.0,7.0,5.0,6.0,1.0,3.0,1.0,3.0,6.0,5.0,3.0,1.0,4.0,2.0,2.0,1.0,3.0,2.0,3.0,5.0,3.0,4.0,1.0,5.0,7.0,1.0,6.0,3.0,2.0,2.0,2.0,4.0,7.0,2.0,4.0,1.0,4.0,7.0,5.0,2.0,3.0,5.0,3.0,4.0,1.0,5.0,7.0,1.0,6.0,3.0,2.0,2.0,2.0,4.0,7.0,2.0,4.0,1.0,4.0,7.0,5.0,6.0,1.0,3.0,1.0,3.0,6.0,5.0,3.0,1.0,4.0,2.0,2.0,1.0,3.0,2.0,3.0,5.0,3.0,4.0,1.0,5.0,7.0,1.0,6.0,3.0,2.0,2.0,2.0,4.0,7.0,2.0,4.0,1.0,4.0,7.0,5.0,6.0,1.0,3.0,1.0,3.0,6.0,5.0,3.0,1.0,4.0,2.0,2.0,1.0,3.0,2.0,3.0,5.0,3.0,4.0,1.0,5.0,7.0,1.0,6.0,3.0,2.0,2.0,2.0,4.0,7.0,2.0,4.0,1.0,4.0,7.0,5.0,6.0,1.0,3.0,1.0,3.0,6.0,5.0,3.0,1.0,4.0,2.0,2.0,1.0,3.0,2.0,3.0,5.0,3.0,4.0,1.0,5.0,7.0,1.0,6.0,3.0,2.0,2.0,2.0,4.0,7.0,2.0,4.0,1.0,4.0,7.0,5.0,6.0,1.0,3.0,1.0,3.0,6.0,5.0,3.0,1.0,4.0,2.0,2.0,1.0,3.0,2.0,3.0,5.0,3.0,4.0,1.0,5.0,7.0,1.0,6.0,3.0,2.0,2.0,2.0,4.0,7.0,2.0,4.0,1.0,4.0,7.0,5.0,2.0,3.0,5.0,3.0,4.0,1.0,5.0,7.0,1.0,6.0,3.0,2.0,2.0,2.0,4.0,7.0,2.0,4.0,1.0,4.0,7.0,5.0,6.0,1.0,3.0,1.0,3.0,6.0,5.0,3.0,1.0,4.0,2.0,2.0,1.0,3.0,2.0,3.0,5.0,3.0,4.0,1.0,5.0,7.0,1.0,6.0,3.0,2.0,2.0,2.0,4.0,7.0,2.0,4.0,1.0,4.0,7.0,5.0,6.0,1.0,3.0,1.0,3.0,6.0,5.0,3.0,1.0,4.0,2.0,2.0,1.0,3.0,2.0,3.0,5.0,3.0],\"xaxis\":\"x\",\"y\":[\"Twitter\",\"LinkedIn\",\"Instagram\",\"Instagram\",\"LinkedIn\",\"Twitter\",\"Twitter\",\"Facebook\",\"LinkedIn\",\"Facebook\",\"Twitter\",\"Instagram\",\"Facebook\",\"Twitter\",\"LinkedIn\",\"Twitter\",\"Instagram\",\"Instagram\",\"Instagram\",\"LinkedIn\",\"Telegram\",\"Facebook\",\"Whatsapp\",\"Twitter\",\"Instagram\",\"Telegram\",\"Twitter\",\"Telegram\",\"Twitter\",\"Telegram\",\"Twitter\",\"Telegram\",\"Twitter\",\"Telegram\",\"Instagram\",\"Whatsapp\",\"Twitter\",\"LinkedIn\",\"Instagram\",\"Instagram\",\"LinkedIn\",\"Twitter\",\"Twitter\",\"Facebook\",\"LinkedIn\",\"Facebook\",\"Twitter\",\"Instagram\",\"Facebook\",\"Twitter\",\"LinkedIn\",\"Twitter\",\"Instagram\",\"Instagram\",\"Instagram\",\"LinkedIn\",\"Telegram\",\"Facebook\",\"Whatsapp\",\"Twitter\",\"Instagram\",\"Telegram\",\"Twitter\",\"Telegram\",\"Twitter\",\"Telegram\",\"Twitter\",\"Telegram\",\"Twitter\",\"Telegram\",\"Instagram\",\"Whatsapp\",\"Twitter\",\"LinkedIn\",\"Instagram\",\"Instagram\",\"LinkedIn\",\"Twitter\",\"Twitter\",\"Facebook\",\"LinkedIn\",\"Facebook\",\"Twitter\",\"Instagram\",\"Facebook\",\"Twitter\",\"LinkedIn\",\"Twitter\",\"Instagram\",\"Instagram\",\"Twitter\",\"Telegram\",\"Instagram\",\"Whatsapp\",\"Twitter\",\"LinkedIn\",\"Instagram\",\"Instagram\",\"LinkedIn\",\"Twitter\",\"Twitter\",\"Facebook\",\"LinkedIn\",\"Facebook\",\"Twitter\",\"Instagram\",\"Facebook\",\"Twitter\",\"LinkedIn\",\"Twitter\",\"Instagram\",\"Instagram\",\"Instagram\",\"LinkedIn\",\"Telegram\",\"Facebook\",\"Whatsapp\",\"Twitter\",\"Instagram\",\"Telegram\",\"Twitter\",\"Telegram\",\"Twitter\",\"Telegram\",\"Twitter\",\"Telegram\",\"Twitter\",\"Telegram\",\"Instagram\",\"Whatsapp\",\"Twitter\",\"LinkedIn\",\"Instagram\",\"Instagram\",\"LinkedIn\",\"Twitter\",\"Twitter\",\"Facebook\",\"LinkedIn\",\"Facebook\",\"Twitter\",\"Instagram\",\"Facebook\",\"Twitter\",\"LinkedIn\",\"Twitter\",\"Instagram\",\"Instagram\",\"Instagram\",\"LinkedIn\",\"Telegram\",\"Facebook\",\"Whatsapp\",\"Twitter\",\"Instagram\",\"Telegram\",\"Twitter\",\"Telegram\",\"Twitter\",\"Telegram\",\"Twitter\",\"Telegram\",\"Twitter\",\"Telegram\",\"Instagram\",\"Whatsapp\",\"Twitter\",\"LinkedIn\",\"Instagram\",\"Instagram\",\"LinkedIn\",\"Twitter\",\"Twitter\",\"Facebook\",\"LinkedIn\",\"Facebook\",\"Twitter\",\"Instagram\",\"Facebook\",\"Twitter\",\"LinkedIn\",\"Twitter\",\"Instagram\",\"Instagram\",\"Instagram\",\"LinkedIn\",\"Telegram\",\"Facebook\",\"Whatsapp\",\"Twitter\",\"Instagram\",\"Telegram\",\"Twitter\",\"Telegram\",\"Twitter\",\"Telegram\",\"Twitter\",\"Telegram\",\"Twitter\",\"Telegram\",\"Instagram\",\"Whatsapp\",\"Twitter\",\"LinkedIn\",\"Instagram\",\"Instagram\",\"LinkedIn\",\"Twitter\",\"Twitter\",\"Facebook\",\"LinkedIn\",\"Facebook\",\"Twitter\",\"Instagram\",\"Facebook\",\"Twitter\",\"LinkedIn\",\"Twitter\",\"Instagram\",\"Instagram\",\"Instagram\",\"LinkedIn\",\"Telegram\",\"Facebook\",\"Whatsapp\",\"Twitter\",\"Instagram\",\"Telegram\",\"Twitter\",\"Telegram\",\"Twitter\",\"Telegram\",\"Twitter\",\"Telegram\",\"Twitter\",\"Telegram\",\"Instagram\",\"Whatsapp\",\"Twitter\",\"LinkedIn\",\"Instagram\",\"Instagram\",\"LinkedIn\",\"Twitter\",\"Twitter\",\"Facebook\",\"LinkedIn\",\"Facebook\",\"Twitter\",\"Instagram\",\"Facebook\",\"Twitter\",\"LinkedIn\",\"Twitter\",\"Instagram\",\"Instagram\",\"Twitter\",\"Telegram\",\"Instagram\",\"Whatsapp\",\"Twitter\",\"LinkedIn\",\"Instagram\",\"Instagram\",\"LinkedIn\",\"Twitter\",\"Twitter\",\"Facebook\",\"LinkedIn\",\"Facebook\",\"Twitter\",\"Instagram\",\"Facebook\",\"Twitter\",\"LinkedIn\",\"Twitter\",\"Instagram\",\"Instagram\",\"Instagram\",\"LinkedIn\",\"Telegram\",\"Facebook\",\"Whatsapp\",\"Twitter\",\"Instagram\",\"Telegram\",\"Twitter\",\"Telegram\",\"Twitter\",\"Telegram\",\"Twitter\",\"Telegram\",\"Twitter\",\"Telegram\",\"Instagram\",\"Whatsapp\",\"Twitter\",\"LinkedIn\",\"Instagram\",\"Instagram\",\"LinkedIn\",\"Twitter\",\"Twitter\",\"Facebook\",\"LinkedIn\",\"Facebook\",\"Twitter\",\"Instagram\",\"Facebook\",\"Twitter\",\"LinkedIn\",\"Twitter\",\"Instagram\",\"Instagram\",\"Instagram\",\"LinkedIn\",\"Telegram\",\"Facebook\",\"Whatsapp\",\"Twitter\",\"Instagram\",\"Telegram\",\"Twitter\",\"Telegram\",\"Twitter\",\"Telegram\",\"Twitter\",\"Telegram\",\"Twitter\",\"Telegram\",\"Instagram\",\"Whatsapp\"],\"yaxis\":\"y\",\"type\":\"histogram\"},{\"alignmentgroup\":\"True\",\"bingroup\":\"y\",\"histfunc\":\"sum\",\"hovertemplate\":\"Gender=Non-binary\\u003cbr\\u003esum of Posts_Per_Day=%{x}\\u003cbr\\u003ePlatform=%{y}\\u003cextra\\u003e\\u003c\\u002fextra\\u003e\",\"legendgroup\":\"Non-binary\",\"marker\":{\"color\":\"#00cc96\",\"pattern\":{\"shape\":\"\"}},\"name\":\"Non-binary\",\"offsetgroup\":\"Non-binary\",\"orientation\":\"h\",\"showlegend\":true,\"x\":[2.0,6.0,3.0,1.0,1.0,8.0,1.0,1.0,3.0,1.0,2.0,2.0,2.0,2.0,2.0,2.0,1.0,2.0,3.0,3.0,1.0,3.0,2.0,1.0,1.0,4.0,2.0,2.0,6.0,3.0,1.0,1.0,8.0,1.0,1.0,3.0,1.0,2.0,2.0,2.0,2.0,2.0,2.0,1.0,2.0,3.0,3.0,1.0,3.0,2.0,1.0,1.0,4.0,2.0,2.0,6.0,3.0,1.0,1.0,8.0,1.0,1.0,3.0,1.0,2.0,2.0,2.0,1.0,4.0,2.0,2.0,6.0,3.0,1.0,1.0,8.0,1.0,1.0,3.0,1.0,2.0,2.0,2.0,2.0,2.0,2.0,1.0,2.0,3.0,3.0,1.0,3.0,2.0,1.0,1.0,4.0,2.0,2.0,6.0,3.0,1.0,1.0,8.0,1.0,1.0,3.0,1.0,2.0,2.0,2.0,2.0,2.0,2.0,1.0,2.0,3.0,3.0,1.0,3.0,2.0,1.0,1.0,4.0,2.0,2.0,6.0,3.0,1.0,1.0,8.0,1.0,1.0,3.0,1.0,2.0,2.0,2.0,2.0,2.0,2.0,1.0,2.0,3.0,3.0,1.0,3.0,2.0,1.0,1.0,4.0,2.0,2.0,6.0,3.0,1.0,1.0,8.0,1.0,1.0,3.0,1.0,2.0,2.0,2.0,2.0,2.0,2.0,1.0,2.0,3.0,3.0,1.0,3.0,2.0,1.0,1.0,4.0,2.0,2.0,6.0,3.0,1.0,1.0,8.0,1.0,1.0,3.0,1.0,2.0,2.0,2.0,1.0,4.0,2.0,2.0,6.0,3.0,1.0,1.0,8.0,1.0,1.0,3.0,1.0,2.0,2.0,2.0,2.0,2.0,2.0,1.0,2.0,3.0,3.0,1.0,3.0,2.0,1.0,1.0,4.0,2.0,2.0,6.0,3.0,1.0,1.0,8.0,1.0,1.0,3.0,1.0,2.0,2.0,2.0,2.0,2.0,2.0,1.0,2.0,3.0,3.0,1.0,3.0,2.0,1.0,1.0,4.0,2.0],\"xaxis\":\"x\",\"y\":[\"Facebook\",\"Facebook\",\"Facebook\",\"Facebook\",\"LinkedIn\",\"Instagram\",\"LinkedIn\",\"Facebook\",\"Twitter\",\"LinkedIn\",\"Facebook\",\"Facebook\",\"Facebook\",\"Facebook\",\"Snapchat\",\"Telegram\",\"Facebook\",\"Snapchat\",\"Facebook\",\"Snapchat\",\"Facebook\",\"Snapchat\",\"Facebook\",\"Snapchat\",\"Facebook\",\"Twitter\",\"Telegram\",\"Facebook\",\"Facebook\",\"Facebook\",\"Facebook\",\"LinkedIn\",\"Instagram\",\"LinkedIn\",\"Facebook\",\"Twitter\",\"LinkedIn\",\"Facebook\",\"Facebook\",\"Facebook\",\"Facebook\",\"Snapchat\",\"Telegram\",\"Facebook\",\"Snapchat\",\"Facebook\",\"Snapchat\",\"Facebook\",\"Snapchat\",\"Facebook\",\"Snapchat\",\"Facebook\",\"Twitter\",\"Telegram\",\"Facebook\",\"Facebook\",\"Facebook\",\"Facebook\",\"LinkedIn\",\"Instagram\",\"LinkedIn\",\"Facebook\",\"Twitter\",\"LinkedIn\",\"Facebook\",\"Facebook\",\"Facebook\",\"Facebook\",\"Twitter\",\"Telegram\",\"Facebook\",\"Facebook\",\"Facebook\",\"Facebook\",\"LinkedIn\",\"Instagram\",\"LinkedIn\",\"Facebook\",\"Twitter\",\"LinkedIn\",\"Facebook\",\"Facebook\",\"Facebook\",\"Facebook\",\"Snapchat\",\"Telegram\",\"Facebook\",\"Snapchat\",\"Facebook\",\"Snapchat\",\"Facebook\",\"Snapchat\",\"Facebook\",\"Snapchat\",\"Facebook\",\"Twitter\",\"Telegram\",\"Facebook\",\"Facebook\",\"Facebook\",\"Facebook\",\"LinkedIn\",\"Instagram\",\"LinkedIn\",\"Facebook\",\"Twitter\",\"LinkedIn\",\"Facebook\",\"Facebook\",\"Facebook\",\"Facebook\",\"Snapchat\",\"Telegram\",\"Facebook\",\"Snapchat\",\"Facebook\",\"Snapchat\",\"Facebook\",\"Snapchat\",\"Facebook\",\"Snapchat\",\"Facebook\",\"Twitter\",\"Telegram\",\"Facebook\",\"Facebook\",\"Facebook\",\"Facebook\",\"LinkedIn\",\"Instagram\",\"LinkedIn\",\"Facebook\",\"Twitter\",\"LinkedIn\",\"Facebook\",\"Facebook\",\"Facebook\",\"Facebook\",\"Snapchat\",\"Telegram\",\"Facebook\",\"Snapchat\",\"Facebook\",\"Snapchat\",\"Facebook\",\"Snapchat\",\"Facebook\",\"Snapchat\",\"Facebook\",\"Twitter\",\"Telegram\",\"Facebook\",\"Facebook\",\"Facebook\",\"Facebook\",\"LinkedIn\",\"Instagram\",\"LinkedIn\",\"Facebook\",\"Twitter\",\"LinkedIn\",\"Facebook\",\"Facebook\",\"Facebook\",\"Facebook\",\"Snapchat\",\"Telegram\",\"Facebook\",\"Snapchat\",\"Facebook\",\"Snapchat\",\"Facebook\",\"Snapchat\",\"Facebook\",\"Snapchat\",\"Facebook\",\"Twitter\",\"Telegram\",\"Facebook\",\"Facebook\",\"Facebook\",\"Facebook\",\"LinkedIn\",\"Instagram\",\"LinkedIn\",\"Facebook\",\"Twitter\",\"LinkedIn\",\"Facebook\",\"Facebook\",\"Facebook\",\"Facebook\",\"Twitter\",\"Telegram\",\"Facebook\",\"Facebook\",\"Facebook\",\"Facebook\",\"LinkedIn\",\"Instagram\",\"LinkedIn\",\"Facebook\",\"Twitter\",\"LinkedIn\",\"Facebook\",\"Facebook\",\"Facebook\",\"Facebook\",\"Snapchat\",\"Telegram\",\"Facebook\",\"Snapchat\",\"Facebook\",\"Snapchat\",\"Facebook\",\"Snapchat\",\"Facebook\",\"Snapchat\",\"Facebook\",\"Twitter\",\"Telegram\",\"Facebook\",\"Facebook\",\"Facebook\",\"Facebook\",\"LinkedIn\",\"Instagram\",\"LinkedIn\",\"Facebook\",\"Twitter\",\"LinkedIn\",\"Facebook\",\"Facebook\",\"Facebook\",\"Facebook\",\"Snapchat\",\"Telegram\",\"Facebook\",\"Snapchat\",\"Facebook\",\"Snapchat\",\"Facebook\",\"Snapchat\",\"Facebook\",\"Snapchat\",\"Facebook\",\"Twitter\",\"Telegram\"],\"yaxis\":\"y\",\"type\":\"histogram\"},{\"alignmentgroup\":\"True\",\"bingroup\":\"y\",\"histfunc\":\"sum\",\"hovertemplate\":\"Gender=Unknown\\u003cbr\\u003esum of Posts_Per_Day=%{x}\\u003cbr\\u003ePlatform=%{y}\\u003cextra\\u003e\\u003c\\u002fextra\\u003e\",\"legendgroup\":\"Unknown\",\"marker\":{\"color\":\"#ab63fa\",\"pattern\":{\"shape\":\"\"}},\"name\":\"Unknown\",\"offsetgroup\":\"Unknown\",\"orientation\":\"h\",\"showlegend\":true,\"x\":[6.0,3.0,2.0,4.0,1.0,2.0,3.0,2.0,4.0,1.0,6.0,3.0,2.0,4.0,6.0,1.0,5.0,2.0,3.0,2.0,4.0,1.0,3.0,2.0,4.0,3.0,6.0,2.0,1.0,4.0,2.0,3.0,5.0,1.0,2.0,4.0,3.0,1.0,2.0,6.0,3.0,2.0,4.0,1.0,2.0,3.0,2.0,4.0,1.0,6.0,3.0,2.0,4.0,6.0,1.0,5.0,2.0,3.0,2.0,4.0,1.0,3.0,2.0,4.0,3.0,6.0,2.0,1.0,4.0,2.0,3.0,5.0,1.0,2.0,4.0,3.0,1.0],\"xaxis\":\"x\",\"y\":[\"Instagram\",\"Twitter\",\"Facebook\",\"Instagram\",\"LinkedIn\",\"Whatsapp\",\"Telegram\",\"Snapchat\",\"Twitter\",\"Facebook\",\"Instagram\",\"Whatsapp\",\"Telegram\",\"Snapchat\",\"Twitter\",\"Facebook\",\"Instagram\",\"Whatsapp\",\"Telegram\",\"Snapchat\",\"Instagram\",\"Twitter\",\"Facebook\",\"Whatsapp\",\"Telegram\",\"Snapchat\",\"Instagram\",\"Twitter\",\"Facebook\",\"Whatsapp\",\"Telegram\",\"Snapchat\",\"Instagram\",\"Twitter\",\"Facebook\",\"Whatsapp\",\"Telegram\",\"Snapchat\",\"Instagram\",\"Instagram\",\"Twitter\",\"Facebook\",\"Instagram\",\"LinkedIn\",\"Whatsapp\",\"Telegram\",\"Snapchat\",\"Twitter\",\"Facebook\",\"Instagram\",\"Whatsapp\",\"Telegram\",\"Snapchat\",\"Twitter\",\"Facebook\",\"Instagram\",\"Whatsapp\",\"Telegram\",\"Snapchat\",\"Instagram\",\"Twitter\",\"Facebook\",\"Whatsapp\",\"Telegram\",\"Snapchat\",\"Instagram\",\"Twitter\",\"Facebook\",\"Whatsapp\",\"Telegram\",\"Snapchat\",\"Instagram\",\"Twitter\",\"Facebook\",\"Whatsapp\",\"Telegram\",\"Snapchat\"],\"yaxis\":\"y\",\"type\":\"histogram\"}],                        {\"template\":{\"data\":{\"histogram2dcontour\":[{\"type\":\"histogram2dcontour\",\"colorbar\":{\"outlinewidth\":0,\"ticks\":\"\"},\"colorscale\":[[0.0,\"#0d0887\"],[0.1111111111111111,\"#46039f\"],[0.2222222222222222,\"#7201a8\"],[0.3333333333333333,\"#9c179e\"],[0.4444444444444444,\"#bd3786\"],[0.5555555555555556,\"#d8576b\"],[0.6666666666666666,\"#ed7953\"],[0.7777777777777778,\"#fb9f3a\"],[0.8888888888888888,\"#fdca26\"],[1.0,\"#f0f921\"]]}],\"choropleth\":[{\"type\":\"choropleth\",\"colorbar\":{\"outlinewidth\":0,\"ticks\":\"\"}}],\"histogram2d\":[{\"type\":\"histogram2d\",\"colorbar\":{\"outlinewidth\":0,\"ticks\":\"\"},\"colorscale\":[[0.0,\"#0d0887\"],[0.1111111111111111,\"#46039f\"],[0.2222222222222222,\"#7201a8\"],[0.3333333333333333,\"#9c179e\"],[0.4444444444444444,\"#bd3786\"],[0.5555555555555556,\"#d8576b\"],[0.6666666666666666,\"#ed7953\"],[0.7777777777777778,\"#fb9f3a\"],[0.8888888888888888,\"#fdca26\"],[1.0,\"#f0f921\"]]}],\"heatmap\":[{\"type\":\"heatmap\",\"colorbar\":{\"outlinewidth\":0,\"ticks\":\"\"},\"colorscale\":[[0.0,\"#0d0887\"],[0.1111111111111111,\"#46039f\"],[0.2222222222222222,\"#7201a8\"],[0.3333333333333333,\"#9c179e\"],[0.4444444444444444,\"#bd3786\"],[0.5555555555555556,\"#d8576b\"],[0.6666666666666666,\"#ed7953\"],[0.7777777777777778,\"#fb9f3a\"],[0.8888888888888888,\"#fdca26\"],[1.0,\"#f0f921\"]]}],\"heatmapgl\":[{\"type\":\"heatmapgl\",\"colorbar\":{\"outlinewidth\":0,\"ticks\":\"\"},\"colorscale\":[[0.0,\"#0d0887\"],[0.1111111111111111,\"#46039f\"],[0.2222222222222222,\"#7201a8\"],[0.3333333333333333,\"#9c179e\"],[0.4444444444444444,\"#bd3786\"],[0.5555555555555556,\"#d8576b\"],[0.6666666666666666,\"#ed7953\"],[0.7777777777777778,\"#fb9f3a\"],[0.8888888888888888,\"#fdca26\"],[1.0,\"#f0f921\"]]}],\"contourcarpet\":[{\"type\":\"contourcarpet\",\"colorbar\":{\"outlinewidth\":0,\"ticks\":\"\"}}],\"contour\":[{\"type\":\"contour\",\"colorbar\":{\"outlinewidth\":0,\"ticks\":\"\"},\"colorscale\":[[0.0,\"#0d0887\"],[0.1111111111111111,\"#46039f\"],[0.2222222222222222,\"#7201a8\"],[0.3333333333333333,\"#9c179e\"],[0.4444444444444444,\"#bd3786\"],[0.5555555555555556,\"#d8576b\"],[0.6666666666666666,\"#ed7953\"],[0.7777777777777778,\"#fb9f3a\"],[0.8888888888888888,\"#fdca26\"],[1.0,\"#f0f921\"]]}],\"surface\":[{\"type\":\"surface\",\"colorbar\":{\"outlinewidth\":0,\"ticks\":\"\"},\"colorscale\":[[0.0,\"#0d0887\"],[0.1111111111111111,\"#46039f\"],[0.2222222222222222,\"#7201a8\"],[0.3333333333333333,\"#9c179e\"],[0.4444444444444444,\"#bd3786\"],[0.5555555555555556,\"#d8576b\"],[0.6666666666666666,\"#ed7953\"],[0.7777777777777778,\"#fb9f3a\"],[0.8888888888888888,\"#fdca26\"],[1.0,\"#f0f921\"]]}],\"mesh3d\":[{\"type\":\"mesh3d\",\"colorbar\":{\"outlinewidth\":0,\"ticks\":\"\"}}],\"scatter\":[{\"fillpattern\":{\"fillmode\":\"overlay\",\"size\":10,\"solidity\":0.2},\"type\":\"scatter\"}],\"parcoords\":[{\"type\":\"parcoords\",\"line\":{\"colorbar\":{\"outlinewidth\":0,\"ticks\":\"\"}}}],\"scatterpolargl\":[{\"type\":\"scatterpolargl\",\"marker\":{\"colorbar\":{\"outlinewidth\":0,\"ticks\":\"\"}}}],\"bar\":[{\"error_x\":{\"color\":\"#2a3f5f\"},\"error_y\":{\"color\":\"#2a3f5f\"},\"marker\":{\"line\":{\"color\":\"#E5ECF6\",\"width\":0.5},\"pattern\":{\"fillmode\":\"overlay\",\"size\":10,\"solidity\":0.2}},\"type\":\"bar\"}],\"scattergeo\":[{\"type\":\"scattergeo\",\"marker\":{\"colorbar\":{\"outlinewidth\":0,\"ticks\":\"\"}}}],\"scatterpolar\":[{\"type\":\"scatterpolar\",\"marker\":{\"colorbar\":{\"outlinewidth\":0,\"ticks\":\"\"}}}],\"histogram\":[{\"marker\":{\"pattern\":{\"fillmode\":\"overlay\",\"size\":10,\"solidity\":0.2}},\"type\":\"histogram\"}],\"scattergl\":[{\"type\":\"scattergl\",\"marker\":{\"colorbar\":{\"outlinewidth\":0,\"ticks\":\"\"}}}],\"scatter3d\":[{\"type\":\"scatter3d\",\"line\":{\"colorbar\":{\"outlinewidth\":0,\"ticks\":\"\"}},\"marker\":{\"colorbar\":{\"outlinewidth\":0,\"ticks\":\"\"}}}],\"scattermapbox\":[{\"type\":\"scattermapbox\",\"marker\":{\"colorbar\":{\"outlinewidth\":0,\"ticks\":\"\"}}}],\"scatterternary\":[{\"type\":\"scatterternary\",\"marker\":{\"colorbar\":{\"outlinewidth\":0,\"ticks\":\"\"}}}],\"scattercarpet\":[{\"type\":\"scattercarpet\",\"marker\":{\"colorbar\":{\"outlinewidth\":0,\"ticks\":\"\"}}}],\"carpet\":[{\"aaxis\":{\"endlinecolor\":\"#2a3f5f\",\"gridcolor\":\"white\",\"linecolor\":\"white\",\"minorgridcolor\":\"white\",\"startlinecolor\":\"#2a3f5f\"},\"baxis\":{\"endlinecolor\":\"#2a3f5f\",\"gridcolor\":\"white\",\"linecolor\":\"white\",\"minorgridcolor\":\"white\",\"startlinecolor\":\"#2a3f5f\"},\"type\":\"carpet\"}],\"table\":[{\"cells\":{\"fill\":{\"color\":\"#EBF0F8\"},\"line\":{\"color\":\"white\"}},\"header\":{\"fill\":{\"color\":\"#C8D4E3\"},\"line\":{\"color\":\"white\"}},\"type\":\"table\"}],\"barpolar\":[{\"marker\":{\"line\":{\"color\":\"#E5ECF6\",\"width\":0.5},\"pattern\":{\"fillmode\":\"overlay\",\"size\":10,\"solidity\":0.2}},\"type\":\"barpolar\"}],\"pie\":[{\"automargin\":true,\"type\":\"pie\"}]},\"layout\":{\"autotypenumbers\":\"strict\",\"colorway\":[\"#636efa\",\"#EF553B\",\"#00cc96\",\"#ab63fa\",\"#FFA15A\",\"#19d3f3\",\"#FF6692\",\"#B6E880\",\"#FF97FF\",\"#FECB52\"],\"font\":{\"color\":\"#2a3f5f\"},\"hovermode\":\"closest\",\"hoverlabel\":{\"align\":\"left\"},\"paper_bgcolor\":\"white\",\"plot_bgcolor\":\"#E5ECF6\",\"polar\":{\"bgcolor\":\"#E5ECF6\",\"angularaxis\":{\"gridcolor\":\"white\",\"linecolor\":\"white\",\"ticks\":\"\"},\"radialaxis\":{\"gridcolor\":\"white\",\"linecolor\":\"white\",\"ticks\":\"\"}},\"ternary\":{\"bgcolor\":\"#E5ECF6\",\"aaxis\":{\"gridcolor\":\"white\",\"linecolor\":\"white\",\"ticks\":\"\"},\"baxis\":{\"gridcolor\":\"white\",\"linecolor\":\"white\",\"ticks\":\"\"},\"caxis\":{\"gridcolor\":\"white\",\"linecolor\":\"white\",\"ticks\":\"\"}},\"coloraxis\":{\"colorbar\":{\"outlinewidth\":0,\"ticks\":\"\"}},\"colorscale\":{\"sequential\":[[0.0,\"#0d0887\"],[0.1111111111111111,\"#46039f\"],[0.2222222222222222,\"#7201a8\"],[0.3333333333333333,\"#9c179e\"],[0.4444444444444444,\"#bd3786\"],[0.5555555555555556,\"#d8576b\"],[0.6666666666666666,\"#ed7953\"],[0.7777777777777778,\"#fb9f3a\"],[0.8888888888888888,\"#fdca26\"],[1.0,\"#f0f921\"]],\"sequentialminus\":[[0.0,\"#0d0887\"],[0.1111111111111111,\"#46039f\"],[0.2222222222222222,\"#7201a8\"],[0.3333333333333333,\"#9c179e\"],[0.4444444444444444,\"#bd3786\"],[0.5555555555555556,\"#d8576b\"],[0.6666666666666666,\"#ed7953\"],[0.7777777777777778,\"#fb9f3a\"],[0.8888888888888888,\"#fdca26\"],[1.0,\"#f0f921\"]],\"diverging\":[[0,\"#8e0152\"],[0.1,\"#c51b7d\"],[0.2,\"#de77ae\"],[0.3,\"#f1b6da\"],[0.4,\"#fde0ef\"],[0.5,\"#f7f7f7\"],[0.6,\"#e6f5d0\"],[0.7,\"#b8e186\"],[0.8,\"#7fbc41\"],[0.9,\"#4d9221\"],[1,\"#276419\"]]},\"xaxis\":{\"gridcolor\":\"white\",\"linecolor\":\"white\",\"ticks\":\"\",\"title\":{\"standoff\":15},\"zerolinecolor\":\"white\",\"automargin\":true,\"zerolinewidth\":2},\"yaxis\":{\"gridcolor\":\"white\",\"linecolor\":\"white\",\"ticks\":\"\",\"title\":{\"standoff\":15},\"zerolinecolor\":\"white\",\"automargin\":true,\"zerolinewidth\":2},\"scene\":{\"xaxis\":{\"backgroundcolor\":\"#E5ECF6\",\"gridcolor\":\"white\",\"linecolor\":\"white\",\"showbackground\":true,\"ticks\":\"\",\"zerolinecolor\":\"white\",\"gridwidth\":2},\"yaxis\":{\"backgroundcolor\":\"#E5ECF6\",\"gridcolor\":\"white\",\"linecolor\":\"white\",\"showbackground\":true,\"ticks\":\"\",\"zerolinecolor\":\"white\",\"gridwidth\":2},\"zaxis\":{\"backgroundcolor\":\"#E5ECF6\",\"gridcolor\":\"white\",\"linecolor\":\"white\",\"showbackground\":true,\"ticks\":\"\",\"zerolinecolor\":\"white\",\"gridwidth\":2}},\"shapedefaults\":{\"line\":{\"color\":\"#2a3f5f\"}},\"annotationdefaults\":{\"arrowcolor\":\"#2a3f5f\",\"arrowhead\":0,\"arrowwidth\":1},\"geo\":{\"bgcolor\":\"white\",\"landcolor\":\"#E5ECF6\",\"subunitcolor\":\"white\",\"showland\":true,\"showlakes\":true,\"lakecolor\":\"white\"},\"title\":{\"x\":0.05},\"mapbox\":{\"style\":\"light\"}}},\"xaxis\":{\"anchor\":\"y\",\"domain\":[0.0,1.0],\"title\":{\"text\":\"sum of Posts_Per_Day\"}},\"yaxis\":{\"anchor\":\"x\",\"domain\":[0.0,1.0],\"title\":{\"text\":\"Platform\"}},\"legend\":{\"title\":{\"text\":\"Gender\"},\"tracegroupgap\":0},\"title\":{\"text\":\"Posts Per Day by Gender\"},\"barmode\":\"relative\"},                        {\"responsive\": true}                    ).then(function(){\n",
       "                            \n",
       "var gd = document.getElementById('a6b5b89c-24fb-4e25-9127-200656ac2e05');\n",
       "var x = new MutationObserver(function (mutations, observer) {{\n",
       "        var display = window.getComputedStyle(gd).display;\n",
       "        if (!display || display === 'none') {{\n",
       "            console.log([gd, 'removed!']);\n",
       "            Plotly.purge(gd);\n",
       "            observer.disconnect();\n",
       "        }}\n",
       "}});\n",
       "\n",
       "// Listen for the removal of the full notebook cells\n",
       "var notebookContainer = gd.closest('#notebook-container');\n",
       "if (notebookContainer) {{\n",
       "    x.observe(notebookContainer, {childList: true});\n",
       "}}\n",
       "\n",
       "// Listen for the clearing of the current output cell\n",
       "var outputEl = gd.closest('.output');\n",
       "if (outputEl) {{\n",
       "    x.observe(outputEl, {childList: true});\n",
       "}}\n",
       "\n",
       "                        })                };                });            </script>        </div>"
      ]
     },
     "metadata": {},
     "output_type": "display_data"
    }
   ],
   "source": [
    "plt = px.histogram(train_df, x='Posts_Per_Day', y='Platform' ,color='Gender', title='Posts Per Day by Gender')\n",
    "plt.show()"
   ]
  },
  {
   "cell_type": "markdown",
   "id": "b25f9439",
   "metadata": {
    "papermill": {
     "duration": 0.03876,
     "end_time": "2024-05-23T11:22:54.342004",
     "exception": false,
     "start_time": "2024-05-23T11:22:54.303244",
     "status": "completed"
    },
    "tags": []
   },
   "source": [
    "### Gender VS Emotions"
   ]
  },
  {
   "cell_type": "code",
   "execution_count": 49,
   "id": "0ee0e8cb",
   "metadata": {
    "execution": {
     "iopub.execute_input": "2024-05-23T11:22:54.422670Z",
     "iopub.status.busy": "2024-05-23T11:22:54.421820Z",
     "iopub.status.idle": "2024-05-23T11:22:54.433844Z",
     "shell.execute_reply": "2024-05-23T11:22:54.431711Z"
    },
    "papermill": {
     "duration": 0.055029,
     "end_time": "2024-05-23T11:22:54.436090",
     "exception": false,
     "start_time": "2024-05-23T11:22:54.381061",
     "status": "completed"
    },
    "tags": []
   },
   "outputs": [
    {
     "name": "stdout",
     "output_type": "stream",
     "text": [
      "Gender      Dominant_Emotion\n",
      "Female      Anger                54\n",
      "            Anxiety              54\n",
      "            Boredom              30\n",
      "            Happiness           102\n",
      "            Neutral              56\n",
      "            Sadness              48\n",
      "Male        Anger                58\n",
      "            Anxiety              56\n",
      "            Boredom              54\n",
      "            Happiness            66\n",
      "            Neutral              46\n",
      "            Sadness              52\n",
      "Non-binary  Anger                10\n",
      "            Anxiety              46\n",
      "            Boredom              46\n",
      "            Happiness            18\n",
      "            Neutral              82\n",
      "            Sadness              46\n",
      "Unknown     Anger                 8\n",
      "            Anxiety              14\n",
      "            Boredom              10\n",
      "            Happiness            15\n",
      "            Neutral              16\n",
      "            Sadness              14\n",
      "dtype: int64\n"
     ]
    }
   ],
   "source": [
    "# checking the Gender againest the Dominant_Emotion\n",
    "grouped = train_df.groupby(['Gender', 'Dominant_Emotion'])\n",
    "\n",
    "# count the number of rows in each group\n",
    "counts = grouped.size()\n",
    "\n",
    "# print the counts  \n",
    "print(counts)"
   ]
  },
  {
   "cell_type": "code",
   "execution_count": 50,
   "id": "52a44a68",
   "metadata": {
    "execution": {
     "iopub.execute_input": "2024-05-23T11:22:54.516513Z",
     "iopub.status.busy": "2024-05-23T11:22:54.515478Z",
     "iopub.status.idle": "2024-05-23T11:22:54.612047Z",
     "shell.execute_reply": "2024-05-23T11:22:54.610960Z"
    },
    "papermill": {
     "duration": 0.139388,
     "end_time": "2024-05-23T11:22:54.614595",
     "exception": false,
     "start_time": "2024-05-23T11:22:54.475207",
     "status": "completed"
    },
    "tags": []
   },
   "outputs": [
    {
     "data": {
      "text/html": [
       "<div>                            <div id=\"07ee7759-1053-4b25-866a-135a32d6e16e\" class=\"plotly-graph-div\" style=\"height:525px; width:100%;\"></div>            <script type=\"text/javascript\">                require([\"plotly\"], function(Plotly) {                    window.PLOTLYENV=window.PLOTLYENV || {};                                    if (document.getElementById(\"07ee7759-1053-4b25-866a-135a32d6e16e\")) {                    Plotly.newPlot(                        \"07ee7759-1053-4b25-866a-135a32d6e16e\",                        [{\"alignmentgroup\":\"True\",\"bingroup\":\"x\",\"hovertemplate\":\"Dominant_Emotion=Happiness\\u003cbr\\u003eGender=%{x}\\u003cbr\\u003ecount=%{y}\\u003cextra\\u003e\\u003c\\u002fextra\\u003e\",\"legendgroup\":\"Happiness\",\"marker\":{\"color\":\"#636efa\",\"pattern\":{\"shape\":\"\"}},\"name\":\"Happiness\",\"offsetgroup\":\"Happiness\",\"orientation\":\"v\",\"showlegend\":true,\"x\":[\"Female\",\"Male\",\"Male\",\"Female\",\"Female\",\"Non-binary\",\"Female\",\"Male\",\"Female\",\"Female\",\"Male\",\"Male\",\"Female\",\"Female\",\"Male\",\"Female\",\"Female\",\"Non-binary\",\"Female\",\"Male\",\"Female\",\"Male\",\"Male\",\"Female\",\"Female\",\"Non-binary\",\"Female\",\"Male\",\"Female\",\"Female\",\"Male\",\"Male\",\"Female\",\"Female\",\"Male\",\"Female\",\"Female\",\"Non-binary\",\"Female\",\"Male\",\"Female\",\"Male\",\"Male\",\"Female\",\"Female\",\"Non-binary\",\"Female\",\"Male\",\"Female\",\"Female\",\"Male\",\"Unknown\",\"Unknown\",\"Unknown\",\"Unknown\",\"Unknown\",\"Unknown\",\"Unknown\",\"Female\",\"Male\",\"Female\",\"Male\",\"Male\",\"Female\",\"Female\",\"Non-binary\",\"Female\",\"Male\",\"Female\",\"Female\",\"Male\",\"Male\",\"Female\",\"Female\",\"Male\",\"Female\",\"Female\",\"Non-binary\",\"Female\",\"Male\",\"Female\",\"Male\",\"Male\",\"Female\",\"Female\",\"Non-binary\",\"Female\",\"Male\",\"Female\",\"Female\",\"Male\",\"Male\",\"Female\",\"Female\",\"Male\",\"Female\",\"Female\",\"Non-binary\",\"Female\",\"Male\",\"Female\",\"Male\",\"Male\",\"Female\",\"Female\",\"Non-binary\",\"Female\",\"Male\",\"Female\",\"Female\",\"Male\",\"Male\",\"Female\",\"Female\",\"Male\",\"Female\",\"Female\",\"Non-binary\",\"Female\",\"Male\",\"Female\",\"Male\",\"Male\",\"Female\",\"Female\",\"Non-binary\",\"Female\",\"Male\",\"Female\",\"Unknown\",\"Female\",\"Male\",\"Male\",\"Female\",\"Female\",\"Male\",\"Female\",\"Female\",\"Non-binary\",\"Female\",\"Male\",\"Female\",\"Male\",\"Male\",\"Female\",\"Female\",\"Non-binary\",\"Female\",\"Male\",\"Female\",\"Female\",\"Male\",\"Unknown\",\"Unknown\",\"Unknown\",\"Unknown\",\"Unknown\",\"Unknown\",\"Unknown\",\"Female\",\"Male\",\"Female\",\"Male\",\"Male\",\"Female\",\"Female\",\"Non-binary\",\"Female\",\"Male\",\"Female\",\"Female\",\"Male\",\"Male\",\"Female\",\"Female\",\"Male\",\"Female\",\"Female\",\"Non-binary\",\"Female\",\"Male\",\"Female\",\"Male\",\"Male\",\"Female\",\"Female\",\"Non-binary\",\"Female\",\"Male\",\"Female\",\"Female\",\"Male\",\"Male\",\"Female\",\"Female\",\"Male\",\"Female\",\"Female\",\"Non-binary\",\"Female\",\"Male\"],\"xaxis\":\"x\",\"yaxis\":\"y\",\"type\":\"histogram\"},{\"alignmentgroup\":\"True\",\"bingroup\":\"x\",\"hovertemplate\":\"Dominant_Emotion=Anger\\u003cbr\\u003eGender=%{x}\\u003cbr\\u003ecount=%{y}\\u003cextra\\u003e\\u003c\\u002fextra\\u003e\",\"legendgroup\":\"Anger\",\"marker\":{\"color\":\"#EF553B\",\"pattern\":{\"shape\":\"\"}},\"name\":\"Anger\",\"offsetgroup\":\"Anger\",\"orientation\":\"v\",\"showlegend\":true,\"x\":[\"Male\",\"Female\",\"Male\",\"Female\",\"Male\",\"Male\",\"Male\",\"Female\",\"Male\",\"Female\",\"Female\",\"Female\",\"Non-binary\",\"Male\",\"Female\",\"Male\",\"Female\",\"Male\",\"Male\",\"Male\",\"Female\",\"Male\",\"Female\",\"Female\",\"Female\",\"Non-binary\",\"Male\",\"Female\",\"Male\",\"Female\",\"Male\",\"Male\",\"Male\",\"Unknown\",\"Unknown\",\"Unknown\",\"Unknown\",\"Female\",\"Non-binary\",\"Male\",\"Female\",\"Male\",\"Female\",\"Male\",\"Male\",\"Male\",\"Female\",\"Male\",\"Female\",\"Female\",\"Female\",\"Non-binary\",\"Male\",\"Female\",\"Male\",\"Female\",\"Male\",\"Male\",\"Male\",\"Female\",\"Male\",\"Female\",\"Female\",\"Female\",\"Non-binary\",\"Male\",\"Female\",\"Male\",\"Female\",\"Male\",\"Male\",\"Male\",\"Female\",\"Male\",\"Female\",\"Female\",\"Female\",\"Non-binary\",\"Male\",\"Female\",\"Male\",\"Female\",\"Male\",\"Male\",\"Male\",\"Female\",\"Male\",\"Female\",\"Female\",\"Female\",\"Non-binary\",\"Male\",\"Female\",\"Male\",\"Female\",\"Male\",\"Male\",\"Male\",\"Unknown\",\"Unknown\",\"Unknown\",\"Unknown\",\"Female\",\"Non-binary\",\"Male\",\"Female\",\"Male\",\"Female\",\"Male\",\"Male\",\"Male\",\"Female\",\"Male\",\"Female\",\"Female\",\"Female\",\"Non-binary\",\"Male\",\"Female\",\"Male\",\"Female\",\"Male\",\"Male\",\"Male\",\"Female\",\"Male\",\"Female\",\"Female\",\"Female\",\"Non-binary\"],\"xaxis\":\"x\",\"yaxis\":\"y\",\"type\":\"histogram\"},{\"alignmentgroup\":\"True\",\"bingroup\":\"x\",\"hovertemplate\":\"Dominant_Emotion=Neutral\\u003cbr\\u003eGender=%{x}\\u003cbr\\u003ecount=%{y}\\u003cextra\\u003e\\u003c\\u002fextra\\u003e\",\"legendgroup\":\"Neutral\",\"marker\":{\"color\":\"#00cc96\",\"pattern\":{\"shape\":\"\"}},\"name\":\"Neutral\",\"offsetgroup\":\"Neutral\",\"orientation\":\"v\",\"showlegend\":true,\"x\":[\"Non-binary\",\"Female\",\"Non-binary\",\"Non-binary\",\"Male\",\"Non-binary\",\"Female\",\"Non-binary\",\"Male\",\"Non-binary\",\"Non-binary\",\"Female\",\"Non-binary\",\"Male\",\"Female\",\"Male\",\"Non-binary\",\"Male\",\"Female\",\"Female\",\"Non-binary\",\"Female\",\"Non-binary\",\"Non-binary\",\"Male\",\"Non-binary\",\"Female\",\"Non-binary\",\"Male\",\"Non-binary\",\"Non-binary\",\"Female\",\"Non-binary\",\"Male\",\"Female\",\"Male\",\"Non-binary\",\"Male\",\"Female\",\"Female\",\"Non-binary\",\"Female\",\"Non-binary\",\"Non-binary\",\"Male\",\"Non-binary\",\"Female\",\"Non-binary\",\"Male\",\"Unknown\",\"Unknown\",\"Unknown\",\"Unknown\",\"Unknown\",\"Unknown\",\"Unknown\",\"Unknown\",\"Male\",\"Female\",\"Female\",\"Non-binary\",\"Female\",\"Non-binary\",\"Non-binary\",\"Male\",\"Non-binary\",\"Female\",\"Non-binary\",\"Male\",\"Non-binary\",\"Non-binary\",\"Female\",\"Non-binary\",\"Male\",\"Female\",\"Male\",\"Non-binary\",\"Male\",\"Female\",\"Female\",\"Non-binary\",\"Female\",\"Non-binary\",\"Non-binary\",\"Male\",\"Non-binary\",\"Female\",\"Non-binary\",\"Male\",\"Non-binary\",\"Non-binary\",\"Female\",\"Non-binary\",\"Male\",\"Female\",\"Male\",\"Non-binary\",\"Male\",\"Female\",\"Female\",\"Non-binary\",\"Female\",\"Non-binary\",\"Non-binary\",\"Male\",\"Non-binary\",\"Female\",\"Non-binary\",\"Male\",\"Non-binary\",\"Non-binary\",\"Female\",\"Non-binary\",\"Male\",\"Female\",\"Male\",\"Non-binary\",\"Male\",\"Female\",\"Female\",\"Non-binary\",\"Female\",\"Non-binary\",\"Non-binary\",\"Male\",\"Non-binary\",\"Female\",\"Non-binary\",\"Male\",\"Non-binary\",\"Non-binary\",\"Female\",\"Non-binary\",\"Male\",\"Female\",\"Male\",\"Non-binary\",\"Male\",\"Female\",\"Female\",\"Non-binary\",\"Female\",\"Non-binary\",\"Non-binary\",\"Male\",\"Non-binary\",\"Female\",\"Non-binary\",\"Male\",\"Unknown\",\"Unknown\",\"Unknown\",\"Unknown\",\"Unknown\",\"Unknown\",\"Unknown\",\"Unknown\",\"Male\",\"Female\",\"Female\",\"Non-binary\",\"Female\",\"Non-binary\",\"Non-binary\",\"Male\",\"Non-binary\",\"Female\",\"Non-binary\",\"Male\",\"Non-binary\",\"Non-binary\",\"Female\",\"Non-binary\",\"Male\",\"Female\",\"Male\",\"Non-binary\",\"Male\",\"Female\",\"Female\",\"Non-binary\",\"Female\",\"Non-binary\",\"Non-binary\",\"Male\",\"Non-binary\",\"Female\",\"Non-binary\",\"Male\",\"Non-binary\",\"Non-binary\",\"Female\",\"Non-binary\",\"Male\",\"Female\",\"Male\",\"Non-binary\",\"Male\",\"Female\",\"Female\"],\"xaxis\":\"x\",\"yaxis\":\"y\",\"type\":\"histogram\"},{\"alignmentgroup\":\"True\",\"bingroup\":\"x\",\"hovertemplate\":\"Dominant_Emotion=Anxiety\\u003cbr\\u003eGender=%{x}\\u003cbr\\u003ecount=%{y}\\u003cextra\\u003e\\u003c\\u002fextra\\u003e\",\"legendgroup\":\"Anxiety\",\"marker\":{\"color\":\"#ab63fa\",\"pattern\":{\"shape\":\"\"}},\"name\":\"Anxiety\",\"offsetgroup\":\"Anxiety\",\"orientation\":\"v\",\"showlegend\":true,\"x\":[\"Female\",\"Female\",\"Female\",\"Male\",\"Non-binary\",\"Male\",\"Non-binary\",\"Non-binary\",\"Male\",\"Female\",\"Female\",\"Male\",\"Non-binary\",\"Non-binary\",\"Female\",\"Male\",\"Male\",\"Female\",\"Female\",\"Female\",\"Male\",\"Non-binary\",\"Male\",\"Non-binary\",\"Non-binary\",\"Male\",\"Female\",\"Female\",\"Male\",\"Non-binary\",\"Non-binary\",\"Female\",\"Male\",\"Male\",\"Female\",\"Female\",\"Female\",\"Male\",\"Non-binary\",\"Male\",\"Non-binary\",\"Non-binary\",\"Unknown\",\"Unknown\",\"Unknown\",\"Unknown\",\"Unknown\",\"Unknown\",\"Unknown\",\"Male\",\"Male\",\"Female\",\"Female\",\"Female\",\"Male\",\"Non-binary\",\"Male\",\"Non-binary\",\"Non-binary\",\"Male\",\"Female\",\"Female\",\"Male\",\"Non-binary\",\"Non-binary\",\"Female\",\"Male\",\"Male\",\"Female\",\"Female\",\"Female\",\"Male\",\"Non-binary\",\"Male\",\"Non-binary\",\"Non-binary\",\"Male\",\"Female\",\"Female\",\"Male\",\"Non-binary\",\"Non-binary\",\"Female\",\"Male\",\"Male\",\"Female\",\"Female\",\"Female\",\"Male\",\"Non-binary\",\"Male\",\"Non-binary\",\"Non-binary\",\"Male\",\"Female\",\"Female\",\"Male\",\"Non-binary\",\"Non-binary\",\"Female\",\"Male\",\"Male\",\"Female\",\"Female\",\"Female\",\"Male\",\"Non-binary\",\"Male\",\"Non-binary\",\"Non-binary\",\"Male\",\"Female\",\"Female\",\"Male\",\"Non-binary\",\"Non-binary\",\"Female\",\"Male\",\"Male\",\"Female\",\"Female\",\"Female\",\"Male\",\"Non-binary\",\"Male\",\"Non-binary\",\"Non-binary\",\"Unknown\",\"Unknown\",\"Unknown\",\"Unknown\",\"Unknown\",\"Unknown\",\"Unknown\",\"Male\",\"Male\",\"Female\",\"Female\",\"Female\",\"Male\",\"Non-binary\",\"Male\",\"Non-binary\",\"Non-binary\",\"Male\",\"Female\",\"Female\",\"Male\",\"Non-binary\",\"Non-binary\",\"Female\",\"Male\",\"Male\",\"Female\",\"Female\",\"Female\",\"Male\",\"Non-binary\",\"Male\",\"Non-binary\",\"Non-binary\",\"Male\",\"Female\",\"Female\",\"Male\",\"Non-binary\",\"Non-binary\",\"Female\",\"Male\",\"Male\"],\"xaxis\":\"x\",\"yaxis\":\"y\",\"type\":\"histogram\"},{\"alignmentgroup\":\"True\",\"bingroup\":\"x\",\"hovertemplate\":\"Dominant_Emotion=Boredom\\u003cbr\\u003eGender=%{x}\\u003cbr\\u003ecount=%{y}\\u003cextra\\u003e\\u003c\\u002fextra\\u003e\",\"legendgroup\":\"Boredom\",\"marker\":{\"color\":\"#FFA15A\",\"pattern\":{\"shape\":\"\"}},\"name\":\"Boredom\",\"offsetgroup\":\"Boredom\",\"orientation\":\"v\",\"showlegend\":true,\"x\":[\"Male\",\"Male\",\"Male\",\"Female\",\"Non-binary\",\"Female\",\"Female\",\"Male\",\"Male\",\"Non-binary\",\"Male\",\"Non-binary\",\"Non-binary\",\"Non-binary\",\"Male\",\"Male\",\"Male\",\"Female\",\"Non-binary\",\"Female\",\"Female\",\"Male\",\"Male\",\"Non-binary\",\"Male\",\"Non-binary\",\"Non-binary\",\"Non-binary\",\"Male\",\"Male\",\"Male\",\"Female\",\"Non-binary\",\"Female\",\"Female\",\"Unknown\",\"Unknown\",\"Unknown\",\"Unknown\",\"Unknown\",\"Non-binary\",\"Non-binary\",\"Male\",\"Male\",\"Male\",\"Female\",\"Non-binary\",\"Female\",\"Female\",\"Male\",\"Male\",\"Non-binary\",\"Male\",\"Non-binary\",\"Non-binary\",\"Non-binary\",\"Male\",\"Male\",\"Male\",\"Female\",\"Non-binary\",\"Female\",\"Female\",\"Male\",\"Male\",\"Non-binary\",\"Male\",\"Non-binary\",\"Non-binary\",\"Non-binary\",\"Male\",\"Male\",\"Male\",\"Female\",\"Non-binary\",\"Female\",\"Female\",\"Male\",\"Male\",\"Non-binary\",\"Male\",\"Non-binary\",\"Non-binary\",\"Non-binary\",\"Male\",\"Male\",\"Male\",\"Female\",\"Non-binary\",\"Female\",\"Female\",\"Male\",\"Male\",\"Non-binary\",\"Male\",\"Non-binary\",\"Non-binary\",\"Non-binary\",\"Male\",\"Male\",\"Male\",\"Female\",\"Non-binary\",\"Female\",\"Female\",\"Unknown\",\"Unknown\",\"Unknown\",\"Unknown\",\"Unknown\",\"Non-binary\",\"Non-binary\",\"Male\",\"Male\",\"Male\",\"Female\",\"Non-binary\",\"Female\",\"Female\",\"Male\",\"Male\",\"Non-binary\",\"Male\",\"Non-binary\",\"Non-binary\",\"Non-binary\",\"Male\",\"Male\",\"Male\",\"Female\",\"Non-binary\",\"Female\",\"Female\",\"Male\",\"Male\",\"Non-binary\",\"Male\",\"Non-binary\",\"Non-binary\",\"Non-binary\"],\"xaxis\":\"x\",\"yaxis\":\"y\",\"type\":\"histogram\"},{\"alignmentgroup\":\"True\",\"bingroup\":\"x\",\"hovertemplate\":\"Dominant_Emotion=Sadness\\u003cbr\\u003eGender=%{x}\\u003cbr\\u003ecount=%{y}\\u003cextra\\u003e\\u003c\\u002fextra\\u003e\",\"legendgroup\":\"Sadness\",\"marker\":{\"color\":\"#19d3f3\",\"pattern\":{\"shape\":\"\"}},\"name\":\"Sadness\",\"offsetgroup\":\"Sadness\",\"orientation\":\"v\",\"showlegend\":true,\"x\":[\"Non-binary\",\"Non-binary\",\"Male\",\"Female\",\"Non-binary\",\"Female\",\"Male\",\"Female\",\"Female\",\"Non-binary\",\"Male\",\"Non-binary\",\"Male\",\"Male\",\"Male\",\"Female\",\"Non-binary\",\"Non-binary\",\"Male\",\"Female\",\"Non-binary\",\"Female\",\"Male\",\"Female\",\"Female\",\"Non-binary\",\"Male\",\"Non-binary\",\"Male\",\"Male\",\"Male\",\"Female\",\"Non-binary\",\"Non-binary\",\"Male\",\"Female\",\"Non-binary\",\"Female\",\"Male\",\"Female\",\"Unknown\",\"Unknown\",\"Unknown\",\"Unknown\",\"Unknown\",\"Unknown\",\"Unknown\",\"Female\",\"Non-binary\",\"Non-binary\",\"Male\",\"Female\",\"Non-binary\",\"Female\",\"Male\",\"Female\",\"Female\",\"Non-binary\",\"Male\",\"Non-binary\",\"Male\",\"Male\",\"Male\",\"Female\",\"Non-binary\",\"Non-binary\",\"Male\",\"Female\",\"Non-binary\",\"Female\",\"Male\",\"Female\",\"Female\",\"Non-binary\",\"Male\",\"Non-binary\",\"Male\",\"Male\",\"Male\",\"Female\",\"Non-binary\",\"Non-binary\",\"Male\",\"Female\",\"Non-binary\",\"Female\",\"Male\",\"Female\",\"Female\",\"Non-binary\",\"Male\",\"Non-binary\",\"Male\",\"Male\",\"Male\",\"Female\",\"Non-binary\",\"Non-binary\",\"Male\",\"Female\",\"Non-binary\",\"Female\",\"Male\",\"Female\",\"Female\",\"Non-binary\",\"Male\",\"Non-binary\",\"Male\",\"Male\",\"Male\",\"Female\",\"Non-binary\",\"Non-binary\",\"Male\",\"Female\",\"Non-binary\",\"Female\",\"Male\",\"Female\",\"Unknown\",\"Unknown\",\"Unknown\",\"Unknown\",\"Unknown\",\"Unknown\",\"Unknown\",\"Female\",\"Non-binary\",\"Non-binary\",\"Male\",\"Female\",\"Non-binary\",\"Female\",\"Male\",\"Female\",\"Female\",\"Non-binary\",\"Male\",\"Non-binary\",\"Male\",\"Male\",\"Male\",\"Female\",\"Non-binary\",\"Non-binary\",\"Male\",\"Female\",\"Non-binary\",\"Female\",\"Male\",\"Female\",\"Female\",\"Non-binary\",\"Male\",\"Non-binary\",\"Male\",\"Male\",\"Male\",\"Female\"],\"xaxis\":\"x\",\"yaxis\":\"y\",\"type\":\"histogram\"}],                        {\"template\":{\"data\":{\"histogram2dcontour\":[{\"type\":\"histogram2dcontour\",\"colorbar\":{\"outlinewidth\":0,\"ticks\":\"\"},\"colorscale\":[[0.0,\"#0d0887\"],[0.1111111111111111,\"#46039f\"],[0.2222222222222222,\"#7201a8\"],[0.3333333333333333,\"#9c179e\"],[0.4444444444444444,\"#bd3786\"],[0.5555555555555556,\"#d8576b\"],[0.6666666666666666,\"#ed7953\"],[0.7777777777777778,\"#fb9f3a\"],[0.8888888888888888,\"#fdca26\"],[1.0,\"#f0f921\"]]}],\"choropleth\":[{\"type\":\"choropleth\",\"colorbar\":{\"outlinewidth\":0,\"ticks\":\"\"}}],\"histogram2d\":[{\"type\":\"histogram2d\",\"colorbar\":{\"outlinewidth\":0,\"ticks\":\"\"},\"colorscale\":[[0.0,\"#0d0887\"],[0.1111111111111111,\"#46039f\"],[0.2222222222222222,\"#7201a8\"],[0.3333333333333333,\"#9c179e\"],[0.4444444444444444,\"#bd3786\"],[0.5555555555555556,\"#d8576b\"],[0.6666666666666666,\"#ed7953\"],[0.7777777777777778,\"#fb9f3a\"],[0.8888888888888888,\"#fdca26\"],[1.0,\"#f0f921\"]]}],\"heatmap\":[{\"type\":\"heatmap\",\"colorbar\":{\"outlinewidth\":0,\"ticks\":\"\"},\"colorscale\":[[0.0,\"#0d0887\"],[0.1111111111111111,\"#46039f\"],[0.2222222222222222,\"#7201a8\"],[0.3333333333333333,\"#9c179e\"],[0.4444444444444444,\"#bd3786\"],[0.5555555555555556,\"#d8576b\"],[0.6666666666666666,\"#ed7953\"],[0.7777777777777778,\"#fb9f3a\"],[0.8888888888888888,\"#fdca26\"],[1.0,\"#f0f921\"]]}],\"heatmapgl\":[{\"type\":\"heatmapgl\",\"colorbar\":{\"outlinewidth\":0,\"ticks\":\"\"},\"colorscale\":[[0.0,\"#0d0887\"],[0.1111111111111111,\"#46039f\"],[0.2222222222222222,\"#7201a8\"],[0.3333333333333333,\"#9c179e\"],[0.4444444444444444,\"#bd3786\"],[0.5555555555555556,\"#d8576b\"],[0.6666666666666666,\"#ed7953\"],[0.7777777777777778,\"#fb9f3a\"],[0.8888888888888888,\"#fdca26\"],[1.0,\"#f0f921\"]]}],\"contourcarpet\":[{\"type\":\"contourcarpet\",\"colorbar\":{\"outlinewidth\":0,\"ticks\":\"\"}}],\"contour\":[{\"type\":\"contour\",\"colorbar\":{\"outlinewidth\":0,\"ticks\":\"\"},\"colorscale\":[[0.0,\"#0d0887\"],[0.1111111111111111,\"#46039f\"],[0.2222222222222222,\"#7201a8\"],[0.3333333333333333,\"#9c179e\"],[0.4444444444444444,\"#bd3786\"],[0.5555555555555556,\"#d8576b\"],[0.6666666666666666,\"#ed7953\"],[0.7777777777777778,\"#fb9f3a\"],[0.8888888888888888,\"#fdca26\"],[1.0,\"#f0f921\"]]}],\"surface\":[{\"type\":\"surface\",\"colorbar\":{\"outlinewidth\":0,\"ticks\":\"\"},\"colorscale\":[[0.0,\"#0d0887\"],[0.1111111111111111,\"#46039f\"],[0.2222222222222222,\"#7201a8\"],[0.3333333333333333,\"#9c179e\"],[0.4444444444444444,\"#bd3786\"],[0.5555555555555556,\"#d8576b\"],[0.6666666666666666,\"#ed7953\"],[0.7777777777777778,\"#fb9f3a\"],[0.8888888888888888,\"#fdca26\"],[1.0,\"#f0f921\"]]}],\"mesh3d\":[{\"type\":\"mesh3d\",\"colorbar\":{\"outlinewidth\":0,\"ticks\":\"\"}}],\"scatter\":[{\"fillpattern\":{\"fillmode\":\"overlay\",\"size\":10,\"solidity\":0.2},\"type\":\"scatter\"}],\"parcoords\":[{\"type\":\"parcoords\",\"line\":{\"colorbar\":{\"outlinewidth\":0,\"ticks\":\"\"}}}],\"scatterpolargl\":[{\"type\":\"scatterpolargl\",\"marker\":{\"colorbar\":{\"outlinewidth\":0,\"ticks\":\"\"}}}],\"bar\":[{\"error_x\":{\"color\":\"#2a3f5f\"},\"error_y\":{\"color\":\"#2a3f5f\"},\"marker\":{\"line\":{\"color\":\"#E5ECF6\",\"width\":0.5},\"pattern\":{\"fillmode\":\"overlay\",\"size\":10,\"solidity\":0.2}},\"type\":\"bar\"}],\"scattergeo\":[{\"type\":\"scattergeo\",\"marker\":{\"colorbar\":{\"outlinewidth\":0,\"ticks\":\"\"}}}],\"scatterpolar\":[{\"type\":\"scatterpolar\",\"marker\":{\"colorbar\":{\"outlinewidth\":0,\"ticks\":\"\"}}}],\"histogram\":[{\"marker\":{\"pattern\":{\"fillmode\":\"overlay\",\"size\":10,\"solidity\":0.2}},\"type\":\"histogram\"}],\"scattergl\":[{\"type\":\"scattergl\",\"marker\":{\"colorbar\":{\"outlinewidth\":0,\"ticks\":\"\"}}}],\"scatter3d\":[{\"type\":\"scatter3d\",\"line\":{\"colorbar\":{\"outlinewidth\":0,\"ticks\":\"\"}},\"marker\":{\"colorbar\":{\"outlinewidth\":0,\"ticks\":\"\"}}}],\"scattermapbox\":[{\"type\":\"scattermapbox\",\"marker\":{\"colorbar\":{\"outlinewidth\":0,\"ticks\":\"\"}}}],\"scatterternary\":[{\"type\":\"scatterternary\",\"marker\":{\"colorbar\":{\"outlinewidth\":0,\"ticks\":\"\"}}}],\"scattercarpet\":[{\"type\":\"scattercarpet\",\"marker\":{\"colorbar\":{\"outlinewidth\":0,\"ticks\":\"\"}}}],\"carpet\":[{\"aaxis\":{\"endlinecolor\":\"#2a3f5f\",\"gridcolor\":\"white\",\"linecolor\":\"white\",\"minorgridcolor\":\"white\",\"startlinecolor\":\"#2a3f5f\"},\"baxis\":{\"endlinecolor\":\"#2a3f5f\",\"gridcolor\":\"white\",\"linecolor\":\"white\",\"minorgridcolor\":\"white\",\"startlinecolor\":\"#2a3f5f\"},\"type\":\"carpet\"}],\"table\":[{\"cells\":{\"fill\":{\"color\":\"#EBF0F8\"},\"line\":{\"color\":\"white\"}},\"header\":{\"fill\":{\"color\":\"#C8D4E3\"},\"line\":{\"color\":\"white\"}},\"type\":\"table\"}],\"barpolar\":[{\"marker\":{\"line\":{\"color\":\"#E5ECF6\",\"width\":0.5},\"pattern\":{\"fillmode\":\"overlay\",\"size\":10,\"solidity\":0.2}},\"type\":\"barpolar\"}],\"pie\":[{\"automargin\":true,\"type\":\"pie\"}]},\"layout\":{\"autotypenumbers\":\"strict\",\"colorway\":[\"#636efa\",\"#EF553B\",\"#00cc96\",\"#ab63fa\",\"#FFA15A\",\"#19d3f3\",\"#FF6692\",\"#B6E880\",\"#FF97FF\",\"#FECB52\"],\"font\":{\"color\":\"#2a3f5f\"},\"hovermode\":\"closest\",\"hoverlabel\":{\"align\":\"left\"},\"paper_bgcolor\":\"white\",\"plot_bgcolor\":\"#E5ECF6\",\"polar\":{\"bgcolor\":\"#E5ECF6\",\"angularaxis\":{\"gridcolor\":\"white\",\"linecolor\":\"white\",\"ticks\":\"\"},\"radialaxis\":{\"gridcolor\":\"white\",\"linecolor\":\"white\",\"ticks\":\"\"}},\"ternary\":{\"bgcolor\":\"#E5ECF6\",\"aaxis\":{\"gridcolor\":\"white\",\"linecolor\":\"white\",\"ticks\":\"\"},\"baxis\":{\"gridcolor\":\"white\",\"linecolor\":\"white\",\"ticks\":\"\"},\"caxis\":{\"gridcolor\":\"white\",\"linecolor\":\"white\",\"ticks\":\"\"}},\"coloraxis\":{\"colorbar\":{\"outlinewidth\":0,\"ticks\":\"\"}},\"colorscale\":{\"sequential\":[[0.0,\"#0d0887\"],[0.1111111111111111,\"#46039f\"],[0.2222222222222222,\"#7201a8\"],[0.3333333333333333,\"#9c179e\"],[0.4444444444444444,\"#bd3786\"],[0.5555555555555556,\"#d8576b\"],[0.6666666666666666,\"#ed7953\"],[0.7777777777777778,\"#fb9f3a\"],[0.8888888888888888,\"#fdca26\"],[1.0,\"#f0f921\"]],\"sequentialminus\":[[0.0,\"#0d0887\"],[0.1111111111111111,\"#46039f\"],[0.2222222222222222,\"#7201a8\"],[0.3333333333333333,\"#9c179e\"],[0.4444444444444444,\"#bd3786\"],[0.5555555555555556,\"#d8576b\"],[0.6666666666666666,\"#ed7953\"],[0.7777777777777778,\"#fb9f3a\"],[0.8888888888888888,\"#fdca26\"],[1.0,\"#f0f921\"]],\"diverging\":[[0,\"#8e0152\"],[0.1,\"#c51b7d\"],[0.2,\"#de77ae\"],[0.3,\"#f1b6da\"],[0.4,\"#fde0ef\"],[0.5,\"#f7f7f7\"],[0.6,\"#e6f5d0\"],[0.7,\"#b8e186\"],[0.8,\"#7fbc41\"],[0.9,\"#4d9221\"],[1,\"#276419\"]]},\"xaxis\":{\"gridcolor\":\"white\",\"linecolor\":\"white\",\"ticks\":\"\",\"title\":{\"standoff\":15},\"zerolinecolor\":\"white\",\"automargin\":true,\"zerolinewidth\":2},\"yaxis\":{\"gridcolor\":\"white\",\"linecolor\":\"white\",\"ticks\":\"\",\"title\":{\"standoff\":15},\"zerolinecolor\":\"white\",\"automargin\":true,\"zerolinewidth\":2},\"scene\":{\"xaxis\":{\"backgroundcolor\":\"#E5ECF6\",\"gridcolor\":\"white\",\"linecolor\":\"white\",\"showbackground\":true,\"ticks\":\"\",\"zerolinecolor\":\"white\",\"gridwidth\":2},\"yaxis\":{\"backgroundcolor\":\"#E5ECF6\",\"gridcolor\":\"white\",\"linecolor\":\"white\",\"showbackground\":true,\"ticks\":\"\",\"zerolinecolor\":\"white\",\"gridwidth\":2},\"zaxis\":{\"backgroundcolor\":\"#E5ECF6\",\"gridcolor\":\"white\",\"linecolor\":\"white\",\"showbackground\":true,\"ticks\":\"\",\"zerolinecolor\":\"white\",\"gridwidth\":2}},\"shapedefaults\":{\"line\":{\"color\":\"#2a3f5f\"}},\"annotationdefaults\":{\"arrowcolor\":\"#2a3f5f\",\"arrowhead\":0,\"arrowwidth\":1},\"geo\":{\"bgcolor\":\"white\",\"landcolor\":\"#E5ECF6\",\"subunitcolor\":\"white\",\"showland\":true,\"showlakes\":true,\"lakecolor\":\"white\"},\"title\":{\"x\":0.05},\"mapbox\":{\"style\":\"light\"}}},\"xaxis\":{\"anchor\":\"y\",\"domain\":[0.0,1.0],\"title\":{\"text\":\"Gender\"}},\"yaxis\":{\"anchor\":\"x\",\"domain\":[0.0,1.0],\"title\":{\"text\":\"count\"}},\"legend\":{\"title\":{\"text\":\"Dominant_Emotion\"},\"tracegroupgap\":0},\"title\":{\"text\":\"Dominant Emotion by Gender\"},\"barmode\":\"relative\"},                        {\"responsive\": true}                    ).then(function(){\n",
       "                            \n",
       "var gd = document.getElementById('07ee7759-1053-4b25-866a-135a32d6e16e');\n",
       "var x = new MutationObserver(function (mutations, observer) {{\n",
       "        var display = window.getComputedStyle(gd).display;\n",
       "        if (!display || display === 'none') {{\n",
       "            console.log([gd, 'removed!']);\n",
       "            Plotly.purge(gd);\n",
       "            observer.disconnect();\n",
       "        }}\n",
       "}});\n",
       "\n",
       "// Listen for the removal of the full notebook cells\n",
       "var notebookContainer = gd.closest('#notebook-container');\n",
       "if (notebookContainer) {{\n",
       "    x.observe(notebookContainer, {childList: true});\n",
       "}}\n",
       "\n",
       "// Listen for the clearing of the current output cell\n",
       "var outputEl = gd.closest('.output');\n",
       "if (outputEl) {{\n",
       "    x.observe(outputEl, {childList: true});\n",
       "}}\n",
       "\n",
       "                        })                };                });            </script>        </div>"
      ]
     },
     "metadata": {},
     "output_type": "display_data"
    }
   ],
   "source": [
    "# ploting\n",
    "plt = px.histogram(train_df, x='Gender', color='Dominant_Emotion', title='Dominant Emotion by Gender')\n",
    "plt.show()"
   ]
  },
  {
   "cell_type": "markdown",
   "id": "5c7b0a4f",
   "metadata": {
    "papermill": {
     "duration": 0.039202,
     "end_time": "2024-05-23T11:22:54.693589",
     "exception": false,
     "start_time": "2024-05-23T11:22:54.654387",
     "status": "completed"
    },
    "tags": []
   },
   "source": [
    "### Platform VS Emotions"
   ]
  },
  {
   "cell_type": "code",
   "execution_count": 51,
   "id": "be261ed9",
   "metadata": {
    "execution": {
     "iopub.execute_input": "2024-05-23T11:22:54.775044Z",
     "iopub.status.busy": "2024-05-23T11:22:54.774251Z",
     "iopub.status.idle": "2024-05-23T11:22:54.784144Z",
     "shell.execute_reply": "2024-05-23T11:22:54.783041Z"
    },
    "papermill": {
     "duration": 0.053549,
     "end_time": "2024-05-23T11:22:54.786709",
     "exception": false,
     "start_time": "2024-05-23T11:22:54.733160",
     "status": "completed"
    },
    "tags": []
   },
   "outputs": [
    {
     "name": "stdout",
     "output_type": "stream",
     "text": [
      "Platform   Dominant_Emotion\n",
      "Facebook   Anxiety              50\n",
      "           Boredom              40\n",
      "           Neutral              70\n",
      "           Sadness              30\n",
      "Instagram  Anger                10\n",
      "           Anxiety              30\n",
      "           Happiness           171\n",
      "           Neutral              20\n",
      "           Sadness              20\n",
      "LinkedIn   Anxiety              20\n",
      "           Boredom              70\n",
      "           Neutral              20\n",
      "           Sadness              10\n",
      "Snapchat   Anxiety              20\n",
      "           Happiness            10\n",
      "           Neutral              20\n",
      "           Sadness              30\n",
      "Telegram   Anger                10\n",
      "           Anxiety              10\n",
      "           Boredom              10\n",
      "           Neutral              30\n",
      "           Sadness              20\n",
      "Twitter    Anger                80\n",
      "           Anxiety              20\n",
      "           Boredom              20\n",
      "           Happiness            10\n",
      "           Neutral              20\n",
      "           Sadness              50\n",
      "Whatsapp   Anger                30\n",
      "           Anxiety              20\n",
      "           Happiness            10\n",
      "           Neutral              20\n",
      "dtype: int64\n"
     ]
    }
   ],
   "source": [
    "# checking the Platformagainest the Dominant_Emotion\n",
    "grouped = train_df.groupby(['Platform', 'Dominant_Emotion'])\n",
    "\n",
    "# count the number of rows in each group\n",
    "counts = grouped.size()\n",
    "\n",
    "# print the counts\n",
    "print(counts)"
   ]
  },
  {
   "cell_type": "code",
   "execution_count": 52,
   "id": "94d10387",
   "metadata": {
    "execution": {
     "iopub.execute_input": "2024-05-23T11:22:54.868796Z",
     "iopub.status.busy": "2024-05-23T11:22:54.868005Z",
     "iopub.status.idle": "2024-05-23T11:22:54.968341Z",
     "shell.execute_reply": "2024-05-23T11:22:54.967178Z"
    },
    "papermill": {
     "duration": 0.144542,
     "end_time": "2024-05-23T11:22:54.971036",
     "exception": false,
     "start_time": "2024-05-23T11:22:54.826494",
     "status": "completed"
    },
    "tags": []
   },
   "outputs": [
    {
     "data": {
      "text/html": [
       "<div>                            <div id=\"8cda35f3-daec-42b3-9de6-bffa13945c18\" class=\"plotly-graph-div\" style=\"height:525px; width:100%;\"></div>            <script type=\"text/javascript\">                require([\"plotly\"], function(Plotly) {                    window.PLOTLYENV=window.PLOTLYENV || {};                                    if (document.getElementById(\"8cda35f3-daec-42b3-9de6-bffa13945c18\")) {                    Plotly.newPlot(                        \"8cda35f3-daec-42b3-9de6-bffa13945c18\",                        [{\"alignmentgroup\":\"True\",\"bingroup\":\"x\",\"hovertemplate\":\"Dominant_Emotion=Happiness\\u003cbr\\u003ePlatform=%{x}\\u003cbr\\u003ecount=%{y}\\u003cextra\\u003e\\u003c\\u002fextra\\u003e\",\"legendgroup\":\"Happiness\",\"marker\":{\"color\":\"#636efa\",\"pattern\":{\"shape\":\"\"}},\"name\":\"Happiness\",\"offsetgroup\":\"Happiness\",\"orientation\":\"v\",\"showlegend\":true,\"x\":[\"Instagram\",\"Instagram\",\"Instagram\",\"Instagram\",\"Instagram\",\"Instagram\",\"Instagram\",\"Instagram\",\"Instagram\",\"Instagram\",\"Instagram\",\"Instagram\",\"Twitter\",\"Instagram\",\"Instagram\",\"Instagram\",\"Instagram\",\"Snapchat\",\"Instagram\",\"Whatsapp\",\"Instagram\",\"Instagram\",\"Instagram\",\"Instagram\",\"Instagram\",\"Instagram\",\"Instagram\",\"Instagram\",\"Instagram\",\"Instagram\",\"Instagram\",\"Instagram\",\"Twitter\",\"Instagram\",\"Instagram\",\"Instagram\",\"Instagram\",\"Snapchat\",\"Instagram\",\"Whatsapp\",\"Instagram\",\"Instagram\",\"Instagram\",\"Instagram\",\"Instagram\",\"Instagram\",\"Instagram\",\"Instagram\",\"Instagram\",\"Instagram\",\"Instagram\",\"Instagram\",\"Twitter\",\"Instagram\",\"Instagram\",\"Instagram\",\"Instagram\",\"Snapchat\",\"Instagram\",\"Whatsapp\",\"Instagram\",\"Instagram\",\"Instagram\",\"Instagram\",\"Instagram\",\"Instagram\",\"Instagram\",\"Instagram\",\"Instagram\",\"Instagram\",\"Instagram\",\"Instagram\",\"Twitter\",\"Instagram\",\"Instagram\",\"Instagram\",\"Instagram\",\"Snapchat\",\"Instagram\",\"Whatsapp\",\"Instagram\",\"Instagram\",\"Instagram\",\"Instagram\",\"Instagram\",\"Instagram\",\"Instagram\",\"Instagram\",\"Instagram\",\"Instagram\",\"Instagram\",\"Instagram\",\"Twitter\",\"Instagram\",\"Instagram\",\"Instagram\",\"Instagram\",\"Snapchat\",\"Instagram\",\"Whatsapp\",\"Instagram\",\"Instagram\",\"Instagram\",\"Instagram\",\"Instagram\",\"Instagram\",\"Instagram\",\"Instagram\",\"Instagram\",\"Instagram\",\"Instagram\",\"Instagram\",\"Twitter\",\"Instagram\",\"Instagram\",\"Instagram\",\"Instagram\",\"Snapchat\",\"Instagram\",\"Whatsapp\",\"Instagram\",\"Instagram\",\"Instagram\",\"Instagram\",\"Instagram\",\"Instagram\",\"Instagram\",\"Instagram\",\"Instagram\",\"Instagram\",\"Instagram\",\"Instagram\",\"Instagram\",\"Twitter\",\"Instagram\",\"Instagram\",\"Instagram\",\"Instagram\",\"Snapchat\",\"Instagram\",\"Whatsapp\",\"Instagram\",\"Instagram\",\"Instagram\",\"Instagram\",\"Instagram\",\"Instagram\",\"Instagram\",\"Instagram\",\"Instagram\",\"Instagram\",\"Instagram\",\"Instagram\",\"Twitter\",\"Instagram\",\"Instagram\",\"Instagram\",\"Instagram\",\"Snapchat\",\"Instagram\",\"Whatsapp\",\"Instagram\",\"Instagram\",\"Instagram\",\"Instagram\",\"Instagram\",\"Instagram\",\"Instagram\",\"Instagram\",\"Instagram\",\"Instagram\",\"Instagram\",\"Instagram\",\"Twitter\",\"Instagram\",\"Instagram\",\"Instagram\",\"Instagram\",\"Snapchat\",\"Instagram\",\"Whatsapp\",\"Instagram\",\"Instagram\",\"Instagram\",\"Instagram\",\"Instagram\",\"Instagram\",\"Instagram\",\"Instagram\",\"Instagram\",\"Instagram\",\"Instagram\",\"Instagram\",\"Twitter\",\"Instagram\",\"Instagram\",\"Instagram\",\"Instagram\",\"Snapchat\",\"Instagram\",\"Whatsapp\"],\"xaxis\":\"x\",\"yaxis\":\"y\",\"type\":\"histogram\"},{\"alignmentgroup\":\"True\",\"bingroup\":\"x\",\"hovertemplate\":\"Dominant_Emotion=Anger\\u003cbr\\u003ePlatform=%{x}\\u003cbr\\u003ecount=%{y}\\u003cextra\\u003e\\u003c\\u002fextra\\u003e\",\"legendgroup\":\"Anger\",\"marker\":{\"color\":\"#EF553B\",\"pattern\":{\"shape\":\"\"}},\"name\":\"Anger\",\"offsetgroup\":\"Anger\",\"orientation\":\"v\",\"showlegend\":true,\"x\":[\"Twitter\",\"Twitter\",\"Twitter\",\"Twitter\",\"Twitter\",\"Twitter\",\"Twitter\",\"Twitter\",\"Whatsapp\",\"Whatsapp\",\"Instagram\",\"Whatsapp\",\"Telegram\",\"Twitter\",\"Twitter\",\"Twitter\",\"Twitter\",\"Twitter\",\"Twitter\",\"Twitter\",\"Twitter\",\"Whatsapp\",\"Whatsapp\",\"Instagram\",\"Whatsapp\",\"Telegram\",\"Twitter\",\"Twitter\",\"Twitter\",\"Twitter\",\"Twitter\",\"Twitter\",\"Twitter\",\"Twitter\",\"Whatsapp\",\"Whatsapp\",\"Instagram\",\"Whatsapp\",\"Telegram\",\"Twitter\",\"Twitter\",\"Twitter\",\"Twitter\",\"Twitter\",\"Twitter\",\"Twitter\",\"Twitter\",\"Whatsapp\",\"Whatsapp\",\"Instagram\",\"Whatsapp\",\"Telegram\",\"Twitter\",\"Twitter\",\"Twitter\",\"Twitter\",\"Twitter\",\"Twitter\",\"Twitter\",\"Twitter\",\"Whatsapp\",\"Whatsapp\",\"Instagram\",\"Whatsapp\",\"Telegram\",\"Twitter\",\"Twitter\",\"Twitter\",\"Twitter\",\"Twitter\",\"Twitter\",\"Twitter\",\"Twitter\",\"Whatsapp\",\"Whatsapp\",\"Instagram\",\"Whatsapp\",\"Telegram\",\"Twitter\",\"Twitter\",\"Twitter\",\"Twitter\",\"Twitter\",\"Twitter\",\"Twitter\",\"Twitter\",\"Whatsapp\",\"Whatsapp\",\"Instagram\",\"Whatsapp\",\"Telegram\",\"Twitter\",\"Twitter\",\"Twitter\",\"Twitter\",\"Twitter\",\"Twitter\",\"Twitter\",\"Twitter\",\"Whatsapp\",\"Whatsapp\",\"Instagram\",\"Whatsapp\",\"Telegram\",\"Twitter\",\"Twitter\",\"Twitter\",\"Twitter\",\"Twitter\",\"Twitter\",\"Twitter\",\"Twitter\",\"Whatsapp\",\"Whatsapp\",\"Instagram\",\"Whatsapp\",\"Telegram\",\"Twitter\",\"Twitter\",\"Twitter\",\"Twitter\",\"Twitter\",\"Twitter\",\"Twitter\",\"Twitter\",\"Whatsapp\",\"Whatsapp\",\"Instagram\",\"Whatsapp\",\"Telegram\"],\"xaxis\":\"x\",\"yaxis\":\"y\",\"type\":\"histogram\"},{\"alignmentgroup\":\"True\",\"bingroup\":\"x\",\"hovertemplate\":\"Dominant_Emotion=Neutral\\u003cbr\\u003ePlatform=%{x}\\u003cbr\\u003ecount=%{y}\\u003cextra\\u003e\\u003c\\u002fextra\\u003e\",\"legendgroup\":\"Neutral\",\"marker\":{\"color\":\"#00cc96\",\"pattern\":{\"shape\":\"\"}},\"name\":\"Neutral\",\"offsetgroup\":\"Neutral\",\"orientation\":\"v\",\"showlegend\":true,\"x\":[\"Facebook\",\"LinkedIn\",\"Facebook\",\"LinkedIn\",\"Facebook\",\"Twitter\",\"Instagram\",\"Facebook\",\"Instagram\",\"Facebook\",\"Telegram\",\"Whatsapp\",\"Facebook\",\"Telegram\",\"Whatsapp\",\"Twitter\",\"Snapchat\",\"Telegram\",\"Facebook\",\"Snapchat\",\"Facebook\",\"LinkedIn\",\"Facebook\",\"LinkedIn\",\"Facebook\",\"Twitter\",\"Instagram\",\"Facebook\",\"Instagram\",\"Facebook\",\"Telegram\",\"Whatsapp\",\"Facebook\",\"Telegram\",\"Whatsapp\",\"Twitter\",\"Snapchat\",\"Telegram\",\"Facebook\",\"Snapchat\",\"Facebook\",\"LinkedIn\",\"Facebook\",\"LinkedIn\",\"Facebook\",\"Twitter\",\"Instagram\",\"Facebook\",\"Instagram\",\"Facebook\",\"Telegram\",\"Whatsapp\",\"Facebook\",\"Telegram\",\"Whatsapp\",\"Twitter\",\"Snapchat\",\"Telegram\",\"Facebook\",\"Snapchat\",\"Facebook\",\"LinkedIn\",\"Facebook\",\"LinkedIn\",\"Facebook\",\"Twitter\",\"Instagram\",\"Facebook\",\"Instagram\",\"Facebook\",\"Telegram\",\"Whatsapp\",\"Facebook\",\"Telegram\",\"Whatsapp\",\"Twitter\",\"Snapchat\",\"Telegram\",\"Facebook\",\"Snapchat\",\"Facebook\",\"LinkedIn\",\"Facebook\",\"LinkedIn\",\"Facebook\",\"Twitter\",\"Instagram\",\"Facebook\",\"Instagram\",\"Facebook\",\"Telegram\",\"Whatsapp\",\"Facebook\",\"Telegram\",\"Whatsapp\",\"Twitter\",\"Snapchat\",\"Telegram\",\"Facebook\",\"Snapchat\",\"Facebook\",\"LinkedIn\",\"Facebook\",\"LinkedIn\",\"Facebook\",\"Twitter\",\"Instagram\",\"Facebook\",\"Instagram\",\"Facebook\",\"Telegram\",\"Whatsapp\",\"Facebook\",\"Telegram\",\"Whatsapp\",\"Twitter\",\"Snapchat\",\"Telegram\",\"Facebook\",\"Snapchat\",\"Facebook\",\"LinkedIn\",\"Facebook\",\"LinkedIn\",\"Facebook\",\"Twitter\",\"Instagram\",\"Facebook\",\"Instagram\",\"Facebook\",\"Telegram\",\"Whatsapp\",\"Facebook\",\"Telegram\",\"Whatsapp\",\"Twitter\",\"Snapchat\",\"Telegram\",\"Facebook\",\"Snapchat\",\"Facebook\",\"LinkedIn\",\"Facebook\",\"LinkedIn\",\"Facebook\",\"Twitter\",\"Instagram\",\"Facebook\",\"Instagram\",\"Facebook\",\"Telegram\",\"Whatsapp\",\"Facebook\",\"Telegram\",\"Whatsapp\",\"Twitter\",\"Snapchat\",\"Telegram\",\"Facebook\",\"Snapchat\",\"Facebook\",\"LinkedIn\",\"Facebook\",\"LinkedIn\",\"Facebook\",\"Twitter\",\"Instagram\",\"Facebook\",\"Instagram\",\"Facebook\",\"Telegram\",\"Whatsapp\",\"Facebook\",\"Telegram\",\"Whatsapp\",\"Twitter\",\"Snapchat\",\"Telegram\",\"Facebook\",\"Snapchat\",\"Facebook\",\"LinkedIn\",\"Facebook\",\"LinkedIn\",\"Facebook\",\"Twitter\",\"Instagram\",\"Facebook\",\"Instagram\",\"Facebook\",\"Telegram\",\"Whatsapp\",\"Facebook\",\"Telegram\",\"Whatsapp\",\"Twitter\",\"Snapchat\",\"Telegram\",\"Facebook\",\"Snapchat\"],\"xaxis\":\"x\",\"yaxis\":\"y\",\"type\":\"histogram\"},{\"alignmentgroup\":\"True\",\"bingroup\":\"x\",\"hovertemplate\":\"Dominant_Emotion=Anxiety\\u003cbr\\u003ePlatform=%{x}\\u003cbr\\u003ecount=%{y}\\u003cextra\\u003e\\u003c\\u002fextra\\u003e\",\"legendgroup\":\"Anxiety\",\"marker\":{\"color\":\"#ab63fa\",\"pattern\":{\"shape\":\"\"}},\"name\":\"Anxiety\",\"offsetgroup\":\"Anxiety\",\"orientation\":\"v\",\"showlegend\":true,\"x\":[\"Instagram\",\"Twitter\",\"Instagram\",\"Facebook\",\"LinkedIn\",\"Facebook\",\"Facebook\",\"Facebook\",\"LinkedIn\",\"Whatsapp\",\"Snapchat\",\"Telegram\",\"Snapchat\",\"Facebook\",\"Whatsapp\",\"Twitter\",\"Instagram\",\"Instagram\",\"Twitter\",\"Instagram\",\"Facebook\",\"LinkedIn\",\"Facebook\",\"Facebook\",\"Facebook\",\"LinkedIn\",\"Whatsapp\",\"Snapchat\",\"Telegram\",\"Snapchat\",\"Facebook\",\"Whatsapp\",\"Twitter\",\"Instagram\",\"Instagram\",\"Twitter\",\"Instagram\",\"Facebook\",\"LinkedIn\",\"Facebook\",\"Facebook\",\"Facebook\",\"LinkedIn\",\"Whatsapp\",\"Snapchat\",\"Telegram\",\"Snapchat\",\"Facebook\",\"Whatsapp\",\"Twitter\",\"Instagram\",\"Instagram\",\"Twitter\",\"Instagram\",\"Facebook\",\"LinkedIn\",\"Facebook\",\"Facebook\",\"Facebook\",\"LinkedIn\",\"Whatsapp\",\"Snapchat\",\"Telegram\",\"Snapchat\",\"Facebook\",\"Whatsapp\",\"Twitter\",\"Instagram\",\"Instagram\",\"Twitter\",\"Instagram\",\"Facebook\",\"LinkedIn\",\"Facebook\",\"Facebook\",\"Facebook\",\"LinkedIn\",\"Whatsapp\",\"Snapchat\",\"Telegram\",\"Snapchat\",\"Facebook\",\"Whatsapp\",\"Twitter\",\"Instagram\",\"Instagram\",\"Twitter\",\"Instagram\",\"Facebook\",\"LinkedIn\",\"Facebook\",\"Facebook\",\"Facebook\",\"LinkedIn\",\"Whatsapp\",\"Snapchat\",\"Telegram\",\"Snapchat\",\"Facebook\",\"Whatsapp\",\"Twitter\",\"Instagram\",\"Instagram\",\"Twitter\",\"Instagram\",\"Facebook\",\"LinkedIn\",\"Facebook\",\"Facebook\",\"Facebook\",\"LinkedIn\",\"Whatsapp\",\"Snapchat\",\"Telegram\",\"Snapchat\",\"Facebook\",\"Whatsapp\",\"Twitter\",\"Instagram\",\"Instagram\",\"Twitter\",\"Instagram\",\"Facebook\",\"LinkedIn\",\"Facebook\",\"Facebook\",\"Facebook\",\"LinkedIn\",\"Whatsapp\",\"Snapchat\",\"Telegram\",\"Snapchat\",\"Facebook\",\"Whatsapp\",\"Twitter\",\"Instagram\",\"Instagram\",\"Twitter\",\"Instagram\",\"Facebook\",\"LinkedIn\",\"Facebook\",\"Facebook\",\"Facebook\",\"LinkedIn\",\"Whatsapp\",\"Snapchat\",\"Telegram\",\"Snapchat\",\"Facebook\",\"Whatsapp\",\"Twitter\",\"Instagram\",\"Instagram\",\"Twitter\",\"Instagram\",\"Facebook\",\"LinkedIn\",\"Facebook\",\"Facebook\",\"Facebook\",\"LinkedIn\",\"Whatsapp\",\"Snapchat\",\"Telegram\",\"Snapchat\",\"Facebook\",\"Whatsapp\",\"Twitter\",\"Instagram\"],\"xaxis\":\"x\",\"yaxis\":\"y\",\"type\":\"histogram\"},{\"alignmentgroup\":\"True\",\"bingroup\":\"x\",\"hovertemplate\":\"Dominant_Emotion=Boredom\\u003cbr\\u003ePlatform=%{x}\\u003cbr\\u003ecount=%{y}\\u003cextra\\u003e\\u003c\\u002fextra\\u003e\",\"legendgroup\":\"Boredom\",\"marker\":{\"color\":\"#FFA15A\",\"pattern\":{\"shape\":\"\"}},\"name\":\"Boredom\",\"offsetgroup\":\"Boredom\",\"orientation\":\"v\",\"showlegend\":true,\"x\":[\"LinkedIn\",\"LinkedIn\",\"LinkedIn\",\"LinkedIn\",\"LinkedIn\",\"LinkedIn\",\"LinkedIn\",\"Telegram\",\"Facebook\",\"Facebook\",\"Twitter\",\"Facebook\",\"Facebook\",\"Twitter\",\"LinkedIn\",\"LinkedIn\",\"LinkedIn\",\"LinkedIn\",\"LinkedIn\",\"LinkedIn\",\"LinkedIn\",\"Telegram\",\"Facebook\",\"Facebook\",\"Twitter\",\"Facebook\",\"Facebook\",\"Twitter\",\"LinkedIn\",\"LinkedIn\",\"LinkedIn\",\"LinkedIn\",\"LinkedIn\",\"LinkedIn\",\"LinkedIn\",\"Telegram\",\"Facebook\",\"Facebook\",\"Twitter\",\"Facebook\",\"Facebook\",\"Twitter\",\"LinkedIn\",\"LinkedIn\",\"LinkedIn\",\"LinkedIn\",\"LinkedIn\",\"LinkedIn\",\"LinkedIn\",\"Telegram\",\"Facebook\",\"Facebook\",\"Twitter\",\"Facebook\",\"Facebook\",\"Twitter\",\"LinkedIn\",\"LinkedIn\",\"LinkedIn\",\"LinkedIn\",\"LinkedIn\",\"LinkedIn\",\"LinkedIn\",\"Telegram\",\"Facebook\",\"Facebook\",\"Twitter\",\"Facebook\",\"Facebook\",\"Twitter\",\"LinkedIn\",\"LinkedIn\",\"LinkedIn\",\"LinkedIn\",\"LinkedIn\",\"LinkedIn\",\"LinkedIn\",\"Telegram\",\"Facebook\",\"Facebook\",\"Twitter\",\"Facebook\",\"Facebook\",\"Twitter\",\"LinkedIn\",\"LinkedIn\",\"LinkedIn\",\"LinkedIn\",\"LinkedIn\",\"LinkedIn\",\"LinkedIn\",\"Telegram\",\"Facebook\",\"Facebook\",\"Twitter\",\"Facebook\",\"Facebook\",\"Twitter\",\"LinkedIn\",\"LinkedIn\",\"LinkedIn\",\"LinkedIn\",\"LinkedIn\",\"LinkedIn\",\"LinkedIn\",\"Telegram\",\"Facebook\",\"Facebook\",\"Twitter\",\"Facebook\",\"Facebook\",\"Twitter\",\"LinkedIn\",\"LinkedIn\",\"LinkedIn\",\"LinkedIn\",\"LinkedIn\",\"LinkedIn\",\"LinkedIn\",\"Telegram\",\"Facebook\",\"Facebook\",\"Twitter\",\"Facebook\",\"Facebook\",\"Twitter\",\"LinkedIn\",\"LinkedIn\",\"LinkedIn\",\"LinkedIn\",\"LinkedIn\",\"LinkedIn\",\"LinkedIn\",\"Telegram\",\"Facebook\",\"Facebook\",\"Twitter\",\"Facebook\",\"Facebook\",\"Twitter\"],\"xaxis\":\"x\",\"yaxis\":\"y\",\"type\":\"histogram\"},{\"alignmentgroup\":\"True\",\"bingroup\":\"x\",\"hovertemplate\":\"Dominant_Emotion=Sadness\\u003cbr\\u003ePlatform=%{x}\\u003cbr\\u003ecount=%{y}\\u003cextra\\u003e\\u003c\\u002fextra\\u003e\",\"legendgroup\":\"Sadness\",\"marker\":{\"color\":\"#19d3f3\",\"pattern\":{\"shape\":\"\"}},\"name\":\"Sadness\",\"offsetgroup\":\"Sadness\",\"orientation\":\"v\",\"showlegend\":true,\"x\":[\"Facebook\",\"Facebook\",\"Twitter\",\"Twitter\",\"Facebook\",\"Instagram\",\"LinkedIn\",\"Twitter\",\"Instagram\",\"Snapchat\",\"Twitter\",\"Snapchat\",\"Twitter\",\"Telegram\",\"Telegram\",\"Snapchat\",\"Facebook\",\"Facebook\",\"Twitter\",\"Twitter\",\"Facebook\",\"Instagram\",\"LinkedIn\",\"Twitter\",\"Instagram\",\"Snapchat\",\"Twitter\",\"Snapchat\",\"Twitter\",\"Telegram\",\"Telegram\",\"Snapchat\",\"Facebook\",\"Facebook\",\"Twitter\",\"Twitter\",\"Facebook\",\"Instagram\",\"LinkedIn\",\"Twitter\",\"Instagram\",\"Snapchat\",\"Twitter\",\"Snapchat\",\"Twitter\",\"Telegram\",\"Telegram\",\"Snapchat\",\"Facebook\",\"Facebook\",\"Twitter\",\"Twitter\",\"Facebook\",\"Instagram\",\"LinkedIn\",\"Twitter\",\"Instagram\",\"Snapchat\",\"Twitter\",\"Snapchat\",\"Twitter\",\"Telegram\",\"Telegram\",\"Snapchat\",\"Facebook\",\"Facebook\",\"Twitter\",\"Twitter\",\"Facebook\",\"Instagram\",\"LinkedIn\",\"Twitter\",\"Instagram\",\"Snapchat\",\"Twitter\",\"Snapchat\",\"Twitter\",\"Telegram\",\"Telegram\",\"Snapchat\",\"Facebook\",\"Facebook\",\"Twitter\",\"Twitter\",\"Facebook\",\"Instagram\",\"LinkedIn\",\"Twitter\",\"Instagram\",\"Snapchat\",\"Twitter\",\"Snapchat\",\"Twitter\",\"Telegram\",\"Telegram\",\"Snapchat\",\"Facebook\",\"Facebook\",\"Twitter\",\"Twitter\",\"Facebook\",\"Instagram\",\"LinkedIn\",\"Twitter\",\"Instagram\",\"Snapchat\",\"Twitter\",\"Snapchat\",\"Twitter\",\"Telegram\",\"Telegram\",\"Snapchat\",\"Facebook\",\"Facebook\",\"Twitter\",\"Twitter\",\"Facebook\",\"Instagram\",\"LinkedIn\",\"Twitter\",\"Instagram\",\"Snapchat\",\"Twitter\",\"Snapchat\",\"Twitter\",\"Telegram\",\"Telegram\",\"Snapchat\",\"Facebook\",\"Facebook\",\"Twitter\",\"Twitter\",\"Facebook\",\"Instagram\",\"LinkedIn\",\"Twitter\",\"Instagram\",\"Snapchat\",\"Twitter\",\"Snapchat\",\"Twitter\",\"Telegram\",\"Telegram\",\"Snapchat\",\"Facebook\",\"Facebook\",\"Twitter\",\"Twitter\",\"Facebook\",\"Instagram\",\"LinkedIn\",\"Twitter\",\"Instagram\",\"Snapchat\",\"Twitter\",\"Snapchat\",\"Twitter\",\"Telegram\",\"Telegram\",\"Snapchat\"],\"xaxis\":\"x\",\"yaxis\":\"y\",\"type\":\"histogram\"}],                        {\"template\":{\"data\":{\"histogram2dcontour\":[{\"type\":\"histogram2dcontour\",\"colorbar\":{\"outlinewidth\":0,\"ticks\":\"\"},\"colorscale\":[[0.0,\"#0d0887\"],[0.1111111111111111,\"#46039f\"],[0.2222222222222222,\"#7201a8\"],[0.3333333333333333,\"#9c179e\"],[0.4444444444444444,\"#bd3786\"],[0.5555555555555556,\"#d8576b\"],[0.6666666666666666,\"#ed7953\"],[0.7777777777777778,\"#fb9f3a\"],[0.8888888888888888,\"#fdca26\"],[1.0,\"#f0f921\"]]}],\"choropleth\":[{\"type\":\"choropleth\",\"colorbar\":{\"outlinewidth\":0,\"ticks\":\"\"}}],\"histogram2d\":[{\"type\":\"histogram2d\",\"colorbar\":{\"outlinewidth\":0,\"ticks\":\"\"},\"colorscale\":[[0.0,\"#0d0887\"],[0.1111111111111111,\"#46039f\"],[0.2222222222222222,\"#7201a8\"],[0.3333333333333333,\"#9c179e\"],[0.4444444444444444,\"#bd3786\"],[0.5555555555555556,\"#d8576b\"],[0.6666666666666666,\"#ed7953\"],[0.7777777777777778,\"#fb9f3a\"],[0.8888888888888888,\"#fdca26\"],[1.0,\"#f0f921\"]]}],\"heatmap\":[{\"type\":\"heatmap\",\"colorbar\":{\"outlinewidth\":0,\"ticks\":\"\"},\"colorscale\":[[0.0,\"#0d0887\"],[0.1111111111111111,\"#46039f\"],[0.2222222222222222,\"#7201a8\"],[0.3333333333333333,\"#9c179e\"],[0.4444444444444444,\"#bd3786\"],[0.5555555555555556,\"#d8576b\"],[0.6666666666666666,\"#ed7953\"],[0.7777777777777778,\"#fb9f3a\"],[0.8888888888888888,\"#fdca26\"],[1.0,\"#f0f921\"]]}],\"heatmapgl\":[{\"type\":\"heatmapgl\",\"colorbar\":{\"outlinewidth\":0,\"ticks\":\"\"},\"colorscale\":[[0.0,\"#0d0887\"],[0.1111111111111111,\"#46039f\"],[0.2222222222222222,\"#7201a8\"],[0.3333333333333333,\"#9c179e\"],[0.4444444444444444,\"#bd3786\"],[0.5555555555555556,\"#d8576b\"],[0.6666666666666666,\"#ed7953\"],[0.7777777777777778,\"#fb9f3a\"],[0.8888888888888888,\"#fdca26\"],[1.0,\"#f0f921\"]]}],\"contourcarpet\":[{\"type\":\"contourcarpet\",\"colorbar\":{\"outlinewidth\":0,\"ticks\":\"\"}}],\"contour\":[{\"type\":\"contour\",\"colorbar\":{\"outlinewidth\":0,\"ticks\":\"\"},\"colorscale\":[[0.0,\"#0d0887\"],[0.1111111111111111,\"#46039f\"],[0.2222222222222222,\"#7201a8\"],[0.3333333333333333,\"#9c179e\"],[0.4444444444444444,\"#bd3786\"],[0.5555555555555556,\"#d8576b\"],[0.6666666666666666,\"#ed7953\"],[0.7777777777777778,\"#fb9f3a\"],[0.8888888888888888,\"#fdca26\"],[1.0,\"#f0f921\"]]}],\"surface\":[{\"type\":\"surface\",\"colorbar\":{\"outlinewidth\":0,\"ticks\":\"\"},\"colorscale\":[[0.0,\"#0d0887\"],[0.1111111111111111,\"#46039f\"],[0.2222222222222222,\"#7201a8\"],[0.3333333333333333,\"#9c179e\"],[0.4444444444444444,\"#bd3786\"],[0.5555555555555556,\"#d8576b\"],[0.6666666666666666,\"#ed7953\"],[0.7777777777777778,\"#fb9f3a\"],[0.8888888888888888,\"#fdca26\"],[1.0,\"#f0f921\"]]}],\"mesh3d\":[{\"type\":\"mesh3d\",\"colorbar\":{\"outlinewidth\":0,\"ticks\":\"\"}}],\"scatter\":[{\"fillpattern\":{\"fillmode\":\"overlay\",\"size\":10,\"solidity\":0.2},\"type\":\"scatter\"}],\"parcoords\":[{\"type\":\"parcoords\",\"line\":{\"colorbar\":{\"outlinewidth\":0,\"ticks\":\"\"}}}],\"scatterpolargl\":[{\"type\":\"scatterpolargl\",\"marker\":{\"colorbar\":{\"outlinewidth\":0,\"ticks\":\"\"}}}],\"bar\":[{\"error_x\":{\"color\":\"#2a3f5f\"},\"error_y\":{\"color\":\"#2a3f5f\"},\"marker\":{\"line\":{\"color\":\"#E5ECF6\",\"width\":0.5},\"pattern\":{\"fillmode\":\"overlay\",\"size\":10,\"solidity\":0.2}},\"type\":\"bar\"}],\"scattergeo\":[{\"type\":\"scattergeo\",\"marker\":{\"colorbar\":{\"outlinewidth\":0,\"ticks\":\"\"}}}],\"scatterpolar\":[{\"type\":\"scatterpolar\",\"marker\":{\"colorbar\":{\"outlinewidth\":0,\"ticks\":\"\"}}}],\"histogram\":[{\"marker\":{\"pattern\":{\"fillmode\":\"overlay\",\"size\":10,\"solidity\":0.2}},\"type\":\"histogram\"}],\"scattergl\":[{\"type\":\"scattergl\",\"marker\":{\"colorbar\":{\"outlinewidth\":0,\"ticks\":\"\"}}}],\"scatter3d\":[{\"type\":\"scatter3d\",\"line\":{\"colorbar\":{\"outlinewidth\":0,\"ticks\":\"\"}},\"marker\":{\"colorbar\":{\"outlinewidth\":0,\"ticks\":\"\"}}}],\"scattermapbox\":[{\"type\":\"scattermapbox\",\"marker\":{\"colorbar\":{\"outlinewidth\":0,\"ticks\":\"\"}}}],\"scatterternary\":[{\"type\":\"scatterternary\",\"marker\":{\"colorbar\":{\"outlinewidth\":0,\"ticks\":\"\"}}}],\"scattercarpet\":[{\"type\":\"scattercarpet\",\"marker\":{\"colorbar\":{\"outlinewidth\":0,\"ticks\":\"\"}}}],\"carpet\":[{\"aaxis\":{\"endlinecolor\":\"#2a3f5f\",\"gridcolor\":\"white\",\"linecolor\":\"white\",\"minorgridcolor\":\"white\",\"startlinecolor\":\"#2a3f5f\"},\"baxis\":{\"endlinecolor\":\"#2a3f5f\",\"gridcolor\":\"white\",\"linecolor\":\"white\",\"minorgridcolor\":\"white\",\"startlinecolor\":\"#2a3f5f\"},\"type\":\"carpet\"}],\"table\":[{\"cells\":{\"fill\":{\"color\":\"#EBF0F8\"},\"line\":{\"color\":\"white\"}},\"header\":{\"fill\":{\"color\":\"#C8D4E3\"},\"line\":{\"color\":\"white\"}},\"type\":\"table\"}],\"barpolar\":[{\"marker\":{\"line\":{\"color\":\"#E5ECF6\",\"width\":0.5},\"pattern\":{\"fillmode\":\"overlay\",\"size\":10,\"solidity\":0.2}},\"type\":\"barpolar\"}],\"pie\":[{\"automargin\":true,\"type\":\"pie\"}]},\"layout\":{\"autotypenumbers\":\"strict\",\"colorway\":[\"#636efa\",\"#EF553B\",\"#00cc96\",\"#ab63fa\",\"#FFA15A\",\"#19d3f3\",\"#FF6692\",\"#B6E880\",\"#FF97FF\",\"#FECB52\"],\"font\":{\"color\":\"#2a3f5f\"},\"hovermode\":\"closest\",\"hoverlabel\":{\"align\":\"left\"},\"paper_bgcolor\":\"white\",\"plot_bgcolor\":\"#E5ECF6\",\"polar\":{\"bgcolor\":\"#E5ECF6\",\"angularaxis\":{\"gridcolor\":\"white\",\"linecolor\":\"white\",\"ticks\":\"\"},\"radialaxis\":{\"gridcolor\":\"white\",\"linecolor\":\"white\",\"ticks\":\"\"}},\"ternary\":{\"bgcolor\":\"#E5ECF6\",\"aaxis\":{\"gridcolor\":\"white\",\"linecolor\":\"white\",\"ticks\":\"\"},\"baxis\":{\"gridcolor\":\"white\",\"linecolor\":\"white\",\"ticks\":\"\"},\"caxis\":{\"gridcolor\":\"white\",\"linecolor\":\"white\",\"ticks\":\"\"}},\"coloraxis\":{\"colorbar\":{\"outlinewidth\":0,\"ticks\":\"\"}},\"colorscale\":{\"sequential\":[[0.0,\"#0d0887\"],[0.1111111111111111,\"#46039f\"],[0.2222222222222222,\"#7201a8\"],[0.3333333333333333,\"#9c179e\"],[0.4444444444444444,\"#bd3786\"],[0.5555555555555556,\"#d8576b\"],[0.6666666666666666,\"#ed7953\"],[0.7777777777777778,\"#fb9f3a\"],[0.8888888888888888,\"#fdca26\"],[1.0,\"#f0f921\"]],\"sequentialminus\":[[0.0,\"#0d0887\"],[0.1111111111111111,\"#46039f\"],[0.2222222222222222,\"#7201a8\"],[0.3333333333333333,\"#9c179e\"],[0.4444444444444444,\"#bd3786\"],[0.5555555555555556,\"#d8576b\"],[0.6666666666666666,\"#ed7953\"],[0.7777777777777778,\"#fb9f3a\"],[0.8888888888888888,\"#fdca26\"],[1.0,\"#f0f921\"]],\"diverging\":[[0,\"#8e0152\"],[0.1,\"#c51b7d\"],[0.2,\"#de77ae\"],[0.3,\"#f1b6da\"],[0.4,\"#fde0ef\"],[0.5,\"#f7f7f7\"],[0.6,\"#e6f5d0\"],[0.7,\"#b8e186\"],[0.8,\"#7fbc41\"],[0.9,\"#4d9221\"],[1,\"#276419\"]]},\"xaxis\":{\"gridcolor\":\"white\",\"linecolor\":\"white\",\"ticks\":\"\",\"title\":{\"standoff\":15},\"zerolinecolor\":\"white\",\"automargin\":true,\"zerolinewidth\":2},\"yaxis\":{\"gridcolor\":\"white\",\"linecolor\":\"white\",\"ticks\":\"\",\"title\":{\"standoff\":15},\"zerolinecolor\":\"white\",\"automargin\":true,\"zerolinewidth\":2},\"scene\":{\"xaxis\":{\"backgroundcolor\":\"#E5ECF6\",\"gridcolor\":\"white\",\"linecolor\":\"white\",\"showbackground\":true,\"ticks\":\"\",\"zerolinecolor\":\"white\",\"gridwidth\":2},\"yaxis\":{\"backgroundcolor\":\"#E5ECF6\",\"gridcolor\":\"white\",\"linecolor\":\"white\",\"showbackground\":true,\"ticks\":\"\",\"zerolinecolor\":\"white\",\"gridwidth\":2},\"zaxis\":{\"backgroundcolor\":\"#E5ECF6\",\"gridcolor\":\"white\",\"linecolor\":\"white\",\"showbackground\":true,\"ticks\":\"\",\"zerolinecolor\":\"white\",\"gridwidth\":2}},\"shapedefaults\":{\"line\":{\"color\":\"#2a3f5f\"}},\"annotationdefaults\":{\"arrowcolor\":\"#2a3f5f\",\"arrowhead\":0,\"arrowwidth\":1},\"geo\":{\"bgcolor\":\"white\",\"landcolor\":\"#E5ECF6\",\"subunitcolor\":\"white\",\"showland\":true,\"showlakes\":true,\"lakecolor\":\"white\"},\"title\":{\"x\":0.05},\"mapbox\":{\"style\":\"light\"}}},\"xaxis\":{\"anchor\":\"y\",\"domain\":[0.0,1.0],\"title\":{\"text\":\"Platform\"}},\"yaxis\":{\"anchor\":\"x\",\"domain\":[0.0,1.0],\"title\":{\"text\":\"count\"}},\"legend\":{\"title\":{\"text\":\"Dominant_Emotion\"},\"tracegroupgap\":0},\"title\":{\"text\":\"Dominant Emotion by Platform\"},\"barmode\":\"relative\"},                        {\"responsive\": true}                    ).then(function(){\n",
       "                            \n",
       "var gd = document.getElementById('8cda35f3-daec-42b3-9de6-bffa13945c18');\n",
       "var x = new MutationObserver(function (mutations, observer) {{\n",
       "        var display = window.getComputedStyle(gd).display;\n",
       "        if (!display || display === 'none') {{\n",
       "            console.log([gd, 'removed!']);\n",
       "            Plotly.purge(gd);\n",
       "            observer.disconnect();\n",
       "        }}\n",
       "}});\n",
       "\n",
       "// Listen for the removal of the full notebook cells\n",
       "var notebookContainer = gd.closest('#notebook-container');\n",
       "if (notebookContainer) {{\n",
       "    x.observe(notebookContainer, {childList: true});\n",
       "}}\n",
       "\n",
       "// Listen for the clearing of the current output cell\n",
       "var outputEl = gd.closest('.output');\n",
       "if (outputEl) {{\n",
       "    x.observe(outputEl, {childList: true});\n",
       "}}\n",
       "\n",
       "                        })                };                });            </script>        </div>"
      ]
     },
     "metadata": {},
     "output_type": "display_data"
    }
   ],
   "source": [
    "Plt = px.histogram(train_df, x='Platform', color='Dominant_Emotion', title='Dominant Emotion by Platform')\n",
    "Plt.show()"
   ]
  },
  {
   "cell_type": "code",
   "execution_count": 53,
   "id": "d6eb0967",
   "metadata": {
    "execution": {
     "iopub.execute_input": "2024-05-23T11:22:55.055891Z",
     "iopub.status.busy": "2024-05-23T11:22:55.055082Z",
     "iopub.status.idle": "2024-05-23T11:22:55.163769Z",
     "shell.execute_reply": "2024-05-23T11:22:55.162628Z"
    },
    "papermill": {
     "duration": 0.153992,
     "end_time": "2024-05-23T11:22:55.166606",
     "exception": false,
     "start_time": "2024-05-23T11:22:55.012614",
     "status": "completed"
    },
    "tags": []
   },
   "outputs": [
    {
     "data": {
      "text/html": [
       "<div>                            <div id=\"dab8466d-cc4a-489b-9f6f-a088d0b1cb22\" class=\"plotly-graph-div\" style=\"height:525px; width:100%;\"></div>            <script type=\"text/javascript\">                require([\"plotly\"], function(Plotly) {                    window.PLOTLYENV=window.PLOTLYENV || {};                                    if (document.getElementById(\"dab8466d-cc4a-489b-9f6f-a088d0b1cb22\")) {                    Plotly.newPlot(                        \"dab8466d-cc4a-489b-9f6f-a088d0b1cb22\",                        [{\"coloraxis\":\"coloraxis\",\"name\":\"0\",\"x\":[\"Anger\",\"Anxiety\",\"Boredom\",\"Happiness\",\"Neutral\",\"Sadness\"],\"y\":[\"Facebook\",\"Instagram\",\"LinkedIn\",\"Snapchat\",\"Telegram\",\"Twitter\",\"Whatsapp\"],\"z\":[[0,50,40,0,70,30],[10,30,0,171,20,20],[0,20,70,0,20,10],[0,20,0,10,20,30],[10,10,10,0,30,20],[80,20,20,10,20,50],[30,20,0,10,20,0]],\"type\":\"heatmap\",\"xaxis\":\"x\",\"yaxis\":\"y\",\"hovertemplate\":\"Dominant_Emotion: %{x}\\u003cbr\\u003ePlatform: %{y}\\u003cbr\\u003ecolor: %{z}\\u003cextra\\u003e\\u003c\\u002fextra\\u003e\"}],                        {\"template\":{\"data\":{\"histogram2dcontour\":[{\"type\":\"histogram2dcontour\",\"colorbar\":{\"outlinewidth\":0,\"ticks\":\"\"},\"colorscale\":[[0.0,\"#0d0887\"],[0.1111111111111111,\"#46039f\"],[0.2222222222222222,\"#7201a8\"],[0.3333333333333333,\"#9c179e\"],[0.4444444444444444,\"#bd3786\"],[0.5555555555555556,\"#d8576b\"],[0.6666666666666666,\"#ed7953\"],[0.7777777777777778,\"#fb9f3a\"],[0.8888888888888888,\"#fdca26\"],[1.0,\"#f0f921\"]]}],\"choropleth\":[{\"type\":\"choropleth\",\"colorbar\":{\"outlinewidth\":0,\"ticks\":\"\"}}],\"histogram2d\":[{\"type\":\"histogram2d\",\"colorbar\":{\"outlinewidth\":0,\"ticks\":\"\"},\"colorscale\":[[0.0,\"#0d0887\"],[0.1111111111111111,\"#46039f\"],[0.2222222222222222,\"#7201a8\"],[0.3333333333333333,\"#9c179e\"],[0.4444444444444444,\"#bd3786\"],[0.5555555555555556,\"#d8576b\"],[0.6666666666666666,\"#ed7953\"],[0.7777777777777778,\"#fb9f3a\"],[0.8888888888888888,\"#fdca26\"],[1.0,\"#f0f921\"]]}],\"heatmap\":[{\"type\":\"heatmap\",\"colorbar\":{\"outlinewidth\":0,\"ticks\":\"\"},\"colorscale\":[[0.0,\"#0d0887\"],[0.1111111111111111,\"#46039f\"],[0.2222222222222222,\"#7201a8\"],[0.3333333333333333,\"#9c179e\"],[0.4444444444444444,\"#bd3786\"],[0.5555555555555556,\"#d8576b\"],[0.6666666666666666,\"#ed7953\"],[0.7777777777777778,\"#fb9f3a\"],[0.8888888888888888,\"#fdca26\"],[1.0,\"#f0f921\"]]}],\"heatmapgl\":[{\"type\":\"heatmapgl\",\"colorbar\":{\"outlinewidth\":0,\"ticks\":\"\"},\"colorscale\":[[0.0,\"#0d0887\"],[0.1111111111111111,\"#46039f\"],[0.2222222222222222,\"#7201a8\"],[0.3333333333333333,\"#9c179e\"],[0.4444444444444444,\"#bd3786\"],[0.5555555555555556,\"#d8576b\"],[0.6666666666666666,\"#ed7953\"],[0.7777777777777778,\"#fb9f3a\"],[0.8888888888888888,\"#fdca26\"],[1.0,\"#f0f921\"]]}],\"contourcarpet\":[{\"type\":\"contourcarpet\",\"colorbar\":{\"outlinewidth\":0,\"ticks\":\"\"}}],\"contour\":[{\"type\":\"contour\",\"colorbar\":{\"outlinewidth\":0,\"ticks\":\"\"},\"colorscale\":[[0.0,\"#0d0887\"],[0.1111111111111111,\"#46039f\"],[0.2222222222222222,\"#7201a8\"],[0.3333333333333333,\"#9c179e\"],[0.4444444444444444,\"#bd3786\"],[0.5555555555555556,\"#d8576b\"],[0.6666666666666666,\"#ed7953\"],[0.7777777777777778,\"#fb9f3a\"],[0.8888888888888888,\"#fdca26\"],[1.0,\"#f0f921\"]]}],\"surface\":[{\"type\":\"surface\",\"colorbar\":{\"outlinewidth\":0,\"ticks\":\"\"},\"colorscale\":[[0.0,\"#0d0887\"],[0.1111111111111111,\"#46039f\"],[0.2222222222222222,\"#7201a8\"],[0.3333333333333333,\"#9c179e\"],[0.4444444444444444,\"#bd3786\"],[0.5555555555555556,\"#d8576b\"],[0.6666666666666666,\"#ed7953\"],[0.7777777777777778,\"#fb9f3a\"],[0.8888888888888888,\"#fdca26\"],[1.0,\"#f0f921\"]]}],\"mesh3d\":[{\"type\":\"mesh3d\",\"colorbar\":{\"outlinewidth\":0,\"ticks\":\"\"}}],\"scatter\":[{\"fillpattern\":{\"fillmode\":\"overlay\",\"size\":10,\"solidity\":0.2},\"type\":\"scatter\"}],\"parcoords\":[{\"type\":\"parcoords\",\"line\":{\"colorbar\":{\"outlinewidth\":0,\"ticks\":\"\"}}}],\"scatterpolargl\":[{\"type\":\"scatterpolargl\",\"marker\":{\"colorbar\":{\"outlinewidth\":0,\"ticks\":\"\"}}}],\"bar\":[{\"error_x\":{\"color\":\"#2a3f5f\"},\"error_y\":{\"color\":\"#2a3f5f\"},\"marker\":{\"line\":{\"color\":\"#E5ECF6\",\"width\":0.5},\"pattern\":{\"fillmode\":\"overlay\",\"size\":10,\"solidity\":0.2}},\"type\":\"bar\"}],\"scattergeo\":[{\"type\":\"scattergeo\",\"marker\":{\"colorbar\":{\"outlinewidth\":0,\"ticks\":\"\"}}}],\"scatterpolar\":[{\"type\":\"scatterpolar\",\"marker\":{\"colorbar\":{\"outlinewidth\":0,\"ticks\":\"\"}}}],\"histogram\":[{\"marker\":{\"pattern\":{\"fillmode\":\"overlay\",\"size\":10,\"solidity\":0.2}},\"type\":\"histogram\"}],\"scattergl\":[{\"type\":\"scattergl\",\"marker\":{\"colorbar\":{\"outlinewidth\":0,\"ticks\":\"\"}}}],\"scatter3d\":[{\"type\":\"scatter3d\",\"line\":{\"colorbar\":{\"outlinewidth\":0,\"ticks\":\"\"}},\"marker\":{\"colorbar\":{\"outlinewidth\":0,\"ticks\":\"\"}}}],\"scattermapbox\":[{\"type\":\"scattermapbox\",\"marker\":{\"colorbar\":{\"outlinewidth\":0,\"ticks\":\"\"}}}],\"scatterternary\":[{\"type\":\"scatterternary\",\"marker\":{\"colorbar\":{\"outlinewidth\":0,\"ticks\":\"\"}}}],\"scattercarpet\":[{\"type\":\"scattercarpet\",\"marker\":{\"colorbar\":{\"outlinewidth\":0,\"ticks\":\"\"}}}],\"carpet\":[{\"aaxis\":{\"endlinecolor\":\"#2a3f5f\",\"gridcolor\":\"white\",\"linecolor\":\"white\",\"minorgridcolor\":\"white\",\"startlinecolor\":\"#2a3f5f\"},\"baxis\":{\"endlinecolor\":\"#2a3f5f\",\"gridcolor\":\"white\",\"linecolor\":\"white\",\"minorgridcolor\":\"white\",\"startlinecolor\":\"#2a3f5f\"},\"type\":\"carpet\"}],\"table\":[{\"cells\":{\"fill\":{\"color\":\"#EBF0F8\"},\"line\":{\"color\":\"white\"}},\"header\":{\"fill\":{\"color\":\"#C8D4E3\"},\"line\":{\"color\":\"white\"}},\"type\":\"table\"}],\"barpolar\":[{\"marker\":{\"line\":{\"color\":\"#E5ECF6\",\"width\":0.5},\"pattern\":{\"fillmode\":\"overlay\",\"size\":10,\"solidity\":0.2}},\"type\":\"barpolar\"}],\"pie\":[{\"automargin\":true,\"type\":\"pie\"}]},\"layout\":{\"autotypenumbers\":\"strict\",\"colorway\":[\"#636efa\",\"#EF553B\",\"#00cc96\",\"#ab63fa\",\"#FFA15A\",\"#19d3f3\",\"#FF6692\",\"#B6E880\",\"#FF97FF\",\"#FECB52\"],\"font\":{\"color\":\"#2a3f5f\"},\"hovermode\":\"closest\",\"hoverlabel\":{\"align\":\"left\"},\"paper_bgcolor\":\"white\",\"plot_bgcolor\":\"#E5ECF6\",\"polar\":{\"bgcolor\":\"#E5ECF6\",\"angularaxis\":{\"gridcolor\":\"white\",\"linecolor\":\"white\",\"ticks\":\"\"},\"radialaxis\":{\"gridcolor\":\"white\",\"linecolor\":\"white\",\"ticks\":\"\"}},\"ternary\":{\"bgcolor\":\"#E5ECF6\",\"aaxis\":{\"gridcolor\":\"white\",\"linecolor\":\"white\",\"ticks\":\"\"},\"baxis\":{\"gridcolor\":\"white\",\"linecolor\":\"white\",\"ticks\":\"\"},\"caxis\":{\"gridcolor\":\"white\",\"linecolor\":\"white\",\"ticks\":\"\"}},\"coloraxis\":{\"colorbar\":{\"outlinewidth\":0,\"ticks\":\"\"}},\"colorscale\":{\"sequential\":[[0.0,\"#0d0887\"],[0.1111111111111111,\"#46039f\"],[0.2222222222222222,\"#7201a8\"],[0.3333333333333333,\"#9c179e\"],[0.4444444444444444,\"#bd3786\"],[0.5555555555555556,\"#d8576b\"],[0.6666666666666666,\"#ed7953\"],[0.7777777777777778,\"#fb9f3a\"],[0.8888888888888888,\"#fdca26\"],[1.0,\"#f0f921\"]],\"sequentialminus\":[[0.0,\"#0d0887\"],[0.1111111111111111,\"#46039f\"],[0.2222222222222222,\"#7201a8\"],[0.3333333333333333,\"#9c179e\"],[0.4444444444444444,\"#bd3786\"],[0.5555555555555556,\"#d8576b\"],[0.6666666666666666,\"#ed7953\"],[0.7777777777777778,\"#fb9f3a\"],[0.8888888888888888,\"#fdca26\"],[1.0,\"#f0f921\"]],\"diverging\":[[0,\"#8e0152\"],[0.1,\"#c51b7d\"],[0.2,\"#de77ae\"],[0.3,\"#f1b6da\"],[0.4,\"#fde0ef\"],[0.5,\"#f7f7f7\"],[0.6,\"#e6f5d0\"],[0.7,\"#b8e186\"],[0.8,\"#7fbc41\"],[0.9,\"#4d9221\"],[1,\"#276419\"]]},\"xaxis\":{\"gridcolor\":\"white\",\"linecolor\":\"white\",\"ticks\":\"\",\"title\":{\"standoff\":15},\"zerolinecolor\":\"white\",\"automargin\":true,\"zerolinewidth\":2},\"yaxis\":{\"gridcolor\":\"white\",\"linecolor\":\"white\",\"ticks\":\"\",\"title\":{\"standoff\":15},\"zerolinecolor\":\"white\",\"automargin\":true,\"zerolinewidth\":2},\"scene\":{\"xaxis\":{\"backgroundcolor\":\"#E5ECF6\",\"gridcolor\":\"white\",\"linecolor\":\"white\",\"showbackground\":true,\"ticks\":\"\",\"zerolinecolor\":\"white\",\"gridwidth\":2},\"yaxis\":{\"backgroundcolor\":\"#E5ECF6\",\"gridcolor\":\"white\",\"linecolor\":\"white\",\"showbackground\":true,\"ticks\":\"\",\"zerolinecolor\":\"white\",\"gridwidth\":2},\"zaxis\":{\"backgroundcolor\":\"#E5ECF6\",\"gridcolor\":\"white\",\"linecolor\":\"white\",\"showbackground\":true,\"ticks\":\"\",\"zerolinecolor\":\"white\",\"gridwidth\":2}},\"shapedefaults\":{\"line\":{\"color\":\"#2a3f5f\"}},\"annotationdefaults\":{\"arrowcolor\":\"#2a3f5f\",\"arrowhead\":0,\"arrowwidth\":1},\"geo\":{\"bgcolor\":\"white\",\"landcolor\":\"#E5ECF6\",\"subunitcolor\":\"white\",\"showland\":true,\"showlakes\":true,\"lakecolor\":\"white\"},\"title\":{\"x\":0.05},\"mapbox\":{\"style\":\"light\"}}},\"xaxis\":{\"anchor\":\"y\",\"domain\":[0.0,1.0],\"scaleanchor\":\"y\",\"constrain\":\"domain\",\"title\":{\"text\":\"Dominant_Emotion\"}},\"yaxis\":{\"anchor\":\"x\",\"domain\":[0.0,1.0],\"autorange\":\"reversed\",\"constrain\":\"domain\",\"title\":{\"text\":\"Platform\"}},\"coloraxis\":{\"colorscale\":[[0.0,\"#0d0887\"],[0.1111111111111111,\"#46039f\"],[0.2222222222222222,\"#7201a8\"],[0.3333333333333333,\"#9c179e\"],[0.4444444444444444,\"#bd3786\"],[0.5555555555555556,\"#d8576b\"],[0.6666666666666666,\"#ed7953\"],[0.7777777777777778,\"#fb9f3a\"],[0.8888888888888888,\"#fdca26\"],[1.0,\"#f0f921\"]]},\"title\":{\"text\":\"Platform vs Dominant Emotion Heatmap\"}},                        {\"responsive\": true}                    ).then(function(){\n",
       "                            \n",
       "var gd = document.getElementById('dab8466d-cc4a-489b-9f6f-a088d0b1cb22');\n",
       "var x = new MutationObserver(function (mutations, observer) {{\n",
       "        var display = window.getComputedStyle(gd).display;\n",
       "        if (!display || display === 'none') {{\n",
       "            console.log([gd, 'removed!']);\n",
       "            Plotly.purge(gd);\n",
       "            observer.disconnect();\n",
       "        }}\n",
       "}});\n",
       "\n",
       "// Listen for the removal of the full notebook cells\n",
       "var notebookContainer = gd.closest('#notebook-container');\n",
       "if (notebookContainer) {{\n",
       "    x.observe(notebookContainer, {childList: true});\n",
       "}}\n",
       "\n",
       "// Listen for the clearing of the current output cell\n",
       "var outputEl = gd.closest('.output');\n",
       "if (outputEl) {{\n",
       "    x.observe(outputEl, {childList: true});\n",
       "}}\n",
       "\n",
       "                        })                };                });            </script>        </div>"
      ]
     },
     "metadata": {},
     "output_type": "display_data"
    }
   ],
   "source": [
    "# Create a contingency table\n",
    "contingency_table = pd.crosstab(train_df['Platform'], train_df['Dominant_Emotion'])\n",
    "\n",
    "# Plot the heatmap\n",
    "fig = px.imshow(contingency_table, title='Platform vs Dominant Emotion Heatmap')\n",
    "fig.show()"
   ]
  },
  {
   "cell_type": "markdown",
   "id": "d8d8582a",
   "metadata": {
    "papermill": {
     "duration": 0.040739,
     "end_time": "2024-05-23T11:22:55.248748",
     "exception": false,
     "start_time": "2024-05-23T11:22:55.208009",
     "status": "completed"
    },
    "tags": []
   },
   "source": [
    "### Time Spent VS Emotions"
   ]
  },
  {
   "cell_type": "code",
   "execution_count": 54,
   "id": "dff98102",
   "metadata": {
    "execution": {
     "iopub.execute_input": "2024-05-23T11:22:55.333060Z",
     "iopub.status.busy": "2024-05-23T11:22:55.332055Z",
     "iopub.status.idle": "2024-05-23T11:22:55.426793Z",
     "shell.execute_reply": "2024-05-23T11:22:55.425623Z"
    },
    "papermill": {
     "duration": 0.139777,
     "end_time": "2024-05-23T11:22:55.429317",
     "exception": false,
     "start_time": "2024-05-23T11:22:55.289540",
     "status": "completed"
    },
    "tags": []
   },
   "outputs": [
    {
     "data": {
      "text/html": [
       "<div>                            <div id=\"5bb52431-7e7d-43bf-abf9-8fbd212e59f5\" class=\"plotly-graph-div\" style=\"height:525px; width:100%;\"></div>            <script type=\"text/javascript\">                require([\"plotly\"], function(Plotly) {                    window.PLOTLYENV=window.PLOTLYENV || {};                                    if (document.getElementById(\"5bb52431-7e7d-43bf-abf9-8fbd212e59f5\")) {                    Plotly.newPlot(                        \"5bb52431-7e7d-43bf-abf9-8fbd212e59f5\",                        [{\"alignmentgroup\":\"True\",\"bingroup\":\"x\",\"hovertemplate\":\"Dominant_Emotion=Happiness\\u003cbr\\u003eDaily_Usage_Time (minutes)=%{x}\\u003cbr\\u003ecount=%{y}\\u003cextra\\u003e\\u003c\\u002fextra\\u003e\",\"legendgroup\":\"Happiness\",\"marker\":{\"color\":\"#636efa\",\"pattern\":{\"shape\":\"\"}},\"name\":\"Happiness\",\"offsetgroup\":\"Happiness\",\"orientation\":\"v\",\"showlegend\":true,\"x\":[120.0,150.0,170.0,180.0,140.0,190.0,160.0,145.0,170.0,150.0,175.0,165.0,95.0,175.0,165.0,140.0,155.0,85.0,170.0,110.0,120.0,150.0,170.0,180.0,140.0,190.0,160.0,145.0,170.0,150.0,175.0,165.0,95.0,175.0,165.0,140.0,155.0,85.0,170.0,110.0,120.0,150.0,170.0,180.0,140.0,190.0,160.0,145.0,170.0,150.0,175.0,165.0,95.0,175.0,165.0,140.0,155.0,85.0,170.0,110.0,120.0,150.0,170.0,180.0,140.0,190.0,160.0,145.0,170.0,150.0,175.0,165.0,95.0,175.0,165.0,140.0,155.0,85.0,170.0,110.0,120.0,150.0,170.0,180.0,140.0,190.0,160.0,145.0,170.0,150.0,175.0,165.0,95.0,175.0,165.0,140.0,155.0,85.0,170.0,110.0,120.0,150.0,170.0,180.0,140.0,190.0,160.0,145.0,170.0,150.0,175.0,165.0,95.0,175.0,165.0,140.0,155.0,85.0,170.0,110.0,120.0,150.0,170.0,180.0,140.0,190.0,160.0,145.0,170.0,null,150.0,175.0,165.0,95.0,175.0,165.0,140.0,155.0,85.0,170.0,110.0,120.0,150.0,170.0,180.0,140.0,190.0,160.0,145.0,170.0,150.0,175.0,165.0,95.0,175.0,165.0,140.0,155.0,85.0,170.0,110.0,120.0,150.0,170.0,180.0,140.0,190.0,160.0,145.0,170.0,150.0,175.0,165.0,95.0,175.0,165.0,140.0,155.0,85.0,170.0,110.0,120.0,150.0,170.0,180.0,140.0,190.0,160.0,145.0,170.0,150.0,175.0,165.0,95.0,175.0,165.0,140.0,155.0,85.0,170.0,110.0],\"xaxis\":\"x\",\"yaxis\":\"y\",\"type\":\"histogram\"},{\"alignmentgroup\":\"True\",\"bingroup\":\"x\",\"hovertemplate\":\"Dominant_Emotion=Anger\\u003cbr\\u003eDaily_Usage_Time (minutes)=%{x}\\u003cbr\\u003ecount=%{y}\\u003cextra\\u003e\\u003c\\u002fextra\\u003e\",\"legendgroup\":\"Anger\",\"marker\":{\"color\":\"#EF553B\",\"pattern\":{\"shape\":\"\"}},\"name\":\"Anger\",\"offsetgroup\":\"Anger\",\"orientation\":\"v\",\"showlegend\":true,\"x\":[90.0,85.0,100.0,105.0,90.0,85.0,95.0,75.0,70.0,90.0,120.0,105.0,60.0,90.0,85.0,100.0,105.0,90.0,85.0,95.0,75.0,70.0,90.0,120.0,105.0,60.0,90.0,85.0,100.0,105.0,90.0,85.0,95.0,75.0,70.0,90.0,120.0,105.0,60.0,90.0,85.0,100.0,105.0,90.0,85.0,95.0,75.0,70.0,90.0,120.0,105.0,60.0,90.0,85.0,100.0,105.0,90.0,85.0,95.0,75.0,70.0,90.0,120.0,105.0,60.0,90.0,85.0,100.0,105.0,90.0,85.0,95.0,75.0,70.0,90.0,120.0,105.0,60.0,90.0,85.0,100.0,105.0,90.0,85.0,95.0,75.0,70.0,90.0,120.0,105.0,60.0,90.0,85.0,100.0,105.0,90.0,85.0,95.0,75.0,70.0,90.0,120.0,105.0,60.0,90.0,85.0,100.0,105.0,90.0,85.0,95.0,75.0,70.0,90.0,120.0,105.0,60.0,90.0,85.0,100.0,105.0,90.0,85.0,95.0,75.0,70.0,90.0,120.0,105.0,60.0],\"xaxis\":\"x\",\"yaxis\":\"y\",\"type\":\"histogram\"},{\"alignmentgroup\":\"True\",\"bingroup\":\"x\",\"hovertemplate\":\"Dominant_Emotion=Neutral\\u003cbr\\u003eDaily_Usage_Time (minutes)=%{x}\\u003cbr\\u003ecount=%{y}\\u003cextra\\u003e\\u003c\\u002fextra\\u003e\",\"legendgroup\":\"Neutral\",\"marker\":{\"color\":\"#00cc96\",\"pattern\":{\"shape\":\"\"}},\"name\":\"Neutral\",\"offsetgroup\":\"Neutral\",\"orientation\":\"v\",\"showlegend\":true,\"x\":[60.0,55.0,40.0,50.0,80.0,70.0,115.0,105.0,130.0,85.0,80.0,65.0,55.0,80.0,90.0,70.0,60.0,75.0,70.0,120.0,60.0,55.0,40.0,50.0,80.0,70.0,115.0,105.0,130.0,85.0,80.0,65.0,55.0,80.0,90.0,70.0,60.0,75.0,70.0,120.0,60.0,55.0,40.0,50.0,80.0,70.0,115.0,105.0,130.0,85.0,80.0,65.0,55.0,80.0,90.0,70.0,60.0,75.0,70.0,120.0,60.0,55.0,40.0,50.0,80.0,70.0,115.0,105.0,130.0,85.0,80.0,65.0,55.0,80.0,90.0,70.0,60.0,75.0,70.0,120.0,60.0,55.0,40.0,50.0,80.0,70.0,115.0,105.0,130.0,85.0,80.0,65.0,55.0,80.0,90.0,70.0,60.0,75.0,70.0,120.0,60.0,55.0,40.0,50.0,80.0,70.0,115.0,105.0,130.0,85.0,80.0,65.0,55.0,80.0,90.0,70.0,60.0,75.0,70.0,120.0,60.0,55.0,40.0,50.0,80.0,70.0,115.0,105.0,130.0,85.0,80.0,65.0,55.0,80.0,90.0,70.0,60.0,75.0,70.0,120.0,60.0,55.0,40.0,50.0,80.0,70.0,115.0,105.0,130.0,85.0,80.0,65.0,55.0,80.0,90.0,70.0,60.0,75.0,70.0,120.0,60.0,55.0,40.0,50.0,80.0,70.0,115.0,105.0,130.0,85.0,80.0,65.0,55.0,80.0,90.0,70.0,60.0,75.0,70.0,120.0,60.0,55.0,40.0,50.0,80.0,70.0,115.0,105.0,130.0,85.0,80.0,65.0,55.0,80.0,90.0,70.0,60.0,75.0,70.0,120.0],\"xaxis\":\"x\",\"yaxis\":\"y\",\"type\":\"histogram\"},{\"alignmentgroup\":\"True\",\"bingroup\":\"x\",\"hovertemplate\":\"Dominant_Emotion=Anxiety\\u003cbr\\u003eDaily_Usage_Time (minutes)=%{x}\\u003cbr\\u003ecount=%{y}\\u003cextra\\u003e\\u003c\\u002fextra\\u003e\",\"legendgroup\":\"Anxiety\",\"marker\":{\"color\":\"#ab63fa\",\"pattern\":{\"shape\":\"\"}},\"name\":\"Anxiety\",\"offsetgroup\":\"Anxiety\",\"orientation\":\"v\",\"showlegend\":true,\"x\":[200.0,75.0,125.0,75.0,55.0,65.0,100.0,75.0,60.0,70.0,120.0,105.0,115.0,65.0,100.0,70.0,150.0,200.0,75.0,125.0,75.0,55.0,65.0,100.0,75.0,60.0,70.0,120.0,105.0,115.0,65.0,100.0,70.0,150.0,200.0,75.0,125.0,75.0,55.0,65.0,100.0,75.0,60.0,70.0,120.0,105.0,115.0,65.0,100.0,70.0,150.0,200.0,75.0,125.0,75.0,55.0,65.0,100.0,75.0,60.0,70.0,120.0,105.0,115.0,65.0,100.0,70.0,150.0,200.0,75.0,125.0,75.0,55.0,65.0,100.0,75.0,60.0,70.0,120.0,105.0,115.0,65.0,100.0,70.0,150.0,200.0,75.0,125.0,75.0,55.0,65.0,100.0,75.0,60.0,70.0,120.0,105.0,115.0,65.0,100.0,70.0,150.0,200.0,75.0,125.0,75.0,55.0,65.0,100.0,75.0,60.0,70.0,120.0,105.0,115.0,65.0,100.0,70.0,150.0,200.0,75.0,125.0,75.0,55.0,65.0,100.0,75.0,60.0,70.0,120.0,105.0,115.0,65.0,100.0,70.0,150.0,200.0,75.0,125.0,75.0,55.0,65.0,100.0,75.0,60.0,70.0,120.0,105.0,115.0,65.0,100.0,70.0,150.0,200.0,75.0,125.0,75.0,55.0,65.0,100.0,75.0,60.0,70.0,120.0,105.0,115.0,65.0,100.0,70.0,150.0],\"xaxis\":\"x\",\"yaxis\":\"y\",\"type\":\"histogram\"},{\"alignmentgroup\":\"True\",\"bingroup\":\"x\",\"hovertemplate\":\"Dominant_Emotion=Boredom\\u003cbr\\u003eDaily_Usage_Time (minutes)=%{x}\\u003cbr\\u003ecount=%{y}\\u003cextra\\u003e\\u003c\\u002fextra\\u003e\",\"legendgroup\":\"Boredom\",\"marker\":{\"color\":\"#FFA15A\",\"pattern\":{\"shape\":\"\"}},\"name\":\"Boredom\",\"offsetgroup\":\"Boredom\",\"orientation\":\"v\",\"showlegend\":true,\"x\":[45.0,65.0,60.0,65.0,55.0,60.0,55.0,90.0,60.0,60.0,70.0,75.0,50.0,85.0,45.0,65.0,60.0,65.0,55.0,60.0,55.0,90.0,60.0,60.0,70.0,75.0,50.0,85.0,45.0,65.0,60.0,65.0,55.0,60.0,55.0,90.0,60.0,60.0,70.0,75.0,50.0,85.0,45.0,65.0,60.0,65.0,55.0,60.0,55.0,90.0,60.0,60.0,70.0,75.0,50.0,85.0,45.0,65.0,60.0,65.0,55.0,60.0,55.0,90.0,60.0,60.0,70.0,75.0,50.0,85.0,45.0,65.0,60.0,65.0,55.0,60.0,55.0,90.0,60.0,60.0,70.0,75.0,50.0,85.0,45.0,65.0,60.0,65.0,55.0,60.0,55.0,90.0,60.0,60.0,70.0,75.0,50.0,85.0,45.0,65.0,60.0,65.0,55.0,60.0,55.0,90.0,60.0,60.0,70.0,75.0,50.0,85.0,45.0,65.0,60.0,65.0,55.0,60.0,55.0,90.0,60.0,60.0,70.0,75.0,50.0,85.0,45.0,65.0,60.0,65.0,55.0,60.0,55.0,90.0,60.0,60.0,70.0,75.0,50.0,85.0],\"xaxis\":\"x\",\"yaxis\":\"y\",\"type\":\"histogram\"},{\"alignmentgroup\":\"True\",\"bingroup\":\"x\",\"hovertemplate\":\"Dominant_Emotion=Sadness\\u003cbr\\u003eDaily_Usage_Time (minutes)=%{x}\\u003cbr\\u003ecount=%{y}\\u003cextra\\u003e\\u003c\\u002fextra\\u003e\",\"legendgroup\":\"Sadness\",\"marker\":{\"color\":\"#19d3f3\",\"pattern\":{\"shape\":\"\"}},\"name\":\"Sadness\",\"offsetgroup\":\"Sadness\",\"orientation\":\"v\",\"showlegend\":true,\"x\":[110.0,95.0,90.0,70.0,45.0,130.0,45.0,90.0,145.0,50.0,90.0,75.0,75.0,50.0,85.0,95.0,110.0,95.0,90.0,70.0,45.0,130.0,45.0,90.0,145.0,50.0,90.0,75.0,75.0,50.0,85.0,95.0,110.0,95.0,90.0,70.0,45.0,130.0,45.0,90.0,145.0,50.0,90.0,75.0,75.0,50.0,85.0,95.0,110.0,95.0,90.0,70.0,45.0,130.0,45.0,90.0,145.0,50.0,90.0,75.0,75.0,50.0,85.0,95.0,110.0,95.0,90.0,70.0,45.0,130.0,45.0,90.0,145.0,50.0,90.0,75.0,75.0,50.0,85.0,95.0,110.0,95.0,90.0,70.0,45.0,130.0,45.0,90.0,145.0,50.0,90.0,75.0,75.0,50.0,85.0,95.0,110.0,95.0,90.0,70.0,45.0,130.0,45.0,90.0,145.0,50.0,90.0,75.0,75.0,50.0,85.0,95.0,110.0,95.0,90.0,70.0,45.0,130.0,45.0,90.0,145.0,50.0,90.0,75.0,75.0,50.0,85.0,95.0,110.0,95.0,90.0,70.0,45.0,130.0,45.0,90.0,145.0,50.0,90.0,75.0,75.0,50.0,85.0,95.0,110.0,95.0,90.0,70.0,45.0,130.0,45.0,90.0,145.0,50.0,90.0,75.0,75.0,50.0,85.0,95.0],\"xaxis\":\"x\",\"yaxis\":\"y\",\"type\":\"histogram\"}],                        {\"template\":{\"data\":{\"histogram2dcontour\":[{\"type\":\"histogram2dcontour\",\"colorbar\":{\"outlinewidth\":0,\"ticks\":\"\"},\"colorscale\":[[0.0,\"#0d0887\"],[0.1111111111111111,\"#46039f\"],[0.2222222222222222,\"#7201a8\"],[0.3333333333333333,\"#9c179e\"],[0.4444444444444444,\"#bd3786\"],[0.5555555555555556,\"#d8576b\"],[0.6666666666666666,\"#ed7953\"],[0.7777777777777778,\"#fb9f3a\"],[0.8888888888888888,\"#fdca26\"],[1.0,\"#f0f921\"]]}],\"choropleth\":[{\"type\":\"choropleth\",\"colorbar\":{\"outlinewidth\":0,\"ticks\":\"\"}}],\"histogram2d\":[{\"type\":\"histogram2d\",\"colorbar\":{\"outlinewidth\":0,\"ticks\":\"\"},\"colorscale\":[[0.0,\"#0d0887\"],[0.1111111111111111,\"#46039f\"],[0.2222222222222222,\"#7201a8\"],[0.3333333333333333,\"#9c179e\"],[0.4444444444444444,\"#bd3786\"],[0.5555555555555556,\"#d8576b\"],[0.6666666666666666,\"#ed7953\"],[0.7777777777777778,\"#fb9f3a\"],[0.8888888888888888,\"#fdca26\"],[1.0,\"#f0f921\"]]}],\"heatmap\":[{\"type\":\"heatmap\",\"colorbar\":{\"outlinewidth\":0,\"ticks\":\"\"},\"colorscale\":[[0.0,\"#0d0887\"],[0.1111111111111111,\"#46039f\"],[0.2222222222222222,\"#7201a8\"],[0.3333333333333333,\"#9c179e\"],[0.4444444444444444,\"#bd3786\"],[0.5555555555555556,\"#d8576b\"],[0.6666666666666666,\"#ed7953\"],[0.7777777777777778,\"#fb9f3a\"],[0.8888888888888888,\"#fdca26\"],[1.0,\"#f0f921\"]]}],\"heatmapgl\":[{\"type\":\"heatmapgl\",\"colorbar\":{\"outlinewidth\":0,\"ticks\":\"\"},\"colorscale\":[[0.0,\"#0d0887\"],[0.1111111111111111,\"#46039f\"],[0.2222222222222222,\"#7201a8\"],[0.3333333333333333,\"#9c179e\"],[0.4444444444444444,\"#bd3786\"],[0.5555555555555556,\"#d8576b\"],[0.6666666666666666,\"#ed7953\"],[0.7777777777777778,\"#fb9f3a\"],[0.8888888888888888,\"#fdca26\"],[1.0,\"#f0f921\"]]}],\"contourcarpet\":[{\"type\":\"contourcarpet\",\"colorbar\":{\"outlinewidth\":0,\"ticks\":\"\"}}],\"contour\":[{\"type\":\"contour\",\"colorbar\":{\"outlinewidth\":0,\"ticks\":\"\"},\"colorscale\":[[0.0,\"#0d0887\"],[0.1111111111111111,\"#46039f\"],[0.2222222222222222,\"#7201a8\"],[0.3333333333333333,\"#9c179e\"],[0.4444444444444444,\"#bd3786\"],[0.5555555555555556,\"#d8576b\"],[0.6666666666666666,\"#ed7953\"],[0.7777777777777778,\"#fb9f3a\"],[0.8888888888888888,\"#fdca26\"],[1.0,\"#f0f921\"]]}],\"surface\":[{\"type\":\"surface\",\"colorbar\":{\"outlinewidth\":0,\"ticks\":\"\"},\"colorscale\":[[0.0,\"#0d0887\"],[0.1111111111111111,\"#46039f\"],[0.2222222222222222,\"#7201a8\"],[0.3333333333333333,\"#9c179e\"],[0.4444444444444444,\"#bd3786\"],[0.5555555555555556,\"#d8576b\"],[0.6666666666666666,\"#ed7953\"],[0.7777777777777778,\"#fb9f3a\"],[0.8888888888888888,\"#fdca26\"],[1.0,\"#f0f921\"]]}],\"mesh3d\":[{\"type\":\"mesh3d\",\"colorbar\":{\"outlinewidth\":0,\"ticks\":\"\"}}],\"scatter\":[{\"fillpattern\":{\"fillmode\":\"overlay\",\"size\":10,\"solidity\":0.2},\"type\":\"scatter\"}],\"parcoords\":[{\"type\":\"parcoords\",\"line\":{\"colorbar\":{\"outlinewidth\":0,\"ticks\":\"\"}}}],\"scatterpolargl\":[{\"type\":\"scatterpolargl\",\"marker\":{\"colorbar\":{\"outlinewidth\":0,\"ticks\":\"\"}}}],\"bar\":[{\"error_x\":{\"color\":\"#2a3f5f\"},\"error_y\":{\"color\":\"#2a3f5f\"},\"marker\":{\"line\":{\"color\":\"#E5ECF6\",\"width\":0.5},\"pattern\":{\"fillmode\":\"overlay\",\"size\":10,\"solidity\":0.2}},\"type\":\"bar\"}],\"scattergeo\":[{\"type\":\"scattergeo\",\"marker\":{\"colorbar\":{\"outlinewidth\":0,\"ticks\":\"\"}}}],\"scatterpolar\":[{\"type\":\"scatterpolar\",\"marker\":{\"colorbar\":{\"outlinewidth\":0,\"ticks\":\"\"}}}],\"histogram\":[{\"marker\":{\"pattern\":{\"fillmode\":\"overlay\",\"size\":10,\"solidity\":0.2}},\"type\":\"histogram\"}],\"scattergl\":[{\"type\":\"scattergl\",\"marker\":{\"colorbar\":{\"outlinewidth\":0,\"ticks\":\"\"}}}],\"scatter3d\":[{\"type\":\"scatter3d\",\"line\":{\"colorbar\":{\"outlinewidth\":0,\"ticks\":\"\"}},\"marker\":{\"colorbar\":{\"outlinewidth\":0,\"ticks\":\"\"}}}],\"scattermapbox\":[{\"type\":\"scattermapbox\",\"marker\":{\"colorbar\":{\"outlinewidth\":0,\"ticks\":\"\"}}}],\"scatterternary\":[{\"type\":\"scatterternary\",\"marker\":{\"colorbar\":{\"outlinewidth\":0,\"ticks\":\"\"}}}],\"scattercarpet\":[{\"type\":\"scattercarpet\",\"marker\":{\"colorbar\":{\"outlinewidth\":0,\"ticks\":\"\"}}}],\"carpet\":[{\"aaxis\":{\"endlinecolor\":\"#2a3f5f\",\"gridcolor\":\"white\",\"linecolor\":\"white\",\"minorgridcolor\":\"white\",\"startlinecolor\":\"#2a3f5f\"},\"baxis\":{\"endlinecolor\":\"#2a3f5f\",\"gridcolor\":\"white\",\"linecolor\":\"white\",\"minorgridcolor\":\"white\",\"startlinecolor\":\"#2a3f5f\"},\"type\":\"carpet\"}],\"table\":[{\"cells\":{\"fill\":{\"color\":\"#EBF0F8\"},\"line\":{\"color\":\"white\"}},\"header\":{\"fill\":{\"color\":\"#C8D4E3\"},\"line\":{\"color\":\"white\"}},\"type\":\"table\"}],\"barpolar\":[{\"marker\":{\"line\":{\"color\":\"#E5ECF6\",\"width\":0.5},\"pattern\":{\"fillmode\":\"overlay\",\"size\":10,\"solidity\":0.2}},\"type\":\"barpolar\"}],\"pie\":[{\"automargin\":true,\"type\":\"pie\"}]},\"layout\":{\"autotypenumbers\":\"strict\",\"colorway\":[\"#636efa\",\"#EF553B\",\"#00cc96\",\"#ab63fa\",\"#FFA15A\",\"#19d3f3\",\"#FF6692\",\"#B6E880\",\"#FF97FF\",\"#FECB52\"],\"font\":{\"color\":\"#2a3f5f\"},\"hovermode\":\"closest\",\"hoverlabel\":{\"align\":\"left\"},\"paper_bgcolor\":\"white\",\"plot_bgcolor\":\"#E5ECF6\",\"polar\":{\"bgcolor\":\"#E5ECF6\",\"angularaxis\":{\"gridcolor\":\"white\",\"linecolor\":\"white\",\"ticks\":\"\"},\"radialaxis\":{\"gridcolor\":\"white\",\"linecolor\":\"white\",\"ticks\":\"\"}},\"ternary\":{\"bgcolor\":\"#E5ECF6\",\"aaxis\":{\"gridcolor\":\"white\",\"linecolor\":\"white\",\"ticks\":\"\"},\"baxis\":{\"gridcolor\":\"white\",\"linecolor\":\"white\",\"ticks\":\"\"},\"caxis\":{\"gridcolor\":\"white\",\"linecolor\":\"white\",\"ticks\":\"\"}},\"coloraxis\":{\"colorbar\":{\"outlinewidth\":0,\"ticks\":\"\"}},\"colorscale\":{\"sequential\":[[0.0,\"#0d0887\"],[0.1111111111111111,\"#46039f\"],[0.2222222222222222,\"#7201a8\"],[0.3333333333333333,\"#9c179e\"],[0.4444444444444444,\"#bd3786\"],[0.5555555555555556,\"#d8576b\"],[0.6666666666666666,\"#ed7953\"],[0.7777777777777778,\"#fb9f3a\"],[0.8888888888888888,\"#fdca26\"],[1.0,\"#f0f921\"]],\"sequentialminus\":[[0.0,\"#0d0887\"],[0.1111111111111111,\"#46039f\"],[0.2222222222222222,\"#7201a8\"],[0.3333333333333333,\"#9c179e\"],[0.4444444444444444,\"#bd3786\"],[0.5555555555555556,\"#d8576b\"],[0.6666666666666666,\"#ed7953\"],[0.7777777777777778,\"#fb9f3a\"],[0.8888888888888888,\"#fdca26\"],[1.0,\"#f0f921\"]],\"diverging\":[[0,\"#8e0152\"],[0.1,\"#c51b7d\"],[0.2,\"#de77ae\"],[0.3,\"#f1b6da\"],[0.4,\"#fde0ef\"],[0.5,\"#f7f7f7\"],[0.6,\"#e6f5d0\"],[0.7,\"#b8e186\"],[0.8,\"#7fbc41\"],[0.9,\"#4d9221\"],[1,\"#276419\"]]},\"xaxis\":{\"gridcolor\":\"white\",\"linecolor\":\"white\",\"ticks\":\"\",\"title\":{\"standoff\":15},\"zerolinecolor\":\"white\",\"automargin\":true,\"zerolinewidth\":2},\"yaxis\":{\"gridcolor\":\"white\",\"linecolor\":\"white\",\"ticks\":\"\",\"title\":{\"standoff\":15},\"zerolinecolor\":\"white\",\"automargin\":true,\"zerolinewidth\":2},\"scene\":{\"xaxis\":{\"backgroundcolor\":\"#E5ECF6\",\"gridcolor\":\"white\",\"linecolor\":\"white\",\"showbackground\":true,\"ticks\":\"\",\"zerolinecolor\":\"white\",\"gridwidth\":2},\"yaxis\":{\"backgroundcolor\":\"#E5ECF6\",\"gridcolor\":\"white\",\"linecolor\":\"white\",\"showbackground\":true,\"ticks\":\"\",\"zerolinecolor\":\"white\",\"gridwidth\":2},\"zaxis\":{\"backgroundcolor\":\"#E5ECF6\",\"gridcolor\":\"white\",\"linecolor\":\"white\",\"showbackground\":true,\"ticks\":\"\",\"zerolinecolor\":\"white\",\"gridwidth\":2}},\"shapedefaults\":{\"line\":{\"color\":\"#2a3f5f\"}},\"annotationdefaults\":{\"arrowcolor\":\"#2a3f5f\",\"arrowhead\":0,\"arrowwidth\":1},\"geo\":{\"bgcolor\":\"white\",\"landcolor\":\"#E5ECF6\",\"subunitcolor\":\"white\",\"showland\":true,\"showlakes\":true,\"lakecolor\":\"white\"},\"title\":{\"x\":0.05},\"mapbox\":{\"style\":\"light\"}}},\"xaxis\":{\"anchor\":\"y\",\"domain\":[0.0,1.0],\"title\":{\"text\":\"Daily_Usage_Time (minutes)\"}},\"yaxis\":{\"anchor\":\"x\",\"domain\":[0.0,1.0],\"title\":{\"text\":\"count\"}},\"legend\":{\"title\":{\"text\":\"Dominant_Emotion\"},\"tracegroupgap\":0},\"title\":{\"text\":\"Time Usage by Dominant Emotion\"},\"barmode\":\"relative\"},                        {\"responsive\": true}                    ).then(function(){\n",
       "                            \n",
       "var gd = document.getElementById('5bb52431-7e7d-43bf-abf9-8fbd212e59f5');\n",
       "var x = new MutationObserver(function (mutations, observer) {{\n",
       "        var display = window.getComputedStyle(gd).display;\n",
       "        if (!display || display === 'none') {{\n",
       "            console.log([gd, 'removed!']);\n",
       "            Plotly.purge(gd);\n",
       "            observer.disconnect();\n",
       "        }}\n",
       "}});\n",
       "\n",
       "// Listen for the removal of the full notebook cells\n",
       "var notebookContainer = gd.closest('#notebook-container');\n",
       "if (notebookContainer) {{\n",
       "    x.observe(notebookContainer, {childList: true});\n",
       "}}\n",
       "\n",
       "// Listen for the clearing of the current output cell\n",
       "var outputEl = gd.closest('.output');\n",
       "if (outputEl) {{\n",
       "    x.observe(outputEl, {childList: true});\n",
       "}}\n",
       "\n",
       "                        })                };                });            </script>        </div>"
      ]
     },
     "metadata": {},
     "output_type": "display_data"
    }
   ],
   "source": [
    "# Daily Usage time by Dominant_Emotion\n",
    "plt = px.histogram(train_df, x='Daily_Usage_Time (minutes)', color='Dominant_Emotion', title='Time Usage by Dominant Emotion')\n",
    "plt.show()"
   ]
  },
  {
   "cell_type": "markdown",
   "id": "a8dcdea8",
   "metadata": {
    "papermill": {
     "duration": 0.041206,
     "end_time": "2024-05-23T11:22:55.512323",
     "exception": false,
     "start_time": "2024-05-23T11:22:55.471117",
     "status": "completed"
    },
    "tags": []
   },
   "source": [
    "### Likes Received VS Emotions\n",
    "* This is the last realation I'll be looking in this data."
   ]
  },
  {
   "cell_type": "code",
   "execution_count": 55,
   "id": "95e6a2fa",
   "metadata": {
    "execution": {
     "iopub.execute_input": "2024-05-23T11:22:55.600500Z",
     "iopub.status.busy": "2024-05-23T11:22:55.600070Z",
     "iopub.status.idle": "2024-05-23T11:22:55.698861Z",
     "shell.execute_reply": "2024-05-23T11:22:55.697857Z"
    },
    "papermill": {
     "duration": 0.144931,
     "end_time": "2024-05-23T11:22:55.701496",
     "exception": false,
     "start_time": "2024-05-23T11:22:55.556565",
     "status": "completed"
    },
    "tags": []
   },
   "outputs": [
    {
     "data": {
      "text/html": [
       "<div>                            <div id=\"edd6967f-5965-48fb-9038-6faac0e14fb7\" class=\"plotly-graph-div\" style=\"height:525px; width:100%;\"></div>            <script type=\"text/javascript\">                require([\"plotly\"], function(Plotly) {                    window.PLOTLYENV=window.PLOTLYENV || {};                                    if (document.getElementById(\"edd6967f-5965-48fb-9038-6faac0e14fb7\")) {                    Plotly.newPlot(                        \"edd6967f-5965-48fb-9038-6faac0e14fb7\",                        [{\"alignmentgroup\":\"True\",\"bingroup\":\"x\",\"hovertemplate\":\"Dominant_Emotion=Happiness\\u003cbr\\u003eLikes_Received_Per_Day=%{x}\\u003cbr\\u003ecount=%{y}\\u003cextra\\u003e\\u003c\\u002fextra\\u003e\",\"legendgroup\":\"Happiness\",\"marker\":{\"color\":\"#636efa\",\"pattern\":{\"shape\":\"\"}},\"name\":\"Happiness\",\"offsetgroup\":\"Happiness\",\"orientation\":\"v\",\"showlegend\":true,\"x\":[45.0,60.0,80.0,90.0,70.0,95.0,85.0,75.0,90.0,80.0,85.0,78.0,45.0,70.0,75.0,60.0,72.0,30.0,78.0,45.0,50.0,65.0,90.0,100.0,75.0,105.0,85.0,80.0,95.0,90.0,100.0,85.0,48.0,72.0,78.0,65.0,75.0,33.0,83.0,50.0,50.0,65.0,90.0,100.0,75.0,105.0,85.0,80.0,95.0,90.0,100.0,85.0,48.0,72.0,78.0,65.0,75.0,33.0,83.0,50.0,50.0,65.0,90.0,100.0,75.0,105.0,85.0,80.0,95.0,90.0,100.0,85.0,48.0,72.0,78.0,65.0,75.0,33.0,83.0,50.0,50.0,65.0,90.0,100.0,75.0,105.0,85.0,80.0,95.0,90.0,100.0,85.0,48.0,72.0,78.0,65.0,75.0,33.0,83.0,50.0,50.0,65.0,90.0,100.0,75.0,105.0,85.0,80.0,95.0,90.0,100.0,85.0,48.0,72.0,78.0,65.0,75.0,33.0,83.0,50.0,50.0,65.0,90.0,100.0,75.0,105.0,85.0,80.0,95.0,30.0,90.0,100.0,85.0,48.0,72.0,78.0,65.0,75.0,33.0,83.0,50.0,50.0,65.0,90.0,100.0,75.0,105.0,85.0,80.0,95.0,90.0,100.0,85.0,48.0,72.0,78.0,65.0,75.0,33.0,83.0,50.0,50.0,65.0,90.0,100.0,75.0,105.0,85.0,80.0,95.0,90.0,100.0,85.0,48.0,72.0,78.0,65.0,75.0,33.0,83.0,50.0,50.0,65.0,90.0,100.0,75.0,105.0,85.0,80.0,95.0,90.0,100.0,85.0,48.0,72.0,78.0,65.0,75.0,33.0,83.0,50.0],\"xaxis\":\"x\",\"yaxis\":\"y\",\"type\":\"histogram\"},{\"alignmentgroup\":\"True\",\"bingroup\":\"x\",\"hovertemplate\":\"Dominant_Emotion=Anger\\u003cbr\\u003eLikes_Received_Per_Day=%{x}\\u003cbr\\u003ecount=%{y}\\u003cextra\\u003e\\u003c\\u002fextra\\u003e\",\"legendgroup\":\"Anger\",\"marker\":{\"color\":\"#EF553B\",\"pattern\":{\"shape\":\"\"}},\"name\":\"Anger\",\"offsetgroup\":\"Anger\",\"orientation\":\"v\",\"showlegend\":true,\"x\":[20.0,30.0,40.0,28.0,38.0,35.0,40.0,29.0,20.0,20.0,55.0,50.0,15.0,30.0,40.0,50.0,35.0,43.0,45.0,50.0,33.0,22.0,24.0,60.0,55.0,18.0,30.0,40.0,50.0,35.0,43.0,45.0,50.0,33.0,22.0,24.0,60.0,55.0,18.0,30.0,40.0,50.0,35.0,43.0,45.0,50.0,33.0,22.0,24.0,60.0,55.0,18.0,30.0,40.0,50.0,35.0,43.0,45.0,50.0,33.0,22.0,24.0,60.0,55.0,18.0,30.0,40.0,50.0,35.0,43.0,45.0,50.0,33.0,22.0,24.0,60.0,55.0,18.0,30.0,40.0,50.0,35.0,43.0,45.0,50.0,33.0,22.0,24.0,60.0,55.0,18.0,30.0,40.0,50.0,35.0,43.0,45.0,50.0,33.0,22.0,24.0,60.0,55.0,18.0,30.0,40.0,50.0,35.0,43.0,45.0,50.0,33.0,22.0,24.0,60.0,55.0,18.0,30.0,40.0,50.0,35.0,43.0,45.0,50.0,33.0,22.0,24.0,60.0,55.0,18.0],\"xaxis\":\"x\",\"yaxis\":\"y\",\"type\":\"histogram\"},{\"alignmentgroup\":\"True\",\"bingroup\":\"x\",\"hovertemplate\":\"Dominant_Emotion=Neutral\\u003cbr\\u003eLikes_Received_Per_Day=%{x}\\u003cbr\\u003ecount=%{y}\\u003cextra\\u003e\\u003c\\u002fextra\\u003e\",\"legendgroup\":\"Neutral\",\"marker\":{\"color\":\"#00cc96\",\"pattern\":{\"shape\":\"\"}},\"name\":\"Neutral\",\"offsetgroup\":\"Neutral\",\"orientation\":\"v\",\"showlegend\":true,\"x\":[15.0,10.0,5.0,8.0,18.0,27.0,55.0,20.0,70.0,25.0,18.0,25.0,15.0,28.0,35.0,20.0,15.0,33.0,12.0,38.0,20.0,15.0,10.0,12.0,20.0,30.0,60.0,25.0,80.0,27.0,21.0,27.0,17.0,30.0,37.0,22.0,18.0,37.0,14.0,40.0,20.0,15.0,10.0,12.0,20.0,30.0,60.0,25.0,80.0,27.0,21.0,27.0,17.0,30.0,37.0,22.0,18.0,37.0,14.0,40.0,20.0,15.0,10.0,12.0,20.0,30.0,60.0,25.0,80.0,27.0,21.0,27.0,17.0,30.0,37.0,22.0,18.0,37.0,14.0,40.0,20.0,15.0,10.0,12.0,20.0,30.0,60.0,25.0,80.0,27.0,21.0,27.0,17.0,30.0,37.0,22.0,18.0,37.0,14.0,40.0,20.0,15.0,10.0,12.0,20.0,30.0,60.0,25.0,80.0,27.0,21.0,27.0,17.0,30.0,37.0,22.0,18.0,37.0,14.0,40.0,20.0,15.0,10.0,12.0,20.0,30.0,60.0,25.0,80.0,27.0,21.0,27.0,17.0,30.0,37.0,22.0,18.0,37.0,14.0,40.0,20.0,15.0,10.0,12.0,20.0,30.0,60.0,25.0,80.0,27.0,21.0,27.0,17.0,30.0,37.0,22.0,18.0,37.0,14.0,40.0,20.0,15.0,10.0,12.0,20.0,30.0,60.0,25.0,80.0,27.0,21.0,27.0,17.0,30.0,37.0,22.0,18.0,37.0,14.0,40.0,20.0,15.0,10.0,12.0,20.0,30.0,60.0,25.0,80.0,27.0,21.0,27.0,17.0,30.0,37.0,22.0,18.0,37.0,14.0,40.0],\"xaxis\":\"x\",\"yaxis\":\"y\",\"type\":\"histogram\"},{\"alignmentgroup\":\"True\",\"bingroup\":\"x\",\"hovertemplate\":\"Dominant_Emotion=Anxiety\\u003cbr\\u003eLikes_Received_Per_Day=%{x}\\u003cbr\\u003ecount=%{y}\\u003cextra\\u003e\\u003c\\u002fextra\\u003e\",\"legendgroup\":\"Anxiety\",\"marker\":{\"color\":\"#ab63fa\",\"pattern\":{\"shape\":\"\"}},\"name\":\"Anxiety\",\"offsetgroup\":\"Anxiety\",\"orientation\":\"v\",\"showlegend\":true,\"x\":[100.0,35.0,55.0,25.0,9.0,22.0,18.0,28.0,10.0,40.0,50.0,45.0,36.0,12.0,35.0,28.0,65.0,110.0,45.0,65.0,30.0,12.0,27.0,22.0,30.0,15.0,42.0,55.0,48.0,38.0,13.0,37.0,30.0,70.0,110.0,45.0,65.0,30.0,12.0,27.0,22.0,30.0,15.0,42.0,55.0,48.0,38.0,13.0,37.0,30.0,70.0,110.0,45.0,65.0,30.0,12.0,27.0,22.0,30.0,15.0,42.0,55.0,48.0,38.0,13.0,37.0,30.0,70.0,110.0,45.0,65.0,30.0,12.0,27.0,22.0,30.0,15.0,42.0,55.0,48.0,38.0,13.0,37.0,30.0,70.0,110.0,45.0,65.0,30.0,12.0,27.0,22.0,30.0,15.0,42.0,55.0,48.0,38.0,13.0,37.0,30.0,70.0,110.0,45.0,65.0,30.0,12.0,27.0,22.0,30.0,15.0,42.0,55.0,48.0,38.0,13.0,37.0,30.0,70.0,110.0,45.0,65.0,30.0,12.0,27.0,22.0,30.0,15.0,42.0,55.0,48.0,38.0,13.0,37.0,30.0,70.0,110.0,45.0,65.0,30.0,12.0,27.0,22.0,30.0,15.0,42.0,55.0,48.0,38.0,13.0,37.0,30.0,70.0,110.0,45.0,65.0,30.0,12.0,27.0,22.0,30.0,15.0,42.0,55.0,48.0,38.0,13.0,37.0,30.0,70.0],\"xaxis\":\"x\",\"yaxis\":\"y\",\"type\":\"histogram\"},{\"alignmentgroup\":\"True\",\"bingroup\":\"x\",\"hovertemplate\":\"Dominant_Emotion=Boredom\\u003cbr\\u003eLikes_Received_Per_Day=%{x}\\u003cbr\\u003ecount=%{y}\\u003cextra\\u003e\\u003c\\u002fextra\\u003e\",\"legendgroup\":\"Boredom\",\"marker\":{\"color\":\"#FFA15A\",\"pattern\":{\"shape\":\"\"}},\"name\":\"Boredom\",\"offsetgroup\":\"Boredom\",\"orientation\":\"v\",\"showlegend\":true,\"x\":[5.0,12.0,11.0,13.0,10.0,12.0,8.0,20.0,10.0,8.0,12.0,18.0,8.0,30.0,10.0,14.0,17.0,17.0,11.0,15.0,12.0,22.0,12.0,12.0,13.0,20.0,10.0,35.0,10.0,14.0,17.0,17.0,11.0,15.0,12.0,22.0,12.0,12.0,13.0,20.0,10.0,35.0,10.0,14.0,17.0,17.0,11.0,15.0,12.0,22.0,12.0,12.0,13.0,20.0,10.0,35.0,10.0,14.0,17.0,17.0,11.0,15.0,12.0,22.0,12.0,12.0,13.0,20.0,10.0,35.0,10.0,14.0,17.0,17.0,11.0,15.0,12.0,22.0,12.0,12.0,13.0,20.0,10.0,35.0,10.0,14.0,17.0,17.0,11.0,15.0,12.0,22.0,12.0,12.0,13.0,20.0,10.0,35.0,10.0,14.0,17.0,17.0,11.0,15.0,12.0,22.0,12.0,12.0,13.0,20.0,10.0,35.0,10.0,14.0,17.0,17.0,11.0,15.0,12.0,22.0,12.0,12.0,13.0,20.0,10.0,35.0,10.0,14.0,17.0,17.0,11.0,15.0,12.0,22.0,12.0,12.0,13.0,20.0,10.0,35.0],\"xaxis\":\"x\",\"yaxis\":\"y\",\"type\":\"histogram\"},{\"alignmentgroup\":\"True\",\"bingroup\":\"x\",\"hovertemplate\":\"Dominant_Emotion=Sadness\\u003cbr\\u003eLikes_Received_Per_Day=%{x}\\u003cbr\\u003ecount=%{y}\\u003cextra\\u003e\\u003c\\u002fextra\\u003e\",\"legendgroup\":\"Sadness\",\"marker\":{\"color\":\"#19d3f3\",\"pattern\":{\"shape\":\"\"}},\"name\":\"Sadness\",\"offsetgroup\":\"Sadness\",\"orientation\":\"v\",\"showlegend\":true,\"x\":[25.0,20.0,33.0,20.0,6.0,88.0,6.0,33.0,60.0,15.0,40.0,18.0,22.0,18.0,40.0,20.0,35.0,30.0,40.0,25.0,8.0,95.0,9.0,37.0,65.0,18.0,42.0,21.0,23.0,20.0,45.0,23.0,35.0,30.0,40.0,25.0,8.0,95.0,9.0,37.0,65.0,18.0,42.0,21.0,23.0,20.0,45.0,23.0,35.0,30.0,40.0,25.0,8.0,95.0,9.0,37.0,65.0,18.0,42.0,21.0,23.0,20.0,45.0,23.0,35.0,30.0,40.0,25.0,8.0,95.0,9.0,37.0,65.0,18.0,42.0,21.0,23.0,20.0,45.0,23.0,35.0,30.0,40.0,25.0,8.0,95.0,9.0,37.0,65.0,18.0,42.0,21.0,23.0,20.0,45.0,23.0,35.0,30.0,40.0,25.0,8.0,95.0,9.0,37.0,65.0,18.0,42.0,21.0,23.0,20.0,45.0,23.0,35.0,30.0,40.0,25.0,8.0,95.0,9.0,37.0,65.0,18.0,42.0,21.0,23.0,20.0,45.0,23.0,35.0,30.0,40.0,25.0,8.0,95.0,9.0,37.0,65.0,18.0,42.0,21.0,23.0,20.0,45.0,23.0,35.0,30.0,40.0,25.0,8.0,95.0,9.0,37.0,65.0,18.0,42.0,21.0,23.0,20.0,45.0,23.0],\"xaxis\":\"x\",\"yaxis\":\"y\",\"type\":\"histogram\"}],                        {\"template\":{\"data\":{\"histogram2dcontour\":[{\"type\":\"histogram2dcontour\",\"colorbar\":{\"outlinewidth\":0,\"ticks\":\"\"},\"colorscale\":[[0.0,\"#0d0887\"],[0.1111111111111111,\"#46039f\"],[0.2222222222222222,\"#7201a8\"],[0.3333333333333333,\"#9c179e\"],[0.4444444444444444,\"#bd3786\"],[0.5555555555555556,\"#d8576b\"],[0.6666666666666666,\"#ed7953\"],[0.7777777777777778,\"#fb9f3a\"],[0.8888888888888888,\"#fdca26\"],[1.0,\"#f0f921\"]]}],\"choropleth\":[{\"type\":\"choropleth\",\"colorbar\":{\"outlinewidth\":0,\"ticks\":\"\"}}],\"histogram2d\":[{\"type\":\"histogram2d\",\"colorbar\":{\"outlinewidth\":0,\"ticks\":\"\"},\"colorscale\":[[0.0,\"#0d0887\"],[0.1111111111111111,\"#46039f\"],[0.2222222222222222,\"#7201a8\"],[0.3333333333333333,\"#9c179e\"],[0.4444444444444444,\"#bd3786\"],[0.5555555555555556,\"#d8576b\"],[0.6666666666666666,\"#ed7953\"],[0.7777777777777778,\"#fb9f3a\"],[0.8888888888888888,\"#fdca26\"],[1.0,\"#f0f921\"]]}],\"heatmap\":[{\"type\":\"heatmap\",\"colorbar\":{\"outlinewidth\":0,\"ticks\":\"\"},\"colorscale\":[[0.0,\"#0d0887\"],[0.1111111111111111,\"#46039f\"],[0.2222222222222222,\"#7201a8\"],[0.3333333333333333,\"#9c179e\"],[0.4444444444444444,\"#bd3786\"],[0.5555555555555556,\"#d8576b\"],[0.6666666666666666,\"#ed7953\"],[0.7777777777777778,\"#fb9f3a\"],[0.8888888888888888,\"#fdca26\"],[1.0,\"#f0f921\"]]}],\"heatmapgl\":[{\"type\":\"heatmapgl\",\"colorbar\":{\"outlinewidth\":0,\"ticks\":\"\"},\"colorscale\":[[0.0,\"#0d0887\"],[0.1111111111111111,\"#46039f\"],[0.2222222222222222,\"#7201a8\"],[0.3333333333333333,\"#9c179e\"],[0.4444444444444444,\"#bd3786\"],[0.5555555555555556,\"#d8576b\"],[0.6666666666666666,\"#ed7953\"],[0.7777777777777778,\"#fb9f3a\"],[0.8888888888888888,\"#fdca26\"],[1.0,\"#f0f921\"]]}],\"contourcarpet\":[{\"type\":\"contourcarpet\",\"colorbar\":{\"outlinewidth\":0,\"ticks\":\"\"}}],\"contour\":[{\"type\":\"contour\",\"colorbar\":{\"outlinewidth\":0,\"ticks\":\"\"},\"colorscale\":[[0.0,\"#0d0887\"],[0.1111111111111111,\"#46039f\"],[0.2222222222222222,\"#7201a8\"],[0.3333333333333333,\"#9c179e\"],[0.4444444444444444,\"#bd3786\"],[0.5555555555555556,\"#d8576b\"],[0.6666666666666666,\"#ed7953\"],[0.7777777777777778,\"#fb9f3a\"],[0.8888888888888888,\"#fdca26\"],[1.0,\"#f0f921\"]]}],\"surface\":[{\"type\":\"surface\",\"colorbar\":{\"outlinewidth\":0,\"ticks\":\"\"},\"colorscale\":[[0.0,\"#0d0887\"],[0.1111111111111111,\"#46039f\"],[0.2222222222222222,\"#7201a8\"],[0.3333333333333333,\"#9c179e\"],[0.4444444444444444,\"#bd3786\"],[0.5555555555555556,\"#d8576b\"],[0.6666666666666666,\"#ed7953\"],[0.7777777777777778,\"#fb9f3a\"],[0.8888888888888888,\"#fdca26\"],[1.0,\"#f0f921\"]]}],\"mesh3d\":[{\"type\":\"mesh3d\",\"colorbar\":{\"outlinewidth\":0,\"ticks\":\"\"}}],\"scatter\":[{\"fillpattern\":{\"fillmode\":\"overlay\",\"size\":10,\"solidity\":0.2},\"type\":\"scatter\"}],\"parcoords\":[{\"type\":\"parcoords\",\"line\":{\"colorbar\":{\"outlinewidth\":0,\"ticks\":\"\"}}}],\"scatterpolargl\":[{\"type\":\"scatterpolargl\",\"marker\":{\"colorbar\":{\"outlinewidth\":0,\"ticks\":\"\"}}}],\"bar\":[{\"error_x\":{\"color\":\"#2a3f5f\"},\"error_y\":{\"color\":\"#2a3f5f\"},\"marker\":{\"line\":{\"color\":\"#E5ECF6\",\"width\":0.5},\"pattern\":{\"fillmode\":\"overlay\",\"size\":10,\"solidity\":0.2}},\"type\":\"bar\"}],\"scattergeo\":[{\"type\":\"scattergeo\",\"marker\":{\"colorbar\":{\"outlinewidth\":0,\"ticks\":\"\"}}}],\"scatterpolar\":[{\"type\":\"scatterpolar\",\"marker\":{\"colorbar\":{\"outlinewidth\":0,\"ticks\":\"\"}}}],\"histogram\":[{\"marker\":{\"pattern\":{\"fillmode\":\"overlay\",\"size\":10,\"solidity\":0.2}},\"type\":\"histogram\"}],\"scattergl\":[{\"type\":\"scattergl\",\"marker\":{\"colorbar\":{\"outlinewidth\":0,\"ticks\":\"\"}}}],\"scatter3d\":[{\"type\":\"scatter3d\",\"line\":{\"colorbar\":{\"outlinewidth\":0,\"ticks\":\"\"}},\"marker\":{\"colorbar\":{\"outlinewidth\":0,\"ticks\":\"\"}}}],\"scattermapbox\":[{\"type\":\"scattermapbox\",\"marker\":{\"colorbar\":{\"outlinewidth\":0,\"ticks\":\"\"}}}],\"scatterternary\":[{\"type\":\"scatterternary\",\"marker\":{\"colorbar\":{\"outlinewidth\":0,\"ticks\":\"\"}}}],\"scattercarpet\":[{\"type\":\"scattercarpet\",\"marker\":{\"colorbar\":{\"outlinewidth\":0,\"ticks\":\"\"}}}],\"carpet\":[{\"aaxis\":{\"endlinecolor\":\"#2a3f5f\",\"gridcolor\":\"white\",\"linecolor\":\"white\",\"minorgridcolor\":\"white\",\"startlinecolor\":\"#2a3f5f\"},\"baxis\":{\"endlinecolor\":\"#2a3f5f\",\"gridcolor\":\"white\",\"linecolor\":\"white\",\"minorgridcolor\":\"white\",\"startlinecolor\":\"#2a3f5f\"},\"type\":\"carpet\"}],\"table\":[{\"cells\":{\"fill\":{\"color\":\"#EBF0F8\"},\"line\":{\"color\":\"white\"}},\"header\":{\"fill\":{\"color\":\"#C8D4E3\"},\"line\":{\"color\":\"white\"}},\"type\":\"table\"}],\"barpolar\":[{\"marker\":{\"line\":{\"color\":\"#E5ECF6\",\"width\":0.5},\"pattern\":{\"fillmode\":\"overlay\",\"size\":10,\"solidity\":0.2}},\"type\":\"barpolar\"}],\"pie\":[{\"automargin\":true,\"type\":\"pie\"}]},\"layout\":{\"autotypenumbers\":\"strict\",\"colorway\":[\"#636efa\",\"#EF553B\",\"#00cc96\",\"#ab63fa\",\"#FFA15A\",\"#19d3f3\",\"#FF6692\",\"#B6E880\",\"#FF97FF\",\"#FECB52\"],\"font\":{\"color\":\"#2a3f5f\"},\"hovermode\":\"closest\",\"hoverlabel\":{\"align\":\"left\"},\"paper_bgcolor\":\"white\",\"plot_bgcolor\":\"#E5ECF6\",\"polar\":{\"bgcolor\":\"#E5ECF6\",\"angularaxis\":{\"gridcolor\":\"white\",\"linecolor\":\"white\",\"ticks\":\"\"},\"radialaxis\":{\"gridcolor\":\"white\",\"linecolor\":\"white\",\"ticks\":\"\"}},\"ternary\":{\"bgcolor\":\"#E5ECF6\",\"aaxis\":{\"gridcolor\":\"white\",\"linecolor\":\"white\",\"ticks\":\"\"},\"baxis\":{\"gridcolor\":\"white\",\"linecolor\":\"white\",\"ticks\":\"\"},\"caxis\":{\"gridcolor\":\"white\",\"linecolor\":\"white\",\"ticks\":\"\"}},\"coloraxis\":{\"colorbar\":{\"outlinewidth\":0,\"ticks\":\"\"}},\"colorscale\":{\"sequential\":[[0.0,\"#0d0887\"],[0.1111111111111111,\"#46039f\"],[0.2222222222222222,\"#7201a8\"],[0.3333333333333333,\"#9c179e\"],[0.4444444444444444,\"#bd3786\"],[0.5555555555555556,\"#d8576b\"],[0.6666666666666666,\"#ed7953\"],[0.7777777777777778,\"#fb9f3a\"],[0.8888888888888888,\"#fdca26\"],[1.0,\"#f0f921\"]],\"sequentialminus\":[[0.0,\"#0d0887\"],[0.1111111111111111,\"#46039f\"],[0.2222222222222222,\"#7201a8\"],[0.3333333333333333,\"#9c179e\"],[0.4444444444444444,\"#bd3786\"],[0.5555555555555556,\"#d8576b\"],[0.6666666666666666,\"#ed7953\"],[0.7777777777777778,\"#fb9f3a\"],[0.8888888888888888,\"#fdca26\"],[1.0,\"#f0f921\"]],\"diverging\":[[0,\"#8e0152\"],[0.1,\"#c51b7d\"],[0.2,\"#de77ae\"],[0.3,\"#f1b6da\"],[0.4,\"#fde0ef\"],[0.5,\"#f7f7f7\"],[0.6,\"#e6f5d0\"],[0.7,\"#b8e186\"],[0.8,\"#7fbc41\"],[0.9,\"#4d9221\"],[1,\"#276419\"]]},\"xaxis\":{\"gridcolor\":\"white\",\"linecolor\":\"white\",\"ticks\":\"\",\"title\":{\"standoff\":15},\"zerolinecolor\":\"white\",\"automargin\":true,\"zerolinewidth\":2},\"yaxis\":{\"gridcolor\":\"white\",\"linecolor\":\"white\",\"ticks\":\"\",\"title\":{\"standoff\":15},\"zerolinecolor\":\"white\",\"automargin\":true,\"zerolinewidth\":2},\"scene\":{\"xaxis\":{\"backgroundcolor\":\"#E5ECF6\",\"gridcolor\":\"white\",\"linecolor\":\"white\",\"showbackground\":true,\"ticks\":\"\",\"zerolinecolor\":\"white\",\"gridwidth\":2},\"yaxis\":{\"backgroundcolor\":\"#E5ECF6\",\"gridcolor\":\"white\",\"linecolor\":\"white\",\"showbackground\":true,\"ticks\":\"\",\"zerolinecolor\":\"white\",\"gridwidth\":2},\"zaxis\":{\"backgroundcolor\":\"#E5ECF6\",\"gridcolor\":\"white\",\"linecolor\":\"white\",\"showbackground\":true,\"ticks\":\"\",\"zerolinecolor\":\"white\",\"gridwidth\":2}},\"shapedefaults\":{\"line\":{\"color\":\"#2a3f5f\"}},\"annotationdefaults\":{\"arrowcolor\":\"#2a3f5f\",\"arrowhead\":0,\"arrowwidth\":1},\"geo\":{\"bgcolor\":\"white\",\"landcolor\":\"#E5ECF6\",\"subunitcolor\":\"white\",\"showland\":true,\"showlakes\":true,\"lakecolor\":\"white\"},\"title\":{\"x\":0.05},\"mapbox\":{\"style\":\"light\"}}},\"xaxis\":{\"anchor\":\"y\",\"domain\":[0.0,1.0],\"title\":{\"text\":\"Likes_Received_Per_Day\"}},\"yaxis\":{\"anchor\":\"x\",\"domain\":[0.0,1.0],\"title\":{\"text\":\"count\"}},\"legend\":{\"title\":{\"text\":\"Dominant_Emotion\"},\"tracegroupgap\":0},\"title\":{\"text\":\"Likes Received vs Dominant Emotion\"},\"barmode\":\"relative\"},                        {\"responsive\": true}                    ).then(function(){\n",
       "                            \n",
       "var gd = document.getElementById('edd6967f-5965-48fb-9038-6faac0e14fb7');\n",
       "var x = new MutationObserver(function (mutations, observer) {{\n",
       "        var display = window.getComputedStyle(gd).display;\n",
       "        if (!display || display === 'none') {{\n",
       "            console.log([gd, 'removed!']);\n",
       "            Plotly.purge(gd);\n",
       "            observer.disconnect();\n",
       "        }}\n",
       "}});\n",
       "\n",
       "// Listen for the removal of the full notebook cells\n",
       "var notebookContainer = gd.closest('#notebook-container');\n",
       "if (notebookContainer) {{\n",
       "    x.observe(notebookContainer, {childList: true});\n",
       "}}\n",
       "\n",
       "// Listen for the clearing of the current output cell\n",
       "var outputEl = gd.closest('.output');\n",
       "if (outputEl) {{\n",
       "    x.observe(outputEl, {childList: true});\n",
       "}}\n",
       "\n",
       "                        })                };                });            </script>        </div>"
      ]
     },
     "metadata": {},
     "output_type": "display_data"
    }
   ],
   "source": [
    "plt = px.histogram(train_df, x='Likes_Received_Per_Day', color='Dominant_Emotion', title='Likes Received vs Dominant Emotion')\n",
    "plt.show()"
   ]
  },
  {
   "cell_type": "markdown",
   "id": "f3b5b094",
   "metadata": {
    "papermill": {
     "duration": 0.041702,
     "end_time": "2024-05-23T11:22:55.786025",
     "exception": false,
     "start_time": "2024-05-23T11:22:55.744323",
     "status": "completed"
    },
    "tags": []
   },
   "source": [
    "# Model Training"
   ]
  },
  {
   "cell_type": "code",
   "execution_count": 56,
   "id": "4592b340",
   "metadata": {
    "execution": {
     "iopub.execute_input": "2024-05-23T11:22:55.873316Z",
     "iopub.status.busy": "2024-05-23T11:22:55.872912Z",
     "iopub.status.idle": "2024-05-23T11:22:56.578194Z",
     "shell.execute_reply": "2024-05-23T11:22:56.577023Z"
    },
    "papermill": {
     "duration": 0.752863,
     "end_time": "2024-05-23T11:22:56.581051",
     "exception": false,
     "start_time": "2024-05-23T11:22:55.828188",
     "status": "completed"
    },
    "tags": []
   },
   "outputs": [],
   "source": [
    "# Import the necessary libraries\n",
    "from sklearn.model_selection import train_test_split\n",
    "from sklearn.preprocessing import OneHotEncoder, StandardScaler\n",
    "from sklearn.compose import ColumnTransformer\n",
    "from sklearn.pipeline import Pipeline\n",
    "from sklearn.ensemble import RandomForestClassifier\n",
    "from xgboost import XGBClassifier\n",
    "from sklearn.metrics import classification_report"
   ]
  },
  {
   "cell_type": "code",
   "execution_count": 57,
   "id": "e64909f6",
   "metadata": {
    "execution": {
     "iopub.execute_input": "2024-05-23T11:22:56.667961Z",
     "iopub.status.busy": "2024-05-23T11:22:56.667122Z",
     "iopub.status.idle": "2024-05-23T11:22:56.677568Z",
     "shell.execute_reply": "2024-05-23T11:22:56.676446Z"
    },
    "papermill": {
     "duration": 0.056183,
     "end_time": "2024-05-23T11:22:56.679790",
     "exception": false,
     "start_time": "2024-05-23T11:22:56.623607",
     "status": "completed"
    },
    "tags": []
   },
   "outputs": [
    {
     "data": {
      "text/plain": [
       "User_ID                       0\n",
       "Age                           0\n",
       "Gender                        0\n",
       "Platform                      0\n",
       "Daily_Usage_Time (minutes)    1\n",
       "Posts_Per_Day                 0\n",
       "Likes_Received_Per_Day        0\n",
       "Comments_Received_Per_Day     0\n",
       "Messages_Sent_Per_Day         1\n",
       "Dominant_Emotion              0\n",
       "dtype: int64"
      ]
     },
     "execution_count": 57,
     "metadata": {},
     "output_type": "execute_result"
    }
   ],
   "source": [
    "# Checking for missing values\n",
    "train_df.isnull().sum()"
   ]
  },
  {
   "cell_type": "code",
   "execution_count": 58,
   "id": "2c697c82",
   "metadata": {
    "execution": {
     "iopub.execute_input": "2024-05-23T11:22:56.767317Z",
     "iopub.status.busy": "2024-05-23T11:22:56.766605Z",
     "iopub.status.idle": "2024-05-23T11:22:56.773023Z",
     "shell.execute_reply": "2024-05-23T11:22:56.771936Z"
    },
    "papermill": {
     "duration": 0.053537,
     "end_time": "2024-05-23T11:22:56.775432",
     "exception": false,
     "start_time": "2024-05-23T11:22:56.721895",
     "status": "completed"
    },
    "tags": []
   },
   "outputs": [],
   "source": [
    "# Let's drop the missing values\n",
    "train_df.dropna(inplace=True)"
   ]
  },
  {
   "cell_type": "code",
   "execution_count": 59,
   "id": "3083de92",
   "metadata": {
    "execution": {
     "iopub.execute_input": "2024-05-23T11:22:56.863031Z",
     "iopub.status.busy": "2024-05-23T11:22:56.862278Z",
     "iopub.status.idle": "2024-05-23T11:22:56.872310Z",
     "shell.execute_reply": "2024-05-23T11:22:56.871210Z"
    },
    "papermill": {
     "duration": 0.056954,
     "end_time": "2024-05-23T11:22:56.874839",
     "exception": false,
     "start_time": "2024-05-23T11:22:56.817885",
     "status": "completed"
    },
    "tags": []
   },
   "outputs": [],
   "source": [
    "# Define features and target\n",
    "X = train_df.drop(columns=['Dominant_Emotion', 'User_ID']) # Features\n",
    "y = train_df['Dominant_Emotion'] # Target\n",
    "\n",
    "# Split into training and test sets\n",
    "X_train, X_test, y_train, y_test = train_test_split(X, y, test_size=0.2, random_state=42)\n"
   ]
  },
  {
   "cell_type": "code",
   "execution_count": 60,
   "id": "1a0fbd4e",
   "metadata": {
    "execution": {
     "iopub.execute_input": "2024-05-23T11:22:56.962858Z",
     "iopub.status.busy": "2024-05-23T11:22:56.962045Z",
     "iopub.status.idle": "2024-05-23T11:22:56.967545Z",
     "shell.execute_reply": "2024-05-23T11:22:56.966778Z"
    },
    "papermill": {
     "duration": 0.051888,
     "end_time": "2024-05-23T11:22:56.969669",
     "exception": false,
     "start_time": "2024-05-23T11:22:56.917781",
     "status": "completed"
    },
    "tags": []
   },
   "outputs": [],
   "source": [
    "# Define preprocessing steps. Seeperating the numerical and categorical features\n",
    "numeric_features = ['Daily_Usage_Time (minutes)', 'Posts_Per_Day', 'Likes_Received_Per_Day', 'Comments_Received_Per_Day', 'Messages_Sent_Per_Day']\n",
    "categorical_features = ['Age', 'Gender', 'Platform']\n",
    "\n",
    "preprocessor = ColumnTransformer(\n",
    "    transformers=[\n",
    "        ('num', StandardScaler(), numeric_features),\n",
    "        ('cat', OneHotEncoder(), categorical_features)])"
   ]
  },
  {
   "cell_type": "markdown",
   "id": "16a79e32",
   "metadata": {
    "papermill": {
     "duration": 0.042516,
     "end_time": "2024-05-23T11:22:57.054299",
     "exception": false,
     "start_time": "2024-05-23T11:22:57.011783",
     "status": "completed"
    },
    "tags": []
   },
   "source": [
    "### Random Forest Classifier"
   ]
  },
  {
   "cell_type": "markdown",
   "id": "9c75ab57",
   "metadata": {
    "papermill": {
     "duration": 0.043387,
     "end_time": "2024-05-23T11:22:57.140300",
     "exception": false,
     "start_time": "2024-05-23T11:22:57.096913",
     "status": "completed"
    },
    "tags": []
   },
   "source": [
    "`Random Forest is an ensemble learning method that constructs multiple decision trees during training and outputs the mode of the classes (classification). It improves predictive performance and reduces overfitting compared to a single decision tree by averaging the results of many trees.`"
   ]
  },
  {
   "cell_type": "code",
   "execution_count": 61,
   "id": "c8aa4775",
   "metadata": {
    "execution": {
     "iopub.execute_input": "2024-05-23T11:22:57.227113Z",
     "iopub.status.busy": "2024-05-23T11:22:57.226349Z",
     "iopub.status.idle": "2024-05-23T11:22:57.636870Z",
     "shell.execute_reply": "2024-05-23T11:22:57.634751Z"
    },
    "papermill": {
     "duration": 0.45703,
     "end_time": "2024-05-23T11:22:57.639668",
     "exception": false,
     "start_time": "2024-05-23T11:22:57.182638",
     "status": "completed"
    },
    "tags": []
   },
   "outputs": [
    {
     "name": "stdout",
     "output_type": "stream",
     "text": [
      "Random Forest Classifier Report:\n",
      "              precision    recall  f1-score   support\n",
      "\n",
      "       Anger       1.00      1.00      1.00        29\n",
      "     Anxiety       1.00      0.97      0.99        39\n",
      "     Boredom       1.00      1.00      1.00        31\n",
      "   Happiness       1.00      1.00      1.00        35\n",
      "     Neutral       0.98      1.00      0.99        42\n",
      "     Sadness       1.00      1.00      1.00        24\n",
      "\n",
      "    accuracy                           0.99       200\n",
      "   macro avg       1.00      1.00      1.00       200\n",
      "weighted avg       1.00      0.99      0.99       200\n",
      "\n"
     ]
    }
   ],
   "source": [
    "# Random Forest Classifier\n",
    "rf_pipeline = Pipeline(steps=[('preprocessor', preprocessor),\n",
    "                              ('classifier', RandomForestClassifier(random_state=42))])\n",
    "\n",
    "rf_pipeline.fit(X_train, y_train)\n",
    "y_pred_rf = rf_pipeline.predict(X_test)\n",
    "\n",
    "print(\"Random Forest Classifier Report:\")\n",
    "print(classification_report(y_test, y_pred_rf))"
   ]
  },
  {
   "cell_type": "markdown",
   "id": "78928bfb",
   "metadata": {
    "papermill": {
     "duration": 0.042442,
     "end_time": "2024-05-23T11:22:57.725186",
     "exception": false,
     "start_time": "2024-05-23T11:22:57.682744",
     "status": "completed"
    },
    "tags": []
   },
   "source": [
    "### XGBoost Classifier"
   ]
  },
  {
   "cell_type": "markdown",
   "id": "33b31d35",
   "metadata": {
    "papermill": {
     "duration": 0.04266,
     "end_time": "2024-05-23T11:22:57.810465",
     "exception": false,
     "start_time": "2024-05-23T11:22:57.767805",
     "status": "completed"
    },
    "tags": []
   },
   "source": [
    "`XGBoost (Extreme Gradient Boosting) is a scalable and efficient implementation of gradient boosting algorithms. It builds an ensemble of trees in a sequential manner, where each tree tries to correct the errors of the previous trees. XGBoost is known for its high performance and speed, making it popular for structured or tabular data tasks in machine learning competitions and real-world applications.`\n"
   ]
  },
  {
   "cell_type": "code",
   "execution_count": 62,
   "id": "ff4026f1",
   "metadata": {
    "execution": {
     "iopub.execute_input": "2024-05-23T11:22:57.900702Z",
     "iopub.status.busy": "2024-05-23T11:22:57.899537Z",
     "iopub.status.idle": "2024-05-23T11:22:57.906428Z",
     "shell.execute_reply": "2024-05-23T11:22:57.905247Z"
    },
    "papermill": {
     "duration": 0.054686,
     "end_time": "2024-05-23T11:22:57.908973",
     "exception": false,
     "start_time": "2024-05-23T11:22:57.854287",
     "status": "completed"
    },
    "tags": []
   },
   "outputs": [],
   "source": [
    "from sklearn.preprocessing import LabelEncoder\n",
    "# Encode target labels as integers\n",
    "label_encoder = LabelEncoder()\n",
    "y_encoded = label_encoder.fit_transform(y)"
   ]
  },
  {
   "cell_type": "code",
   "execution_count": 63,
   "id": "bce1309c",
   "metadata": {
    "execution": {
     "iopub.execute_input": "2024-05-23T11:22:57.998223Z",
     "iopub.status.busy": "2024-05-23T11:22:57.996878Z",
     "iopub.status.idle": "2024-05-23T11:22:58.273936Z",
     "shell.execute_reply": "2024-05-23T11:22:58.272988Z"
    },
    "papermill": {
     "duration": 0.324399,
     "end_time": "2024-05-23T11:22:58.276716",
     "exception": false,
     "start_time": "2024-05-23T11:22:57.952317",
     "status": "completed"
    },
    "tags": []
   },
   "outputs": [],
   "source": [
    "# Split into training and test sets\n",
    "X_train, X_test, y_train, y_test = train_test_split(X, y_encoded, test_size=0.2, random_state=42)\n",
    "\n",
    "# XGBoost Classifier\n",
    "xgb_pipeline = Pipeline(steps=[('preprocessor', preprocessor),\n",
    "                               ('classifier', XGBClassifier(random_state=42))])\n",
    "\n",
    "xgb_pipeline.fit(X_train, y_train)\n",
    "y_pred_xgb = xgb_pipeline.predict(X_test)"
   ]
  },
  {
   "cell_type": "code",
   "execution_count": 64,
   "id": "c4dda9ed",
   "metadata": {
    "execution": {
     "iopub.execute_input": "2024-05-23T11:22:58.379409Z",
     "iopub.status.busy": "2024-05-23T11:22:58.379020Z",
     "iopub.status.idle": "2024-05-23T11:22:58.402158Z",
     "shell.execute_reply": "2024-05-23T11:22:58.400737Z"
    },
    "papermill": {
     "duration": 0.070293,
     "end_time": "2024-05-23T11:22:58.404939",
     "exception": false,
     "start_time": "2024-05-23T11:22:58.334646",
     "status": "completed"
    },
    "tags": []
   },
   "outputs": [
    {
     "name": "stdout",
     "output_type": "stream",
     "text": [
      "XGBoost Classifier Report:\n",
      "              precision    recall  f1-score   support\n",
      "\n",
      "       Anger       1.00      1.00      1.00        29\n",
      "     Anxiety       1.00      0.92      0.96        39\n",
      "     Boredom       0.94      1.00      0.97        31\n",
      "   Happiness       1.00      1.00      1.00        35\n",
      "     Neutral       0.98      1.00      0.99        42\n",
      "     Sadness       1.00      1.00      1.00        24\n",
      "\n",
      "    accuracy                           0.98       200\n",
      "   macro avg       0.99      0.99      0.99       200\n",
      "weighted avg       0.99      0.98      0.98       200\n",
      "\n"
     ]
    }
   ],
   "source": [
    "# Decode the predicted labels back to original string labels for the report\n",
    "y_test_decoded = label_encoder.inverse_transform(y_test)\n",
    "y_pred_xgb_decoded = label_encoder.inverse_transform(y_pred_xgb)\n",
    "\n",
    "print(\"XGBoost Classifier Report:\")\n",
    "print(classification_report(y_test_decoded, y_pred_xgb_decoded))"
   ]
  },
  {
   "cell_type": "markdown",
   "id": "1c61f90c",
   "metadata": {
    "papermill": {
     "duration": 0.045885,
     "end_time": "2024-05-23T11:22:58.495181",
     "exception": false,
     "start_time": "2024-05-23T11:22:58.449296",
     "status": "completed"
    },
    "tags": []
   },
   "source": [
    "## Neural Network"
   ]
  },
  {
   "cell_type": "code",
   "execution_count": 65,
   "id": "2134cbdb",
   "metadata": {
    "execution": {
     "iopub.execute_input": "2024-05-23T11:22:58.585784Z",
     "iopub.status.busy": "2024-05-23T11:22:58.585353Z",
     "iopub.status.idle": "2024-05-23T11:23:11.687259Z",
     "shell.execute_reply": "2024-05-23T11:23:11.685990Z"
    },
    "papermill": {
     "duration": 13.151034,
     "end_time": "2024-05-23T11:23:11.690203",
     "exception": false,
     "start_time": "2024-05-23T11:22:58.539169",
     "status": "completed"
    },
    "tags": []
   },
   "outputs": [
    {
     "name": "stderr",
     "output_type": "stream",
     "text": [
      "2024-05-23 11:23:00.454061: E external/local_xla/xla/stream_executor/cuda/cuda_dnn.cc:9261] Unable to register cuDNN factory: Attempting to register factory for plugin cuDNN when one has already been registered\n",
      "2024-05-23 11:23:00.454295: E external/local_xla/xla/stream_executor/cuda/cuda_fft.cc:607] Unable to register cuFFT factory: Attempting to register factory for plugin cuFFT when one has already been registered\n",
      "2024-05-23 11:23:00.579179: E external/local_xla/xla/stream_executor/cuda/cuda_blas.cc:1515] Unable to register cuBLAS factory: Attempting to register factory for plugin cuBLAS when one has already been registered\n"
     ]
    }
   ],
   "source": [
    "from sklearn.compose import ColumnTransformer\n",
    "from tensorflow.keras.models import Sequential\n",
    "from tensorflow.keras.layers import Dense, Dropout\n",
    "from tensorflow.keras.utils import to_categorical"
   ]
  },
  {
   "cell_type": "code",
   "execution_count": 66,
   "id": "8a00e202",
   "metadata": {
    "execution": {
     "iopub.execute_input": "2024-05-23T11:23:11.781406Z",
     "iopub.status.busy": "2024-05-23T11:23:11.780562Z",
     "iopub.status.idle": "2024-05-23T11:23:11.810872Z",
     "shell.execute_reply": "2024-05-23T11:23:11.809605Z"
    },
    "papermill": {
     "duration": 0.078709,
     "end_time": "2024-05-23T11:23:11.813687",
     "exception": false,
     "start_time": "2024-05-23T11:23:11.734978",
     "status": "completed"
    },
    "tags": []
   },
   "outputs": [],
   "source": [
    "# Define features and target\n",
    "X = train_df.drop(columns=['Dominant_Emotion', 'User_ID'])\n",
    "y = train_df['Dominant_Emotion']\n",
    "\n",
    "# Encode target labels as integers\n",
    "label_encoder = LabelEncoder()\n",
    "y_encoded = label_encoder.fit_transform(y)\n",
    "\n",
    "# One-hot encode the target labels for neural network\n",
    "y_onehot = to_categorical(y_encoded)\n",
    "\n",
    "# Split into training and test sets\n",
    "X_train, X_test, y_train, y_test = train_test_split(X, y_onehot, test_size=0.2, random_state=42)\n",
    "\n",
    "# Define preprocessing steps for features\n",
    "numeric_features = ['Daily_Usage_Time (minutes)', 'Posts_Per_Day', 'Likes_Received_Per_Day', 'Comments_Received_Per_Day', 'Messages_Sent_Per_Day']\n",
    "categorical_features = ['Age', 'Gender', 'Platform']\n",
    "\n",
    "preprocessor = ColumnTransformer(\n",
    "    transformers=[\n",
    "        ('num', StandardScaler(), numeric_features),\n",
    "        ('cat', OneHotEncoder(), categorical_features)])\n",
    "\n",
    "# Preprocess the features\n",
    "X_train = preprocessor.fit_transform(X_train)\n",
    "X_test = preprocessor.transform(X_test)"
   ]
  },
  {
   "cell_type": "markdown",
   "id": "133ec990",
   "metadata": {
    "papermill": {
     "duration": 0.043415,
     "end_time": "2024-05-23T11:23:11.900882",
     "exception": false,
     "start_time": "2024-05-23T11:23:11.857467",
     "status": "completed"
    },
    "tags": []
   },
   "source": [
    "#### Build the neural network"
   ]
  },
  {
   "cell_type": "code",
   "execution_count": 67,
   "id": "b7a61672",
   "metadata": {
    "execution": {
     "iopub.execute_input": "2024-05-23T11:23:11.991900Z",
     "iopub.status.busy": "2024-05-23T11:23:11.991428Z",
     "iopub.status.idle": "2024-05-23T11:23:23.738164Z",
     "shell.execute_reply": "2024-05-23T11:23:23.737023Z"
    },
    "papermill": {
     "duration": 11.794411,
     "end_time": "2024-05-23T11:23:23.740608",
     "exception": false,
     "start_time": "2024-05-23T11:23:11.946197",
     "status": "completed"
    },
    "tags": []
   },
   "outputs": [
    {
     "name": "stdout",
     "output_type": "stream",
     "text": [
      "Epoch 1/50\n",
      "\u001b[1m23/23\u001b[0m \u001b[32m━━━━━━━━━━━━━━━━━━━━\u001b[0m\u001b[37m\u001b[0m \u001b[1m2s\u001b[0m 19ms/step - accuracy: 0.2200 - loss: 1.7807 - val_accuracy: 0.4750 - val_loss: 1.4713\n",
      "Epoch 2/50\n",
      "\u001b[1m23/23\u001b[0m \u001b[32m━━━━━━━━━━━━━━━━━━━━\u001b[0m\u001b[37m\u001b[0m \u001b[1m0s\u001b[0m 4ms/step - accuracy: 0.3372 - loss: 1.5990 - val_accuracy: 0.6250 - val_loss: 1.3293\n",
      "Epoch 3/50\n",
      "\u001b[1m23/23\u001b[0m \u001b[32m━━━━━━━━━━━━━━━━━━━━\u001b[0m\u001b[37m\u001b[0m \u001b[1m0s\u001b[0m 5ms/step - accuracy: 0.4466 - loss: 1.4568 - val_accuracy: 0.6125 - val_loss: 1.2476\n",
      "Epoch 4/50\n",
      "\u001b[1m23/23\u001b[0m \u001b[32m━━━━━━━━━━━━━━━━━━━━\u001b[0m\u001b[37m\u001b[0m \u001b[1m0s\u001b[0m 4ms/step - accuracy: 0.3941 - loss: 1.4792 - val_accuracy: 0.6000 - val_loss: 1.1823\n",
      "Epoch 5/50\n",
      "\u001b[1m23/23\u001b[0m \u001b[32m━━━━━━━━━━━━━━━━━━━━\u001b[0m\u001b[37m\u001b[0m \u001b[1m0s\u001b[0m 4ms/step - accuracy: 0.5012 - loss: 1.3576 - val_accuracy: 0.6500 - val_loss: 1.1091\n",
      "Epoch 6/50\n",
      "\u001b[1m23/23\u001b[0m \u001b[32m━━━━━━━━━━━━━━━━━━━━\u001b[0m\u001b[37m\u001b[0m \u001b[1m0s\u001b[0m 4ms/step - accuracy: 0.5192 - loss: 1.2723 - val_accuracy: 0.7125 - val_loss: 1.0398\n",
      "Epoch 7/50\n",
      "\u001b[1m23/23\u001b[0m \u001b[32m━━━━━━━━━━━━━━━━━━━━\u001b[0m\u001b[37m\u001b[0m \u001b[1m0s\u001b[0m 4ms/step - accuracy: 0.5414 - loss: 1.2374 - val_accuracy: 0.7500 - val_loss: 0.9670\n",
      "Epoch 8/50\n",
      "\u001b[1m23/23\u001b[0m \u001b[32m━━━━━━━━━━━━━━━━━━━━\u001b[0m\u001b[37m\u001b[0m \u001b[1m0s\u001b[0m 4ms/step - accuracy: 0.5476 - loss: 1.2134 - val_accuracy: 0.7625 - val_loss: 0.9085\n",
      "Epoch 9/50\n",
      "\u001b[1m23/23\u001b[0m \u001b[32m━━━━━━━━━━━━━━━━━━━━\u001b[0m\u001b[37m\u001b[0m \u001b[1m0s\u001b[0m 5ms/step - accuracy: 0.5493 - loss: 1.1160 - val_accuracy: 0.7625 - val_loss: 0.8636\n",
      "Epoch 10/50\n",
      "\u001b[1m23/23\u001b[0m \u001b[32m━━━━━━━━━━━━━━━━━━━━\u001b[0m\u001b[37m\u001b[0m \u001b[1m0s\u001b[0m 5ms/step - accuracy: 0.5821 - loss: 1.1004 - val_accuracy: 0.7500 - val_loss: 0.8339\n",
      "Epoch 11/50\n",
      "\u001b[1m23/23\u001b[0m \u001b[32m━━━━━━━━━━━━━━━━━━━━\u001b[0m\u001b[37m\u001b[0m \u001b[1m0s\u001b[0m 5ms/step - accuracy: 0.6296 - loss: 1.0313 - val_accuracy: 0.7625 - val_loss: 0.7956\n",
      "Epoch 12/50\n",
      "\u001b[1m23/23\u001b[0m \u001b[32m━━━━━━━━━━━━━━━━━━━━\u001b[0m\u001b[37m\u001b[0m \u001b[1m0s\u001b[0m 4ms/step - accuracy: 0.6258 - loss: 0.9606 - val_accuracy: 0.7875 - val_loss: 0.7358\n",
      "Epoch 13/50\n",
      "\u001b[1m23/23\u001b[0m \u001b[32m━━━━━━━━━━━━━━━━━━━━\u001b[0m\u001b[37m\u001b[0m \u001b[1m0s\u001b[0m 5ms/step - accuracy: 0.6585 - loss: 0.9294 - val_accuracy: 0.7875 - val_loss: 0.7154\n",
      "Epoch 14/50\n",
      "\u001b[1m23/23\u001b[0m \u001b[32m━━━━━━━━━━━━━━━━━━━━\u001b[0m\u001b[37m\u001b[0m \u001b[1m0s\u001b[0m 4ms/step - accuracy: 0.6693 - loss: 0.8730 - val_accuracy: 0.8125 - val_loss: 0.6782\n",
      "Epoch 15/50\n",
      "\u001b[1m23/23\u001b[0m \u001b[32m━━━━━━━━━━━━━━━━━━━━\u001b[0m\u001b[37m\u001b[0m \u001b[1m0s\u001b[0m 5ms/step - accuracy: 0.7258 - loss: 0.8513 - val_accuracy: 0.8125 - val_loss: 0.6505\n",
      "Epoch 16/50\n",
      "\u001b[1m23/23\u001b[0m \u001b[32m━━━━━━━━━━━━━━━━━━━━\u001b[0m\u001b[37m\u001b[0m \u001b[1m0s\u001b[0m 4ms/step - accuracy: 0.6922 - loss: 0.8496 - val_accuracy: 0.8250 - val_loss: 0.6095\n",
      "Epoch 17/50\n",
      "\u001b[1m23/23\u001b[0m \u001b[32m━━━━━━━━━━━━━━━━━━━━\u001b[0m\u001b[37m\u001b[0m \u001b[1m0s\u001b[0m 4ms/step - accuracy: 0.7240 - loss: 0.7787 - val_accuracy: 0.8375 - val_loss: 0.5827\n",
      "Epoch 18/50\n",
      "\u001b[1m23/23\u001b[0m \u001b[32m━━━━━━━━━━━━━━━━━━━━\u001b[0m\u001b[37m\u001b[0m \u001b[1m0s\u001b[0m 5ms/step - accuracy: 0.7283 - loss: 0.7684 - val_accuracy: 0.8250 - val_loss: 0.5450\n",
      "Epoch 19/50\n",
      "\u001b[1m23/23\u001b[0m \u001b[32m━━━━━━━━━━━━━━━━━━━━\u001b[0m\u001b[37m\u001b[0m \u001b[1m0s\u001b[0m 5ms/step - accuracy: 0.7317 - loss: 0.7649 - val_accuracy: 0.8375 - val_loss: 0.5247\n",
      "Epoch 20/50\n",
      "\u001b[1m23/23\u001b[0m \u001b[32m━━━━━━━━━━━━━━━━━━━━\u001b[0m\u001b[37m\u001b[0m \u001b[1m0s\u001b[0m 5ms/step - accuracy: 0.7603 - loss: 0.6705 - val_accuracy: 0.8250 - val_loss: 0.5085\n",
      "Epoch 21/50\n",
      "\u001b[1m23/23\u001b[0m \u001b[32m━━━━━━━━━━━━━━━━━━━━\u001b[0m\u001b[37m\u001b[0m \u001b[1m0s\u001b[0m 4ms/step - accuracy: 0.7458 - loss: 0.6747 - val_accuracy: 0.8625 - val_loss: 0.4744\n",
      "Epoch 22/50\n",
      "\u001b[1m23/23\u001b[0m \u001b[32m━━━━━━━━━━━━━━━━━━━━\u001b[0m\u001b[37m\u001b[0m \u001b[1m0s\u001b[0m 4ms/step - accuracy: 0.7412 - loss: 0.6831 - val_accuracy: 0.8375 - val_loss: 0.4591\n",
      "Epoch 23/50\n",
      "\u001b[1m23/23\u001b[0m \u001b[32m━━━━━━━━━━━━━━━━━━━━\u001b[0m\u001b[37m\u001b[0m \u001b[1m0s\u001b[0m 5ms/step - accuracy: 0.7968 - loss: 0.6101 - val_accuracy: 0.8375 - val_loss: 0.4181\n",
      "Epoch 24/50\n",
      "\u001b[1m23/23\u001b[0m \u001b[32m━━━━━━━━━━━━━━━━━━━━\u001b[0m\u001b[37m\u001b[0m \u001b[1m0s\u001b[0m 5ms/step - accuracy: 0.8001 - loss: 0.5727 - val_accuracy: 0.8875 - val_loss: 0.4172\n",
      "Epoch 25/50\n",
      "\u001b[1m23/23\u001b[0m \u001b[32m━━━━━━━━━━━━━━━━━━━━\u001b[0m\u001b[37m\u001b[0m \u001b[1m0s\u001b[0m 5ms/step - accuracy: 0.8176 - loss: 0.5847 - val_accuracy: 0.9000 - val_loss: 0.3860\n",
      "Epoch 26/50\n",
      "\u001b[1m23/23\u001b[0m \u001b[32m━━━━━━━━━━━━━━━━━━━━\u001b[0m\u001b[37m\u001b[0m \u001b[1m0s\u001b[0m 4ms/step - accuracy: 0.8138 - loss: 0.4983 - val_accuracy: 0.9250 - val_loss: 0.3691\n",
      "Epoch 27/50\n",
      "\u001b[1m23/23\u001b[0m \u001b[32m━━━━━━━━━━━━━━━━━━━━\u001b[0m\u001b[37m\u001b[0m \u001b[1m0s\u001b[0m 4ms/step - accuracy: 0.8325 - loss: 0.4966 - val_accuracy: 0.9000 - val_loss: 0.3777\n",
      "Epoch 28/50\n",
      "\u001b[1m23/23\u001b[0m \u001b[32m━━━━━━━━━━━━━━━━━━━━\u001b[0m\u001b[37m\u001b[0m \u001b[1m0s\u001b[0m 4ms/step - accuracy: 0.8285 - loss: 0.5426 - val_accuracy: 0.9250 - val_loss: 0.3502\n",
      "Epoch 29/50\n",
      "\u001b[1m23/23\u001b[0m \u001b[32m━━━━━━━━━━━━━━━━━━━━\u001b[0m\u001b[37m\u001b[0m \u001b[1m0s\u001b[0m 4ms/step - accuracy: 0.8521 - loss: 0.4414 - val_accuracy: 0.9250 - val_loss: 0.3282\n",
      "Epoch 30/50\n",
      "\u001b[1m23/23\u001b[0m \u001b[32m━━━━━━━━━━━━━━━━━━━━\u001b[0m\u001b[37m\u001b[0m \u001b[1m0s\u001b[0m 4ms/step - accuracy: 0.8375 - loss: 0.4675 - val_accuracy: 0.9375 - val_loss: 0.3121\n",
      "Epoch 31/50\n",
      "\u001b[1m23/23\u001b[0m \u001b[32m━━━━━━━━━━━━━━━━━━━━\u001b[0m\u001b[37m\u001b[0m \u001b[1m0s\u001b[0m 4ms/step - accuracy: 0.8709 - loss: 0.4591 - val_accuracy: 0.9625 - val_loss: 0.2999\n",
      "Epoch 32/50\n",
      "\u001b[1m23/23\u001b[0m \u001b[32m━━━━━━━━━━━━━━━━━━━━\u001b[0m\u001b[37m\u001b[0m \u001b[1m0s\u001b[0m 5ms/step - accuracy: 0.8386 - loss: 0.4620 - val_accuracy: 0.9750 - val_loss: 0.2692\n",
      "Epoch 33/50\n",
      "\u001b[1m23/23\u001b[0m \u001b[32m━━━━━━━━━━━━━━━━━━━━\u001b[0m\u001b[37m\u001b[0m \u001b[1m0s\u001b[0m 5ms/step - accuracy: 0.8458 - loss: 0.4403 - val_accuracy: 0.9625 - val_loss: 0.2898\n",
      "Epoch 34/50\n",
      "\u001b[1m23/23\u001b[0m \u001b[32m━━━━━━━━━━━━━━━━━━━━\u001b[0m\u001b[37m\u001b[0m \u001b[1m0s\u001b[0m 4ms/step - accuracy: 0.8675 - loss: 0.4218 - val_accuracy: 0.9500 - val_loss: 0.2714\n",
      "Epoch 35/50\n",
      "\u001b[1m23/23\u001b[0m \u001b[32m━━━━━━━━━━━━━━━━━━━━\u001b[0m\u001b[37m\u001b[0m \u001b[1m0s\u001b[0m 4ms/step - accuracy: 0.8928 - loss: 0.3599 - val_accuracy: 0.9625 - val_loss: 0.2642\n",
      "Epoch 36/50\n",
      "\u001b[1m23/23\u001b[0m \u001b[32m━━━━━━━━━━━━━━━━━━━━\u001b[0m\u001b[37m\u001b[0m \u001b[1m0s\u001b[0m 4ms/step - accuracy: 0.8873 - loss: 0.3680 - val_accuracy: 0.9750 - val_loss: 0.2456\n",
      "Epoch 37/50\n",
      "\u001b[1m23/23\u001b[0m \u001b[32m━━━━━━━━━━━━━━━━━━━━\u001b[0m\u001b[37m\u001b[0m \u001b[1m0s\u001b[0m 5ms/step - accuracy: 0.8719 - loss: 0.3841 - val_accuracy: 0.9750 - val_loss: 0.2305\n",
      "Epoch 38/50\n",
      "\u001b[1m23/23\u001b[0m \u001b[32m━━━━━━━━━━━━━━━━━━━━\u001b[0m\u001b[37m\u001b[0m \u001b[1m0s\u001b[0m 4ms/step - accuracy: 0.8695 - loss: 0.3697 - val_accuracy: 0.9625 - val_loss: 0.2254\n",
      "Epoch 39/50\n",
      "\u001b[1m23/23\u001b[0m \u001b[32m━━━━━━━━━━━━━━━━━━━━\u001b[0m\u001b[37m\u001b[0m \u001b[1m0s\u001b[0m 4ms/step - accuracy: 0.8855 - loss: 0.3281 - val_accuracy: 0.9625 - val_loss: 0.2231\n",
      "Epoch 40/50\n",
      "\u001b[1m23/23\u001b[0m \u001b[32m━━━━━━━━━━━━━━━━━━━━\u001b[0m\u001b[37m\u001b[0m \u001b[1m0s\u001b[0m 4ms/step - accuracy: 0.8663 - loss: 0.3592 - val_accuracy: 0.9625 - val_loss: 0.2172\n",
      "Epoch 41/50\n",
      "\u001b[1m23/23\u001b[0m \u001b[32m━━━━━━━━━━━━━━━━━━━━\u001b[0m\u001b[37m\u001b[0m \u001b[1m0s\u001b[0m 4ms/step - accuracy: 0.8656 - loss: 0.3697 - val_accuracy: 0.9625 - val_loss: 0.2168\n",
      "Epoch 42/50\n",
      "\u001b[1m23/23\u001b[0m \u001b[32m━━━━━━━━━━━━━━━━━━━━\u001b[0m\u001b[37m\u001b[0m \u001b[1m0s\u001b[0m 4ms/step - accuracy: 0.8967 - loss: 0.3079 - val_accuracy: 0.9625 - val_loss: 0.2230\n",
      "Epoch 43/50\n",
      "\u001b[1m23/23\u001b[0m \u001b[32m━━━━━━━━━━━━━━━━━━━━\u001b[0m\u001b[37m\u001b[0m \u001b[1m0s\u001b[0m 4ms/step - accuracy: 0.9046 - loss: 0.3483 - val_accuracy: 0.9625 - val_loss: 0.2023\n",
      "Epoch 44/50\n",
      "\u001b[1m23/23\u001b[0m \u001b[32m━━━━━━━━━━━━━━━━━━━━\u001b[0m\u001b[37m\u001b[0m \u001b[1m0s\u001b[0m 4ms/step - accuracy: 0.9037 - loss: 0.3157 - val_accuracy: 0.9625 - val_loss: 0.1980\n",
      "Epoch 45/50\n",
      "\u001b[1m23/23\u001b[0m \u001b[32m━━━━━━━━━━━━━━━━━━━━\u001b[0m\u001b[37m\u001b[0m \u001b[1m0s\u001b[0m 4ms/step - accuracy: 0.8726 - loss: 0.3588 - val_accuracy: 0.9625 - val_loss: 0.1908\n",
      "Epoch 46/50\n",
      "\u001b[1m23/23\u001b[0m \u001b[32m━━━━━━━━━━━━━━━━━━━━\u001b[0m\u001b[37m\u001b[0m \u001b[1m0s\u001b[0m 4ms/step - accuracy: 0.8870 - loss: 0.3299 - val_accuracy: 0.9625 - val_loss: 0.1801\n",
      "Epoch 47/50\n",
      "\u001b[1m23/23\u001b[0m \u001b[32m━━━━━━━━━━━━━━━━━━━━\u001b[0m\u001b[37m\u001b[0m \u001b[1m0s\u001b[0m 4ms/step - accuracy: 0.9016 - loss: 0.2952 - val_accuracy: 0.9625 - val_loss: 0.1758\n",
      "Epoch 48/50\n",
      "\u001b[1m23/23\u001b[0m \u001b[32m━━━━━━━━━━━━━━━━━━━━\u001b[0m\u001b[37m\u001b[0m \u001b[1m0s\u001b[0m 4ms/step - accuracy: 0.8776 - loss: 0.3237 - val_accuracy: 0.9750 - val_loss: 0.1710\n",
      "Epoch 49/50\n",
      "\u001b[1m23/23\u001b[0m \u001b[32m━━━━━━━━━━━━━━━━━━━━\u001b[0m\u001b[37m\u001b[0m \u001b[1m0s\u001b[0m 4ms/step - accuracy: 0.9008 - loss: 0.2830 - val_accuracy: 0.9625 - val_loss: 0.1657\n",
      "Epoch 50/50\n",
      "\u001b[1m23/23\u001b[0m \u001b[32m━━━━━━━━━━━━━━━━━━━━\u001b[0m\u001b[37m\u001b[0m \u001b[1m0s\u001b[0m 5ms/step - accuracy: 0.8912 - loss: 0.2928 - val_accuracy: 0.9625 - val_loss: 0.1638\n"
     ]
    },
    {
     "data": {
      "text/plain": [
       "<keras.src.callbacks.history.History at 0x7ed84741b340>"
      ]
     },
     "execution_count": 67,
     "metadata": {},
     "output_type": "execute_result"
    }
   ],
   "source": [
    "# Build the neural network\n",
    "model = Sequential()\n",
    "model.add(Dense(128, input_dim=X_train.shape[1], activation='relu'))\n",
    "model.add(Dropout(0.5))\n",
    "model.add(Dense(64, activation='relu'))\n",
    "model.add(Dropout(0.5))\n",
    "model.add(Dense(y_onehot.shape[1], activation='softmax'))\n",
    "\n",
    "# Compile the model\n",
    "model.compile(optimizer='adam', loss='categorical_crossentropy', metrics=['accuracy'])\n",
    "\n",
    "# Train the model\n",
    "model.fit(X_train, y_train, epochs=50, batch_size=32, validation_split=0.1)"
   ]
  },
  {
   "cell_type": "code",
   "execution_count": 68,
   "id": "3bbabdf8",
   "metadata": {
    "execution": {
     "iopub.execute_input": "2024-05-23T11:23:23.857893Z",
     "iopub.status.busy": "2024-05-23T11:23:23.856635Z",
     "iopub.status.idle": "2024-05-23T11:23:24.426079Z",
     "shell.execute_reply": "2024-05-23T11:23:24.425031Z"
    },
    "papermill": {
     "duration": 0.630802,
     "end_time": "2024-05-23T11:23:24.428763",
     "exception": false,
     "start_time": "2024-05-23T11:23:23.797961",
     "status": "completed"
    },
    "tags": []
   },
   "outputs": [
    {
     "name": "stdout",
     "output_type": "stream",
     "text": [
      "\u001b[1m7/7\u001b[0m \u001b[32m━━━━━━━━━━━━━━━━━━━━\u001b[0m\u001b[37m\u001b[0m \u001b[1m0s\u001b[0m 2ms/step - accuracy: 0.9421 - loss: 0.1988 \n",
      "Accuracy: 0.95\n",
      "\u001b[1m7/7\u001b[0m \u001b[32m━━━━━━━━━━━━━━━━━━━━\u001b[0m\u001b[37m\u001b[0m \u001b[1m0s\u001b[0m 14ms/step\n"
     ]
    }
   ],
   "source": [
    "# Evaluate the model\n",
    "loss, accuracy = model.evaluate(X_test, y_test)\n",
    "print(f'Accuracy: {accuracy:.2f}')\n",
    "\n",
    "# Make predictions\n",
    "y_pred = model.predict(X_test)\n",
    "y_pred_classes = np.argmax(y_pred, axis=1)\n",
    "y_test_classes = np.argmax(y_test, axis=1)\n",
    "\n",
    "# Decode the predicted and true labels back to original string labels for the report\n",
    "y_pred_labels = label_encoder.inverse_transform(y_pred_classes)\n",
    "y_test_labels = label_encoder.inverse_transform(y_test_classes)"
   ]
  },
  {
   "cell_type": "code",
   "execution_count": 69,
   "id": "258c3dc7",
   "metadata": {
    "execution": {
     "iopub.execute_input": "2024-05-23T11:23:24.547829Z",
     "iopub.status.busy": "2024-05-23T11:23:24.547402Z",
     "iopub.status.idle": "2024-05-23T11:23:24.570035Z",
     "shell.execute_reply": "2024-05-23T11:23:24.568797Z"
    },
    "papermill": {
     "duration": 0.085476,
     "end_time": "2024-05-23T11:23:24.572660",
     "exception": false,
     "start_time": "2024-05-23T11:23:24.487184",
     "status": "completed"
    },
    "tags": []
   },
   "outputs": [
    {
     "name": "stdout",
     "output_type": "stream",
     "text": [
      "Neural Network Classifier Report:\n",
      "              precision    recall  f1-score   support\n",
      "\n",
      "       Anger       1.00      0.93      0.96        29\n",
      "     Anxiety       0.97      0.95      0.96        39\n",
      "     Boredom       0.97      0.97      0.97        31\n",
      "   Happiness       0.97      1.00      0.99        35\n",
      "     Neutral       0.89      0.95      0.92        42\n",
      "     Sadness       0.96      0.92      0.94        24\n",
      "\n",
      "    accuracy                           0.95       200\n",
      "   macro avg       0.96      0.95      0.96       200\n",
      "weighted avg       0.96      0.95      0.96       200\n",
      "\n"
     ]
    }
   ],
   "source": [
    "\n",
    "# Print classification report\n",
    "print(\"Neural Network Classifier Report:\")\n",
    "print(classification_report(y_test_labels, y_pred_labels))"
   ]
  },
  {
   "cell_type": "markdown",
   "id": "bca5dba4",
   "metadata": {
    "papermill": {
     "duration": 0.059073,
     "end_time": "2024-05-23T11:23:24.690969",
     "exception": false,
     "start_time": "2024-05-23T11:23:24.631896",
     "status": "completed"
    },
    "tags": []
   },
   "source": [
    "# Insights:\n",
    "1. `Age Distribution`: We can see that the majority of the users are in all ages between 21 and 35. The higest count is in the age group of 27.\n",
    "2. `Gender Distribution`: We've 4 Values in the Gender Column. _Male_, _Female_, _Non-Binary_, _Unknown_.\n",
    "   1. Male: 332,\n",
    "   2. Female: 344,\n",
    "   3. Non-Binary: 248,\n",
    "   4. Unknown: 77\n",
    "3. `Platform Distribution`: We can see that the majority of the users use Instagram followed by Twitter and Facebook.\n",
    "   1. Instagram    251\n",
    "   2. Twitter      200\n",
    "   3. Facebook     190\n",
    "   4. LinkedIn     120\n",
    "   5. Whatsapp      80\n",
    "   6. Telegram      80\n",
    "   7. Snapchat      80\n",
    "4. `Daily_Usage_Time (minutes)`: The Daily Usage Time is from 40 to 200 minutes. Most count is in range of 60 to 90 minutes. While the Average time is 95 min.M\n",
    "5. `Post per Day:` The Minimum number of post is 1 and Maximum is 8, while the average is 3.32 posts. (Most Count is 2)\n",
    "6. `Likes Received per Day:` The Minimum number of like received is 5 and Highest is 110, while the average is 39.89.\n",
    "7. `Comments Received per Day:` The Minimum number of comment received is 2 and maximum is 40 while the average if 15.61.\n",
    "8. `Messages Sent per Day:` The Minimum number of messages sent is 8 and maximum is 50 while the average if 22.56.\n",
    "9. `Emotions`: We've total 6 emotions: \n",
    "   1.  Happiness: 20.1%\n",
    "   2.  Anger: 13%\n",
    "   3.  Neutral: 20%\n",
    "   4.  Anxiety: 17\n",
    "   5.  Boredom: 14%\n",
    "   6.  Sadness: 16%\n",
    "10. `Gender VS Platform`: \n",
    "    1.  _Instagram_ is most usage app amoung `female` while facebook is the least one.\n",
    "    2.  _Twitter_ is the most usage app amoung `male` followed by instagram. While Whatsapp is the least one.\n",
    "    3.  _Facebook_ is the most usage app amoung `non-binary`.\n",
    "11. ` Post Per Day By Gender`\n",
    "    1.   Instagram:\n",
    "         1.   Total Posts Per Day(Female): 885\n",
    "         2.   Total Posts Per Day(Female): 443\n",
    "    2. Twitter/X:\n",
    "       1.  Total Posts Per Day(Female): 226\n",
    "       2.  Total Posts Per Day(Female): 351\n",
    "    3. LinkedIn:\n",
    "       1. Total Posts Per Day(Female): 60\n",
    "       2. Total Posts Per Day(Female): 58\n",
    "12. `Dominent Emotion by Gender`: \n",
    "    1.  __Female:__ The dominent emotion is _Happniess_ and the count is 102. While _Anger_, _Nuetral_, _Anxiety_ and _Sadness_ are the other emotions with the almost same count range 56 - 48. The count of _Boredom_ is 30 which is the least count amoung other.\n",
    "    2.  __Male__: The dominent emotion is _Happniess_ and the count is 66. While _Anger_, _Nuetral_, _Anxiety_, _Boredom_and _Sadness_ are the other emotions with the almost same count range 58 - 46.\n",
    "    3.  __Non-Binary__: The dominent emotion is _Neutral_ and the count is 82. While _Anxiety_, _Sadness_ and _Boredom_ are the other emotions with the almost same count 46. Anger is the leaset count (10) among the other.\n",
    "13. `Dominant_Emotion` is strongly correlated with `Platform`. \n",
    "    1.  _Happiness_ is the dominant emotion in the _Instagram_ platform. While _Anger_ is the least count.\n",
    "    2.  _Anger_ is the dominant emotion in the _Twitter_ platform and _Whatsapp_. While _Hapniess_ is the least count in both.\n",
    "    3.  _Sadness_ is the also dominant emotion in the _Twitter_ platform and _Snapchat_.\n",
    "    4.  _Neutral_ is the dominant emotion in the _Facebook_ platform and _Telegram_ platform.\n",
    "    5.  _Boredom_ is the dominant emotion in the _LinkedIn_ platform and _Facebook_\n",
    "    6.  _Anixity_ is the also dominant emotion in the _Facebook_ and other platforms.\n",
    "14. `Daily_Usage_Time (minutes)` and `Dominant_Emotion` are strongly correlated.\n",
    "    1.  `200 minutes` is related with `Anxiety` emotion.\n",
    "    2.  `From 140 to 190 minutes` is related with `Happiness` emotion.\n",
    "    3.  `Anger` is commonly seens in the range of `60 to 120 minutes`.\n",
    "    4.  Other Emotions are also in the range of `40 to 130 minutes`\n",
    "15. `Likes Received Per Day` is strongly correlated with `Dominant_Emotion`.\n",
    "    1.  Upon looking at the plot, we can see that the `Happiness` emotion is triggered by the `Likes_Received_Per_Day` Ranging from 60 to 109 Likes.\n",
    "    2.  While the `Anxiety` emotion is also triggered by the `Likes_Received` Ranging from 110 to 114, which could means more the likes received is causes the Anxiety.\n",
    "\n",
    "    \n"
   ]
  },
  {
   "cell_type": "markdown",
   "id": "bf2d10fb",
   "metadata": {
    "papermill": {
     "duration": 0.058392,
     "end_time": "2024-05-23T11:23:24.808718",
     "exception": false,
     "start_time": "2024-05-23T11:23:24.750326",
     "status": "completed"
    },
    "tags": []
   },
   "source": [
    "## About Model:\n",
    "`Random Forest Classifier`: __accuracy: 99%__\n",
    "The Random Forest Classifier is performing exceptionally well on this dataset, with nearly perfect precision, recall, and f1-scores for most classes and an overall accuracy of 99%. This indicates that the model is highly effective at predicting the dominant emotion based on the given features.\n",
    "\n",
    "`XGBoost Classifier`:__accuracy: 98%__\n",
    "The XGBoost Classifier is performing very well on this dataset, with high precision, recall, and f1-scores for most classes and an overall accuracy of 98%. This indicates that the model is highly effective at predicting the dominant emotion based on the given features, though it shows slightly less precision in predicting 'Anxiety' compared to other emotions.\n",
    "\n",
    "`Neural Network`: __accuracy: 94%__\n",
    "The neural network classifier is highly effective in identifying various emotions, achieving a high overall accuracy and strong class-wise performance. Focusing on improving recall for Boredom and Sadness and balancing precision and recall for Neutral could further enhance the classifier's robustness."
   ]
  },
  {
   "cell_type": "markdown",
   "id": "e0d1659e",
   "metadata": {
    "papermill": {
     "duration": 0.05833,
     "end_time": "2024-05-23T11:23:24.925112",
     "exception": false,
     "start_time": "2024-05-23T11:23:24.866782",
     "status": "completed"
    },
    "tags": []
   },
   "source": [
    "<h1><b><p style=\"background-image: url(https://i.postimg.cc/0Qwf8YX6/2927262.jpg);font-family:camtasia;font-size:110%;color:white;text-align:center;border-radius:15px 50px; padding:7px; border:solid 2px #09375b; box-shadow: 10px 10px 10px #042b4c\">THE END <br>\n",
    "FOLLOW | UPVOTE | COMMENT </p></b></h1>"
   ]
  }
 ],
 "metadata": {
  "kaggle": {
   "accelerator": "none",
   "dataSources": [
    {
     "datasetId": 5043355,
     "sourceId": 8460631,
     "sourceType": "datasetVersion"
    }
   ],
   "isGpuEnabled": false,
   "isInternetEnabled": true,
   "language": "python",
   "sourceType": "notebook"
  },
  "kernelspec": {
   "display_name": "data_science",
   "language": "python",
   "name": "python3"
  },
  "language_info": {
   "codemirror_mode": {
    "name": "ipython",
    "version": 3
   },
   "file_extension": ".py",
   "mimetype": "text/x-python",
   "name": "python",
   "nbconvert_exporter": "python",
   "pygments_lexer": "ipython3",
   "version": "3.10.13"
  },
  "papermill": {
   "default_parameters": {},
   "duration": 46.847099,
   "end_time": "2024-05-23T11:23:26.811398",
   "environment_variables": {},
   "exception": null,
   "input_path": "__notebook__.ipynb",
   "output_path": "__notebook__.ipynb",
   "parameters": {},
   "start_time": "2024-05-23T11:22:39.964299",
   "version": "2.5.0"
  }
 },
 "nbformat": 4,
 "nbformat_minor": 5
}
